{
 "cells": [
  {
   "cell_type": "markdown",
   "metadata": {},
   "source": [
    "`@author: Anmol Parida`"
   ]
  },
  {
   "cell_type": "markdown",
   "metadata": {},
   "source": [
    "<a href='#the_destination'>Link to the destination'</a>\n"
   ]
  },
  {
   "cell_type": "markdown",
   "metadata": {},
   "source": [
    "\n",
    "<a href='#model_1'>Model_1</a>\n"
   ]
  },
  {
   "cell_type": "markdown",
   "metadata": {},
   "source": [
    "# GestureRecognition\n",
    "In this group project, you are going to build a 3D Conv model that will be able to predict the 5 gestures correctly. Please import the following libraries to get started."
   ]
  },
  {
   "cell_type": "code",
   "execution_count": 4,
   "metadata": {},
   "outputs": [],
   "source": [
    "import warnings\n",
    "warnings.filterwarnings('ignore')"
   ]
  },
  {
   "cell_type": "code",
   "execution_count": 5,
   "metadata": {},
   "outputs": [],
   "source": [
    "import imageio"
   ]
  },
  {
   "cell_type": "code",
   "execution_count": 6,
   "metadata": {},
   "outputs": [],
   "source": [
    "import numpy as np\n",
    "import os\n",
    "from scipy.misc import imread, imresize\n",
    "import datetime\n",
    "import os"
   ]
  },
  {
   "cell_type": "markdown",
   "metadata": {},
   "source": [
    "We set the random seed so that the results don't vary drastically."
   ]
  },
  {
   "cell_type": "code",
   "execution_count": 7,
   "metadata": {},
   "outputs": [],
   "source": [
    "np.random.seed(30)\n",
    "import random as rn\n",
    "rn.seed(30)\n",
    "from keras import backend as K\n",
    "import tensorflow as tf\n",
    "tf.set_random_seed(30)"
   ]
  },
  {
   "cell_type": "markdown",
   "metadata": {},
   "source": [
    "<a id='model_2'>model_3</a>"
   ]
  },
  {
   "cell_type": "markdown",
   "metadata": {},
   "source": [
    "In this block, you read the folder names for training and validation. You also set the `batch_size` here. Note that you set the batch size in such a way that you are able to use the GPU in full capacity. You keep increasing the batch size until the machine throws an error."
   ]
  },
  {
   "cell_type": "code",
   "execution_count": 8,
   "metadata": {},
   "outputs": [],
   "source": [
    "# train_doc = np.random.permutation(open('/notebooks/storage/Final_data/Collated_training/train.csv').readlines())\n",
    "# val_doc = np.random.permutation(open('/notebooks/storage/Final_data/Collated_training/val.csv').readlines())\n",
    "# batch_size = 20\n",
    "\n",
    "train_doc = np.random.permutation(open('Project_data/train.csv').readlines())\n",
    "val_doc = np.random.permutation(open('Project_data/val.csv').readlines())\n",
    "batch_size = 10"
   ]
  },
  {
   "cell_type": "markdown",
   "metadata": {},
   "source": [
    "## Generator\n",
    "This is one of the most important part of the code. The overall structure of the generator has been given. In the generator, you are going to preprocess the images as you have images of 2 different dimensions as well as create a batch of video frames. You have to experiment with `img_idx`, `y`,`z` and normalization such that you get high accuracy."
   ]
  },
  {
   "cell_type": "code",
   "execution_count": 9,
   "metadata": {},
   "outputs": [],
   "source": [
    "x = 30 # number of frames\n",
    "y = 120 # image width\n",
    "z = 120 # image height\n",
    "\n",
    "def generator(source_path, folder_list, batch_size):\n",
    "    print( 'Source path = ', source_path, '; batch size =', batch_size)\n",
    "    img_idx = [x for x in range(0,x)] #create a list of image numbers you want to use for a particular video\n",
    "    while True:\n",
    "        t = np.random.permutation(folder_list)\n",
    "        num_batches = len(folder_list)//batch_size # calculate the number of batches\n",
    "        for batch in range(num_batches): # we iterate over the number of batches\n",
    "            batch_data = np.zeros((batch_size,x,y,z,3)) # x is the number of images you use for each video, (y,z) is the final size of the input images and 3 is the number of channels RGB\n",
    "            batch_labels = np.zeros((batch_size,5)) # batch_labels is the one hot representation of the output\n",
    "            for folder in range(batch_size): # iterate over the batch_size\n",
    "                imgs = os.listdir(source_path+'/'+ t[folder + (batch*batch_size)].split(';')[0]) # read all the images in the folder\n",
    "                for idx,item in enumerate(img_idx): #  Iterate iver the frames/images of a folder to read them in\n",
    "                    image = imread(source_path+'/'+ t[folder + (batch*batch_size)].strip().split(';')[0]+'/'+imgs[item]).astype(np.float32)\n",
    "                    \n",
    "                    #crop the images and resize them. Note that the images are of 2 different shape \n",
    "                    #and the conv3D will throw error if the inputs in a batch have different shapes\n",
    "                    \n",
    "                    temp = imresize(image,(120,120))\n",
    "                    temp = temp/127.5-1 #Normalize data\n",
    "                    \n",
    "                    batch_data[folder,idx,:,:,0] = (temp[:,:,0]) #normalise and feed in the image\n",
    "                    batch_data[folder,idx,:,:,1] = (temp[:,:,1]) #normalise and feed in the image\n",
    "                    batch_data[folder,idx,:,:,2] = (temp[:,:,2]) #normalise and feed in the image\n",
    "                    \n",
    "                batch_labels[folder, int(t[folder + (batch*batch_size)].strip().split(';')[2])] = 1\n",
    "            yield batch_data, batch_labels #you yield the batch_data and the batch_labels, remember what does yield do\n",
    "\n",
    "        \n",
    "        # write the code for the remaining data points which are left after full batches\n",
    "        if (len(folder_list) != batch_size*num_batches):\n",
    "            print(\"Batch: \",num_batches+1,\"Index:\", batch_size)\n",
    "            batch_size = len(folder_list) - (batch_size*num_batches)\n",
    "            batch_data = np.zeros((batch_size,x,y,z,3)) # x is the number of images you use for each video, (y,z) is the final size of the input images and 3 is the number of channels RGB\n",
    "            batch_labels = np.zeros((batch_size,5)) # batch_labels is the one hot representation of the output\n",
    "            for folder in range(batch_size): # iterate over the batch_size\n",
    "                imgs = os.listdir(source_path+'/'+ t[folder + (batch*batch_size)].split(';')[0]) # read all the images in the folder\n",
    "                for idx,item in enumerate(img_idx): #  Iterate iver the frames/images of a folder to read them in\n",
    "                    image = imread(source_path+'/'+ t[folder + (batch*batch_size)].strip().split(';')[0]+'/'+imgs[item]).astype(np.float32)\n",
    "                    \n",
    "                    #crop the images and resize them. Note that the images are of 2 different shape \n",
    "                    #and the conv3D will throw error if the inputs in a batch have different shapes\n",
    "                    temp = imresize(image,(120,120))\n",
    "                    temp = temp/127.5-1 #Normalize data\n",
    "                    \n",
    "                    batch_data[folder,idx,:,:,0] = (temp[:,:,0])\n",
    "                    batch_data[folder,idx,:,:,1] = (temp[:,:,1])\n",
    "                    batch_data[folder,idx,:,:,2] = (temp[:,:,2])\n",
    "                   \n",
    "                batch_labels[folder, int(t[folder + (batch*batch_size)].strip().split(';')[2])] = 1\n",
    "            yield batch_data, batch_labels"
   ]
  },
  {
   "cell_type": "markdown",
   "metadata": {},
   "source": [
    "Note here that a video is represented above in the generator as (number of images, height, width, number of channels). Take this into consideration while creating the model architecture."
   ]
  },
  {
   "cell_type": "code",
   "execution_count": 10,
   "metadata": {},
   "outputs": [
    {
     "name": "stdout",
     "output_type": "stream",
     "text": [
      "# training sequences = 663\n",
      "# validation sequences = 100\n",
      "# epochs = 10\n"
     ]
    }
   ],
   "source": [
    "curr_dt_time = datetime.datetime.now()\n",
    "\n",
    "train_path = 'Project_data/train'\n",
    "\n",
    "val_path = 'Project_data/val'\n",
    "\n",
    "num_train_sequences = len(train_doc)\n",
    "print('# training sequences =', num_train_sequences)\n",
    "\n",
    "num_val_sequences = len(val_doc)\n",
    "print('# validation sequences =', num_val_sequences)\n",
    "\n",
    "num_epochs = 10 # choose the number of epochs\n",
    "print ('# epochs =', num_epochs)"
   ]
  },
  {
   "cell_type": "markdown",
   "metadata": {},
   "source": [
    "## Model\n",
    "Here you make the model using different functionalities that Keras provides. Remember to use `Conv3D` and `MaxPooling3D` and not `Conv2D` and `Maxpooling2D` for a 3D convolution model. You would want to use `TimeDistributed` while building a Conv2D + RNN model. Also remember that the last layer is the softmax. Design the network in such a way that the model is able to give good accuracy on the least number of parameters so that it can fit in the memory of the webcam."
   ]
  },
  {
   "cell_type": "code",
   "execution_count": 11,
   "metadata": {},
   "outputs": [],
   "source": [
    "from keras.models import Sequential, Model\n",
    "from keras.layers import Dense, GRU, Flatten, TimeDistributed, Flatten, BatchNormalization, Activation, Dropout\n",
    "from keras.layers.convolutional import Conv3D, MaxPooling3D\n",
    "from keras.callbacks import ModelCheckpoint, ReduceLROnPlateau\n",
    "from keras import optimizers\n",
    "import keras"
   ]
  },
  {
   "cell_type": "markdown",
   "metadata": {},
   "source": [
    "<a id='model_1'>Model_1</a>"
   ]
  },
  {
   "cell_type": "code",
   "execution_count": 12,
   "metadata": {},
   "outputs": [],
   "source": [
    "\n",
    "model_1 = Sequential()\n",
    "\n",
    "model_1.add(Conv3D(8, #number of filters \n",
    "                 kernel_size=(3,3,3), \n",
    "                 input_shape=(30, 120, 120, 3),\n",
    "                 padding='same'))\n",
    "model_1.add(BatchNormalization())\n",
    "model_1.add(Activation('relu'))\n",
    "\n",
    "model_1.add(MaxPooling3D(pool_size=(2,2,2)))\n",
    "\n",
    "model_1.add(Conv3D(16, #Number of filters, \n",
    "                 kernel_size=(3,3,3), \n",
    "                 padding='same'))\n",
    "model_1.add(BatchNormalization())\n",
    "model_1.add(Activation('relu'))\n",
    "\n",
    "model_1.add(MaxPooling3D(pool_size=(2,2,2)))\n",
    "\n",
    "model_1.add(Conv3D(32, #Number of filters \n",
    "                 kernel_size=(1,3,3), \n",
    "                 padding='same'))\n",
    "model_1.add(BatchNormalization())\n",
    "model_1.add(Activation('relu'))\n",
    "\n",
    "model_1.add(MaxPooling3D(pool_size=(2,2,2)))\n",
    "\n",
    "model_1.add(Conv3D(64, #Number pf filters \n",
    "                 kernel_size=(1,3,3), \n",
    "                 padding='same'))\n",
    "model_1.add(BatchNormalization())\n",
    "model_1.add(Activation('relu'))\n",
    "\n",
    "model_1.add(MaxPooling3D(pool_size=(2,2,2)))\n",
    "\n",
    "#Flatten Layers\n",
    "model_1.add(Flatten())\n",
    "\n",
    "model_1.add(Dense(1000, activation='relu'))\n",
    "model_1.add(Dropout(0.5))\n",
    "\n",
    "model_1.add(Dense(500, activation='relu'))\n",
    "model_1.add(Dropout(0.5))\n",
    "\n",
    "#softmax layer\n",
    "model_1.add(Dense(5, activation='softmax'))"
   ]
  },
  {
   "cell_type": "markdown",
   "metadata": {},
   "source": [
    "Now that you have written the model, the next step is to `compile` the model. When you print the `summary` of the model, you'll see the total number of parameters you have to train."
   ]
  },
  {
   "cell_type": "code",
   "execution_count": 13,
   "metadata": {
    "scrolled": true
   },
   "outputs": [
    {
     "name": "stdout",
     "output_type": "stream",
     "text": [
      "_________________________________________________________________\n",
      "Layer (type)                 Output Shape              Param #   \n",
      "=================================================================\n",
      "conv3d_1 (Conv3D)            (None, 30, 120, 120, 8)   656       \n",
      "_________________________________________________________________\n",
      "batch_normalization_1 (Batch (None, 30, 120, 120, 8)   32        \n",
      "_________________________________________________________________\n",
      "activation_1 (Activation)    (None, 30, 120, 120, 8)   0         \n",
      "_________________________________________________________________\n",
      "max_pooling3d_1 (MaxPooling3 (None, 15, 60, 60, 8)     0         \n",
      "_________________________________________________________________\n",
      "conv3d_2 (Conv3D)            (None, 15, 60, 60, 16)    3472      \n",
      "_________________________________________________________________\n",
      "batch_normalization_2 (Batch (None, 15, 60, 60, 16)    64        \n",
      "_________________________________________________________________\n",
      "activation_2 (Activation)    (None, 15, 60, 60, 16)    0         \n",
      "_________________________________________________________________\n",
      "max_pooling3d_2 (MaxPooling3 (None, 7, 30, 30, 16)     0         \n",
      "_________________________________________________________________\n",
      "conv3d_3 (Conv3D)            (None, 7, 30, 30, 32)     4640      \n",
      "_________________________________________________________________\n",
      "batch_normalization_3 (Batch (None, 7, 30, 30, 32)     128       \n",
      "_________________________________________________________________\n",
      "activation_3 (Activation)    (None, 7, 30, 30, 32)     0         \n",
      "_________________________________________________________________\n",
      "max_pooling3d_3 (MaxPooling3 (None, 3, 15, 15, 32)     0         \n",
      "_________________________________________________________________\n",
      "conv3d_4 (Conv3D)            (None, 3, 15, 15, 64)     18496     \n",
      "_________________________________________________________________\n",
      "batch_normalization_4 (Batch (None, 3, 15, 15, 64)     256       \n",
      "_________________________________________________________________\n",
      "activation_4 (Activation)    (None, 3, 15, 15, 64)     0         \n",
      "_________________________________________________________________\n",
      "max_pooling3d_4 (MaxPooling3 (None, 1, 7, 7, 64)       0         \n",
      "_________________________________________________________________\n",
      "flatten_1 (Flatten)          (None, 3136)              0         \n",
      "_________________________________________________________________\n",
      "dense_1 (Dense)              (None, 1000)              3137000   \n",
      "_________________________________________________________________\n",
      "dropout_1 (Dropout)          (None, 1000)              0         \n",
      "_________________________________________________________________\n",
      "dense_2 (Dense)              (None, 500)               500500    \n",
      "_________________________________________________________________\n",
      "dropout_2 (Dropout)          (None, 500)               0         \n",
      "_________________________________________________________________\n",
      "dense_3 (Dense)              (None, 5)                 2505      \n",
      "=================================================================\n",
      "Total params: 3,667,749\n",
      "Trainable params: 3,667,509\n",
      "Non-trainable params: 240\n",
      "_________________________________________________________________\n",
      "None\n"
     ]
    }
   ],
   "source": [
    "optimiser = optimizers.Adam(lr=0.001) #write your optimizer\n",
    "model_1.compile(optimizer=optimiser, loss='categorical_crossentropy', metrics=['categorical_accuracy'])\n",
    "print (model_1.summary())"
   ]
  },
  {
   "cell_type": "markdown",
   "metadata": {},
   "source": [
    "Let us create the `train_generator` and the `val_generator` which will be used in `.fit_generator`."
   ]
  },
  {
   "cell_type": "code",
   "execution_count": 14,
   "metadata": {},
   "outputs": [],
   "source": [
    "train_generator = generator(train_path, train_doc, batch_size)\n",
    "val_generator = generator(val_path, val_doc, batch_size)"
   ]
  },
  {
   "cell_type": "code",
   "execution_count": 15,
   "metadata": {},
   "outputs": [],
   "source": [
    "model_name = 'model_init' + '_' + str(curr_dt_time).replace(' ','').replace(':','_') + '/'\n",
    "    \n",
    "if not os.path.exists(model_name):\n",
    "    os.mkdir(model_name)\n",
    "        \n",
    "filepath = model_name + 'model-{epoch:05d}-{loss:.5f}-{categorical_accuracy:.5f}-{val_loss:.5f}-{val_categorical_accuracy:.5f}.h5'\n",
    "\n",
    "checkpoint = ModelCheckpoint(filepath, monitor='val_loss', verbose=1, save_best_only=False, save_weights_only=False, mode='auto', period=1)\n",
    "\n",
    "LR = ReduceLROnPlateau(monitor='val_loss', factor=0.5, patience=2, cooldown=1, verbose=1) # write the REducelronplateau code here\n",
    "callbacks_list = [checkpoint, LR]"
   ]
  },
  {
   "cell_type": "markdown",
   "metadata": {},
   "source": [
    "The `steps_per_epoch` and `validation_steps` are used by `fit_generator` to decide the number of next() calls it need to make."
   ]
  },
  {
   "cell_type": "code",
   "execution_count": 16,
   "metadata": {},
   "outputs": [],
   "source": [
    "if (num_train_sequences%batch_size) == 0:\n",
    "    steps_per_epoch = int(num_train_sequences/batch_size)\n",
    "else:\n",
    "    steps_per_epoch = (num_train_sequences//batch_size) + 1\n",
    "\n",
    "if (num_val_sequences%batch_size) == 0:\n",
    "    validation_steps = int(num_val_sequences/batch_size)\n",
    "else:\n",
    "    validation_steps = (num_val_sequences//batch_size) + 1"
   ]
  },
  {
   "cell_type": "markdown",
   "metadata": {},
   "source": [
    "Let us now fit the model. This will start training the model and with the help of the checkpoints, you'll be able to save the model at the end of each epoch."
   ]
  },
  {
   "cell_type": "code",
   "execution_count": 12,
   "metadata": {},
   "outputs": [
    {
     "name": "stdout",
     "output_type": "stream",
     "text": [
      "Source path =  Project_data/val ; batch size = 10\n",
      "Source path =  Project_data/train ; batch size = 10\n",
      "Epoch 1/10\n"
     ]
    },
    {
     "name": "stderr",
     "output_type": "stream",
     "text": [
      "/mnt/disks/user/anaconda3/lib/python3.6/site-packages/ipykernel_launcher.py:17: DeprecationWarning: `imread` is deprecated!\n",
      "`imread` is deprecated in SciPy 1.0.0, and will be removed in 1.2.0.\n",
      "Use ``imageio.imread`` instead.\n",
      "/mnt/disks/user/anaconda3/lib/python3.6/site-packages/ipykernel_launcher.py:22: DeprecationWarning: `imresize` is deprecated!\n",
      "`imresize` is deprecated in SciPy 1.0.0, and will be removed in 1.2.0.\n",
      "Use ``skimage.transform.resize`` instead.\n"
     ]
    },
    {
     "name": "stdout",
     "output_type": "stream",
     "text": [
      "65/67 [============================>.] - ETA: 7s - loss: 6.0203 - categorical_accuracy: 0.2569 Batch:  67 Index: 10\n"
     ]
    },
    {
     "name": "stderr",
     "output_type": "stream",
     "text": [
      "/mnt/disks/user/anaconda3/lib/python3.6/site-packages/ipykernel_launcher.py:42: DeprecationWarning: `imread` is deprecated!\n",
      "`imread` is deprecated in SciPy 1.0.0, and will be removed in 1.2.0.\n",
      "Use ``imageio.imread`` instead.\n",
      "/mnt/disks/user/anaconda3/lib/python3.6/site-packages/ipykernel_launcher.py:46: DeprecationWarning: `imresize` is deprecated!\n",
      "`imresize` is deprecated in SciPy 1.0.0, and will be removed in 1.2.0.\n",
      "Use ``skimage.transform.resize`` instead.\n"
     ]
    },
    {
     "name": "stdout",
     "output_type": "stream",
     "text": [
      "67/67 [==============================] - 238s 4s/step - loss: 5.9099 - categorical_accuracy: 0.2636 - val_loss: 2.4030 - val_categorical_accuracy: 0.3800\n",
      "\n",
      "Epoch 00001: saving model to model_init_2020-05-1916_02_27.202940/model-00001-5.95587-0.25943-2.40296-0.38000.h5\n",
      "Epoch 2/10\n",
      "67/67 [==============================] - 25s 377ms/step - loss: 3.3178 - categorical_accuracy: 0.2886 - val_loss: 3.2601 - val_categorical_accuracy: 0.3200\n",
      "\n",
      "Epoch 00002: saving model to model_init_2020-05-1916_02_27.202940/model-00002-3.31783-0.28856-3.26007-0.32000.h5\n",
      "Epoch 3/10\n",
      "67/67 [==============================] - 27s 398ms/step - loss: 2.4038 - categorical_accuracy: 0.2836 - val_loss: 1.4728 - val_categorical_accuracy: 0.4100\n",
      "\n",
      "Epoch 00003: saving model to model_init_2020-05-1916_02_27.202940/model-00003-2.40382-0.28358-1.47278-0.41000.h5\n",
      "Epoch 4/10\n",
      "67/67 [==============================] - 26s 382ms/step - loss: 1.7695 - categorical_accuracy: 0.3284 - val_loss: 1.4694 - val_categorical_accuracy: 0.3100\n",
      "\n",
      "Epoch 00004: saving model to model_init_2020-05-1916_02_27.202940/model-00004-1.76955-0.32836-1.46937-0.31000.h5\n",
      "Epoch 5/10\n",
      "67/67 [==============================] - 27s 409ms/step - loss: 1.4990 - categorical_accuracy: 0.3532 - val_loss: 1.4528 - val_categorical_accuracy: 0.2700\n",
      "\n",
      "Epoch 00005: saving model to model_init_2020-05-1916_02_27.202940/model-00005-1.49905-0.35323-1.45278-0.27000.h5\n",
      "Epoch 6/10\n",
      "67/67 [==============================] - 27s 407ms/step - loss: 1.5701 - categorical_accuracy: 0.2886 - val_loss: 1.4059 - val_categorical_accuracy: 0.3600\n",
      "\n",
      "Epoch 00006: saving model to model_init_2020-05-1916_02_27.202940/model-00006-1.57008-0.28856-1.40589-0.36000.h5\n",
      "Epoch 7/10\n",
      "67/67 [==============================] - 26s 392ms/step - loss: 1.5605 - categorical_accuracy: 0.3134 - val_loss: 1.4262 - val_categorical_accuracy: 0.3500\n",
      "\n",
      "Epoch 00007: saving model to model_init_2020-05-1916_02_27.202940/model-00007-1.56052-0.31343-1.42621-0.35000.h5\n",
      "Epoch 8/10\n",
      "67/67 [==============================] - 26s 383ms/step - loss: 1.4552 - categorical_accuracy: 0.3184 - val_loss: 1.2739 - val_categorical_accuracy: 0.5300\n",
      "\n",
      "Epoch 00008: saving model to model_init_2020-05-1916_02_27.202940/model-00008-1.45518-0.31841-1.27388-0.53000.h5\n",
      "Epoch 9/10\n",
      "67/67 [==============================] - 27s 409ms/step - loss: 1.4024 - categorical_accuracy: 0.3731 - val_loss: 1.3763 - val_categorical_accuracy: 0.3700\n",
      "\n",
      "Epoch 00009: saving model to model_init_2020-05-1916_02_27.202940/model-00009-1.40237-0.37313-1.37635-0.37000.h5\n",
      "Epoch 10/10\n",
      "67/67 [==============================] - 26s 387ms/step - loss: 1.5114 - categorical_accuracy: 0.3134 - val_loss: 1.2783 - val_categorical_accuracy: 0.4100\n",
      "\n",
      "Epoch 00010: saving model to model_init_2020-05-1916_02_27.202940/model-00010-1.51138-0.31343-1.27830-0.41000.h5\n",
      "\n",
      "Epoch 00010: ReduceLROnPlateau reducing learning rate to 0.0005000000237487257.\n"
     ]
    },
    {
     "data": {
      "text/plain": [
       "<keras.callbacks.History at 0x7f992f92dc50>"
      ]
     },
     "execution_count": 12,
     "metadata": {},
     "output_type": "execute_result"
    }
   ],
   "source": [
    "model_1.fit_generator(train_generator, steps_per_epoch=steps_per_epoch, epochs=num_epochs, verbose=1, \n",
    "                    callbacks=callbacks_list, validation_data=val_generator, \n",
    "                    validation_steps=validation_steps, class_weight=None, workers=1, initial_epoch=0)"
   ]
  },
  {
   "cell_type": "code",
   "execution_count": 17,
   "metadata": {},
   "outputs": [],
   "source": [
    "classes = 5 #left swipe, right swipe, thumbs up, thumbs down, stop\n",
    "channel = 3\n",
    "x = 30 # number of frames\n",
    "y = 120 # image width\n",
    "z = 120 # image height\n",
    "\n",
    "def generator_ex(source_path, folder_list, batch_size):\n",
    "    print( 'Source path = ', source_path, '; batch size =', batch_size)\n",
    "    img_idx = [x for x in range(0,x)] #create a list of image numbers you want to use for a particular video\n",
    "    while True:\n",
    "        t = np.random.permutation(folder_list)\n",
    "        num_batches = len(folder_list)//batch_size # calculate the number of batches\n",
    "        for batch in range(num_batches): # we iterate over the number of batches\n",
    "            batch_data = np.zeros((batch_size,x,y,z,channel)) # x is the number of images you use for each video, (y,z) is the final size of the input images and 3 is the number of channels RGB\n",
    "            batch_labels = np.zeros((batch_size,classes)) # batch_labels is the one hot representation of the output\n",
    "            for folder in range(batch_size): # iterate over the batch_size\n",
    "                imgs = os.listdir(source_path+'/'+ t[folder + (batch*batch_size)].split(';')[0]) # read all the images in the folder\n",
    "                for idx,item in enumerate(img_idx): #  Iterate iver the frames/images of a folder to read them in\n",
    "                    image = imread(source_path+'/'+ t[folder + (batch*batch_size)].strip().split(';')[0]+'/'+imgs[item]).astype(np.float32)\n",
    "                    \n",
    "                    #crop the images and resize them. Note that the images are of 2 different shape \n",
    "                    #and the conv3D will throw error if the inputs in a batch have different shapes\n",
    "                    \n",
    "                    temp = imresize(image,(y,z))\n",
    "                    #Converting to gray scale\n",
    "                    temp = temp.mean(axis=-1,keepdims=1) \n",
    "                    temp = temp/127.5-1 #Normalize data\n",
    "                    batch_data[folder,idx] = temp #normalise and feed in the image\n",
    "                    \n",
    "                batch_labels[folder, int(t[folder + (batch*batch_size)].strip().split(';')[2])] = 1\n",
    "                \n",
    "            yield batch_data, batch_labels #you yield the batch_data and the batch_labels, remember what does yield do\n",
    "\n",
    "        \n",
    "        # write the code for the remaining data points which are left after full batches\n",
    "        if (len(folder_list) != batch_size*num_batches):\n",
    "            print(\"Batch: \",num_batches+1,\"Index:\", batch_size)\n",
    "            batch_size = len(folder_list) - (batch_size*num_batches)\n",
    "            batch_data = np.zeros((batch_size,x,y,z,channel)) # x is the number of images you use for each video, (y,z) is the final size of the input images and 3 is the number of channels RGB\n",
    "            batch_labels = np.zeros((batch_size,classes)) # batch_labels is the one hot representation of the output\n",
    "            for folder in range(batch_size): # iterate over the batch_size\n",
    "                imgs = os.listdir(source_path+'/'+ t[folder + (batch*batch_size)].split(';')[0]) # read all the images in the folder\n",
    "                for idx,item in enumerate(img_idx): #  Iterate iver the frames/images of a folder to read them in\n",
    "                    image = imread(source_path+'/'+ t[folder + (batch*batch_size)].strip().split(';')[0]+'/'+imgs[item]).astype(np.float32)\n",
    "                    \n",
    "                    #crop the images and resize them. Note that the images are of 2 different shape \n",
    "                    #and the conv3D will throw error if the inputs in a batch have different shapes\n",
    "                    temp = imresize(image,(y,z))\n",
    "                    #Converting to gray scale\n",
    "                    temp = temp.mean(axis=-1,keepdims=1) \n",
    "                    temp = temp/127.5-1 #Normalize data\n",
    "                    \n",
    "                    batch_data[folder,idx] = temp\n",
    "                   \n",
    "                batch_labels[folder, int(t[folder + (batch*batch_size)].strip().split(';')[2])] = 1\n",
    "            yield batch_data, batch_labels"
   ]
  },
  {
   "cell_type": "markdown",
   "metadata": {},
   "source": [
    "# [Model 2](#another_cell)"
   ]
  },
  {
   "cell_type": "code",
   "execution_count": 18,
   "metadata": {},
   "outputs": [
    {
     "name": "stdout",
     "output_type": "stream",
     "text": [
      "_________________________________________________________________\n",
      "Layer (type)                 Output Shape              Param #   \n",
      "=================================================================\n",
      "conv3d_5 (Conv3D)            (None, 30, 120, 120, 32)  2624      \n",
      "_________________________________________________________________\n",
      "activation_5 (Activation)    (None, 30, 120, 120, 32)  0         \n",
      "_________________________________________________________________\n",
      "conv3d_6 (Conv3D)            (None, 30, 120, 120, 32)  27680     \n",
      "_________________________________________________________________\n",
      "activation_6 (Activation)    (None, 30, 120, 120, 32)  0         \n",
      "_________________________________________________________________\n",
      "max_pooling3d_5 (MaxPooling3 (None, 10, 40, 40, 32)    0         \n",
      "_________________________________________________________________\n",
      "dropout_3 (Dropout)          (None, 10, 40, 40, 32)    0         \n",
      "_________________________________________________________________\n",
      "conv3d_7 (Conv3D)            (None, 10, 40, 40, 64)    55360     \n",
      "_________________________________________________________________\n",
      "activation_7 (Activation)    (None, 10, 40, 40, 64)    0         \n",
      "_________________________________________________________________\n",
      "conv3d_8 (Conv3D)            (None, 10, 40, 40, 64)    110656    \n",
      "_________________________________________________________________\n",
      "activation_8 (Activation)    (None, 10, 40, 40, 64)    0         \n",
      "_________________________________________________________________\n",
      "max_pooling3d_6 (MaxPooling3 (None, 4, 14, 14, 64)     0         \n",
      "_________________________________________________________________\n",
      "dropout_4 (Dropout)          (None, 4, 14, 14, 64)     0         \n",
      "_________________________________________________________________\n",
      "flatten_2 (Flatten)          (None, 50176)             0         \n",
      "_________________________________________________________________\n",
      "dense_4 (Dense)              (None, 512)               25690624  \n",
      "_________________________________________________________________\n",
      "dropout_5 (Dropout)          (None, 512)               0         \n",
      "_________________________________________________________________\n",
      "dense_5 (Dense)              (None, 5)                 2565      \n",
      "=================================================================\n",
      "Total params: 25,889,509\n",
      "Trainable params: 25,889,509\n",
      "Non-trainable params: 0\n",
      "_________________________________________________________________\n"
     ]
    }
   ],
   "source": [
    "from keras.losses import categorical_crossentropy\n",
    "from keras.optimizers import Adam\n",
    "\n",
    "model_2 = Sequential()\n",
    "model_2.add(Conv3D(32, kernel_size=(3, 3, 3), input_shape=(x,y,z,channel), padding='same'))\n",
    "model_2.add(Activation('relu'))\n",
    "model_2.add(Conv3D(32, kernel_size=(3, 3, 3), padding='same'))\n",
    "model_2.add(Activation('relu'))\n",
    "model_2.add(MaxPooling3D(pool_size=(3, 3, 3), padding='same'))\n",
    "model_2.add(Dropout(0.25))\n",
    "\n",
    "model_2.add(Conv3D(64, kernel_size=(3, 3, 3), padding='same'))\n",
    "model_2.add(Activation('relu'))\n",
    "model_2.add(Conv3D(64, kernel_size=(3, 3, 3), padding='same'))\n",
    "model_2.add(Activation('relu'))\n",
    "model_2.add(MaxPooling3D(pool_size=(3, 3, 3), padding='same'))\n",
    "model_2.add(Dropout(0.25))\n",
    "\n",
    "model_2.add(Flatten())\n",
    "model_2.add(Dense(512, activation='relu'))\n",
    "model_2.add(Dropout(0.5))\n",
    "model_2.add(Dense(classes, activation='softmax'))\n",
    "\n",
    "model_2.compile(optimizer=Adam(), loss='categorical_crossentropy', metrics=['categorical_accuracy'])\n",
    "model_2.summary()"
   ]
  },
  {
   "cell_type": "code",
   "execution_count": 19,
   "metadata": {},
   "outputs": [],
   "source": [
    "train_generator = generator_ex(train_path, train_doc, batch_size)\n",
    "val_generator = generator_ex(val_path, val_doc, batch_size)"
   ]
  },
  {
   "cell_type": "code",
   "execution_count": 16,
   "metadata": {},
   "outputs": [
    {
     "name": "stdout",
     "output_type": "stream",
     "text": [
      "Source path =  Project_data/val ; batch size = 10\n",
      "Source path =  Project_data/train ; batch size = 10\n",
      "Epoch 1/10\n"
     ]
    },
    {
     "name": "stderr",
     "output_type": "stream",
     "text": [
      "/mnt/disks/user/anaconda3/lib/python3.6/site-packages/ipykernel_launcher.py:19: DeprecationWarning: `imread` is deprecated!\n",
      "`imread` is deprecated in SciPy 1.0.0, and will be removed in 1.2.0.\n",
      "Use ``imageio.imread`` instead.\n",
      "/mnt/disks/user/anaconda3/lib/python3.6/site-packages/ipykernel_launcher.py:24: DeprecationWarning: `imresize` is deprecated!\n",
      "`imresize` is deprecated in SciPy 1.0.0, and will be removed in 1.2.0.\n",
      "Use ``skimage.transform.resize`` instead.\n"
     ]
    },
    {
     "name": "stdout",
     "output_type": "stream",
     "text": [
      "56/67 [========================>.....] - ETA: 20s - loss: 1.8116 - categorical_accuracy: 0.1893Batch:  67 Index: 10\n"
     ]
    },
    {
     "name": "stderr",
     "output_type": "stream",
     "text": [
      "/mnt/disks/user/anaconda3/lib/python3.6/site-packages/ipykernel_launcher.py:44: DeprecationWarning: `imread` is deprecated!\n",
      "`imread` is deprecated in SciPy 1.0.0, and will be removed in 1.2.0.\n",
      "Use ``imageio.imread`` instead.\n",
      "/mnt/disks/user/anaconda3/lib/python3.6/site-packages/ipykernel_launcher.py:48: DeprecationWarning: `imresize` is deprecated!\n",
      "`imresize` is deprecated in SciPy 1.0.0, and will be removed in 1.2.0.\n",
      "Use ``skimage.transform.resize`` instead.\n"
     ]
    },
    {
     "name": "stdout",
     "output_type": "stream",
     "text": [
      "67/67 [==============================] - 130s 2s/step - loss: 1.7785 - categorical_accuracy: 0.1881 - val_loss: 1.6095 - val_categorical_accuracy: 0.2100\n",
      "\n",
      "Epoch 00001: saving model to model_init_2020-05-1916_02_27.202940/model-00001-1.78032-0.19005-1.60946-0.21000.h5\n",
      "Epoch 2/10\n",
      "67/67 [==============================] - 46s 688ms/step - loss: 1.6093 - categorical_accuracy: 0.2239 - val_loss: 1.6088 - val_categorical_accuracy: 0.2100\n",
      "\n",
      "Epoch 00002: saving model to model_init_2020-05-1916_02_27.202940/model-00002-1.60933-0.22388-1.60881-0.21000.h5\n",
      "Epoch 3/10\n",
      "67/67 [==============================] - 46s 687ms/step - loss: 1.6128 - categorical_accuracy: 0.1393 - val_loss: 1.6081 - val_categorical_accuracy: 0.2100\n",
      "\n",
      "Epoch 00003: saving model to model_init_2020-05-1916_02_27.202940/model-00003-1.61277-0.13930-1.60811-0.21000.h5\n",
      "Epoch 4/10\n",
      "67/67 [==============================] - 46s 688ms/step - loss: 1.6100 - categorical_accuracy: 0.2040 - val_loss: 1.6085 - val_categorical_accuracy: 0.2100\n",
      "\n",
      "Epoch 00004: saving model to model_init_2020-05-1916_02_27.202940/model-00004-1.60996-0.20398-1.60853-0.21000.h5\n",
      "Epoch 5/10\n",
      "67/67 [==============================] - 46s 688ms/step - loss: 1.6070 - categorical_accuracy: 0.2587 - val_loss: 1.6075 - val_categorical_accuracy: 0.2100\n",
      "\n",
      "Epoch 00005: saving model to model_init_2020-05-1916_02_27.202940/model-00005-1.60703-0.25871-1.60749-0.21000.h5\n",
      "Epoch 6/10\n",
      "67/67 [==============================] - 46s 688ms/step - loss: 1.6108 - categorical_accuracy: 0.1841 - val_loss: 1.6079 - val_categorical_accuracy: 0.2100\n",
      "\n",
      "Epoch 00006: saving model to model_init_2020-05-1916_02_27.202940/model-00006-1.61077-0.18408-1.60794-0.21000.h5\n",
      "Epoch 7/10\n",
      "67/67 [==============================] - 46s 688ms/step - loss: 1.6096 - categorical_accuracy: 0.1990 - val_loss: 1.6081 - val_categorical_accuracy: 0.2100\n",
      "\n",
      "Epoch 00007: saving model to model_init_2020-05-1916_02_27.202940/model-00007-1.60957-0.19900-1.60806-0.21000.h5\n",
      "\n",
      "Epoch 00007: ReduceLROnPlateau reducing learning rate to 0.0005000000237487257.\n",
      "Epoch 8/10\n",
      "67/67 [==============================] - 46s 686ms/step - loss: 1.6100 - categorical_accuracy: 0.1741 - val_loss: 1.6081 - val_categorical_accuracy: 0.2100\n",
      "\n",
      "Epoch 00008: saving model to model_init_2020-05-1916_02_27.202940/model-00008-1.60996-0.17413-1.60807-0.21000.h5\n",
      "Epoch 9/10\n",
      "67/67 [==============================] - 46s 688ms/step - loss: 1.6092 - categorical_accuracy: 0.2139 - val_loss: 1.6084 - val_categorical_accuracy: 0.2100\n",
      "\n",
      "Epoch 00009: saving model to model_init_2020-05-1916_02_27.202940/model-00009-1.60917-0.21393-1.60842-0.21000.h5\n",
      "\n",
      "Epoch 00009: ReduceLROnPlateau reducing learning rate to 0.0002500000118743628.\n",
      "Epoch 10/10\n",
      "67/67 [==============================] - 46s 689ms/step - loss: 1.6078 - categorical_accuracy: 0.2189 - val_loss: 1.6085 - val_categorical_accuracy: 0.2100\n",
      "\n",
      "Epoch 00010: saving model to model_init_2020-05-1916_02_27.202940/model-00010-1.60783-0.21891-1.60850-0.21000.h5\n"
     ]
    },
    {
     "data": {
      "text/plain": [
       "<keras.callbacks.History at 0x7f991ffd9be0>"
      ]
     },
     "execution_count": 16,
     "metadata": {},
     "output_type": "execute_result"
    }
   ],
   "source": [
    "model_2.fit_generator(train_generator, steps_per_epoch=steps_per_epoch, epochs=num_epochs, verbose=1, \n",
    "                    callbacks=callbacks_list, validation_data=val_generator, \n",
    "                    validation_steps=validation_steps, class_weight=None, workers=1, initial_epoch=0)"
   ]
  },
  {
   "cell_type": "markdown",
   "metadata": {},
   "source": [
    "`Experiment 1` \n",
    "Updating the x,y,z parameters for model_2\n",
    "    - number of frames(x)\n",
    "    - image width(y)\n",
    "    - image height(z)"
   ]
  },
  {
   "cell_type": "code",
   "execution_count": 20,
   "metadata": {},
   "outputs": [],
   "source": [
    "x = 30 # number of frames\n",
    "y = 60 # image width\n",
    "z = 60 # image height"
   ]
  },
  {
   "cell_type": "code",
   "execution_count": 21,
   "metadata": {},
   "outputs": [
    {
     "name": "stdout",
     "output_type": "stream",
     "text": [
      "_________________________________________________________________\n",
      "Layer (type)                 Output Shape              Param #   \n",
      "=================================================================\n",
      "conv3d_9 (Conv3D)            (None, 30, 60, 60, 32)    2624      \n",
      "_________________________________________________________________\n",
      "activation_9 (Activation)    (None, 30, 60, 60, 32)    0         \n",
      "_________________________________________________________________\n",
      "conv3d_10 (Conv3D)           (None, 30, 60, 60, 32)    27680     \n",
      "_________________________________________________________________\n",
      "activation_10 (Activation)   (None, 30, 60, 60, 32)    0         \n",
      "_________________________________________________________________\n",
      "max_pooling3d_7 (MaxPooling3 (None, 10, 20, 20, 32)    0         \n",
      "_________________________________________________________________\n",
      "dropout_6 (Dropout)          (None, 10, 20, 20, 32)    0         \n",
      "_________________________________________________________________\n",
      "conv3d_11 (Conv3D)           (None, 10, 20, 20, 64)    55360     \n",
      "_________________________________________________________________\n",
      "activation_11 (Activation)   (None, 10, 20, 20, 64)    0         \n",
      "_________________________________________________________________\n",
      "conv3d_12 (Conv3D)           (None, 10, 20, 20, 64)    110656    \n",
      "_________________________________________________________________\n",
      "activation_12 (Activation)   (None, 10, 20, 20, 64)    0         \n",
      "_________________________________________________________________\n",
      "max_pooling3d_8 (MaxPooling3 (None, 4, 7, 7, 64)       0         \n",
      "_________________________________________________________________\n",
      "dropout_7 (Dropout)          (None, 4, 7, 7, 64)       0         \n",
      "_________________________________________________________________\n",
      "flatten_3 (Flatten)          (None, 12544)             0         \n",
      "_________________________________________________________________\n",
      "dense_6 (Dense)              (None, 512)               6423040   \n",
      "_________________________________________________________________\n",
      "dropout_8 (Dropout)          (None, 512)               0         \n",
      "_________________________________________________________________\n",
      "dense_7 (Dense)              (None, 5)                 2565      \n",
      "=================================================================\n",
      "Total params: 6,621,925\n",
      "Trainable params: 6,621,925\n",
      "Non-trainable params: 0\n",
      "_________________________________________________________________\n"
     ]
    }
   ],
   "source": [
    "model_2 = Sequential()\n",
    "model_2.add(Conv3D(32, kernel_size=(3, 3, 3), input_shape=(x,y,z,channel), padding='same'))\n",
    "model_2.add(Activation('relu'))\n",
    "model_2.add(Conv3D(32, kernel_size=(3, 3, 3), padding='same'))\n",
    "model_2.add(Activation('relu'))\n",
    "model_2.add(MaxPooling3D(pool_size=(3, 3, 3), padding='same'))\n",
    "model_2.add(Dropout(0.25))\n",
    "\n",
    "model_2.add(Conv3D(64, kernel_size=(3, 3, 3), padding='same'))\n",
    "model_2.add(Activation('relu'))\n",
    "model_2.add(Conv3D(64, kernel_size=(3, 3, 3), padding='same'))\n",
    "model_2.add(Activation('relu'))\n",
    "model_2.add(MaxPooling3D(pool_size=(3, 3, 3), padding='same'))\n",
    "model_2.add(Dropout(0.25))\n",
    "\n",
    "model_2.add(Flatten())\n",
    "model_2.add(Dense(512, activation='relu'))\n",
    "model_2.add(Dropout(0.5))\n",
    "model_2.add(Dense(classes, activation='softmax'))\n",
    "\n",
    "model_2.compile(optimizer=keras.optimizers.Adam(), loss='categorical_crossentropy', metrics=['categorical_accuracy'])\n",
    "model_2.summary()"
   ]
  },
  {
   "cell_type": "code",
   "execution_count": 22,
   "metadata": {},
   "outputs": [],
   "source": [
    "train_generator = generator_ex(train_path, train_doc, batch_size)\n",
    "val_generator = generator_ex(val_path, val_doc, batch_size)"
   ]
  },
  {
   "cell_type": "code",
   "execution_count": 20,
   "metadata": {},
   "outputs": [
    {
     "name": "stdout",
     "output_type": "stream",
     "text": [
      "Source path =  Project_data/val ; batch size = 10\n",
      "Source path =  Project_data/train ; batch size = 10\n",
      "Epoch 1/10\n"
     ]
    },
    {
     "name": "stderr",
     "output_type": "stream",
     "text": [
      "/mnt/disks/user/anaconda3/lib/python3.6/site-packages/ipykernel_launcher.py:19: DeprecationWarning: `imread` is deprecated!\n",
      "`imread` is deprecated in SciPy 1.0.0, and will be removed in 1.2.0.\n",
      "Use ``imageio.imread`` instead.\n",
      "/mnt/disks/user/anaconda3/lib/python3.6/site-packages/ipykernel_launcher.py:24: DeprecationWarning: `imresize` is deprecated!\n",
      "`imresize` is deprecated in SciPy 1.0.0, and will be removed in 1.2.0.\n",
      "Use ``skimage.transform.resize`` instead.\n"
     ]
    },
    {
     "name": "stdout",
     "output_type": "stream",
     "text": [
      "65/67 [============================>.] - ETA: 2s - loss: 1.6151 - categorical_accuracy: 0.2262Batch:  67 Index: 10\n"
     ]
    },
    {
     "name": "stderr",
     "output_type": "stream",
     "text": [
      "/mnt/disks/user/anaconda3/lib/python3.6/site-packages/ipykernel_launcher.py:44: DeprecationWarning: `imread` is deprecated!\n",
      "`imread` is deprecated in SciPy 1.0.0, and will be removed in 1.2.0.\n",
      "Use ``imageio.imread`` instead.\n",
      "/mnt/disks/user/anaconda3/lib/python3.6/site-packages/ipykernel_launcher.py:48: DeprecationWarning: `imresize` is deprecated!\n",
      "`imresize` is deprecated in SciPy 1.0.0, and will be removed in 1.2.0.\n",
      "Use ``skimage.transform.resize`` instead.\n"
     ]
    },
    {
     "name": "stdout",
     "output_type": "stream",
     "text": [
      "67/67 [==============================] - 73s 1s/step - loss: 1.6130 - categorical_accuracy: 0.2224 - val_loss: 1.5205 - val_categorical_accuracy: 0.2300\n",
      "\n",
      "Epoch 00001: saving model to model_init_2020-05-1916_02_27.202940/model-00001-1.61398-0.22474-1.52054-0.23000.h5\n",
      "Epoch 2/10\n",
      "67/67 [==============================] - 23s 343ms/step - loss: 1.5353 - categorical_accuracy: 0.3134 - val_loss: 1.4408 - val_categorical_accuracy: 0.3300\n",
      "\n",
      "Epoch 00002: saving model to model_init_2020-05-1916_02_27.202940/model-00002-1.53535-0.31343-1.44075-0.33000.h5\n",
      "Epoch 3/10\n",
      "67/67 [==============================] - 25s 368ms/step - loss: 1.5121 - categorical_accuracy: 0.3134 - val_loss: 1.4274 - val_categorical_accuracy: 0.4100\n",
      "\n",
      "Epoch 00003: saving model to model_init_2020-05-1916_02_27.202940/model-00003-1.51206-0.31343-1.42742-0.41000.h5\n",
      "Epoch 4/10\n",
      "67/67 [==============================] - 24s 351ms/step - loss: 1.4981 - categorical_accuracy: 0.3532 - val_loss: 1.4454 - val_categorical_accuracy: 0.3800\n",
      "\n",
      "Epoch 00004: saving model to model_init_2020-05-1916_02_27.202940/model-00004-1.49808-0.35323-1.44541-0.38000.h5\n",
      "Epoch 5/10\n",
      "67/67 [==============================] - 25s 366ms/step - loss: 1.3612 - categorical_accuracy: 0.4030 - val_loss: 1.3160 - val_categorical_accuracy: 0.4300\n",
      "\n",
      "Epoch 00005: saving model to model_init_2020-05-1916_02_27.202940/model-00005-1.36124-0.40299-1.31595-0.43000.h5\n",
      "Epoch 6/10\n",
      "67/67 [==============================] - 24s 362ms/step - loss: 1.3352 - categorical_accuracy: 0.4080 - val_loss: 1.3052 - val_categorical_accuracy: 0.4200\n",
      "\n",
      "Epoch 00006: saving model to model_init_2020-05-1916_02_27.202940/model-00006-1.33520-0.40796-1.30522-0.42000.h5\n",
      "Epoch 7/10\n",
      "67/67 [==============================] - 24s 365ms/step - loss: 1.3974 - categorical_accuracy: 0.4328 - val_loss: 1.2300 - val_categorical_accuracy: 0.5400\n",
      "\n",
      "Epoch 00007: saving model to model_init_2020-05-1916_02_27.202940/model-00007-1.39744-0.43284-1.23001-0.54000.h5\n",
      "Epoch 8/10\n",
      "67/67 [==============================] - 24s 357ms/step - loss: 1.2436 - categorical_accuracy: 0.4776 - val_loss: 1.1396 - val_categorical_accuracy: 0.5700\n",
      "\n",
      "Epoch 00008: saving model to model_init_2020-05-1916_02_27.202940/model-00008-1.24363-0.47761-1.13955-0.57000.h5\n",
      "Epoch 9/10\n",
      "67/67 [==============================] - 24s 360ms/step - loss: 1.1184 - categorical_accuracy: 0.5124 - val_loss: 1.1953 - val_categorical_accuracy: 0.5000\n",
      "\n",
      "Epoch 00009: saving model to model_init_2020-05-1916_02_27.202940/model-00009-1.11837-0.51244-1.19526-0.50000.h5\n",
      "Epoch 10/10\n",
      "67/67 [==============================] - 24s 359ms/step - loss: 1.2079 - categorical_accuracy: 0.4776 - val_loss: 1.1240 - val_categorical_accuracy: 0.5800\n",
      "\n",
      "Epoch 00010: saving model to model_init_2020-05-1916_02_27.202940/model-00010-1.20785-0.47761-1.12402-0.58000.h5\n"
     ]
    },
    {
     "data": {
      "text/plain": [
       "<keras.callbacks.History at 0x7f991fab0908>"
      ]
     },
     "execution_count": 20,
     "metadata": {},
     "output_type": "execute_result"
    }
   ],
   "source": [
    "model_2.fit_generator(train_generator, steps_per_epoch=steps_per_epoch, epochs=num_epochs, verbose=1, \n",
    "                    callbacks=callbacks_list, validation_data=val_generator, \n",
    "                    validation_steps=validation_steps, class_weight=None, workers=1, initial_epoch=0)"
   ]
  },
  {
   "cell_type": "markdown",
   "metadata": {},
   "source": [
    "`Experiment 2` **Changing Batch size to 20**"
   ]
  },
  {
   "cell_type": "code",
   "execution_count": 23,
   "metadata": {},
   "outputs": [],
   "source": [
    "train_generator = generator_ex(train_path, train_doc, 20)\n",
    "val_generator = generator_ex(val_path, val_doc, 20)"
   ]
  },
  {
   "cell_type": "code",
   "execution_count": 22,
   "metadata": {},
   "outputs": [
    {
     "name": "stdout",
     "output_type": "stream",
     "text": [
      "Source path =  Project_data/val ; batch size = 20\n",
      "Source path =  Project_data/train ; batch size = 20\n",
      "Epoch 1/10\n"
     ]
    },
    {
     "name": "stderr",
     "output_type": "stream",
     "text": [
      "/mnt/disks/user/anaconda3/lib/python3.6/site-packages/ipykernel_launcher.py:19: DeprecationWarning: `imread` is deprecated!\n",
      "`imread` is deprecated in SciPy 1.0.0, and will be removed in 1.2.0.\n",
      "Use ``imageio.imread`` instead.\n",
      "/mnt/disks/user/anaconda3/lib/python3.6/site-packages/ipykernel_launcher.py:24: DeprecationWarning: `imresize` is deprecated!\n",
      "`imresize` is deprecated in SciPy 1.0.0, and will be removed in 1.2.0.\n",
      "Use ``skimage.transform.resize`` instead.\n"
     ]
    },
    {
     "name": "stdout",
     "output_type": "stream",
     "text": [
      "32/67 [=============>................] - ETA: 1:18 - loss: 1.0276 - categorical_accuracy: 0.5703Batch:  34 Index: 20\n"
     ]
    },
    {
     "name": "stderr",
     "output_type": "stream",
     "text": [
      "/mnt/disks/user/anaconda3/lib/python3.6/site-packages/ipykernel_launcher.py:44: DeprecationWarning: `imread` is deprecated!\n",
      "`imread` is deprecated in SciPy 1.0.0, and will be removed in 1.2.0.\n",
      "Use ``imageio.imread`` instead.\n",
      "/mnt/disks/user/anaconda3/lib/python3.6/site-packages/ipykernel_launcher.py:48: DeprecationWarning: `imresize` is deprecated!\n",
      "`imresize` is deprecated in SciPy 1.0.0, and will be removed in 1.2.0.\n",
      "Use ``skimage.transform.resize`` instead.\n"
     ]
    },
    {
     "name": "stdout",
     "output_type": "stream",
     "text": [
      "67/67 [==============================] - 87s 1s/step - loss: 0.9903 - categorical_accuracy: 0.5964 - val_loss: 1.0747 - val_categorical_accuracy: 0.5500\n",
      "\n",
      "Epoch 00001: saving model to model_init_2020-05-1916_02_27.202940/model-00001-1.01531-0.57349-1.07469-0.55000.h5\n",
      "Epoch 2/10\n",
      "67/67 [==============================] - 29s 431ms/step - loss: 1.0071 - categorical_accuracy: 0.5721 - val_loss: 1.0350 - val_categorical_accuracy: 0.6200\n",
      "\n",
      "Epoch 00002: saving model to model_init_2020-05-1916_02_27.202940/model-00002-1.00707-0.57214-1.03502-0.62000.h5\n",
      "Epoch 3/10\n",
      "67/67 [==============================] - 30s 446ms/step - loss: 1.1225 - categorical_accuracy: 0.5323 - val_loss: 1.1373 - val_categorical_accuracy: 0.5400\n",
      "\n",
      "Epoch 00003: saving model to model_init_2020-05-1916_02_27.202940/model-00003-1.12245-0.53234-1.13733-0.54000.h5\n",
      "Epoch 4/10\n",
      "67/67 [==============================] - 30s 450ms/step - loss: 1.1008 - categorical_accuracy: 0.5224 - val_loss: 1.0324 - val_categorical_accuracy: 0.5500\n",
      "\n",
      "Epoch 00004: saving model to model_init_2020-05-1916_02_27.202940/model-00004-1.10077-0.52239-1.03241-0.55000.h5\n",
      "Epoch 5/10\n",
      "67/67 [==============================] - 30s 446ms/step - loss: 0.8070 - categorical_accuracy: 0.6567 - val_loss: 1.0410 - val_categorical_accuracy: 0.5600\n",
      "\n",
      "Epoch 00005: saving model to model_init_2020-05-1916_02_27.202940/model-00005-0.80696-0.65672-1.04102-0.56000.h5\n",
      "Epoch 6/10\n",
      "67/67 [==============================] - 30s 444ms/step - loss: 0.9540 - categorical_accuracy: 0.6318 - val_loss: 1.1953 - val_categorical_accuracy: 0.4300\n",
      "\n",
      "Epoch 00006: saving model to model_init_2020-05-1916_02_27.202940/model-00006-0.95399-0.63184-1.19532-0.43000.h5\n",
      "\n",
      "Epoch 00006: ReduceLROnPlateau reducing learning rate to 0.0005000000237487257.\n",
      "Epoch 7/10\n",
      "67/67 [==============================] - 30s 441ms/step - loss: 0.9635 - categorical_accuracy: 0.5721 - val_loss: 1.1197 - val_categorical_accuracy: 0.5400\n",
      "\n",
      "Epoch 00007: saving model to model_init_2020-05-1916_02_27.202940/model-00007-0.96346-0.57214-1.11973-0.54000.h5\n",
      "Epoch 8/10\n",
      "67/67 [==============================] - 29s 439ms/step - loss: 0.7531 - categorical_accuracy: 0.6915 - val_loss: 1.1265 - val_categorical_accuracy: 0.5700\n",
      "\n",
      "Epoch 00008: saving model to model_init_2020-05-1916_02_27.202940/model-00008-0.75306-0.69154-1.12647-0.57000.h5\n",
      "\n",
      "Epoch 00008: ReduceLROnPlateau reducing learning rate to 0.0002500000118743628.\n",
      "Epoch 9/10\n",
      "67/67 [==============================] - 30s 448ms/step - loss: 0.5913 - categorical_accuracy: 0.7562 - val_loss: 1.0846 - val_categorical_accuracy: 0.5300\n",
      "\n",
      "Epoch 00009: saving model to model_init_2020-05-1916_02_27.202940/model-00009-0.59130-0.75622-1.08456-0.53000.h5\n",
      "Epoch 10/10\n",
      "67/67 [==============================] - 30s 441ms/step - loss: 0.5228 - categorical_accuracy: 0.8060 - val_loss: 1.1019 - val_categorical_accuracy: 0.5800\n",
      "\n",
      "Epoch 00010: saving model to model_init_2020-05-1916_02_27.202940/model-00010-0.52278-0.80597-1.10188-0.58000.h5\n",
      "\n",
      "Epoch 00010: ReduceLROnPlateau reducing learning rate to 0.0001250000059371814.\n"
     ]
    },
    {
     "data": {
      "text/plain": [
       "<keras.callbacks.History at 0x7f991f7604a8>"
      ]
     },
     "execution_count": 22,
     "metadata": {},
     "output_type": "execute_result"
    }
   ],
   "source": [
    "model_2.fit_generator(train_generator, steps_per_epoch=steps_per_epoch, epochs=num_epochs, verbose=1, \n",
    "                    callbacks=callbacks_list, validation_data=val_generator, \n",
    "                    validation_steps=validation_steps, class_weight=None, workers=1, initial_epoch=0)"
   ]
  },
  {
   "cell_type": "markdown",
   "metadata": {},
   "source": [
    "`Experiment 3` **Changing Batch size to 30**"
   ]
  },
  {
   "cell_type": "code",
   "execution_count": 24,
   "metadata": {},
   "outputs": [],
   "source": [
    "train_generator = generator_ex(train_path, train_doc, 30)\n",
    "val_generator = generator_ex(val_path, val_doc, 30)"
   ]
  },
  {
   "cell_type": "code",
   "execution_count": 24,
   "metadata": {},
   "outputs": [
    {
     "name": "stdout",
     "output_type": "stream",
     "text": [
      "Source path =  Project_data/val ; batch size = 30\n",
      "Source path =  Project_data/train ; batch size = 30\n",
      "Epoch 1/10\n"
     ]
    },
    {
     "name": "stderr",
     "output_type": "stream",
     "text": [
      "/mnt/disks/user/anaconda3/lib/python3.6/site-packages/ipykernel_launcher.py:19: DeprecationWarning: `imread` is deprecated!\n",
      "`imread` is deprecated in SciPy 1.0.0, and will be removed in 1.2.0.\n",
      "Use ``imageio.imread`` instead.\n",
      "/mnt/disks/user/anaconda3/lib/python3.6/site-packages/ipykernel_launcher.py:24: DeprecationWarning: `imresize` is deprecated!\n",
      "`imresize` is deprecated in SciPy 1.0.0, and will be removed in 1.2.0.\n",
      "Use ``skimage.transform.resize`` instead.\n"
     ]
    },
    {
     "name": "stdout",
     "output_type": "stream",
     "text": [
      " 3/67 [>.............................] - ETA: 4:41 - loss: 0.3835 - categorical_accuracy: 0.8667Batch:  4 Index: 30\n"
     ]
    },
    {
     "name": "stderr",
     "output_type": "stream",
     "text": [
      "/mnt/disks/user/anaconda3/lib/python3.6/site-packages/ipykernel_launcher.py:44: DeprecationWarning: `imread` is deprecated!\n",
      "`imread` is deprecated in SciPy 1.0.0, and will be removed in 1.2.0.\n",
      "Use ``imageio.imread`` instead.\n",
      "/mnt/disks/user/anaconda3/lib/python3.6/site-packages/ipykernel_launcher.py:48: DeprecationWarning: `imresize` is deprecated!\n",
      "`imresize` is deprecated in SciPy 1.0.0, and will be removed in 1.2.0.\n",
      "Use ``skimage.transform.resize`` instead.\n"
     ]
    },
    {
     "name": "stdout",
     "output_type": "stream",
     "text": [
      "21/67 [========>.....................] - ETA: 2:33 - loss: 0.4759 - categorical_accuracy: 0.8413Batch:  23 Index: 30\n",
      "67/67 [==============================] - 88s 1s/step - loss: 0.4745 - categorical_accuracy: 0.8156 - val_loss: 1.0959 - val_categorical_accuracy: 0.5813\n",
      "\n",
      "Epoch 00001: saving model to model_init_2020-05-1916_02_27.202940/model-00001-0.48536-0.82767-1.09592-0.58125.h5\n",
      "Epoch 2/10\n",
      "67/67 [==============================] - 24s 364ms/step - loss: 0.5192 - categorical_accuracy: 0.8159 - val_loss: 1.2321 - val_categorical_accuracy: 0.4500\n",
      "\n",
      "Epoch 00002: saving model to model_init_2020-05-1916_02_27.202940/model-00002-0.51925-0.81592-1.23213-0.45000.h5\n",
      "Epoch 3/10\n",
      "67/67 [==============================] - 25s 371ms/step - loss: 0.4631 - categorical_accuracy: 0.8259 - val_loss: 0.9725 - val_categorical_accuracy: 0.5800\n",
      "\n",
      "Epoch 00003: saving model to model_init_2020-05-1916_02_27.202940/model-00003-0.46306-0.82587-0.97246-0.58000.h5\n",
      "Epoch 4/10\n",
      "67/67 [==============================] - 23s 346ms/step - loss: 0.3666 - categorical_accuracy: 0.8507 - val_loss: 0.9606 - val_categorical_accuracy: 0.6000\n",
      "\n",
      "Epoch 00004: saving model to model_init_2020-05-1916_02_27.202940/model-00004-0.36655-0.85075-0.96062-0.60000.h5\n",
      "Epoch 5/10\n",
      "67/67 [==============================] - 23s 347ms/step - loss: 0.3666 - categorical_accuracy: 0.8856 - val_loss: 1.3443 - val_categorical_accuracy: 0.4900\n",
      "\n",
      "Epoch 00005: saving model to model_init_2020-05-1916_02_27.202940/model-00005-0.36665-0.88557-1.34428-0.49000.h5\n",
      "Epoch 6/10\n",
      "67/67 [==============================] - 24s 359ms/step - loss: 0.4746 - categorical_accuracy: 0.8109 - val_loss: 0.8316 - val_categorical_accuracy: 0.7300\n",
      "\n",
      "Epoch 00006: saving model to model_init_2020-05-1916_02_27.202940/model-00006-0.47460-0.81095-0.83161-0.73000.h5\n",
      "Epoch 7/10\n",
      "67/67 [==============================] - 26s 389ms/step - loss: 0.3764 - categorical_accuracy: 0.8607 - val_loss: 1.2557 - val_categorical_accuracy: 0.5600\n",
      "\n",
      "Epoch 00007: saving model to model_init_2020-05-1916_02_27.202940/model-00007-0.37638-0.86070-1.25571-0.56000.h5\n",
      "Epoch 8/10\n",
      "67/67 [==============================] - 25s 370ms/step - loss: 0.3229 - categorical_accuracy: 0.9055 - val_loss: 1.0783 - val_categorical_accuracy: 0.6200\n",
      "\n",
      "Epoch 00008: saving model to model_init_2020-05-1916_02_27.202940/model-00008-0.32286-0.90547-1.07830-0.62000.h5\n",
      "\n",
      "Epoch 00008: ReduceLROnPlateau reducing learning rate to 6.25000029685907e-05.\n",
      "Epoch 9/10\n",
      "67/67 [==============================] - 25s 373ms/step - loss: 0.3672 - categorical_accuracy: 0.8358 - val_loss: 1.2346 - val_categorical_accuracy: 0.6100\n",
      "\n",
      "Epoch 00009: saving model to model_init_2020-05-1916_02_27.202940/model-00009-0.36717-0.83582-1.23456-0.61000.h5\n",
      "Epoch 10/10\n",
      "67/67 [==============================] - 24s 351ms/step - loss: 0.2822 - categorical_accuracy: 0.9055 - val_loss: 1.0809 - val_categorical_accuracy: 0.6300\n",
      "\n",
      "Epoch 00010: saving model to model_init_2020-05-1916_02_27.202940/model-00010-0.28224-0.90547-1.08093-0.63000.h5\n",
      "\n",
      "Epoch 00010: ReduceLROnPlateau reducing learning rate to 3.125000148429535e-05.\n"
     ]
    },
    {
     "data": {
      "text/plain": [
       "<keras.callbacks.History at 0x7f9904593f60>"
      ]
     },
     "execution_count": 24,
     "metadata": {},
     "output_type": "execute_result"
    }
   ],
   "source": [
    "model_2.fit_generator(train_generator, steps_per_epoch=steps_per_epoch, epochs=num_epochs, verbose=1, \n",
    "                    callbacks=callbacks_list, validation_data=val_generator, \n",
    "                    validation_steps=validation_steps, class_weight=None, workers=1, initial_epoch=0)"
   ]
  },
  {
   "cell_type": "markdown",
   "metadata": {},
   "source": [
    "`Experiment 4` **Changing Batch size to 40**"
   ]
  },
  {
   "cell_type": "code",
   "execution_count": 25,
   "metadata": {},
   "outputs": [],
   "source": [
    "train_generator = generator_ex(train_path, train_doc, 40)\n",
    "val_generator = generator_ex(val_path, val_doc, 40)"
   ]
  },
  {
   "cell_type": "code",
   "execution_count": 29,
   "metadata": {},
   "outputs": [
    {
     "name": "stdout",
     "output_type": "stream",
     "text": [
      "Epoch 1/10\n"
     ]
    },
    {
     "name": "stderr",
     "output_type": "stream",
     "text": [
      "/mnt/disks/user/anaconda3/lib/python3.6/site-packages/ipykernel_launcher.py:19: DeprecationWarning: `imread` is deprecated!\n",
      "`imread` is deprecated in SciPy 1.0.0, and will be removed in 1.2.0.\n",
      "Use ``imageio.imread`` instead.\n",
      "/mnt/disks/user/anaconda3/lib/python3.6/site-packages/ipykernel_launcher.py:24: DeprecationWarning: `imresize` is deprecated!\n",
      "`imresize` is deprecated in SciPy 1.0.0, and will be removed in 1.2.0.\n",
      "Use ``skimage.transform.resize`` instead.\n"
     ]
    },
    {
     "name": "stdout",
     "output_type": "stream",
     "text": [
      "67/67 [==============================] - 123s 2s/step - loss: 0.2517 - categorical_accuracy: 0.9078 - val_loss: 1.1252 - val_categorical_accuracy: 0.6200\n",
      "\n",
      "Epoch 00001: saving model to model_init_2020-05-1916_02_27.202940/model-00001-0.25174-0.90781-1.12515-0.62000.h5\n",
      "Epoch 2/10\n",
      "67/67 [==============================] - 121s 2s/step - loss: 0.2600 - categorical_accuracy: 0.9017 - val_loss: 1.1835 - val_categorical_accuracy: 0.6200\n",
      "\n",
      "Epoch 00002: saving model to model_init_2020-05-1916_02_27.202940/model-00002-0.26003-0.90167-1.18351-0.62000.h5\n",
      "Epoch 3/10\n",
      "67/67 [==============================] - 121s 2s/step - loss: 0.2330 - categorical_accuracy: 0.9157 - val_loss: 1.1103 - val_categorical_accuracy: 0.6050\n",
      "\n",
      "Epoch 00003: saving model to model_init_2020-05-1916_02_27.202940/model-00003-0.23302-0.91572-1.11034-0.60500.h5\n",
      "Epoch 4/10\n",
      "67/67 [==============================] - 123s 2s/step - loss: 0.2366 - categorical_accuracy: 0.9148 - val_loss: 1.1958 - val_categorical_accuracy: 0.6050\n",
      "\n",
      "Epoch 00004: saving model to model_init_2020-05-1916_02_27.202940/model-00004-0.23663-0.91484-1.19578-0.60500.h5\n",
      "Epoch 5/10\n",
      "67/67 [==============================] - 122s 2s/step - loss: 0.2600 - categorical_accuracy: 0.9043 - val_loss: 1.1190 - val_categorical_accuracy: 0.6350\n",
      "\n",
      "Epoch 00005: saving model to model_init_2020-05-1916_02_27.202940/model-00005-0.26002-0.90430-1.11902-0.63500.h5\n",
      "\n",
      "Epoch 00005: ReduceLROnPlateau reducing learning rate to 7.812500371073838e-06.\n",
      "Epoch 6/10\n",
      "67/67 [==============================] - 123s 2s/step - loss: 0.2554 - categorical_accuracy: 0.9175 - val_loss: 1.1907 - val_categorical_accuracy: 0.5900\n",
      "\n",
      "Epoch 00006: saving model to model_init_2020-05-1916_02_27.202940/model-00006-0.25536-0.91747-1.19069-0.59000.h5\n",
      "Epoch 7/10\n",
      "67/67 [==============================] - 120s 2s/step - loss: 0.2477 - categorical_accuracy: 0.9157 - val_loss: 1.1431 - val_categorical_accuracy: 0.6300\n",
      "\n",
      "Epoch 00007: saving model to model_init_2020-05-1916_02_27.202940/model-00007-0.24766-0.91572-1.14305-0.63000.h5\n",
      "\n",
      "Epoch 00007: ReduceLROnPlateau reducing learning rate to 3.906250185536919e-06.\n",
      "Epoch 8/10\n",
      "67/67 [==============================] - 122s 2s/step - loss: 0.2173 - categorical_accuracy: 0.9315 - val_loss: 1.2188 - val_categorical_accuracy: 0.5900\n",
      "\n",
      "Epoch 00008: saving model to model_init_2020-05-1916_02_27.202940/model-00008-0.21727-0.93152-1.21879-0.59000.h5\n",
      "Epoch 9/10\n",
      "67/67 [==============================] - 122s 2s/step - loss: 0.2416 - categorical_accuracy: 0.9113 - val_loss: 1.1274 - val_categorical_accuracy: 0.6200\n",
      "\n",
      "Epoch 00009: saving model to model_init_2020-05-1916_02_27.202940/model-00009-0.24161-0.91133-1.12744-0.62000.h5\n",
      "\n",
      "Epoch 00009: ReduceLROnPlateau reducing learning rate to 1.9531250927684596e-06.\n",
      "Epoch 10/10\n",
      "67/67 [==============================] - 122s 2s/step - loss: 0.2328 - categorical_accuracy: 0.9183 - val_loss: 1.2021 - val_categorical_accuracy: 0.6000\n",
      "\n",
      "Epoch 00010: saving model to model_init_2020-05-1916_02_27.202940/model-00010-0.23277-0.91835-1.20208-0.60000.h5\n"
     ]
    },
    {
     "data": {
      "text/plain": [
       "<keras.callbacks.History at 0x7f991f278198>"
      ]
     },
     "execution_count": 29,
     "metadata": {},
     "output_type": "execute_result"
    }
   ],
   "source": [
    "model_2.fit_generator(train_generator, steps_per_epoch=steps_per_epoch, epochs=num_epochs, verbose=1, \n",
    "                    callbacks=callbacks_list, validation_data=val_generator, \n",
    "                    validation_steps=validation_steps, class_weight=None, workers=1, initial_epoch=0)"
   ]
  },
  {
   "cell_type": "markdown",
   "metadata": {},
   "source": [
    "`Experiment 5` **Change Optimizer to Adadelta**"
   ]
  },
  {
   "cell_type": "code",
   "execution_count": 26,
   "metadata": {},
   "outputs": [
    {
     "name": "stdout",
     "output_type": "stream",
     "text": [
      "_________________________________________________________________\n",
      "Layer (type)                 Output Shape              Param #   \n",
      "=================================================================\n",
      "conv3d_9 (Conv3D)            (None, 30, 60, 60, 32)    2624      \n",
      "_________________________________________________________________\n",
      "activation_9 (Activation)    (None, 30, 60, 60, 32)    0         \n",
      "_________________________________________________________________\n",
      "conv3d_10 (Conv3D)           (None, 30, 60, 60, 32)    27680     \n",
      "_________________________________________________________________\n",
      "activation_10 (Activation)   (None, 30, 60, 60, 32)    0         \n",
      "_________________________________________________________________\n",
      "max_pooling3d_7 (MaxPooling3 (None, 10, 20, 20, 32)    0         \n",
      "_________________________________________________________________\n",
      "dropout_6 (Dropout)          (None, 10, 20, 20, 32)    0         \n",
      "_________________________________________________________________\n",
      "conv3d_11 (Conv3D)           (None, 10, 20, 20, 64)    55360     \n",
      "_________________________________________________________________\n",
      "activation_11 (Activation)   (None, 10, 20, 20, 64)    0         \n",
      "_________________________________________________________________\n",
      "conv3d_12 (Conv3D)           (None, 10, 20, 20, 64)    110656    \n",
      "_________________________________________________________________\n",
      "activation_12 (Activation)   (None, 10, 20, 20, 64)    0         \n",
      "_________________________________________________________________\n",
      "max_pooling3d_8 (MaxPooling3 (None, 4, 7, 7, 64)       0         \n",
      "_________________________________________________________________\n",
      "dropout_7 (Dropout)          (None, 4, 7, 7, 64)       0         \n",
      "_________________________________________________________________\n",
      "flatten_3 (Flatten)          (None, 12544)             0         \n",
      "_________________________________________________________________\n",
      "dense_6 (Dense)              (None, 512)               6423040   \n",
      "_________________________________________________________________\n",
      "dropout_8 (Dropout)          (None, 512)               0         \n",
      "_________________________________________________________________\n",
      "dense_7 (Dense)              (None, 5)                 2565      \n",
      "=================================================================\n",
      "Total params: 6,621,925\n",
      "Trainable params: 6,621,925\n",
      "Non-trainable params: 0\n",
      "_________________________________________________________________\n"
     ]
    }
   ],
   "source": [
    "model_2.compile(optimizer=keras.optimizers.Adadelta(), loss='categorical_crossentropy', metrics=['categorical_accuracy'])\n",
    "model_2.summary()"
   ]
  },
  {
   "cell_type": "code",
   "execution_count": 27,
   "metadata": {},
   "outputs": [],
   "source": [
    "train_generator = generator_ex(train_path, train_doc, 40)\n",
    "val_generator = generator_ex(val_path, val_doc, 40)"
   ]
  },
  {
   "cell_type": "code",
   "execution_count": 61,
   "metadata": {
    "scrolled": true
   },
   "outputs": [
    {
     "name": "stdout",
     "output_type": "stream",
     "text": [
      "Source path =  Project_data/val ; batch size = 40\n",
      "Source path =  Project_data/train ; batch size = 40\n",
      "Epoch 1/10\n"
     ]
    },
    {
     "name": "stderr",
     "output_type": "stream",
     "text": [
      "/mnt/disks/user/anaconda3/lib/python3.6/site-packages/ipykernel_launcher.py:19: DeprecationWarning: `imread` is deprecated!\n",
      "`imread` is deprecated in SciPy 1.0.0, and will be removed in 1.2.0.\n",
      "Use ``imageio.imread`` instead.\n",
      "/mnt/disks/user/anaconda3/lib/python3.6/site-packages/ipykernel_launcher.py:24: DeprecationWarning: `imresize` is deprecated!\n",
      "`imresize` is deprecated in SciPy 1.0.0, and will be removed in 1.2.0.\n",
      "Use ``skimage.transform.resize`` instead.\n"
     ]
    },
    {
     "name": "stdout",
     "output_type": "stream",
     "text": [
      "Batch:  3 Index: 40\n"
     ]
    },
    {
     "name": "stderr",
     "output_type": "stream",
     "text": [
      "/mnt/disks/user/anaconda3/lib/python3.6/site-packages/ipykernel_launcher.py:44: DeprecationWarning: `imread` is deprecated!\n",
      "`imread` is deprecated in SciPy 1.0.0, and will be removed in 1.2.0.\n",
      "Use ``imageio.imread`` instead.\n",
      "/mnt/disks/user/anaconda3/lib/python3.6/site-packages/ipykernel_launcher.py:48: DeprecationWarning: `imresize` is deprecated!\n",
      "`imresize` is deprecated in SciPy 1.0.0, and will be removed in 1.2.0.\n",
      "Use ``skimage.transform.resize`` instead.\n"
     ]
    },
    {
     "name": "stdout",
     "output_type": "stream",
     "text": [
      "15/67 [=====>........................] - ETA: 3:56 - loss: 1.6963 - categorical_accuracy: 0.2300Batch:  17 Index: 40\n",
      "44/67 [==================>...........] - ETA: 1:10 - loss: 1.6100 - categorical_accuracy: 0.2542Batch:  29 Index: 23\n",
      "67/67 [==============================] - 184s 3s/step - loss: 1.5973 - categorical_accuracy: 0.2671 - val_loss: 1.5272 - val_categorical_accuracy: 0.2333\n",
      "\n",
      "Epoch 00001: saving model to model_init_2020-05-1918_24_07.458406/model-00001-1.61305-0.26087-1.52718-0.23333.h5\n",
      "Epoch 2/10\n",
      "12/67 [====>.........................] - ETA: 1:49 - loss: 1.5069 - categorical_accuracy: 0.3553Batch:  35 Index: 19\n",
      "67/67 [==============================] - 123s 2s/step - loss: 1.3857 - categorical_accuracy: 0.4366 - val_loss: 1.2789 - val_categorical_accuracy: 0.4800\n",
      "\n",
      "Epoch 00002: saving model to model_init_2020-05-1918_24_07.458406/model-00002-1.38799-0.43519-1.27887-0.48000.h5\n",
      "Epoch 3/10\n",
      "67/67 [==============================] - 122s 2s/step - loss: 1.1042 - categorical_accuracy: 0.5452 - val_loss: 0.8679 - val_categorical_accuracy: 0.6400\n",
      "\n",
      "Epoch 00003: saving model to model_init_2020-05-1918_24_07.458406/model-00003-1.10420-0.54522-0.86792-0.64000.h5\n",
      "Epoch 4/10\n",
      "67/67 [==============================] - 123s 2s/step - loss: 0.8431 - categorical_accuracy: 0.6664 - val_loss: 0.8334 - val_categorical_accuracy: 0.6850\n",
      "\n",
      "Epoch 00004: saving model to model_init_2020-05-1918_24_07.458406/model-00004-0.84309-0.66637-0.83344-0.68500.h5\n",
      "Epoch 5/10\n",
      "67/67 [==============================] - 121s 2s/step - loss: 0.5874 - categorical_accuracy: 0.7796 - val_loss: 0.9289 - val_categorical_accuracy: 0.7150\n",
      "\n",
      "Epoch 00005: saving model to model_init_2020-05-1918_24_07.458406/model-00005-0.58740-0.77963-0.92886-0.71500.h5\n",
      "Epoch 6/10\n",
      "67/67 [==============================] - 124s 2s/step - loss: 0.3243 - categorical_accuracy: 0.8657 - val_loss: 1.1342 - val_categorical_accuracy: 0.6900\n",
      "\n",
      "Epoch 00006: saving model to model_init_2020-05-1918_24_07.458406/model-00006-0.32434-0.86567-1.13420-0.69000.h5\n",
      "\n",
      "Epoch 00006: ReduceLROnPlateau reducing learning rate to 0.5.\n",
      "Epoch 7/10\n",
      "67/67 [==============================] - 120s 2s/step - loss: 0.1153 - categorical_accuracy: 0.9622 - val_loss: 1.4431 - val_categorical_accuracy: 0.6100\n",
      "\n",
      "Epoch 00007: saving model to model_init_2020-05-1918_24_07.458406/model-00007-0.11529-0.96225-1.44313-0.61000.h5\n",
      "Epoch 8/10\n",
      "67/67 [==============================] - 122s 2s/step - loss: 0.0591 - categorical_accuracy: 0.9807 - val_loss: 1.5241 - val_categorical_accuracy: 0.6800\n",
      "\n",
      "Epoch 00008: saving model to model_init_2020-05-1918_24_07.458406/model-00008-0.05908-0.98068-1.52412-0.68000.h5\n",
      "\n",
      "Epoch 00008: ReduceLROnPlateau reducing learning rate to 0.25.\n",
      "Epoch 9/10\n",
      "67/67 [==============================] - 122s 2s/step - loss: 0.0285 - categorical_accuracy: 0.9921 - val_loss: 1.4250 - val_categorical_accuracy: 0.6850\n",
      "\n",
      "Epoch 00009: saving model to model_init_2020-05-1918_24_07.458406/model-00009-0.02848-0.99210-1.42497-0.68500.h5\n",
      "Epoch 10/10\n",
      "67/67 [==============================] - 123s 2s/step - loss: 0.0164 - categorical_accuracy: 0.9947 - val_loss: 1.6844 - val_categorical_accuracy: 0.6400\n",
      "\n",
      "Epoch 00010: saving model to model_init_2020-05-1918_24_07.458406/model-00010-0.01637-0.99473-1.68444-0.64000.h5\n",
      "\n",
      "Epoch 00010: ReduceLROnPlateau reducing learning rate to 0.125.\n"
     ]
    },
    {
     "data": {
      "text/plain": [
       "<keras.callbacks.History at 0x7fc13c6d72b0>"
      ]
     },
     "execution_count": 61,
     "metadata": {},
     "output_type": "execute_result"
    }
   ],
   "source": [
    "model_2.fit_generator(train_generator, steps_per_epoch=steps_per_epoch, epochs=num_epochs, verbose=1, \n",
    "                    callbacks=callbacks_list, validation_data=val_generator, \n",
    "                    validation_steps=validation_steps, class_weight=None, workers=1, initial_epoch=0)"
   ]
  },
  {
   "cell_type": "markdown",
   "metadata": {},
   "source": [
    "Till This Model: `categorical_accuracy: 0.9947` - val_loss: 1.6844 - `val_categorical_accuracy: 0.6400`\n",
    "\n",
    "\n",
    "Epoch 00010: saving model to model_init_2020-05-1918_24_07.458406/model-00010-0.01637-0.99473-1.68444-0.64000.h5\n",
    "\n",
    "Epoch 00010: ReduceLROnPlateau reducing learning rate to 0.125."
   ]
  },
  {
   "cell_type": "markdown",
   "metadata": {},
   "source": [
    "`Experiment 6` Changing `Epoch = 20`"
   ]
  },
  {
   "cell_type": "code",
   "execution_count": 28,
   "metadata": {},
   "outputs": [
    {
     "name": "stdout",
     "output_type": "stream",
     "text": [
      "# epochs = 20\n"
     ]
    }
   ],
   "source": [
    "num_epochs = 20 # choose the number of epochs\n",
    "print ('# epochs =', num_epochs)"
   ]
  },
  {
   "cell_type": "code",
   "execution_count": 29,
   "metadata": {},
   "outputs": [
    {
     "name": "stdout",
     "output_type": "stream",
     "text": [
      "_________________________________________________________________\n",
      "Layer (type)                 Output Shape              Param #   \n",
      "=================================================================\n",
      "conv3d_9 (Conv3D)            (None, 30, 60, 60, 32)    2624      \n",
      "_________________________________________________________________\n",
      "activation_9 (Activation)    (None, 30, 60, 60, 32)    0         \n",
      "_________________________________________________________________\n",
      "conv3d_10 (Conv3D)           (None, 30, 60, 60, 32)    27680     \n",
      "_________________________________________________________________\n",
      "activation_10 (Activation)   (None, 30, 60, 60, 32)    0         \n",
      "_________________________________________________________________\n",
      "max_pooling3d_7 (MaxPooling3 (None, 10, 20, 20, 32)    0         \n",
      "_________________________________________________________________\n",
      "dropout_6 (Dropout)          (None, 10, 20, 20, 32)    0         \n",
      "_________________________________________________________________\n",
      "conv3d_11 (Conv3D)           (None, 10, 20, 20, 64)    55360     \n",
      "_________________________________________________________________\n",
      "activation_11 (Activation)   (None, 10, 20, 20, 64)    0         \n",
      "_________________________________________________________________\n",
      "conv3d_12 (Conv3D)           (None, 10, 20, 20, 64)    110656    \n",
      "_________________________________________________________________\n",
      "activation_12 (Activation)   (None, 10, 20, 20, 64)    0         \n",
      "_________________________________________________________________\n",
      "max_pooling3d_8 (MaxPooling3 (None, 4, 7, 7, 64)       0         \n",
      "_________________________________________________________________\n",
      "dropout_7 (Dropout)          (None, 4, 7, 7, 64)       0         \n",
      "_________________________________________________________________\n",
      "flatten_3 (Flatten)          (None, 12544)             0         \n",
      "_________________________________________________________________\n",
      "dense_6 (Dense)              (None, 512)               6423040   \n",
      "_________________________________________________________________\n",
      "dropout_8 (Dropout)          (None, 512)               0         \n",
      "_________________________________________________________________\n",
      "dense_7 (Dense)              (None, 5)                 2565      \n",
      "=================================================================\n",
      "Total params: 6,621,925\n",
      "Trainable params: 6,621,925\n",
      "Non-trainable params: 0\n",
      "_________________________________________________________________\n"
     ]
    }
   ],
   "source": [
    "import keras\n",
    "model_2.compile(optimizer=keras.optimizers.Adadelta(), loss='categorical_crossentropy', metrics=['categorical_accuracy'])\n",
    "model_2.summary()"
   ]
  },
  {
   "cell_type": "code",
   "execution_count": 31,
   "metadata": {},
   "outputs": [],
   "source": [
    "train_generator = generator_ex(train_path, train_doc, 40)\n",
    "val_generator = generator_ex(val_path, val_doc, 40)"
   ]
  },
  {
   "cell_type": "code",
   "execution_count": 65,
   "metadata": {},
   "outputs": [
    {
     "name": "stdout",
     "output_type": "stream",
     "text": [
      "Source path =  Project_data/val ; batch size = 40\n",
      "Source path =  Project_data/train ; batch size = 40\n",
      "Epoch 1/20\n"
     ]
    },
    {
     "name": "stderr",
     "output_type": "stream",
     "text": [
      "/mnt/disks/user/anaconda3/lib/python3.6/site-packages/ipykernel_launcher.py:19: DeprecationWarning: `imread` is deprecated!\n",
      "`imread` is deprecated in SciPy 1.0.0, and will be removed in 1.2.0.\n",
      "Use ``imageio.imread`` instead.\n",
      "/mnt/disks/user/anaconda3/lib/python3.6/site-packages/ipykernel_launcher.py:24: DeprecationWarning: `imresize` is deprecated!\n",
      "`imresize` is deprecated in SciPy 1.0.0, and will be removed in 1.2.0.\n",
      "Use ``skimage.transform.resize`` instead.\n"
     ]
    },
    {
     "name": "stdout",
     "output_type": "stream",
     "text": [
      " 2/67 [..............................] - ETA: 5:33 - loss: 0.0123 - categorical_accuracy: 1.0000Batch:  3 Index: 40\n"
     ]
    },
    {
     "name": "stderr",
     "output_type": "stream",
     "text": [
      "/mnt/disks/user/anaconda3/lib/python3.6/site-packages/ipykernel_launcher.py:44: DeprecationWarning: `imread` is deprecated!\n",
      "`imread` is deprecated in SciPy 1.0.0, and will be removed in 1.2.0.\n",
      "Use ``imageio.imread`` instead.\n",
      "/mnt/disks/user/anaconda3/lib/python3.6/site-packages/ipykernel_launcher.py:48: DeprecationWarning: `imresize` is deprecated!\n",
      "`imresize` is deprecated in SciPy 1.0.0, and will be removed in 1.2.0.\n",
      "Use ``skimage.transform.resize`` instead.\n"
     ]
    },
    {
     "name": "stdout",
     "output_type": "stream",
     "text": [
      "15/67 [=====>........................] - ETA: 3:57 - loss: 0.2104 - categorical_accuracy: 0.9433Batch:  17 Index: 40\n",
      "44/67 [==================>...........] - ETA: 1:12 - loss: 0.3253 - categorical_accuracy: 0.9204Batch:  29 Index: 23\n",
      "67/67 [==============================] - 185s 3s/step - loss: 0.2391 - categorical_accuracy: 0.9383 - val_loss: 1.5867 - val_categorical_accuracy: 0.6458\n",
      "\n",
      "Epoch 00001: saving model to model_init_2020-05-1918_24_07.458406/model-00001-0.24091-0.93797-1.58674-0.64583.h5\n",
      "Epoch 2/20\n",
      "12/67 [====>.........................] - ETA: 2:03 - loss: 0.1163 - categorical_accuracy: 0.9605Batch:  35 Index: 19\n",
      "67/67 [==============================] - 125s 2s/step - loss: 0.0764 - categorical_accuracy: 0.9745 - val_loss: 1.8377 - val_categorical_accuracy: 0.6350\n",
      "\n",
      "Epoch 00002: saving model to model_init_2020-05-1918_24_07.458406/model-00002-0.07713-0.97425-1.83772-0.63500.h5\n",
      "Epoch 3/20\n",
      "67/67 [==============================] - 124s 2s/step - loss: 0.0354 - categorical_accuracy: 0.9851 - val_loss: 2.2681 - val_categorical_accuracy: 0.6700\n",
      "\n",
      "Epoch 00003: saving model to model_init_2020-05-1918_24_07.458406/model-00003-0.03543-0.98507-2.26814-0.67000.h5\n",
      "\n",
      "Epoch 00003: ReduceLROnPlateau reducing learning rate to 0.5.\n",
      "Epoch 4/20\n",
      "67/67 [==============================] - 122s 2s/step - loss: 0.0153 - categorical_accuracy: 0.9947 - val_loss: 2.0368 - val_categorical_accuracy: 0.7350\n",
      "\n",
      "Epoch 00004: saving model to model_init_2020-05-1918_24_07.458406/model-00004-0.01525-0.99473-2.03678-0.73500.h5\n",
      "Epoch 5/20\n",
      "67/67 [==============================] - 124s 2s/step - loss: 0.0151 - categorical_accuracy: 0.9956 - val_loss: 2.0385 - val_categorical_accuracy: 0.7400\n",
      "\n",
      "Epoch 00005: saving model to model_init_2020-05-1918_24_07.458406/model-00005-0.01505-0.99561-2.03848-0.74000.h5\n",
      "\n",
      "Epoch 00005: ReduceLROnPlateau reducing learning rate to 0.25.\n",
      "Epoch 6/20\n",
      "67/67 [==============================] - 121s 2s/step - loss: 0.0079 - categorical_accuracy: 0.9974 - val_loss: 2.0554 - val_categorical_accuracy: 0.7000\n",
      "\n",
      "Epoch 00006: saving model to model_init_2020-05-1918_24_07.458406/model-00006-0.00787-0.99737-2.05538-0.70000.h5\n",
      "Epoch 7/20\n",
      "67/67 [==============================] - 122s 2s/step - loss: 0.0041 - categorical_accuracy: 0.9991 - val_loss: 2.0407 - val_categorical_accuracy: 0.7000\n",
      "\n",
      "Epoch 00007: saving model to model_init_2020-05-1918_24_07.458406/model-00007-0.00413-0.99912-2.04070-0.70000.h5\n",
      "\n",
      "Epoch 00007: ReduceLROnPlateau reducing learning rate to 0.125.\n",
      "Epoch 8/20\n",
      "67/67 [==============================] - 119s 2s/step - loss: 0.0042 - categorical_accuracy: 0.9982 - val_loss: 1.9180 - val_categorical_accuracy: 0.6550\n",
      "\n",
      "Epoch 00008: saving model to model_init_2020-05-1918_24_07.458406/model-00008-0.00420-0.99824-1.91804-0.65500.h5\n",
      "Epoch 9/20\n",
      "67/67 [==============================] - 123s 2s/step - loss: 0.0011 - categorical_accuracy: 1.0000 - val_loss: 2.1720 - val_categorical_accuracy: 0.6900\n",
      "\n",
      "Epoch 00009: saving model to model_init_2020-05-1918_24_07.458406/model-00009-0.00109-1.00000-2.17201-0.69000.h5\n",
      "\n",
      "Epoch 00009: ReduceLROnPlateau reducing learning rate to 0.0625.\n",
      "Epoch 10/20\n",
      "67/67 [==============================] - 122s 2s/step - loss: 0.0030 - categorical_accuracy: 0.9982 - val_loss: 1.8475 - val_categorical_accuracy: 0.7250\n",
      "\n",
      "Epoch 00010: saving model to model_init_2020-05-1918_24_07.458406/model-00010-0.00298-0.99824-1.84748-0.72500.h5\n",
      "Epoch 11/20\n",
      "67/67 [==============================] - 120s 2s/step - loss: 5.4085e-04 - categorical_accuracy: 1.0000 - val_loss: 2.1246 - val_categorical_accuracy: 0.6950\n",
      "\n",
      "Epoch 00011: saving model to model_init_2020-05-1918_24_07.458406/model-00011-0.00054-1.00000-2.12464-0.69500.h5\n",
      "\n",
      "Epoch 00011: ReduceLROnPlateau reducing learning rate to 0.03125.\n",
      "Epoch 12/20\n",
      "67/67 [==============================] - 121s 2s/step - loss: 6.1491e-04 - categorical_accuracy: 1.0000 - val_loss: 2.0646 - val_categorical_accuracy: 0.7050\n",
      "\n",
      "Epoch 00012: saving model to model_init_2020-05-1918_24_07.458406/model-00012-0.00061-1.00000-2.06462-0.70500.h5\n",
      "Epoch 13/20\n",
      "67/67 [==============================] - 122s 2s/step - loss: 0.0010 - categorical_accuracy: 1.0000 - val_loss: 2.0852 - val_categorical_accuracy: 0.7050\n",
      "\n",
      "Epoch 00013: saving model to model_init_2020-05-1918_24_07.458406/model-00013-0.00105-1.00000-2.08521-0.70500.h5\n",
      "\n",
      "Epoch 00013: ReduceLROnPlateau reducing learning rate to 0.015625.\n",
      "Epoch 14/20\n",
      "67/67 [==============================] - 123s 2s/step - loss: 0.0046 - categorical_accuracy: 0.9982 - val_loss: 2.1110 - val_categorical_accuracy: 0.7000\n",
      "\n",
      "Epoch 00014: saving model to model_init_2020-05-1918_24_07.458406/model-00014-0.00456-0.99824-2.11096-0.70000.h5\n",
      "Epoch 15/20\n",
      "67/67 [==============================] - 121s 2s/step - loss: 0.0019 - categorical_accuracy: 0.9991 - val_loss: 2.0142 - val_categorical_accuracy: 0.7050\n",
      "\n",
      "Epoch 00015: saving model to model_init_2020-05-1918_24_07.458406/model-00015-0.00195-0.99912-2.01424-0.70500.h5\n",
      "\n",
      "Epoch 00015: ReduceLROnPlateau reducing learning rate to 0.0078125.\n",
      "Epoch 16/20\n",
      "67/67 [==============================] - 122s 2s/step - loss: 0.0012 - categorical_accuracy: 1.0000 - val_loss: 2.0638 - val_categorical_accuracy: 0.7100\n",
      "\n",
      "Epoch 00016: saving model to model_init_2020-05-1918_24_07.458406/model-00016-0.00122-1.00000-2.06380-0.71000.h5\n",
      "Epoch 17/20\n",
      "67/67 [==============================] - 120s 2s/step - loss: 0.0012 - categorical_accuracy: 1.0000 - val_loss: 2.3268 - val_categorical_accuracy: 0.6650\n",
      "\n",
      "Epoch 00017: saving model to model_init_2020-05-1918_24_07.458406/model-00017-0.00118-1.00000-2.32684-0.66500.h5\n",
      "\n",
      "Epoch 00017: ReduceLROnPlateau reducing learning rate to 0.00390625.\n",
      "Epoch 18/20\n",
      "67/67 [==============================] - 124s 2s/step - loss: 0.0054 - categorical_accuracy: 0.9982 - val_loss: 1.9617 - val_categorical_accuracy: 0.7250\n",
      "\n",
      "Epoch 00018: saving model to model_init_2020-05-1918_24_07.458406/model-00018-0.00536-0.99824-1.96174-0.72500.h5\n",
      "Epoch 19/20\n",
      "67/67 [==============================] - 123s 2s/step - loss: 0.0029 - categorical_accuracy: 0.9982 - val_loss: 2.0783 - val_categorical_accuracy: 0.7150\n",
      "\n",
      "Epoch 00019: saving model to model_init_2020-05-1918_24_07.458406/model-00019-0.00294-0.99824-2.07834-0.71500.h5\n",
      "\n",
      "Epoch 00019: ReduceLROnPlateau reducing learning rate to 0.001953125.\n",
      "Epoch 20/20\n",
      "67/67 [==============================] - 122s 2s/step - loss: 6.2012e-04 - categorical_accuracy: 1.0000 - val_loss: 2.1155 - val_categorical_accuracy: 0.6700\n",
      "\n",
      "Epoch 00020: saving model to model_init_2020-05-1918_24_07.458406/model-00020-0.00062-1.00000-2.11551-0.67000.h5\n"
     ]
    },
    {
     "data": {
      "text/plain": [
       "<keras.callbacks.History at 0x7fc187806eb8>"
      ]
     },
     "execution_count": 65,
     "metadata": {},
     "output_type": "execute_result"
    }
   ],
   "source": [
    "model_2.fit_generator(train_generator, steps_per_epoch=steps_per_epoch, epochs=num_epochs, verbose=1, \n",
    "                    callbacks=callbacks_list, validation_data=val_generator, \n",
    "                    validation_steps=validation_steps, class_weight=None, workers=1, initial_epoch=0)"
   ]
  },
  {
   "cell_type": "markdown",
   "metadata": {},
   "source": [
    "`categorical_accuracy: 1.0000` - val_loss: 2.1155 - `val_categorical_accuracy: 0.6700`"
   ]
  },
  {
   "cell_type": "markdown",
   "metadata": {},
   "source": [
    "# Model 3"
   ]
  },
  {
   "cell_type": "code",
   "execution_count": 32,
   "metadata": {},
   "outputs": [
    {
     "name": "stdout",
     "output_type": "stream",
     "text": [
      "_________________________________________________________________\n",
      "Layer (type)                 Output Shape              Param #   \n",
      "=================================================================\n",
      "conv3d_13 (Conv3D)           (None, 30, 60, 60, 32)    2624      \n",
      "_________________________________________________________________\n",
      "activation_13 (Activation)   (None, 30, 60, 60, 32)    0         \n",
      "_________________________________________________________________\n",
      "conv3d_14 (Conv3D)           (None, 30, 60, 60, 32)    27680     \n",
      "_________________________________________________________________\n",
      "activation_14 (Activation)   (None, 30, 60, 60, 32)    0         \n",
      "_________________________________________________________________\n",
      "max_pooling3d_9 (MaxPooling3 (None, 10, 20, 20, 32)    0         \n",
      "_________________________________________________________________\n",
      "dropout_9 (Dropout)          (None, 10, 20, 20, 32)    0         \n",
      "_________________________________________________________________\n",
      "conv3d_15 (Conv3D)           (None, 10, 20, 20, 64)    55360     \n",
      "_________________________________________________________________\n",
      "activation_15 (Activation)   (None, 10, 20, 20, 64)    0         \n",
      "_________________________________________________________________\n",
      "conv3d_16 (Conv3D)           (None, 10, 20, 20, 64)    110656    \n",
      "_________________________________________________________________\n",
      "activation_16 (Activation)   (None, 10, 20, 20, 64)    0         \n",
      "_________________________________________________________________\n",
      "max_pooling3d_10 (MaxPooling (None, 4, 7, 7, 64)       0         \n",
      "_________________________________________________________________\n",
      "dropout_10 (Dropout)         (None, 4, 7, 7, 64)       0         \n",
      "_________________________________________________________________\n",
      "conv3d_17 (Conv3D)           (None, 4, 7, 7, 64)       110656    \n",
      "_________________________________________________________________\n",
      "activation_17 (Activation)   (None, 4, 7, 7, 64)       0         \n",
      "_________________________________________________________________\n",
      "conv3d_18 (Conv3D)           (None, 4, 7, 7, 64)       110656    \n",
      "_________________________________________________________________\n",
      "activation_18 (Activation)   (None, 4, 7, 7, 64)       0         \n",
      "_________________________________________________________________\n",
      "max_pooling3d_11 (MaxPooling (None, 2, 3, 3, 64)       0         \n",
      "_________________________________________________________________\n",
      "dropout_11 (Dropout)         (None, 2, 3, 3, 64)       0         \n",
      "_________________________________________________________________\n",
      "flatten_4 (Flatten)          (None, 1152)              0         \n",
      "_________________________________________________________________\n",
      "dense_8 (Dense)              (None, 512)               590336    \n",
      "_________________________________________________________________\n",
      "batch_normalization_5 (Batch (None, 512)               2048      \n",
      "_________________________________________________________________\n",
      "dropout_12 (Dropout)         (None, 512)               0         \n",
      "_________________________________________________________________\n",
      "dense_9 (Dense)              (None, 5)                 2565      \n",
      "=================================================================\n",
      "Total params: 1,012,581\n",
      "Trainable params: 1,011,557\n",
      "Non-trainable params: 1,024\n",
      "_________________________________________________________________\n"
     ]
    }
   ],
   "source": [
    "model_3 = Sequential()\n",
    "model_3.add(Conv3D(32, kernel_size=(3, 3, 3), input_shape=(x,y,z,channel), padding=\"same\"))\n",
    "model_3.add(Activation('relu'))\n",
    "model_3.add(Conv3D(32, padding=\"same\", kernel_size=(3, 3, 3)))\n",
    "model_3.add(Activation('relu'))\n",
    "model_3.add(MaxPooling3D(pool_size=(3, 3, 3), padding=\"same\"))\n",
    "model_3.add(Dropout(0.25))\n",
    "\n",
    "model_3.add(Conv3D(64, padding=\"same\", kernel_size=(3, 3, 3)))\n",
    "model_3.add(Activation('relu'))\n",
    "model_3.add(Conv3D(64, padding=\"same\", kernel_size=(3, 3, 3)))\n",
    "model_3.add(Activation('relu'))\n",
    "model_3.add(MaxPooling3D(pool_size=(3, 3, 3), padding=\"same\"))\n",
    "model_3.add(Dropout(0.25))\n",
    "\n",
    "model_3.add(Conv3D(64, padding=\"same\", kernel_size=(3, 3, 3)))\n",
    "model_3.add(Activation('relu'))\n",
    "model_3.add(Conv3D(64, padding=\"same\", kernel_size=(3, 3, 3)))\n",
    "model_3.add(Activation('relu'))\n",
    "model_3.add(MaxPooling3D(pool_size=(3, 3, 3), padding=\"same\"))\n",
    "model_3.add(Dropout(0.25))\n",
    "\n",
    "model_3.add(Flatten())\n",
    "model_3.add(Dense(512, activation='relu'))\n",
    "model_3.add(BatchNormalization())\n",
    "model_3.add(Dropout(0.5))\n",
    "model_3.add(Dense(classes, activation='softmax'))\n",
    "model_3.compile(optimizer=keras.optimizers.Adadelta(), loss='categorical_crossentropy', metrics=['categorical_accuracy'])\n",
    "model_3.summary()"
   ]
  },
  {
   "cell_type": "code",
   "execution_count": 33,
   "metadata": {},
   "outputs": [],
   "source": [
    "# Changing back batch size, images per frame, height and width of image\n",
    "batch_size = 10\n",
    "x = 30 # number of frames\n",
    "y = 120 # image width\n",
    "z = 120# image height\n",
    "num_epochs = 20"
   ]
  },
  {
   "cell_type": "code",
   "execution_count": 34,
   "metadata": {},
   "outputs": [],
   "source": [
    "train_generator = generator_ex(train_path, train_doc, batch_size)\n",
    "val_generator = generator_ex(val_path, val_doc, batch_size)"
   ]
  },
  {
   "cell_type": "code",
   "execution_count": 73,
   "metadata": {},
   "outputs": [
    {
     "name": "stdout",
     "output_type": "stream",
     "text": [
      "Source path =  Project_data/valSource path =  Project_data/train ; batch size = 10\n",
      " ; batch size = 10\n",
      "Epoch 1/20\n"
     ]
    },
    {
     "name": "stderr",
     "output_type": "stream",
     "text": [
      "/mnt/disks/user/anaconda3/lib/python3.6/site-packages/ipykernel_launcher.py:19: DeprecationWarning: `imread` is deprecated!\n",
      "`imread` is deprecated in SciPy 1.0.0, and will be removed in 1.2.0.\n",
      "Use ``imageio.imread`` instead.\n",
      "/mnt/disks/user/anaconda3/lib/python3.6/site-packages/ipykernel_launcher.py:24: DeprecationWarning: `imresize` is deprecated!\n",
      "`imresize` is deprecated in SciPy 1.0.0, and will be removed in 1.2.0.\n",
      "Use ``skimage.transform.resize`` instead.\n"
     ]
    },
    {
     "name": "stdout",
     "output_type": "stream",
     "text": [
      "56/67 [========================>.....] - ETA: 20s - loss: 2.1001 - categorical_accuracy: 0.2911Batch:  67 Index: 10\n"
     ]
    },
    {
     "name": "stderr",
     "output_type": "stream",
     "text": [
      "/mnt/disks/user/anaconda3/lib/python3.6/site-packages/ipykernel_launcher.py:44: DeprecationWarning: `imread` is deprecated!\n",
      "`imread` is deprecated in SciPy 1.0.0, and will be removed in 1.2.0.\n",
      "Use ``imageio.imread`` instead.\n",
      "/mnt/disks/user/anaconda3/lib/python3.6/site-packages/ipykernel_launcher.py:48: DeprecationWarning: `imresize` is deprecated!\n",
      "`imresize` is deprecated in SciPy 1.0.0, and will be removed in 1.2.0.\n",
      "Use ``skimage.transform.resize`` instead.\n"
     ]
    },
    {
     "name": "stdout",
     "output_type": "stream",
     "text": [
      "67/67 [==============================] - 132s 2s/step - loss: 2.0520 - categorical_accuracy: 0.3054 - val_loss: 4.4507 - val_categorical_accuracy: 0.2500\n",
      "\n",
      "Epoch 00001: saving model to model_init_2020-05-1918_24_07.458406/model-00001-2.06337-0.30166-4.45073-0.25000.h5\n",
      "Epoch 2/20\n",
      "67/67 [==============================] - 46s 684ms/step - loss: 2.1555 - categorical_accuracy: 0.2886 - val_loss: 1.7901 - val_categorical_accuracy: 0.2700\n",
      "\n",
      "Epoch 00002: saving model to model_init_2020-05-1918_24_07.458406/model-00002-2.15550-0.28856-1.79009-0.27000.h5\n",
      "Epoch 3/20\n",
      "67/67 [==============================] - 46s 681ms/step - loss: 1.8553 - categorical_accuracy: 0.2985 - val_loss: 2.0619 - val_categorical_accuracy: 0.3000\n",
      "\n",
      "Epoch 00003: saving model to model_init_2020-05-1918_24_07.458406/model-00003-1.85534-0.29851-2.06195-0.30000.h5\n",
      "Epoch 4/20\n",
      "67/67 [==============================] - 46s 682ms/step - loss: 1.8289 - categorical_accuracy: 0.2985 - val_loss: 1.4122 - val_categorical_accuracy: 0.3700\n",
      "\n",
      "Epoch 00004: saving model to model_init_2020-05-1918_24_07.458406/model-00004-1.82886-0.29851-1.41223-0.37000.h5\n",
      "Epoch 5/20\n",
      "67/67 [==============================] - 46s 684ms/step - loss: 1.5833 - categorical_accuracy: 0.3532 - val_loss: 1.7141 - val_categorical_accuracy: 0.2800\n",
      "\n",
      "Epoch 00005: saving model to model_init_2020-05-1918_24_07.458406/model-00005-1.58325-0.35323-1.71406-0.28000.h5\n",
      "Epoch 6/20\n",
      "67/67 [==============================] - 46s 686ms/step - loss: 1.6829 - categorical_accuracy: 0.2836 - val_loss: 1.5974 - val_categorical_accuracy: 0.4100\n",
      "\n",
      "Epoch 00006: saving model to model_init_2020-05-1918_24_07.458406/model-00006-1.68294-0.28358-1.59739-0.41000.h5\n",
      "\n",
      "Epoch 00006: ReduceLROnPlateau reducing learning rate to 0.5.\n",
      "Epoch 7/20\n",
      "67/67 [==============================] - 47s 694ms/step - loss: 1.6634 - categorical_accuracy: 0.3234 - val_loss: 1.2849 - val_categorical_accuracy: 0.4200\n",
      "\n",
      "Epoch 00007: saving model to model_init_2020-05-1918_24_07.458406/model-00007-1.66340-0.32338-1.28494-0.42000.h5\n",
      "Epoch 8/20\n",
      "67/67 [==============================] - 47s 695ms/step - loss: 1.6104 - categorical_accuracy: 0.3085 - val_loss: 1.2522 - val_categorical_accuracy: 0.4100\n",
      "\n",
      "Epoch 00008: saving model to model_init_2020-05-1918_24_07.458406/model-00008-1.61044-0.30846-1.25223-0.41000.h5\n",
      "Epoch 9/20\n",
      "67/67 [==============================] - 47s 695ms/step - loss: 1.6840 - categorical_accuracy: 0.2786 - val_loss: 1.3130 - val_categorical_accuracy: 0.3800\n",
      "\n",
      "Epoch 00009: saving model to model_init_2020-05-1918_24_07.458406/model-00009-1.68399-0.27861-1.31297-0.38000.h5\n",
      "Epoch 10/20\n",
      "67/67 [==============================] - 47s 694ms/step - loss: 1.4765 - categorical_accuracy: 0.3682 - val_loss: 1.2235 - val_categorical_accuracy: 0.4700\n",
      "\n",
      "Epoch 00010: saving model to model_init_2020-05-1918_24_07.458406/model-00010-1.47647-0.36816-1.22350-0.47000.h5\n",
      "Epoch 11/20\n",
      "67/67 [==============================] - 47s 694ms/step - loss: 1.5893 - categorical_accuracy: 0.3433 - val_loss: 1.2242 - val_categorical_accuracy: 0.4200\n",
      "\n",
      "Epoch 00011: saving model to model_init_2020-05-1918_24_07.458406/model-00011-1.58926-0.34328-1.22422-0.42000.h5\n",
      "Epoch 12/20\n",
      "67/67 [==============================] - 46s 694ms/step - loss: 1.4981 - categorical_accuracy: 0.3881 - val_loss: 1.3402 - val_categorical_accuracy: 0.3900\n",
      "\n",
      "Epoch 00012: saving model to model_init_2020-05-1918_24_07.458406/model-00012-1.49808-0.38806-1.34018-0.39000.h5\n",
      "\n",
      "Epoch 00012: ReduceLROnPlateau reducing learning rate to 0.25.\n",
      "Epoch 13/20\n",
      "67/67 [==============================] - 46s 694ms/step - loss: 1.4748 - categorical_accuracy: 0.3632 - val_loss: 1.1516 - val_categorical_accuracy: 0.4900\n",
      "\n",
      "Epoch 00013: saving model to model_init_2020-05-1918_24_07.458406/model-00013-1.47478-0.36318-1.15159-0.49000.h5\n",
      "Epoch 14/20\n",
      "67/67 [==============================] - 46s 694ms/step - loss: 1.4797 - categorical_accuracy: 0.3532 - val_loss: 1.1223 - val_categorical_accuracy: 0.5200\n",
      "\n",
      "Epoch 00014: saving model to model_init_2020-05-1918_24_07.458406/model-00014-1.47974-0.35323-1.12230-0.52000.h5\n",
      "Epoch 15/20\n",
      "67/67 [==============================] - 46s 693ms/step - loss: 1.5836 - categorical_accuracy: 0.3731 - val_loss: 1.1896 - val_categorical_accuracy: 0.4700\n",
      "\n",
      "Epoch 00015: saving model to model_init_2020-05-1918_24_07.458406/model-00015-1.58364-0.37313-1.18960-0.47000.h5\n",
      "Epoch 16/20\n",
      "67/67 [==============================] - 46s 693ms/step - loss: 1.5023 - categorical_accuracy: 0.4080 - val_loss: 1.1883 - val_categorical_accuracy: 0.4300\n",
      "\n",
      "Epoch 00016: saving model to model_init_2020-05-1918_24_07.458406/model-00016-1.50228-0.40796-1.18826-0.43000.h5\n",
      "\n",
      "Epoch 00016: ReduceLROnPlateau reducing learning rate to 0.125.\n",
      "Epoch 17/20\n",
      "67/67 [==============================] - 46s 693ms/step - loss: 1.4091 - categorical_accuracy: 0.3831 - val_loss: 1.1569 - val_categorical_accuracy: 0.5000\n",
      "\n",
      "Epoch 00017: saving model to model_init_2020-05-1918_24_07.458406/model-00017-1.40906-0.38308-1.15694-0.50000.h5\n",
      "Epoch 18/20\n",
      "67/67 [==============================] - 46s 693ms/step - loss: 1.5717 - categorical_accuracy: 0.3532 - val_loss: 1.1519 - val_categorical_accuracy: 0.5500\n",
      "\n",
      "Epoch 00018: saving model to model_init_2020-05-1918_24_07.458406/model-00018-1.57165-0.35323-1.15185-0.55000.h5\n",
      "\n",
      "Epoch 00018: ReduceLROnPlateau reducing learning rate to 0.0625.\n",
      "Epoch 19/20\n",
      "67/67 [==============================] - 46s 693ms/step - loss: 1.4513 - categorical_accuracy: 0.3433 - val_loss: 1.1643 - val_categorical_accuracy: 0.5000\n",
      "\n",
      "Epoch 00019: saving model to model_init_2020-05-1918_24_07.458406/model-00019-1.45134-0.34328-1.16430-0.50000.h5\n",
      "Epoch 20/20\n",
      "67/67 [==============================] - 46s 693ms/step - loss: 1.3682 - categorical_accuracy: 0.4279 - val_loss: 1.1494 - val_categorical_accuracy: 0.5300\n",
      "\n",
      "Epoch 00020: saving model to model_init_2020-05-1918_24_07.458406/model-00020-1.36819-0.42786-1.14937-0.53000.h5\n",
      "\n",
      "Epoch 00020: ReduceLROnPlateau reducing learning rate to 0.03125.\n"
     ]
    },
    {
     "data": {
      "text/plain": [
       "<keras.callbacks.History at 0x7fc185ef2550>"
      ]
     },
     "execution_count": 73,
     "metadata": {},
     "output_type": "execute_result"
    }
   ],
   "source": [
    "model_3.fit_generator(train_generator, steps_per_epoch=steps_per_epoch, epochs=num_epochs, verbose=1, \n",
    "                    callbacks=callbacks_list, validation_data=val_generator, \n",
    "                    validation_steps=validation_steps, class_weight=None, workers=1, initial_epoch=0)"
   ]
  },
  {
   "cell_type": "markdown",
   "metadata": {},
   "source": [
    "# Model 4"
   ]
  },
  {
   "cell_type": "code",
   "execution_count": 35,
   "metadata": {},
   "outputs": [
    {
     "name": "stdout",
     "output_type": "stream",
     "text": [
      "_________________________________________________________________\n",
      "Layer (type)                 Output Shape              Param #   \n",
      "=================================================================\n",
      "conv3d_19 (Conv3D)           (None, 30, 120, 120, 8)   656       \n",
      "_________________________________________________________________\n",
      "batch_normalization_6 (Batch (None, 30, 120, 120, 8)   32        \n",
      "_________________________________________________________________\n",
      "activation_19 (Activation)   (None, 30, 120, 120, 8)   0         \n",
      "_________________________________________________________________\n",
      "max_pooling3d_12 (MaxPooling (None, 15, 60, 60, 8)     0         \n",
      "_________________________________________________________________\n",
      "conv3d_20 (Conv3D)           (None, 15, 60, 60, 16)    3472      \n",
      "_________________________________________________________________\n",
      "batch_normalization_7 (Batch (None, 15, 60, 60, 16)    64        \n",
      "_________________________________________________________________\n",
      "activation_20 (Activation)   (None, 15, 60, 60, 16)    0         \n",
      "_________________________________________________________________\n",
      "max_pooling3d_13 (MaxPooling (None, 7, 30, 30, 16)     0         \n",
      "_________________________________________________________________\n",
      "conv3d_21 (Conv3D)           (None, 7, 30, 30, 32)     4640      \n",
      "_________________________________________________________________\n",
      "batch_normalization_8 (Batch (None, 7, 30, 30, 32)     128       \n",
      "_________________________________________________________________\n",
      "activation_21 (Activation)   (None, 7, 30, 30, 32)     0         \n",
      "_________________________________________________________________\n",
      "max_pooling3d_14 (MaxPooling (None, 3, 15, 15, 32)     0         \n",
      "_________________________________________________________________\n",
      "conv3d_22 (Conv3D)           (None, 3, 15, 15, 64)     18496     \n",
      "_________________________________________________________________\n",
      "batch_normalization_9 (Batch (None, 3, 15, 15, 64)     256       \n",
      "_________________________________________________________________\n",
      "activation_22 (Activation)   (None, 3, 15, 15, 64)     0         \n",
      "_________________________________________________________________\n",
      "max_pooling3d_15 (MaxPooling (None, 1, 7, 7, 64)       0         \n",
      "_________________________________________________________________\n",
      "flatten_5 (Flatten)          (None, 3136)              0         \n",
      "_________________________________________________________________\n",
      "dense_10 (Dense)             (None, 1000)              3137000   \n",
      "_________________________________________________________________\n",
      "dropout_13 (Dropout)         (None, 1000)              0         \n",
      "_________________________________________________________________\n",
      "dense_11 (Dense)             (None, 500)               500500    \n",
      "_________________________________________________________________\n",
      "dropout_14 (Dropout)         (None, 500)               0         \n",
      "_________________________________________________________________\n",
      "dense_12 (Dense)             (None, 5)                 2505      \n",
      "=================================================================\n",
      "Total params: 3,667,749\n",
      "Trainable params: 3,667,509\n",
      "Non-trainable params: 240\n",
      "_________________________________________________________________\n"
     ]
    }
   ],
   "source": [
    "input_shape=(x,y,z,channel)\n",
    "\n",
    "nb_filters = [8,16,32,64]\n",
    "nb_dense = [1000, 500, 5]\n",
    "# Define model\n",
    "model_4 = Sequential()\n",
    "\n",
    "model_4.add(Conv3D(nb_filters[0], \n",
    "                 kernel_size=(3,3,3), \n",
    "                 input_shape=input_shape,\n",
    "                 padding='same'))\n",
    "model_4.add(BatchNormalization())\n",
    "model_4.add(Activation('relu'))\n",
    "\n",
    "model_4.add(MaxPooling3D(pool_size=(2,2,2)))\n",
    "\n",
    "model_4.add(Conv3D(nb_filters[1], \n",
    "                 kernel_size=(3,3,3), \n",
    "                 padding='same'))\n",
    "model_4.add(BatchNormalization())\n",
    "model_4.add(Activation('relu'))\n",
    "\n",
    "model_4.add(MaxPooling3D(pool_size=(2,2,2)))\n",
    "\n",
    "model_4.add(Conv3D(nb_filters[2], \n",
    "                 kernel_size=(1,3,3), \n",
    "                 padding='same'))\n",
    "model_4.add(BatchNormalization())\n",
    "model_4.add(Activation('relu'))\n",
    "\n",
    "model_4.add(MaxPooling3D(pool_size=(2,2,2)))\n",
    "\n",
    "model_4.add(Conv3D(nb_filters[3], \n",
    "                 kernel_size=(1,3,3), \n",
    "                 padding='same'))\n",
    "model_4.add(BatchNormalization())\n",
    "model_4.add(Activation('relu'))\n",
    "\n",
    "model_4.add(MaxPooling3D(pool_size=(2,2,2)))\n",
    "\n",
    "#Flatten Layers\n",
    "model_4.add(Flatten())\n",
    "\n",
    "model_4.add(Dense(nb_dense[0], activation='relu'))\n",
    "model_4.add(Dropout(0.5))\n",
    "\n",
    "model_4.add(Dense(nb_dense[1], activation='relu'))\n",
    "model_4.add(Dropout(0.5))\n",
    "\n",
    "#softmax layer\n",
    "model_4.add(Dense(nb_dense[2], activation='softmax'))\n",
    "model_4.compile(optimizer=keras.optimizers.Adadelta(), loss='categorical_crossentropy', metrics=['categorical_accuracy'])\n",
    "model_4.summary()"
   ]
  },
  {
   "cell_type": "code",
   "execution_count": 36,
   "metadata": {},
   "outputs": [],
   "source": [
    "train_generator = generator_ex(train_path, train_doc, batch_size)\n",
    "val_generator = generator_ex(val_path, val_doc, batch_size)\n",
    "num_epochs = 10"
   ]
  },
  {
   "cell_type": "code",
   "execution_count": 76,
   "metadata": {},
   "outputs": [
    {
     "name": "stdout",
     "output_type": "stream",
     "text": [
      "Source path = Source path =  Project_data/train ; batch size = 10\n",
      " Project_data/val ; batch size = 10\n",
      "Epoch 1/10\n"
     ]
    },
    {
     "name": "stderr",
     "output_type": "stream",
     "text": [
      "/mnt/disks/user/anaconda3/lib/python3.6/site-packages/ipykernel_launcher.py:19: DeprecationWarning: `imread` is deprecated!\n",
      "`imread` is deprecated in SciPy 1.0.0, and will be removed in 1.2.0.\n",
      "Use ``imageio.imread`` instead.\n",
      "/mnt/disks/user/anaconda3/lib/python3.6/site-packages/ipykernel_launcher.py:24: DeprecationWarning: `imresize` is deprecated!\n",
      "`imresize` is deprecated in SciPy 1.0.0, and will be removed in 1.2.0.\n",
      "Use ``skimage.transform.resize`` instead.\n"
     ]
    },
    {
     "name": "stdout",
     "output_type": "stream",
     "text": [
      "65/67 [============================>.] - ETA: 2s - loss: 5.0197 - categorical_accuracy: 0.2554Batch:  67 Index: 10\n"
     ]
    },
    {
     "name": "stderr",
     "output_type": "stream",
     "text": [
      "/mnt/disks/user/anaconda3/lib/python3.6/site-packages/ipykernel_launcher.py:44: DeprecationWarning: `imread` is deprecated!\n",
      "`imread` is deprecated in SciPy 1.0.0, and will be removed in 1.2.0.\n",
      "Use ``imageio.imread`` instead.\n",
      "/mnt/disks/user/anaconda3/lib/python3.6/site-packages/ipykernel_launcher.py:48: DeprecationWarning: `imresize` is deprecated!\n",
      "`imresize` is deprecated in SciPy 1.0.0, and will be removed in 1.2.0.\n",
      "Use ``skimage.transform.resize`` instead.\n"
     ]
    },
    {
     "name": "stdout",
     "output_type": "stream",
     "text": [
      "67/67 [==============================] - 86s 1s/step - loss: 4.9494 - categorical_accuracy: 0.2538 - val_loss: 1.9697 - val_categorical_accuracy: 0.3100\n",
      "\n",
      "Epoch 00001: saving model to model_init_2020-05-1918_24_07.458406/model-00001-4.96481-0.25641-1.96972-0.31000.h5\n",
      "Epoch 2/10\n",
      "67/67 [==============================] - 26s 385ms/step - loss: 2.1030 - categorical_accuracy: 0.2836 - val_loss: 1.6287 - val_categorical_accuracy: 0.3800\n",
      "\n",
      "Epoch 00002: saving model to model_init_2020-05-1918_24_07.458406/model-00002-2.10297-0.28358-1.62865-0.38000.h5\n",
      "Epoch 3/10\n",
      "67/67 [==============================] - 26s 394ms/step - loss: 1.7746 - categorical_accuracy: 0.3085 - val_loss: 1.5113 - val_categorical_accuracy: 0.3300\n",
      "\n",
      "Epoch 00003: saving model to model_init_2020-05-1918_24_07.458406/model-00003-1.77455-0.30846-1.51126-0.33000.h5\n",
      "Epoch 4/10\n",
      "67/67 [==============================] - 27s 406ms/step - loss: 1.6286 - categorical_accuracy: 0.3433 - val_loss: 1.1996 - val_categorical_accuracy: 0.4300\n",
      "\n",
      "Epoch 00004: saving model to model_init_2020-05-1918_24_07.458406/model-00004-1.62861-0.34328-1.19956-0.43000.h5\n",
      "Epoch 5/10\n",
      "67/67 [==============================] - 27s 402ms/step - loss: 1.5497 - categorical_accuracy: 0.3483 - val_loss: 1.4912 - val_categorical_accuracy: 0.3500\n",
      "\n",
      "Epoch 00005: saving model to model_init_2020-05-1918_24_07.458406/model-00005-1.54972-0.34826-1.49124-0.35000.h5\n",
      "Epoch 6/10\n",
      "67/67 [==============================] - 26s 395ms/step - loss: 1.5759 - categorical_accuracy: 0.3582 - val_loss: 1.6706 - val_categorical_accuracy: 0.2800\n",
      "\n",
      "Epoch 00006: saving model to model_init_2020-05-1918_24_07.458406/model-00006-1.57586-0.35821-1.67061-0.28000.h5\n",
      "\n",
      "Epoch 00006: ReduceLROnPlateau reducing learning rate to 0.5.\n",
      "Epoch 7/10\n",
      "67/67 [==============================] - 29s 433ms/step - loss: 1.4965 - categorical_accuracy: 0.3234 - val_loss: 1.1843 - val_categorical_accuracy: 0.4800\n",
      "\n",
      "Epoch 00007: saving model to model_init_2020-05-1918_24_07.458406/model-00007-1.49652-0.32338-1.18435-0.48000.h5\n",
      "Epoch 8/10\n",
      "67/67 [==============================] - 29s 429ms/step - loss: 1.3915 - categorical_accuracy: 0.4080 - val_loss: 1.2325 - val_categorical_accuracy: 0.4400\n",
      "\n",
      "Epoch 00008: saving model to model_init_2020-05-1918_24_07.458406/model-00008-1.39151-0.40796-1.23249-0.44000.h5\n",
      "Epoch 9/10\n",
      "67/67 [==============================] - 27s 406ms/step - loss: 1.3686 - categorical_accuracy: 0.3831 - val_loss: 1.0680 - val_categorical_accuracy: 0.5000\n",
      "\n",
      "Epoch 00009: saving model to model_init_2020-05-1918_24_07.458406/model-00009-1.36863-0.38308-1.06798-0.50000.h5\n",
      "Epoch 10/10\n",
      "67/67 [==============================] - 27s 408ms/step - loss: 1.3238 - categorical_accuracy: 0.4279 - val_loss: 1.0871 - val_categorical_accuracy: 0.6200\n",
      "\n",
      "Epoch 00010: saving model to model_init_2020-05-1918_24_07.458406/model-00010-1.32375-0.42786-1.08709-0.62000.h5\n"
     ]
    },
    {
     "data": {
      "text/plain": [
       "<keras.callbacks.History at 0x7fc184f6cc88>"
      ]
     },
     "execution_count": 76,
     "metadata": {},
     "output_type": "execute_result"
    }
   ],
   "source": [
    "model_4.fit_generator(train_generator, steps_per_epoch=steps_per_epoch, epochs=num_epochs, verbose=1, \n",
    "                    callbacks=callbacks_list, validation_data=val_generator, \n",
    "                    validation_steps=validation_steps, class_weight=None, workers=1, initial_epoch=0)"
   ]
  },
  {
   "cell_type": "markdown",
   "metadata": {},
   "source": [
    "`Experiment` Updating Model with images per frame, width and height of the images"
   ]
  },
  {
   "cell_type": "code",
   "execution_count": 37,
   "metadata": {},
   "outputs": [],
   "source": [
    "x = 30 # number of frames\n",
    "y = 64 # image width\n",
    "z = 64 # image height \n",
    "\n",
    "classes = 5\n",
    "channel = 1"
   ]
  },
  {
   "cell_type": "markdown",
   "metadata": {},
   "source": [
    "# Model 5"
   ]
  },
  {
   "cell_type": "code",
   "execution_count": 38,
   "metadata": {},
   "outputs": [
    {
     "name": "stdout",
     "output_type": "stream",
     "text": [
      "_________________________________________________________________\n",
      "Layer (type)                 Output Shape              Param #   \n",
      "=================================================================\n",
      "conv3d_23 (Conv3D)           (None, 30, 64, 64, 32)    896       \n",
      "_________________________________________________________________\n",
      "activation_23 (Activation)   (None, 30, 64, 64, 32)    0         \n",
      "_________________________________________________________________\n",
      "conv3d_24 (Conv3D)           (None, 30, 64, 64, 32)    27680     \n",
      "_________________________________________________________________\n",
      "activation_24 (Activation)   (None, 30, 64, 64, 32)    0         \n",
      "_________________________________________________________________\n",
      "max_pooling3d_16 (MaxPooling (None, 10, 22, 22, 32)    0         \n",
      "_________________________________________________________________\n",
      "dropout_15 (Dropout)         (None, 10, 22, 22, 32)    0         \n",
      "_________________________________________________________________\n",
      "conv3d_25 (Conv3D)           (None, 10, 22, 22, 64)    55360     \n",
      "_________________________________________________________________\n",
      "activation_25 (Activation)   (None, 10, 22, 22, 64)    0         \n",
      "_________________________________________________________________\n",
      "conv3d_26 (Conv3D)           (None, 10, 22, 22, 64)    110656    \n",
      "_________________________________________________________________\n",
      "activation_26 (Activation)   (None, 10, 22, 22, 64)    0         \n",
      "_________________________________________________________________\n",
      "max_pooling3d_17 (MaxPooling (None, 4, 8, 8, 64)       0         \n",
      "_________________________________________________________________\n",
      "dropout_16 (Dropout)         (None, 4, 8, 8, 64)       0         \n",
      "_________________________________________________________________\n",
      "conv3d_27 (Conv3D)           (None, 4, 8, 8, 64)       110656    \n",
      "_________________________________________________________________\n",
      "activation_27 (Activation)   (None, 4, 8, 8, 64)       0         \n",
      "_________________________________________________________________\n",
      "conv3d_28 (Conv3D)           (None, 4, 8, 8, 64)       110656    \n",
      "_________________________________________________________________\n",
      "activation_28 (Activation)   (None, 4, 8, 8, 64)       0         \n",
      "_________________________________________________________________\n",
      "max_pooling3d_18 (MaxPooling (None, 2, 3, 3, 64)       0         \n",
      "_________________________________________________________________\n",
      "dropout_17 (Dropout)         (None, 2, 3, 3, 64)       0         \n",
      "_________________________________________________________________\n",
      "flatten_6 (Flatten)          (None, 1152)              0         \n",
      "_________________________________________________________________\n",
      "dense_13 (Dense)             (None, 512)               590336    \n",
      "_________________________________________________________________\n",
      "batch_normalization_10 (Batc (None, 512)               2048      \n",
      "_________________________________________________________________\n",
      "dropout_18 (Dropout)         (None, 512)               0         \n",
      "_________________________________________________________________\n",
      "dense_14 (Dense)             (None, 5)                 2565      \n",
      "=================================================================\n",
      "Total params: 1,010,853\n",
      "Trainable params: 1,009,829\n",
      "Non-trainable params: 1,024\n",
      "_________________________________________________________________\n"
     ]
    }
   ],
   "source": [
    "model_5 = Sequential()\n",
    "model_5.add(Conv3D(32, kernel_size=(3, 3, 3), input_shape=(x,y,z,channel), padding=\"same\"))\n",
    "model_5.add(Activation('relu'))\n",
    "model_5.add(Conv3D(32, padding=\"same\", kernel_size=(3, 3, 3)))\n",
    "model_5.add(Activation('relu'))\n",
    "model_5.add(MaxPooling3D(pool_size=(3, 3, 3), padding=\"same\"))\n",
    "model_5.add(Dropout(0.25))\n",
    "\n",
    "model_5.add(Conv3D(64, padding=\"same\", kernel_size=(3, 3, 3)))\n",
    "model_5.add(Activation('relu'))\n",
    "model_5.add(Conv3D(64, padding=\"same\", kernel_size=(3, 3, 3)))\n",
    "model_5.add(Activation('relu'))\n",
    "model_5.add(MaxPooling3D(pool_size=(3, 3, 3), padding=\"same\"))\n",
    "model_5.add(Dropout(0.25))\n",
    "\n",
    "model_5.add(Conv3D(64, padding=\"same\", kernel_size=(3, 3, 3)))\n",
    "model_5.add(Activation('relu'))\n",
    "model_5.add(Conv3D(64, padding=\"same\", kernel_size=(3, 3, 3)))\n",
    "model_5.add(Activation('relu'))\n",
    "model_5.add(MaxPooling3D(pool_size=(3, 3, 3), padding=\"same\"))\n",
    "model_5.add(Dropout(0.25))\n",
    "\n",
    "model_5.add(Flatten())\n",
    "model_5.add(Dense(512, activation='relu'))\n",
    "model_5.add(BatchNormalization())\n",
    "model_5.add(Dropout(0.5))\n",
    "model_5.add(Dense(classes, activation='softmax'))\n",
    "model_5.compile(optimizer=keras.optimizers.Adadelta(), loss='categorical_crossentropy', metrics=['categorical_accuracy'])\n",
    "model_5.summary()"
   ]
  },
  {
   "cell_type": "code",
   "execution_count": 39,
   "metadata": {},
   "outputs": [],
   "source": [
    "batch_size = 5\n",
    "train_generator = generator_ex(train_path, train_doc, batch_size)\n",
    "val_generator = generator_ex(val_path, val_doc, batch_size)\n",
    "num_epochs = 20"
   ]
  },
  {
   "cell_type": "code",
   "execution_count": 80,
   "metadata": {},
   "outputs": [
    {
     "name": "stdout",
     "output_type": "stream",
     "text": [
      "Source path =  Project_data/val ; batch size = 5\n",
      "Source path =  Project_data/train ; batch size = 5\n",
      "Epoch 1/20\n"
     ]
    },
    {
     "name": "stderr",
     "output_type": "stream",
     "text": [
      "/mnt/disks/user/anaconda3/lib/python3.6/site-packages/ipykernel_launcher.py:19: DeprecationWarning: `imread` is deprecated!\n",
      "`imread` is deprecated in SciPy 1.0.0, and will be removed in 1.2.0.\n",
      "Use ``imageio.imread`` instead.\n",
      "/mnt/disks/user/anaconda3/lib/python3.6/site-packages/ipykernel_launcher.py:24: DeprecationWarning: `imresize` is deprecated!\n",
      "`imresize` is deprecated in SciPy 1.0.0, and will be removed in 1.2.0.\n",
      "Use ``skimage.transform.resize`` instead.\n"
     ]
    },
    {
     "name": "stdout",
     "output_type": "stream",
     "text": [
      "67/67 [==============================] - 36s 532ms/step - loss: 2.1338 - categorical_accuracy: 0.2806 - val_loss: 1.8925 - val_categorical_accuracy: 0.2400\n",
      "\n",
      "Epoch 00001: saving model to model_init_2020-05-1918_24_07.458406/model-00001-2.13382-0.28060-1.89250-0.24000.h5\n",
      "Epoch 2/20\n",
      "64/67 [===========================>..] - ETA: 1s - loss: 2.0075 - categorical_accuracy: 0.2656Batch:  133 Index: 5\n"
     ]
    },
    {
     "name": "stderr",
     "output_type": "stream",
     "text": [
      "/mnt/disks/user/anaconda3/lib/python3.6/site-packages/ipykernel_launcher.py:44: DeprecationWarning: `imread` is deprecated!\n",
      "`imread` is deprecated in SciPy 1.0.0, and will be removed in 1.2.0.\n",
      "Use ``imageio.imread`` instead.\n",
      "/mnt/disks/user/anaconda3/lib/python3.6/site-packages/ipykernel_launcher.py:48: DeprecationWarning: `imresize` is deprecated!\n",
      "`imresize` is deprecated in SciPy 1.0.0, and will be removed in 1.2.0.\n",
      "Use ``skimage.transform.resize`` instead.\n"
     ]
    },
    {
     "name": "stdout",
     "output_type": "stream",
     "text": [
      "67/67 [==============================] - 35s 529ms/step - loss: 2.0455 - categorical_accuracy: 0.2637 - val_loss: 5.0769 - val_categorical_accuracy: 0.2600\n",
      "\n",
      "Epoch 00002: saving model to model_init_2020-05-1918_24_07.458406/model-00002-2.03819-0.26284-5.07690-0.26000.h5\n",
      "Epoch 3/20\n",
      "67/67 [==============================] - 22s 326ms/step - loss: 1.9711 - categorical_accuracy: 0.2189 - val_loss: 1.7188 - val_categorical_accuracy: 0.2800\n",
      "\n",
      "Epoch 00003: saving model to model_init_2020-05-1918_24_07.458406/model-00003-1.97108-0.21891-1.71881-0.28000.h5\n",
      "Epoch 4/20\n",
      "67/67 [==============================] - 21s 319ms/step - loss: 1.8430 - categorical_accuracy: 0.2587 - val_loss: 2.7333 - val_categorical_accuracy: 0.1400\n",
      "\n",
      "Epoch 00004: saving model to model_init_2020-05-1918_24_07.458406/model-00004-1.84297-0.25871-2.73330-0.14000.h5\n",
      "Epoch 5/20\n",
      "67/67 [==============================] - 22s 335ms/step - loss: 1.8633 - categorical_accuracy: 0.2886 - val_loss: 1.8747 - val_categorical_accuracy: 0.1400\n",
      "\n",
      "Epoch 00005: saving model to model_init_2020-05-1918_24_07.458406/model-00005-1.86326-0.28856-1.87473-0.14000.h5\n",
      "\n",
      "Epoch 00005: ReduceLROnPlateau reducing learning rate to 0.5.\n",
      "Epoch 6/20\n",
      "67/67 [==============================] - 22s 331ms/step - loss: 1.7489 - categorical_accuracy: 0.3085 - val_loss: 1.3808 - val_categorical_accuracy: 0.3600\n",
      "\n",
      "Epoch 00006: saving model to model_init_2020-05-1918_24_07.458406/model-00006-1.74894-0.30846-1.38082-0.36000.h5\n",
      "Epoch 7/20\n",
      "67/67 [==============================] - 22s 336ms/step - loss: 1.8014 - categorical_accuracy: 0.2836 - val_loss: 1.3957 - val_categorical_accuracy: 0.3400\n",
      "\n",
      "Epoch 00007: saving model to model_init_2020-05-1918_24_07.458406/model-00007-1.80140-0.28358-1.39565-0.34000.h5\n",
      "Epoch 8/20\n",
      "67/67 [==============================] - 23s 337ms/step - loss: 1.8566 - categorical_accuracy: 0.2736 - val_loss: 1.4031 - val_categorical_accuracy: 0.3800\n",
      "\n",
      "Epoch 00008: saving model to model_init_2020-05-1918_24_07.458406/model-00008-1.85662-0.27363-1.40309-0.38000.h5\n",
      "\n",
      "Epoch 00008: ReduceLROnPlateau reducing learning rate to 0.25.\n",
      "Epoch 9/20\n",
      "67/67 [==============================] - 22s 326ms/step - loss: 1.7449 - categorical_accuracy: 0.2786 - val_loss: 1.3600 - val_categorical_accuracy: 0.2600\n",
      "\n",
      "Epoch 00009: saving model to model_init_2020-05-1918_24_07.458406/model-00009-1.74487-0.27861-1.36002-0.26000.h5\n",
      "Epoch 10/20\n",
      "67/67 [==============================] - 23s 347ms/step - loss: 1.6973 - categorical_accuracy: 0.3085 - val_loss: 1.3159 - val_categorical_accuracy: 0.4400\n",
      "\n",
      "Epoch 00010: saving model to model_init_2020-05-1918_24_07.458406/model-00010-1.69726-0.30846-1.31589-0.44000.h5\n",
      "Epoch 11/20\n",
      "67/67 [==============================] - 21s 316ms/step - loss: 1.6507 - categorical_accuracy: 0.3184 - val_loss: 1.2949 - val_categorical_accuracy: 0.3200\n",
      "\n",
      "Epoch 00011: saving model to model_init_2020-05-1918_24_07.458406/model-00011-1.65073-0.31841-1.29490-0.32000.h5\n",
      "Epoch 12/20\n",
      "67/67 [==============================] - 22s 330ms/step - loss: 1.5910 - categorical_accuracy: 0.3433 - val_loss: 1.2970 - val_categorical_accuracy: 0.4000\n",
      "\n",
      "Epoch 00012: saving model to model_init_2020-05-1918_24_07.458406/model-00012-1.59097-0.34328-1.29701-0.40000.h5\n",
      "Epoch 13/20\n",
      "67/67 [==============================] - 22s 334ms/step - loss: 1.7039 - categorical_accuracy: 0.3184 - val_loss: 1.2980 - val_categorical_accuracy: 0.4400\n",
      "\n",
      "Epoch 00013: saving model to model_init_2020-05-1918_24_07.458406/model-00013-1.70393-0.31841-1.29798-0.44000.h5\n",
      "\n",
      "Epoch 00013: ReduceLROnPlateau reducing learning rate to 0.125.\n",
      "Epoch 14/20\n",
      "67/67 [==============================] - 21s 318ms/step - loss: 1.7419 - categorical_accuracy: 0.2736 - val_loss: 1.3221 - val_categorical_accuracy: 0.3200\n",
      "\n",
      "Epoch 00014: saving model to model_init_2020-05-1918_24_07.458406/model-00014-1.74193-0.27363-1.32207-0.32000.h5\n",
      "Epoch 15/20\n",
      "67/67 [==============================] - 23s 341ms/step - loss: 1.7201 - categorical_accuracy: 0.3134 - val_loss: 1.3603 - val_categorical_accuracy: 0.3000\n",
      "\n",
      "Epoch 00015: saving model to model_init_2020-05-1918_24_07.458406/model-00015-1.72013-0.31343-1.36032-0.30000.h5\n",
      "\n",
      "Epoch 00015: ReduceLROnPlateau reducing learning rate to 0.0625.\n",
      "Epoch 16/20\n",
      "67/67 [==============================] - 23s 339ms/step - loss: 1.7344 - categorical_accuracy: 0.2886 - val_loss: 1.2208 - val_categorical_accuracy: 0.5000\n",
      "\n",
      "Epoch 00016: saving model to model_init_2020-05-1918_24_07.458406/model-00016-1.73436-0.28856-1.22085-0.50000.h5\n",
      "Epoch 17/20\n",
      "67/67 [==============================] - 22s 321ms/step - loss: 1.5620 - categorical_accuracy: 0.3881 - val_loss: 1.3816 - val_categorical_accuracy: 0.2800\n",
      "\n",
      "Epoch 00017: saving model to model_init_2020-05-1918_24_07.458406/model-00017-1.56198-0.38806-1.38164-0.28000.h5\n",
      "Epoch 18/20\n",
      "67/67 [==============================] - 22s 323ms/step - loss: 1.6071 - categorical_accuracy: 0.3284 - val_loss: 1.1920 - val_categorical_accuracy: 0.5200\n",
      "\n",
      "Epoch 00018: saving model to model_init_2020-05-1918_24_07.458406/model-00018-1.60710-0.32836-1.19202-0.52000.h5\n",
      "Epoch 19/20\n",
      "67/67 [==============================] - 22s 331ms/step - loss: 1.7182 - categorical_accuracy: 0.3085 - val_loss: 1.3086 - val_categorical_accuracy: 0.4200\n",
      "\n",
      "Epoch 00019: saving model to model_init_2020-05-1918_24_07.458406/model-00019-1.71817-0.30846-1.30863-0.42000.h5\n",
      "Epoch 20/20\n",
      "67/67 [==============================] - 21s 318ms/step - loss: 1.6334 - categorical_accuracy: 0.3184 - val_loss: 1.2621 - val_categorical_accuracy: 0.4200\n",
      "\n",
      "Epoch 00020: saving model to model_init_2020-05-1918_24_07.458406/model-00020-1.63345-0.31841-1.26214-0.42000.h5\n",
      "\n",
      "Epoch 00020: ReduceLROnPlateau reducing learning rate to 0.03125.\n"
     ]
    },
    {
     "data": {
      "text/plain": [
       "<keras.callbacks.History at 0x7fc183abb978>"
      ]
     },
     "execution_count": 80,
     "metadata": {},
     "output_type": "execute_result"
    }
   ],
   "source": [
    "model_5.fit_generator(train_generator, steps_per_epoch=steps_per_epoch, epochs=num_epochs, verbose=1, \n",
    "                    callbacks=callbacks_list, validation_data=val_generator, \n",
    "                    validation_steps=validation_steps, class_weight=None, workers=1, initial_epoch=0)"
   ]
  },
  {
   "cell_type": "markdown",
   "metadata": {},
   "source": [
    "# Model 6"
   ]
  },
  {
   "cell_type": "code",
   "execution_count": 40,
   "metadata": {},
   "outputs": [],
   "source": [
    "x = 30 # number of frames\n",
    "y = 120 # image width\n",
    "z = 120 # image height \n",
    "\n",
    "classes = 5\n",
    "channel = 1\n",
    "nb_dense = [1000, 500, 5]\n",
    "\n",
    "input_shape=(x,y,z,channel)"
   ]
  },
  {
   "cell_type": "code",
   "execution_count": 41,
   "metadata": {},
   "outputs": [
    {
     "name": "stdout",
     "output_type": "stream",
     "text": [
      "_________________________________________________________________\n",
      "Layer (type)                 Output Shape              Param #   \n",
      "=================================================================\n",
      "conv3d_29 (Conv3D)           (None, 30, 120, 120, 8)   224       \n",
      "_________________________________________________________________\n",
      "batch_normalization_11 (Batc (None, 30, 120, 120, 8)   32        \n",
      "_________________________________________________________________\n",
      "activation_29 (Activation)   (None, 30, 120, 120, 8)   0         \n",
      "_________________________________________________________________\n",
      "max_pooling3d_19 (MaxPooling (None, 15, 60, 60, 8)     0         \n",
      "_________________________________________________________________\n",
      "conv3d_30 (Conv3D)           (None, 15, 60, 60, 16)    3472      \n",
      "_________________________________________________________________\n",
      "batch_normalization_12 (Batc (None, 15, 60, 60, 16)    64        \n",
      "_________________________________________________________________\n",
      "activation_30 (Activation)   (None, 15, 60, 60, 16)    0         \n",
      "_________________________________________________________________\n",
      "max_pooling3d_20 (MaxPooling (None, 7, 30, 30, 16)     0         \n",
      "_________________________________________________________________\n",
      "conv3d_31 (Conv3D)           (None, 7, 30, 30, 32)     4640      \n",
      "_________________________________________________________________\n",
      "batch_normalization_13 (Batc (None, 7, 30, 30, 32)     128       \n",
      "_________________________________________________________________\n",
      "activation_31 (Activation)   (None, 7, 30, 30, 32)     0         \n",
      "_________________________________________________________________\n",
      "max_pooling3d_21 (MaxPooling (None, 3, 15, 15, 32)     0         \n",
      "_________________________________________________________________\n",
      "conv3d_32 (Conv3D)           (None, 3, 15, 15, 64)     18496     \n",
      "_________________________________________________________________\n",
      "batch_normalization_14 (Batc (None, 3, 15, 15, 64)     256       \n",
      "_________________________________________________________________\n",
      "activation_32 (Activation)   (None, 3, 15, 15, 64)     0         \n",
      "_________________________________________________________________\n",
      "max_pooling3d_22 (MaxPooling (None, 1, 7, 7, 64)       0         \n",
      "_________________________________________________________________\n",
      "flatten_7 (Flatten)          (None, 3136)              0         \n",
      "_________________________________________________________________\n",
      "dense_15 (Dense)             (None, 1000)              3137000   \n",
      "_________________________________________________________________\n",
      "dropout_19 (Dropout)         (None, 1000)              0         \n",
      "_________________________________________________________________\n",
      "dense_16 (Dense)             (None, 500)               500500    \n",
      "_________________________________________________________________\n",
      "dropout_20 (Dropout)         (None, 500)               0         \n",
      "_________________________________________________________________\n",
      "dense_17 (Dense)             (None, 5)                 2505      \n",
      "=================================================================\n",
      "Total params: 3,667,317\n",
      "Trainable params: 3,667,077\n",
      "Non-trainable params: 240\n",
      "_________________________________________________________________\n"
     ]
    }
   ],
   "source": [
    "model_6 = Sequential()\n",
    "\n",
    "model_6.add(Conv3D(nb_filters[0], \n",
    "                 kernel_size=(3,3,3), \n",
    "                 input_shape=input_shape,\n",
    "                 padding='same'))\n",
    "model_6.add(BatchNormalization())\n",
    "model_6.add(Activation('relu'))\n",
    "\n",
    "model_6.add(MaxPooling3D(pool_size=(2,2,2)))\n",
    "\n",
    "model_6.add(Conv3D(nb_filters[1], \n",
    "                 kernel_size=(3,3,3), \n",
    "                 padding='same'))\n",
    "model_6.add(BatchNormalization())\n",
    "model_6.add(Activation('relu'))\n",
    "\n",
    "model_6.add(MaxPooling3D(pool_size=(2,2,2)))\n",
    "\n",
    "model_6.add(Conv3D(nb_filters[2], \n",
    "                 kernel_size=(1,3,3), \n",
    "                 padding='same'))\n",
    "model_6.add(BatchNormalization())\n",
    "model_6.add(Activation('relu'))\n",
    "\n",
    "model_6.add(MaxPooling3D(pool_size=(2,2,2)))\n",
    "\n",
    "model_6.add(Conv3D(nb_filters[3], \n",
    "                 kernel_size=(1,3,3), \n",
    "                 padding='same'))\n",
    "model_6.add(BatchNormalization())\n",
    "model_6.add(Activation('relu'))\n",
    "\n",
    "model_6.add(MaxPooling3D(pool_size=(2,2,2)))\n",
    "\n",
    "#Flatten Layers\n",
    "model_6.add(Flatten())\n",
    "\n",
    "model_6.add(Dense(nb_dense[0], activation='relu'))\n",
    "model_6.add(Dropout(0.5))\n",
    "\n",
    "model_6.add(Dense(nb_dense[1], activation='relu'))\n",
    "model_6.add(Dropout(0.5))\n",
    "\n",
    "#softmax layer\n",
    "model_6.add(Dense(nb_dense[2], activation='softmax'))\n",
    "model_6.compile(optimizer=keras.optimizers.Adadelta(), loss='categorical_crossentropy', metrics=['categorical_accuracy'])\n",
    "model_6.summary()"
   ]
  },
  {
   "cell_type": "code",
   "execution_count": 42,
   "metadata": {},
   "outputs": [],
   "source": [
    "batch_size = 10\n",
    "train_generator = generator_ex(train_path, train_doc, batch_size)\n",
    "val_generator = generator_ex(val_path, val_doc, batch_size)\n",
    "num_epochs = 30"
   ]
  },
  {
   "cell_type": "code",
   "execution_count": 84,
   "metadata": {
    "scrolled": true
   },
   "outputs": [
    {
     "name": "stdout",
     "output_type": "stream",
     "text": [
      "Source path =  Project_data/val ; batch size = 10\n",
      "Source path =  Project_data/train ; batch size = 10\n",
      "Epoch 1/30\n"
     ]
    },
    {
     "name": "stderr",
     "output_type": "stream",
     "text": [
      "/mnt/disks/user/anaconda3/lib/python3.6/site-packages/ipykernel_launcher.py:19: DeprecationWarning: `imread` is deprecated!\n",
      "`imread` is deprecated in SciPy 1.0.0, and will be removed in 1.2.0.\n",
      "Use ``imageio.imread`` instead.\n",
      "/mnt/disks/user/anaconda3/lib/python3.6/site-packages/ipykernel_launcher.py:24: DeprecationWarning: `imresize` is deprecated!\n",
      "`imresize` is deprecated in SciPy 1.0.0, and will be removed in 1.2.0.\n",
      "Use ``skimage.transform.resize`` instead.\n"
     ]
    },
    {
     "name": "stdout",
     "output_type": "stream",
     "text": [
      "65/67 [============================>.] - ETA: 2s - loss: 6.1446 - categorical_accuracy: 0.2677Batch:  67 Index: 10\n"
     ]
    },
    {
     "name": "stderr",
     "output_type": "stream",
     "text": [
      "/mnt/disks/user/anaconda3/lib/python3.6/site-packages/ipykernel_launcher.py:44: DeprecationWarning: `imread` is deprecated!\n",
      "`imread` is deprecated in SciPy 1.0.0, and will be removed in 1.2.0.\n",
      "Use ``imageio.imread`` instead.\n",
      "/mnt/disks/user/anaconda3/lib/python3.6/site-packages/ipykernel_launcher.py:48: DeprecationWarning: `imresize` is deprecated!\n",
      "`imresize` is deprecated in SciPy 1.0.0, and will be removed in 1.2.0.\n",
      "Use ``skimage.transform.resize`` instead.\n"
     ]
    },
    {
     "name": "stdout",
     "output_type": "stream",
     "text": [
      "67/67 [==============================] - 77s 1s/step - loss: 5.9941 - categorical_accuracy: 0.2741 - val_loss: 3.5396 - val_categorical_accuracy: 0.3100\n",
      "\n",
      "Epoch 00001: saving model to model_init_2020-05-1918_24_07.458406/model-00001-6.05327-0.26998-3.53959-0.31000.h5\n",
      "Epoch 2/30\n",
      "67/67 [==============================] - 23s 339ms/step - loss: 2.6959 - categorical_accuracy: 0.2637 - val_loss: 1.9966 - val_categorical_accuracy: 0.2100\n",
      "\n",
      "Epoch 00002: saving model to model_init_2020-05-1918_24_07.458406/model-00002-2.69586-0.26368-1.99657-0.21000.h5\n",
      "Epoch 3/30\n",
      "67/67 [==============================] - 24s 354ms/step - loss: 2.0232 - categorical_accuracy: 0.2687 - val_loss: 1.3049 - val_categorical_accuracy: 0.4900\n",
      "\n",
      "Epoch 00003: saving model to model_init_2020-05-1918_24_07.458406/model-00003-2.02316-0.26866-1.30489-0.49000.h5\n",
      "Epoch 4/30\n",
      "67/67 [==============================] - 26s 387ms/step - loss: 1.7197 - categorical_accuracy: 0.3483 - val_loss: 1.3839 - val_categorical_accuracy: 0.3700\n",
      "\n",
      "Epoch 00004: saving model to model_init_2020-05-1918_24_07.458406/model-00004-1.71965-0.34826-1.38388-0.37000.h5\n",
      "Epoch 5/30\n",
      "67/67 [==============================] - 25s 369ms/step - loss: 1.6410 - categorical_accuracy: 0.3433 - val_loss: 1.2670 - val_categorical_accuracy: 0.3500\n",
      "\n",
      "Epoch 00005: saving model to model_init_2020-05-1918_24_07.458406/model-00005-1.64098-0.34328-1.26700-0.35000.h5\n",
      "Epoch 6/30\n",
      "67/67 [==============================] - 25s 374ms/step - loss: 1.5660 - categorical_accuracy: 0.3632 - val_loss: 1.1585 - val_categorical_accuracy: 0.4300\n",
      "\n",
      "Epoch 00006: saving model to model_init_2020-05-1918_24_07.458406/model-00006-1.56603-0.36318-1.15845-0.43000.h5\n",
      "Epoch 7/30\n",
      "67/67 [==============================] - 26s 393ms/step - loss: 1.6730 - categorical_accuracy: 0.2786 - val_loss: 1.1727 - val_categorical_accuracy: 0.4600\n",
      "\n",
      "Epoch 00007: saving model to model_init_2020-05-1918_24_07.458406/model-00007-1.67305-0.27861-1.17266-0.46000.h5\n",
      "Epoch 8/30\n",
      "67/67 [==============================] - 25s 368ms/step - loss: 1.3917 - categorical_accuracy: 0.4179 - val_loss: 1.1470 - val_categorical_accuracy: 0.4600\n",
      "\n",
      "Epoch 00008: saving model to model_init_2020-05-1918_24_07.458406/model-00008-1.39166-0.41791-1.14705-0.46000.h5\n",
      "Epoch 9/30\n",
      "67/67 [==============================] - 24s 359ms/step - loss: 1.4359 - categorical_accuracy: 0.3483 - val_loss: 1.2713 - val_categorical_accuracy: 0.3900\n",
      "\n",
      "Epoch 00009: saving model to model_init_2020-05-1918_24_07.458406/model-00009-1.43592-0.34826-1.27129-0.39000.h5\n",
      "Epoch 10/30\n",
      "67/67 [==============================] - 25s 380ms/step - loss: 1.4212 - categorical_accuracy: 0.3881 - val_loss: 1.1605 - val_categorical_accuracy: 0.5300\n",
      "\n",
      "Epoch 00010: saving model to model_init_2020-05-1918_24_07.458406/model-00010-1.42121-0.38806-1.16048-0.53000.h5\n",
      "\n",
      "Epoch 00010: ReduceLROnPlateau reducing learning rate to 0.5.\n",
      "Epoch 11/30\n",
      "67/67 [==============================] - 25s 372ms/step - loss: 1.3338 - categorical_accuracy: 0.4129 - val_loss: 1.0987 - val_categorical_accuracy: 0.5200\n",
      "\n",
      "Epoch 00011: saving model to model_init_2020-05-1918_24_07.458406/model-00011-1.33383-0.41294-1.09874-0.52000.h5\n",
      "Epoch 12/30\n",
      "67/67 [==============================] - 26s 384ms/step - loss: 1.2633 - categorical_accuracy: 0.4179 - val_loss: 1.1977 - val_categorical_accuracy: 0.5200\n",
      "\n",
      "Epoch 00012: saving model to model_init_2020-05-1918_24_07.458406/model-00012-1.26325-0.41791-1.19773-0.52000.h5\n",
      "Epoch 13/30\n",
      "67/67 [==============================] - 25s 367ms/step - loss: 1.1999 - categorical_accuracy: 0.4925 - val_loss: 1.0880 - val_categorical_accuracy: 0.5500\n",
      "\n",
      "Epoch 00013: saving model to model_init_2020-05-1918_24_07.458406/model-00013-1.19987-0.49254-1.08802-0.55000.h5\n",
      "Epoch 14/30\n",
      "67/67 [==============================] - 26s 391ms/step - loss: 1.2759 - categorical_accuracy: 0.3980 - val_loss: 1.0170 - val_categorical_accuracy: 0.5700\n",
      "\n",
      "Epoch 00014: saving model to model_init_2020-05-1918_24_07.458406/model-00014-1.27593-0.39801-1.01698-0.57000.h5\n",
      "Epoch 15/30\n",
      "67/67 [==============================] - 26s 384ms/step - loss: 1.1982 - categorical_accuracy: 0.5025 - val_loss: 1.1887 - val_categorical_accuracy: 0.5300\n",
      "\n",
      "Epoch 00015: saving model to model_init_2020-05-1918_24_07.458406/model-00015-1.19817-0.50249-1.18875-0.53000.h5\n",
      "Epoch 16/30\n",
      "67/67 [==============================] - 24s 352ms/step - loss: 1.1611 - categorical_accuracy: 0.4826 - val_loss: 1.0132 - val_categorical_accuracy: 0.6000\n",
      "\n",
      "Epoch 00016: saving model to model_init_2020-05-1918_24_07.458406/model-00016-1.16111-0.48259-1.01317-0.60000.h5\n",
      "Epoch 17/30\n",
      "67/67 [==============================] - 26s 390ms/step - loss: 1.1670 - categorical_accuracy: 0.5224 - val_loss: 0.9648 - val_categorical_accuracy: 0.6200\n",
      "\n",
      "Epoch 00017: saving model to model_init_2020-05-1918_24_07.458406/model-00017-1.16698-0.52239-0.96476-0.62000.h5\n",
      "Epoch 18/30\n",
      "67/67 [==============================] - 25s 367ms/step - loss: 1.0630 - categorical_accuracy: 0.5721 - val_loss: 0.9802 - val_categorical_accuracy: 0.5900\n",
      "\n",
      "Epoch 00018: saving model to model_init_2020-05-1918_24_07.458406/model-00018-1.06297-0.57214-0.98023-0.59000.h5\n",
      "Epoch 19/30\n",
      "67/67 [==============================] - 26s 391ms/step - loss: 0.9215 - categorical_accuracy: 0.6219 - val_loss: 0.8875 - val_categorical_accuracy: 0.6500\n",
      "\n",
      "Epoch 00019: saving model to model_init_2020-05-1918_24_07.458406/model-00019-0.92152-0.62189-0.88748-0.65000.h5\n",
      "Epoch 20/30\n",
      "67/67 [==============================] - 25s 373ms/step - loss: 1.1464 - categorical_accuracy: 0.5025 - val_loss: 1.0423 - val_categorical_accuracy: 0.5900\n",
      "\n",
      "Epoch 00020: saving model to model_init_2020-05-1918_24_07.458406/model-00020-1.14636-0.50249-1.04232-0.59000.h5\n",
      "Epoch 21/30\n",
      "67/67 [==============================] - 25s 373ms/step - loss: 1.0044 - categorical_accuracy: 0.5821 - val_loss: 1.0786 - val_categorical_accuracy: 0.5300\n",
      "\n",
      "Epoch 00021: saving model to model_init_2020-05-1918_24_07.458406/model-00021-1.00444-0.58209-1.07861-0.53000.h5\n",
      "\n",
      "Epoch 00021: ReduceLROnPlateau reducing learning rate to 0.25.\n",
      "Epoch 22/30\n",
      "67/67 [==============================] - 26s 392ms/step - loss: 0.9089 - categorical_accuracy: 0.6517 - val_loss: 0.8108 - val_categorical_accuracy: 0.6600\n",
      "\n",
      "Epoch 00022: saving model to model_init_2020-05-1918_24_07.458406/model-00022-0.90888-0.65174-0.81078-0.66000.h5\n",
      "Epoch 23/30\n",
      "67/67 [==============================] - 25s 379ms/step - loss: 0.8943 - categorical_accuracy: 0.6368 - val_loss: 0.8038 - val_categorical_accuracy: 0.6800\n",
      "\n",
      "Epoch 00023: saving model to model_init_2020-05-1918_24_07.458406/model-00023-0.89427-0.63682-0.80380-0.68000.h5\n",
      "Epoch 24/30\n",
      "67/67 [==============================] - 24s 360ms/step - loss: 0.7888 - categorical_accuracy: 0.6816 - val_loss: 0.9448 - val_categorical_accuracy: 0.6200\n",
      "\n",
      "Epoch 00024: saving model to model_init_2020-05-1918_24_07.458406/model-00024-0.78882-0.68159-0.94480-0.62000.h5\n",
      "Epoch 25/30\n",
      "67/67 [==============================] - 25s 376ms/step - loss: 0.7048 - categorical_accuracy: 0.7214 - val_loss: 0.7313 - val_categorical_accuracy: 0.6800\n",
      "\n",
      "Epoch 00025: saving model to model_init_2020-05-1918_24_07.458406/model-00025-0.70483-0.72139-0.73133-0.68000.h5\n",
      "Epoch 26/30\n",
      "67/67 [==============================] - 26s 388ms/step - loss: 0.7819 - categorical_accuracy: 0.6766 - val_loss: 0.6679 - val_categorical_accuracy: 0.7300\n",
      "\n",
      "Epoch 00026: saving model to model_init_2020-05-1918_24_07.458406/model-00026-0.78190-0.67662-0.66790-0.73000.h5\n",
      "Epoch 27/30\n",
      "67/67 [==============================] - 25s 368ms/step - loss: 0.7587 - categorical_accuracy: 0.6915 - val_loss: 0.7320 - val_categorical_accuracy: 0.7300\n",
      "\n",
      "Epoch 00027: saving model to model_init_2020-05-1918_24_07.458406/model-00027-0.75871-0.69154-0.73199-0.73000.h5\n",
      "Epoch 28/30\n",
      "67/67 [==============================] - 26s 390ms/step - loss: 0.7851 - categorical_accuracy: 0.6418 - val_loss: 0.7806 - val_categorical_accuracy: 0.6700\n",
      "\n",
      "Epoch 00028: saving model to model_init_2020-05-1918_24_07.458406/model-00028-0.78511-0.64179-0.78061-0.67000.h5\n",
      "\n",
      "Epoch 00028: ReduceLROnPlateau reducing learning rate to 0.125.\n",
      "Epoch 29/30\n",
      "67/67 [==============================] - 24s 365ms/step - loss: 0.6686 - categorical_accuracy: 0.7214 - val_loss: 0.6577 - val_categorical_accuracy: 0.7400\n"
     ]
    },
    {
     "name": "stdout",
     "output_type": "stream",
     "text": [
      "\n",
      "Epoch 00029: saving model to model_init_2020-05-1918_24_07.458406/model-00029-0.66864-0.72139-0.65766-0.74000.h5\n",
      "Epoch 30/30\n",
      "67/67 [==============================] - 25s 367ms/step - loss: 0.7189 - categorical_accuracy: 0.7214 - val_loss: 0.6495 - val_categorical_accuracy: 0.7600\n",
      "\n",
      "Epoch 00030: saving model to model_init_2020-05-1918_24_07.458406/model-00030-0.71887-0.72139-0.64945-0.76000.h5\n"
     ]
    },
    {
     "data": {
      "text/plain": [
       "<keras.callbacks.History at 0x7fc182e50588>"
      ]
     },
     "execution_count": 84,
     "metadata": {},
     "output_type": "execute_result"
    }
   ],
   "source": [
    "model_6.fit_generator(train_generator, steps_per_epoch=steps_per_epoch, epochs=num_epochs, verbose=1, \n",
    "                    callbacks=callbacks_list, validation_data=val_generator, \n",
    "                    validation_steps=validation_steps, class_weight=None, workers=1, initial_epoch=0)"
   ]
  },
  {
   "cell_type": "markdown",
   "metadata": {},
   "source": [
    "# Model 7"
   ]
  },
  {
   "cell_type": "code",
   "execution_count": 43,
   "metadata": {},
   "outputs": [
    {
     "name": "stdout",
     "output_type": "stream",
     "text": [
      "_________________________________________________________________\n",
      "Layer (type)                 Output Shape              Param #   \n",
      "=================================================================\n",
      "conv3d_33 (Conv3D)           (None, 30, 120, 120, 8)   656       \n",
      "_________________________________________________________________\n",
      "batch_normalization_15 (Batc (None, 30, 120, 120, 8)   32        \n",
      "_________________________________________________________________\n",
      "activation_33 (Activation)   (None, 30, 120, 120, 8)   0         \n",
      "_________________________________________________________________\n",
      "max_pooling3d_23 (MaxPooling (None, 15, 60, 60, 8)     0         \n",
      "_________________________________________________________________\n",
      "conv3d_34 (Conv3D)           (None, 15, 60, 60, 16)    3472      \n",
      "_________________________________________________________________\n",
      "batch_normalization_16 (Batc (None, 15, 60, 60, 16)    64        \n",
      "_________________________________________________________________\n",
      "activation_34 (Activation)   (None, 15, 60, 60, 16)    0         \n",
      "_________________________________________________________________\n",
      "max_pooling3d_24 (MaxPooling (None, 7, 30, 30, 16)     0         \n",
      "_________________________________________________________________\n",
      "conv3d_35 (Conv3D)           (None, 7, 30, 30, 32)     4640      \n",
      "_________________________________________________________________\n",
      "batch_normalization_17 (Batc (None, 7, 30, 30, 32)     128       \n",
      "_________________________________________________________________\n",
      "activation_35 (Activation)   (None, 7, 30, 30, 32)     0         \n",
      "_________________________________________________________________\n",
      "max_pooling3d_25 (MaxPooling (None, 3, 15, 15, 32)     0         \n",
      "_________________________________________________________________\n",
      "conv3d_36 (Conv3D)           (None, 3, 15, 15, 64)     18496     \n",
      "_________________________________________________________________\n",
      "batch_normalization_18 (Batc (None, 3, 15, 15, 64)     256       \n",
      "_________________________________________________________________\n",
      "activation_36 (Activation)   (None, 3, 15, 15, 64)     0         \n",
      "_________________________________________________________________\n",
      "max_pooling3d_26 (MaxPooling (None, 1, 7, 7, 64)       0         \n",
      "_________________________________________________________________\n",
      "flatten_8 (Flatten)          (None, 3136)              0         \n",
      "_________________________________________________________________\n",
      "dense_18 (Dense)             (None, 1000)              3137000   \n",
      "_________________________________________________________________\n",
      "dropout_21 (Dropout)         (None, 1000)              0         \n",
      "_________________________________________________________________\n",
      "dense_19 (Dense)             (None, 500)               500500    \n",
      "_________________________________________________________________\n",
      "dropout_22 (Dropout)         (None, 500)               0         \n",
      "_________________________________________________________________\n",
      "dense_20 (Dense)             (None, 5)                 2505      \n",
      "=================================================================\n",
      "Total params: 3,667,749\n",
      "Trainable params: 3,667,509\n",
      "Non-trainable params: 240\n",
      "_________________________________________________________________\n"
     ]
    }
   ],
   "source": [
    "x = 30 # number of frames\n",
    "y = 120 # image width\n",
    "z = 120 # image height \n",
    "\n",
    "classes = 5\n",
    "channel = 3\n",
    "nb_dense = [1000, 500, 5]\n",
    "\n",
    "input_shape=(x,y,z,channel)\n",
    "\n",
    "# Define model\n",
    "model_7 = Sequential()\n",
    "\n",
    "model_7.add(Conv3D(nb_filters[0], \n",
    "                 kernel_size=(3,3,3), \n",
    "                 input_shape=input_shape,\n",
    "                 padding='same'))\n",
    "model_7.add(BatchNormalization())\n",
    "model_7.add(Activation('relu'))\n",
    "\n",
    "model_7.add(MaxPooling3D(pool_size=(2,2,2)))\n",
    "\n",
    "model_7.add(Conv3D(nb_filters[1], \n",
    "                 kernel_size=(3,3,3), \n",
    "                 padding='same'))\n",
    "model_7.add(BatchNormalization())\n",
    "model_7.add(Activation('relu'))\n",
    "\n",
    "model_7.add(MaxPooling3D(pool_size=(2,2,2)))\n",
    "\n",
    "model_7.add(Conv3D(nb_filters[2], \n",
    "                 kernel_size=(1,3,3), \n",
    "                 padding='same'))\n",
    "model_7.add(BatchNormalization())\n",
    "model_7.add(Activation('relu'))\n",
    "\n",
    "model_7.add(MaxPooling3D(pool_size=(2,2,2)))\n",
    "\n",
    "model_7.add(Conv3D(nb_filters[3], \n",
    "                 kernel_size=(1,3,3), \n",
    "                 padding='same'))\n",
    "model_7.add(BatchNormalization())\n",
    "model_7.add(Activation('relu'))\n",
    "\n",
    "model_7.add(MaxPooling3D(pool_size=(2,2,2)))\n",
    "\n",
    "#Flatten Layers\n",
    "model_7.add(Flatten())\n",
    "\n",
    "model_7.add(Dense(nb_dense[0], activation='relu'))\n",
    "model_7.add(Dropout(0.5))\n",
    "\n",
    "model_7.add(Dense(nb_dense[1], activation='relu'))\n",
    "model_7.add(Dropout(0.5))\n",
    "\n",
    "#softmax layer\n",
    "model_7.add(Dense(nb_dense[2], activation='softmax'))\n",
    "model_7.compile(optimizer=keras.optimizers.Adadelta(), loss='categorical_crossentropy', metrics=['categorical_accuracy'])\n",
    "model_7.summary()"
   ]
  },
  {
   "cell_type": "code",
   "execution_count": 44,
   "metadata": {},
   "outputs": [],
   "source": [
    "batch_size = 10\n",
    "train_generator = generator_ex(train_path, train_doc, batch_size)\n",
    "val_generator = generator_ex(val_path, val_doc, batch_size)\n",
    "num_epochs = 10"
   ]
  },
  {
   "cell_type": "code",
   "execution_count": 89,
   "metadata": {},
   "outputs": [
    {
     "name": "stdout",
     "output_type": "stream",
     "text": [
      "Source path =  Project_data/val ; batch size = 10\n",
      "Source path =  Project_data/train ; batch size = 10\n",
      "Epoch 1/10\n"
     ]
    },
    {
     "name": "stderr",
     "output_type": "stream",
     "text": [
      "/mnt/disks/user/anaconda3/lib/python3.6/site-packages/ipykernel_launcher.py:19: DeprecationWarning: `imread` is deprecated!\n",
      "`imread` is deprecated in SciPy 1.0.0, and will be removed in 1.2.0.\n",
      "Use ``imageio.imread`` instead.\n",
      "/mnt/disks/user/anaconda3/lib/python3.6/site-packages/ipykernel_launcher.py:24: DeprecationWarning: `imresize` is deprecated!\n",
      "`imresize` is deprecated in SciPy 1.0.0, and will be removed in 1.2.0.\n",
      "Use ``skimage.transform.resize`` instead.\n"
     ]
    },
    {
     "name": "stdout",
     "output_type": "stream",
     "text": [
      "65/67 [============================>.] - ETA: 2s - loss: 7.2454 - categorical_accuracy: 0.2308Batch:  67 Index: 10\n"
     ]
    },
    {
     "name": "stderr",
     "output_type": "stream",
     "text": [
      "/mnt/disks/user/anaconda3/lib/python3.6/site-packages/ipykernel_launcher.py:44: DeprecationWarning: `imread` is deprecated!\n",
      "`imread` is deprecated in SciPy 1.0.0, and will be removed in 1.2.0.\n",
      "Use ``imageio.imread`` instead.\n",
      "/mnt/disks/user/anaconda3/lib/python3.6/site-packages/ipykernel_launcher.py:48: DeprecationWarning: `imresize` is deprecated!\n",
      "`imresize` is deprecated in SciPy 1.0.0, and will be removed in 1.2.0.\n",
      "Use ``skimage.transform.resize`` instead.\n"
     ]
    },
    {
     "name": "stdout",
     "output_type": "stream",
     "text": [
      "67/67 [==============================] - 81s 1s/step - loss: 7.1410 - categorical_accuracy: 0.2318 - val_loss: 8.4426 - val_categorical_accuracy: 0.3000\n",
      "\n",
      "Epoch 00001: saving model to model_init_2020-05-1918_24_07.458406/model-00001-7.17247-0.23077-8.44260-0.30000.h5\n",
      "Epoch 2/10\n",
      "67/67 [==============================] - 25s 379ms/step - loss: 2.9425 - categorical_accuracy: 0.2935 - val_loss: 2.8849 - val_categorical_accuracy: 0.3000\n",
      "\n",
      "Epoch 00002: saving model to model_init_2020-05-1918_24_07.458406/model-00002-2.94250-0.29353-2.88487-0.30000.h5\n",
      "Epoch 3/10\n",
      "67/67 [==============================] - 26s 394ms/step - loss: 2.1480 - categorical_accuracy: 0.2289 - val_loss: 1.1879 - val_categorical_accuracy: 0.5300\n",
      "\n",
      "Epoch 00003: saving model to model_init_2020-05-1918_24_07.458406/model-00003-2.14803-0.22886-1.18794-0.53000.h5\n",
      "Epoch 4/10\n",
      "67/67 [==============================] - 28s 419ms/step - loss: 1.5483 - categorical_accuracy: 0.3980 - val_loss: 1.4641 - val_categorical_accuracy: 0.3400\n",
      "\n",
      "Epoch 00004: saving model to model_init_2020-05-1918_24_07.458406/model-00004-1.54828-0.39801-1.46412-0.34000.h5\n",
      "Epoch 5/10\n",
      "67/67 [==============================] - 29s 427ms/step - loss: 1.6028 - categorical_accuracy: 0.3582 - val_loss: 1.1347 - val_categorical_accuracy: 0.5000\n",
      "\n",
      "Epoch 00005: saving model to model_init_2020-05-1918_24_07.458406/model-00005-1.60277-0.35821-1.13470-0.50000.h5\n",
      "Epoch 6/10\n",
      "67/67 [==============================] - 27s 400ms/step - loss: 1.4549 - categorical_accuracy: 0.4030 - val_loss: 2.6276 - val_categorical_accuracy: 0.2900\n",
      "\n",
      "Epoch 00006: saving model to model_init_2020-05-1918_24_07.458406/model-00006-1.45487-0.40299-2.62756-0.29000.h5\n",
      "Epoch 7/10\n",
      "67/67 [==============================] - 27s 399ms/step - loss: 1.4872 - categorical_accuracy: 0.3831 - val_loss: 1.0761 - val_categorical_accuracy: 0.5200\n",
      "\n",
      "Epoch 00007: saving model to model_init_2020-05-1918_24_07.458406/model-00007-1.48724-0.38308-1.07610-0.52000.h5\n",
      "Epoch 8/10\n",
      "67/67 [==============================] - 28s 417ms/step - loss: 1.4846 - categorical_accuracy: 0.3333 - val_loss: 1.2426 - val_categorical_accuracy: 0.4600\n",
      "\n",
      "Epoch 00008: saving model to model_init_2020-05-1918_24_07.458406/model-00008-1.48462-0.33333-1.24261-0.46000.h5\n",
      "Epoch 9/10\n",
      "67/67 [==============================] - 28s 424ms/step - loss: 1.3178 - categorical_accuracy: 0.4129 - val_loss: 1.4287 - val_categorical_accuracy: 0.3700\n",
      "\n",
      "Epoch 00009: saving model to model_init_2020-05-1918_24_07.458406/model-00009-1.31782-0.41294-1.42867-0.37000.h5\n",
      "\n",
      "Epoch 00009: ReduceLROnPlateau reducing learning rate to 0.5.\n",
      "Epoch 10/10\n",
      "67/67 [==============================] - 26s 394ms/step - loss: 1.2604 - categorical_accuracy: 0.4478 - val_loss: 0.9634 - val_categorical_accuracy: 0.6200\n",
      "\n",
      "Epoch 00010: saving model to model_init_2020-05-1918_24_07.458406/model-00010-1.26043-0.44776-0.96336-0.62000.h5\n"
     ]
    },
    {
     "data": {
      "text/plain": [
       "<keras.callbacks.History at 0x7fc17f8185f8>"
      ]
     },
     "execution_count": 89,
     "metadata": {},
     "output_type": "execute_result"
    }
   ],
   "source": [
    "model_7.fit_generator(train_generator, steps_per_epoch=steps_per_epoch, epochs=num_epochs, verbose=1, \n",
    "                    callbacks=callbacks_list, validation_data=val_generator, \n",
    "                    validation_steps=validation_steps, class_weight=None, workers=1, initial_epoch=0)"
   ]
  },
  {
   "cell_type": "markdown",
   "metadata": {},
   "source": [
    "# Model 8"
   ]
  },
  {
   "cell_type": "code",
   "execution_count": 45,
   "metadata": {},
   "outputs": [],
   "source": [
    "x = 30 # number of frames\n",
    "y = 120 # image width\n",
    "z = 120 # image height \n",
    "\n",
    "classes = 5\n",
    "channel = 3\n",
    "\n",
    "input_shape=(x,y,z,channel)"
   ]
  },
  {
   "cell_type": "code",
   "execution_count": 46,
   "metadata": {},
   "outputs": [
    {
     "name": "stdout",
     "output_type": "stream",
     "text": [
      "_________________________________________________________________\n",
      "Layer (type)                 Output Shape              Param #   \n",
      "=================================================================\n",
      "conv3d_37 (Conv3D)           (None, 30, 120, 120, 8)   656       \n",
      "_________________________________________________________________\n",
      "batch_normalization_19 (Batc (None, 30, 120, 120, 8)   32        \n",
      "_________________________________________________________________\n",
      "activation_37 (Activation)   (None, 30, 120, 120, 8)   0         \n",
      "_________________________________________________________________\n",
      "max_pooling3d_27 (MaxPooling (None, 15, 60, 60, 8)     0         \n",
      "_________________________________________________________________\n",
      "conv3d_38 (Conv3D)           (None, 15, 60, 60, 16)    3472      \n",
      "_________________________________________________________________\n",
      "batch_normalization_20 (Batc (None, 15, 60, 60, 16)    64        \n",
      "_________________________________________________________________\n",
      "activation_38 (Activation)   (None, 15, 60, 60, 16)    0         \n",
      "_________________________________________________________________\n",
      "max_pooling3d_28 (MaxPooling (None, 7, 30, 30, 16)     0         \n",
      "_________________________________________________________________\n",
      "conv3d_39 (Conv3D)           (None, 7, 30, 30, 32)     4640      \n",
      "_________________________________________________________________\n",
      "batch_normalization_21 (Batc (None, 7, 30, 30, 32)     128       \n",
      "_________________________________________________________________\n",
      "activation_39 (Activation)   (None, 7, 30, 30, 32)     0         \n",
      "_________________________________________________________________\n",
      "max_pooling3d_29 (MaxPooling (None, 3, 15, 15, 32)     0         \n",
      "_________________________________________________________________\n",
      "conv3d_40 (Conv3D)           (None, 3, 15, 15, 64)     18496     \n",
      "_________________________________________________________________\n",
      "batch_normalization_22 (Batc (None, 3, 15, 15, 64)     256       \n",
      "_________________________________________________________________\n",
      "activation_40 (Activation)   (None, 3, 15, 15, 64)     0         \n",
      "_________________________________________________________________\n",
      "max_pooling3d_30 (MaxPooling (None, 1, 7, 7, 64)       0         \n",
      "_________________________________________________________________\n",
      "flatten_9 (Flatten)          (None, 3136)              0         \n",
      "_________________________________________________________________\n",
      "dense_21 (Dense)             (None, 1000)              3137000   \n",
      "_________________________________________________________________\n",
      "dropout_23 (Dropout)         (None, 1000)              0         \n",
      "_________________________________________________________________\n",
      "dense_22 (Dense)             (None, 500)               500500    \n",
      "_________________________________________________________________\n",
      "dropout_24 (Dropout)         (None, 500)               0         \n",
      "_________________________________________________________________\n",
      "dense_23 (Dense)             (None, 5)                 2505      \n",
      "=================================================================\n",
      "Total params: 3,667,749\n",
      "Trainable params: 3,667,509\n",
      "Non-trainable params: 240\n",
      "_________________________________________________________________\n"
     ]
    }
   ],
   "source": [
    "# Define model\n",
    "model_8 = Sequential()\n",
    "\n",
    "model_8.add(Conv3D(nb_filters[0], \n",
    "                 kernel_size=(3,3,3), \n",
    "                 input_shape=input_shape,\n",
    "                 padding='same'))\n",
    "model_8.add(BatchNormalization())\n",
    "model_8.add(Activation('relu'))\n",
    "\n",
    "model_8.add(MaxPooling3D(pool_size=(2,2,2)))\n",
    "\n",
    "model_8.add(Conv3D(nb_filters[1], \n",
    "                 kernel_size=(3,3,3), \n",
    "                 padding='same'))\n",
    "model_8.add(BatchNormalization())\n",
    "model_8.add(Activation('relu'))\n",
    "\n",
    "model_8.add(MaxPooling3D(pool_size=(2,2,2)))\n",
    "\n",
    "model_8.add(Conv3D(nb_filters[2], \n",
    "                 kernel_size=(1,3,3), \n",
    "                 padding='same'))\n",
    "model_8.add(BatchNormalization())\n",
    "model_8.add(Activation('relu'))\n",
    "\n",
    "model_8.add(MaxPooling3D(pool_size=(2,2,2)))\n",
    "\n",
    "model_8.add(Conv3D(nb_filters[3], \n",
    "                 kernel_size=(1,3,3), \n",
    "                 padding='same'))\n",
    "model_8.add(BatchNormalization())\n",
    "model_8.add(Activation('relu'))\n",
    "\n",
    "model_8.add(MaxPooling3D(pool_size=(2,2,2)))\n",
    "\n",
    "#Flatten Layers\n",
    "model_8.add(Flatten())\n",
    "\n",
    "model_8.add(Dense(nb_dense[0], activation='relu'))\n",
    "model_8.add(Dropout(0.5))\n",
    "\n",
    "model_8.add(Dense(nb_dense[1], activation='relu'))\n",
    "model_8.add(Dropout(0.5))\n",
    "\n",
    "#softmax layer\n",
    "model_8.add(Dense(nb_dense[2], activation='softmax'))\n",
    "model_8.compile(optimizer=keras.optimizers.Adadelta(), loss='categorical_crossentropy', metrics=['categorical_accuracy'])\n",
    "model_8.summary()"
   ]
  },
  {
   "cell_type": "code",
   "execution_count": 47,
   "metadata": {},
   "outputs": [],
   "source": [
    "batch_size = 10\n",
    "train_generator = generator_ex(train_path, train_doc, batch_size)\n",
    "val_generator = generator_ex(val_path, val_doc, batch_size)\n",
    "num_epochs = 10"
   ]
  },
  {
   "cell_type": "code",
   "execution_count": 92,
   "metadata": {},
   "outputs": [
    {
     "name": "stdout",
     "output_type": "stream",
     "text": [
      "Source path =  Project_data/val ; batch size = 10\n",
      "Source path =  Project_data/train ; batch size = 10\n",
      "Epoch 1/10\n"
     ]
    },
    {
     "name": "stderr",
     "output_type": "stream",
     "text": [
      "/mnt/disks/user/anaconda3/lib/python3.6/site-packages/ipykernel_launcher.py:19: DeprecationWarning: `imread` is deprecated!\n",
      "`imread` is deprecated in SciPy 1.0.0, and will be removed in 1.2.0.\n",
      "Use ``imageio.imread`` instead.\n",
      "/mnt/disks/user/anaconda3/lib/python3.6/site-packages/ipykernel_launcher.py:24: DeprecationWarning: `imresize` is deprecated!\n",
      "`imresize` is deprecated in SciPy 1.0.0, and will be removed in 1.2.0.\n",
      "Use ``skimage.transform.resize`` instead.\n"
     ]
    },
    {
     "name": "stdout",
     "output_type": "stream",
     "text": [
      "65/67 [============================>.] - ETA: 2s - loss: 6.8387 - categorical_accuracy: 0.2569Batch:  67 Index: 10\n"
     ]
    },
    {
     "name": "stderr",
     "output_type": "stream",
     "text": [
      "/mnt/disks/user/anaconda3/lib/python3.6/site-packages/ipykernel_launcher.py:44: DeprecationWarning: `imread` is deprecated!\n",
      "`imread` is deprecated in SciPy 1.0.0, and will be removed in 1.2.0.\n",
      "Use ``imageio.imread`` instead.\n",
      "/mnt/disks/user/anaconda3/lib/python3.6/site-packages/ipykernel_launcher.py:48: DeprecationWarning: `imresize` is deprecated!\n",
      "`imresize` is deprecated in SciPy 1.0.0, and will be removed in 1.2.0.\n",
      "Use ``skimage.transform.resize`` instead.\n"
     ]
    },
    {
     "name": "stdout",
     "output_type": "stream",
     "text": [
      "67/67 [==============================] - 85s 1s/step - loss: 6.7155 - categorical_accuracy: 0.2553 - val_loss: 3.1743 - val_categorical_accuracy: 0.3200\n",
      "\n",
      "Epoch 00001: saving model to model_init_2020-05-1918_24_07.458406/model-00001-6.75471-0.25792-3.17435-0.32000.h5\n",
      "Epoch 2/10\n",
      "67/67 [==============================] - 24s 362ms/step - loss: 2.9162 - categorical_accuracy: 0.2836 - val_loss: 2.1628 - val_categorical_accuracy: 0.2800\n",
      "\n",
      "Epoch 00002: saving model to model_init_2020-05-1918_24_07.458406/model-00002-2.91621-0.28358-2.16280-0.28000.h5\n",
      "Epoch 3/10\n",
      "67/67 [==============================] - 30s 445ms/step - loss: 1.9056 - categorical_accuracy: 0.3234 - val_loss: 1.2690 - val_categorical_accuracy: 0.4100\n",
      "\n",
      "Epoch 00003: saving model to model_init_2020-05-1918_24_07.458406/model-00003-1.90559-0.32338-1.26898-0.41000.h5\n",
      "Epoch 4/10\n",
      "67/67 [==============================] - 26s 394ms/step - loss: 1.6231 - categorical_accuracy: 0.3632 - val_loss: 1.1548 - val_categorical_accuracy: 0.4900\n",
      "\n",
      "Epoch 00004: saving model to model_init_2020-05-1918_24_07.458406/model-00004-1.62315-0.36318-1.15484-0.49000.h5\n",
      "Epoch 5/10\n",
      "67/67 [==============================] - 28s 415ms/step - loss: 1.5714 - categorical_accuracy: 0.3532 - val_loss: 1.8344 - val_categorical_accuracy: 0.2000\n",
      "\n",
      "Epoch 00005: saving model to model_init_2020-05-1918_24_07.458406/model-00005-1.57137-0.35323-1.83444-0.20000.h5\n",
      "Epoch 6/10\n",
      "67/67 [==============================] - 28s 416ms/step - loss: 1.5143 - categorical_accuracy: 0.3682 - val_loss: 1.5911 - val_categorical_accuracy: 0.3300\n",
      "\n",
      "Epoch 00006: saving model to model_init_2020-05-1918_24_07.458406/model-00006-1.51432-0.36816-1.59115-0.33000.h5\n",
      "\n",
      "Epoch 00006: ReduceLROnPlateau reducing learning rate to 0.5.\n",
      "Epoch 7/10\n",
      "67/67 [==============================] - 27s 397ms/step - loss: 1.3635 - categorical_accuracy: 0.4328 - val_loss: 1.4197 - val_categorical_accuracy: 0.3300\n",
      "\n",
      "Epoch 00007: saving model to model_init_2020-05-1918_24_07.458406/model-00007-1.36346-0.43284-1.41974-0.33000.h5\n",
      "Epoch 8/10\n",
      "67/67 [==============================] - 28s 416ms/step - loss: 1.3811 - categorical_accuracy: 0.3881 - val_loss: 1.1256 - val_categorical_accuracy: 0.5300\n",
      "\n",
      "Epoch 00008: saving model to model_init_2020-05-1918_24_07.458406/model-00008-1.38112-0.38806-1.12556-0.53000.h5\n",
      "Epoch 9/10\n",
      "67/67 [==============================] - 28s 415ms/step - loss: 1.2410 - categorical_accuracy: 0.4876 - val_loss: 0.9948 - val_categorical_accuracy: 0.5500\n",
      "\n",
      "Epoch 00009: saving model to model_init_2020-05-1918_24_07.458406/model-00009-1.24097-0.48756-0.99485-0.55000.h5\n",
      "Epoch 10/10\n",
      "67/67 [==============================] - 29s 427ms/step - loss: 1.2944 - categorical_accuracy: 0.4428 - val_loss: 1.0242 - val_categorical_accuracy: 0.5400\n",
      "\n",
      "Epoch 00010: saving model to model_init_2020-05-1918_24_07.458406/model-00010-1.29441-0.44279-1.02421-0.54000.h5\n"
     ]
    },
    {
     "data": {
      "text/plain": [
       "<keras.callbacks.History at 0x7fc1800179b0>"
      ]
     },
     "execution_count": 92,
     "metadata": {},
     "output_type": "execute_result"
    }
   ],
   "source": [
    "model_8.fit_generator(train_generator, steps_per_epoch=steps_per_epoch, epochs=num_epochs, verbose=1, \n",
    "                    callbacks=callbacks_list, validation_data=val_generator, \n",
    "                    validation_steps=validation_steps, class_weight=None, workers=1, initial_epoch=0)"
   ]
  },
  {
   "cell_type": "markdown",
   "metadata": {},
   "source": [
    "# Model 9"
   ]
  },
  {
   "cell_type": "code",
   "execution_count": 48,
   "metadata": {},
   "outputs": [],
   "source": [
    "x = 30 # number of frames\n",
    "y = 120 # image width\n",
    "z = 120 # image height \n",
    "\n",
    "classes = 5\n",
    "channel = 3\n",
    "\n",
    "input_shape=(x,y,z,channel)"
   ]
  },
  {
   "cell_type": "code",
   "execution_count": 49,
   "metadata": {},
   "outputs": [
    {
     "name": "stdout",
     "output_type": "stream",
     "text": [
      "_________________________________________________________________\n",
      "Layer (type)                 Output Shape              Param #   \n",
      "=================================================================\n",
      "conv3d_41 (Conv3D)           (None, 30, 120, 120, 8)   656       \n",
      "_________________________________________________________________\n",
      "batch_normalization_23 (Batc (None, 30, 120, 120, 8)   32        \n",
      "_________________________________________________________________\n",
      "activation_41 (Activation)   (None, 30, 120, 120, 8)   0         \n",
      "_________________________________________________________________\n",
      "max_pooling3d_31 (MaxPooling (None, 15, 60, 60, 8)     0         \n",
      "_________________________________________________________________\n",
      "conv3d_42 (Conv3D)           (None, 15, 60, 60, 16)    3472      \n",
      "_________________________________________________________________\n",
      "batch_normalization_24 (Batc (None, 15, 60, 60, 16)    64        \n",
      "_________________________________________________________________\n",
      "activation_42 (Activation)   (None, 15, 60, 60, 16)    0         \n",
      "_________________________________________________________________\n",
      "max_pooling3d_32 (MaxPooling (None, 7, 30, 30, 16)     0         \n",
      "_________________________________________________________________\n",
      "conv3d_43 (Conv3D)           (None, 7, 30, 30, 32)     4640      \n",
      "_________________________________________________________________\n",
      "batch_normalization_25 (Batc (None, 7, 30, 30, 32)     128       \n",
      "_________________________________________________________________\n",
      "activation_43 (Activation)   (None, 7, 30, 30, 32)     0         \n",
      "_________________________________________________________________\n",
      "max_pooling3d_33 (MaxPooling (None, 3, 15, 15, 32)     0         \n",
      "_________________________________________________________________\n",
      "conv3d_44 (Conv3D)           (None, 3, 15, 15, 64)     18496     \n",
      "_________________________________________________________________\n",
      "activation_44 (Activation)   (None, 3, 15, 15, 64)     0         \n",
      "_________________________________________________________________\n",
      "dropout_25 (Dropout)         (None, 3, 15, 15, 64)     0         \n",
      "_________________________________________________________________\n",
      "max_pooling3d_34 (MaxPooling (None, 1, 7, 7, 64)       0         \n",
      "_________________________________________________________________\n",
      "flatten_10 (Flatten)         (None, 3136)              0         \n",
      "_________________________________________________________________\n",
      "dense_24 (Dense)             (None, 1000)              3137000   \n",
      "_________________________________________________________________\n",
      "dropout_26 (Dropout)         (None, 1000)              0         \n",
      "_________________________________________________________________\n",
      "dense_25 (Dense)             (None, 500)               500500    \n",
      "_________________________________________________________________\n",
      "dropout_27 (Dropout)         (None, 500)               0         \n",
      "_________________________________________________________________\n",
      "dense_26 (Dense)             (None, 5)                 2505      \n",
      "=================================================================\n",
      "Total params: 3,667,493\n",
      "Trainable params: 3,667,381\n",
      "Non-trainable params: 112\n",
      "_________________________________________________________________\n"
     ]
    }
   ],
   "source": [
    "# Define model\n",
    "model_9 = Sequential()\n",
    "\n",
    "model_9.add(Conv3D(nb_filters[0], \n",
    "                 kernel_size=(3,3,3), \n",
    "                 input_shape=input_shape,\n",
    "                 padding='same'))\n",
    "model_9.add(BatchNormalization())\n",
    "model_9.add(Activation('relu'))\n",
    "\n",
    "model_9.add(MaxPooling3D(pool_size=(2,2,2)))\n",
    "\n",
    "model_9.add(Conv3D(nb_filters[1], \n",
    "                 kernel_size=(3,3,3), \n",
    "                 padding='same'))\n",
    "model_9.add(BatchNormalization())\n",
    "model_9.add(Activation('relu'))\n",
    "\n",
    "model_9.add(MaxPooling3D(pool_size=(2,2,2)))\n",
    "\n",
    "model_9.add(Conv3D(nb_filters[2], \n",
    "                 kernel_size=(1,3,3), \n",
    "                 padding='same'))\n",
    "model_9.add(BatchNormalization())\n",
    "model_9.add(Activation('relu'))\n",
    "\n",
    "model_9.add(MaxPooling3D(pool_size=(2,2,2)))\n",
    "\n",
    "model_9.add(Conv3D(nb_filters[3], \n",
    "                 kernel_size=(1,3,3), \n",
    "                 padding='same'))\n",
    "model_9.add(Activation('relu'))\n",
    "model_9.add(Dropout(0.25))\n",
    "\n",
    "model_9.add(MaxPooling3D(pool_size=(2,2,2)))\n",
    "\n",
    "#Flatten Layers\n",
    "model_9.add(Flatten())\n",
    "\n",
    "model_9.add(Dense(nb_dense[0], activation='relu'))\n",
    "model_9.add(Dropout(0.5))\n",
    "\n",
    "model_9.add(Dense(nb_dense[1], activation='relu'))\n",
    "model_9.add(Dropout(0.5))\n",
    "\n",
    "#softmax layer\n",
    "model_9.add(Dense(nb_dense[2], activation='softmax'))\n",
    "model_9.compile(optimizer=keras.optimizers.Adadelta(), loss='categorical_crossentropy', metrics=['categorical_accuracy'])\n",
    "model_9.summary()\n"
   ]
  },
  {
   "cell_type": "code",
   "execution_count": 50,
   "metadata": {},
   "outputs": [],
   "source": [
    "batch_size = 10\n",
    "train_generator = generator_ex(train_path, train_doc, batch_size)\n",
    "val_generator = generator_ex(val_path, val_doc, batch_size)\n",
    "num_epochs = 10"
   ]
  },
  {
   "cell_type": "code",
   "execution_count": 96,
   "metadata": {},
   "outputs": [
    {
     "name": "stdout",
     "output_type": "stream",
     "text": [
      "Source path = Source path =  Project_data/train ; batch size = 10\n",
      "Epoch 1/10\n",
      " Project_data/val ; batch size = 10\n"
     ]
    },
    {
     "name": "stderr",
     "output_type": "stream",
     "text": [
      "/mnt/disks/user/anaconda3/lib/python3.6/site-packages/ipykernel_launcher.py:19: DeprecationWarning: `imread` is deprecated!\n",
      "`imread` is deprecated in SciPy 1.0.0, and will be removed in 1.2.0.\n",
      "Use ``imageio.imread`` instead.\n",
      "/mnt/disks/user/anaconda3/lib/python3.6/site-packages/ipykernel_launcher.py:24: DeprecationWarning: `imresize` is deprecated!\n",
      "`imresize` is deprecated in SciPy 1.0.0, and will be removed in 1.2.0.\n",
      "Use ``skimage.transform.resize`` instead.\n"
     ]
    },
    {
     "name": "stdout",
     "output_type": "stream",
     "text": [
      "65/67 [============================>.] - ETA: 2s - loss: 1.7474 - categorical_accuracy: 0.3169Batch:  67 Index: 10\n"
     ]
    },
    {
     "name": "stderr",
     "output_type": "stream",
     "text": [
      "/mnt/disks/user/anaconda3/lib/python3.6/site-packages/ipykernel_launcher.py:44: DeprecationWarning: `imread` is deprecated!\n",
      "`imread` is deprecated in SciPy 1.0.0, and will be removed in 1.2.0.\n",
      "Use ``imageio.imread`` instead.\n",
      "/mnt/disks/user/anaconda3/lib/python3.6/site-packages/ipykernel_launcher.py:48: DeprecationWarning: `imresize` is deprecated!\n",
      "`imresize` is deprecated in SciPy 1.0.0, and will be removed in 1.2.0.\n",
      "Use ``skimage.transform.resize`` instead.\n"
     ]
    },
    {
     "name": "stdout",
     "output_type": "stream",
     "text": [
      "67/67 [==============================] - 86s 1s/step - loss: 1.7418 - categorical_accuracy: 0.3120 - val_loss: 1.2605 - val_categorical_accuracy: 0.3800\n",
      "\n",
      "Epoch 00001: saving model to model_init_2020-05-1918_24_07.458406/model-00001-1.74460-0.31523-1.26046-0.38000.h5\n",
      "Epoch 2/10\n",
      "67/67 [==============================] - 25s 368ms/step - loss: 1.5283 - categorical_accuracy: 0.3731 - val_loss: 1.3934 - val_categorical_accuracy: 0.3300\n",
      "\n",
      "Epoch 00002: saving model to model_init_2020-05-1918_24_07.458406/model-00002-1.52830-0.37313-1.39340-0.33000.h5\n",
      "Epoch 3/10\n",
      "67/67 [==============================] - 27s 399ms/step - loss: 1.4790 - categorical_accuracy: 0.3532 - val_loss: 1.1598 - val_categorical_accuracy: 0.4900\n",
      "\n",
      "Epoch 00003: saving model to model_init_2020-05-1918_24_07.458406/model-00003-1.47896-0.35323-1.15983-0.49000.h5\n",
      "Epoch 4/10\n",
      "67/67 [==============================] - 27s 406ms/step - loss: 1.4308 - categorical_accuracy: 0.4080 - val_loss: 1.5231 - val_categorical_accuracy: 0.4900\n",
      "\n",
      "Epoch 00004: saving model to model_init_2020-05-1918_24_07.458406/model-00004-1.43077-0.40796-1.52313-0.49000.h5\n",
      "Epoch 5/10\n",
      "67/67 [==============================] - 27s 410ms/step - loss: 1.3130 - categorical_accuracy: 0.4975 - val_loss: 1.2447 - val_categorical_accuracy: 0.4200\n",
      "\n",
      "Epoch 00005: saving model to model_init_2020-05-1918_24_07.458406/model-00005-1.31297-0.49751-1.24470-0.42000.h5\n",
      "\n",
      "Epoch 00005: ReduceLROnPlateau reducing learning rate to 0.5.\n",
      "Epoch 6/10\n",
      "67/67 [==============================] - 27s 404ms/step - loss: 1.2059 - categorical_accuracy: 0.4876 - val_loss: 1.0328 - val_categorical_accuracy: 0.6200\n",
      "\n",
      "Epoch 00006: saving model to model_init_2020-05-1918_24_07.458406/model-00006-1.20590-0.48756-1.03279-0.62000.h5\n",
      "Epoch 7/10\n",
      "67/67 [==============================] - 28s 414ms/step - loss: 1.0918 - categorical_accuracy: 0.6070 - val_loss: 0.9338 - val_categorical_accuracy: 0.6000\n",
      "\n",
      "Epoch 00007: saving model to model_init_2020-05-1918_24_07.458406/model-00007-1.09183-0.60697-0.93384-0.60000.h5\n",
      "Epoch 8/10\n",
      "67/67 [==============================] - 27s 402ms/step - loss: 0.8979 - categorical_accuracy: 0.6219 - val_loss: 1.0189 - val_categorical_accuracy: 0.5400\n",
      "\n",
      "Epoch 00008: saving model to model_init_2020-05-1918_24_07.458406/model-00008-0.89789-0.62189-1.01888-0.54000.h5\n",
      "Epoch 9/10\n",
      "67/67 [==============================] - 28s 419ms/step - loss: 0.9794 - categorical_accuracy: 0.5871 - val_loss: 0.9567 - val_categorical_accuracy: 0.6600\n",
      "\n",
      "Epoch 00009: saving model to model_init_2020-05-1918_24_07.458406/model-00009-0.97941-0.58706-0.95672-0.66000.h5\n",
      "\n",
      "Epoch 00009: ReduceLROnPlateau reducing learning rate to 0.25.\n",
      "Epoch 10/10\n",
      "67/67 [==============================] - 27s 401ms/step - loss: 0.8119 - categorical_accuracy: 0.6866 - val_loss: 0.8088 - val_categorical_accuracy: 0.6900\n",
      "\n",
      "Epoch 00010: saving model to model_init_2020-05-1918_24_07.458406/model-00010-0.81188-0.68657-0.80880-0.69000.h5\n"
     ]
    },
    {
     "data": {
      "text/plain": [
       "<keras.callbacks.History at 0x7fc17e736048>"
      ]
     },
     "execution_count": 96,
     "metadata": {},
     "output_type": "execute_result"
    }
   ],
   "source": [
    "model_9.fit_generator(train_generator, steps_per_epoch=steps_per_epoch, epochs=num_epochs, verbose=1, \n",
    "                    callbacks=callbacks_list, validation_data=val_generator, \n",
    "                    validation_steps=validation_steps, class_weight=None, workers=1, initial_epoch=0)"
   ]
  },
  {
   "cell_type": "markdown",
   "metadata": {},
   "source": [
    "Epoch 10/10 `categorical_accuracy: 0.6866` - `val_categorical_accuracy: 0.6900`\n",
    "\n",
    "Epoch 00010: saving model to model_init_2020-05-1918_24_07.458406/model-00010-0.81188-0.68657-0.80880-0.69000.h5"
   ]
  },
  {
   "cell_type": "markdown",
   "metadata": {},
   "source": [
    "# Model 10  `Final Model`"
   ]
  },
  {
   "cell_type": "code",
   "execution_count": 51,
   "metadata": {},
   "outputs": [],
   "source": [
    "nb_filters = [8,16,32,64]\n",
    "nb_dense = [256, 128, 5]\n",
    "\n",
    "# Input\n",
    "input_shape=(30,120,120,3)"
   ]
  },
  {
   "cell_type": "code",
   "execution_count": 52,
   "metadata": {},
   "outputs": [],
   "source": [
    "# Define model\n",
    "model_final = Sequential()\n",
    "\n",
    "model_final.add(Conv3D(nb_filters[0], \n",
    "                 kernel_size=(3,3,3), \n",
    "                 input_shape=input_shape,\n",
    "                 padding='same'))\n",
    "model_final.add(BatchNormalization())\n",
    "model_final.add(Activation('relu'))\n",
    "\n",
    "model_final.add(MaxPooling3D(pool_size=(2,2,2)))\n",
    "\n",
    "model_final.add(Conv3D(nb_filters[1], \n",
    "                 kernel_size=(3,3,3), \n",
    "                 padding='same'))\n",
    "model_final.add(BatchNormalization())\n",
    "model_final.add(Activation('relu'))\n",
    "\n",
    "model_final.add(MaxPooling3D(pool_size=(2,2,2)))\n",
    "\n",
    "model_final.add(Conv3D(nb_filters[2], \n",
    "                 kernel_size=(1,3,3), \n",
    "                 padding='same'))\n",
    "model_final.add(BatchNormalization())\n",
    "model_final.add(Activation('relu'))\n",
    "\n",
    "model_final.add(MaxPooling3D(pool_size=(2,2,2)))\n",
    "\n",
    "model_final.add(Conv3D(nb_filters[3], \n",
    "                 kernel_size=(1,3,3), \n",
    "                 padding='same'))\n",
    "model_final.add(Activation('relu'))\n",
    "model_final.add(Dropout(0.25))\n",
    "\n",
    "model_final.add(MaxPooling3D(pool_size=(2,2,2)))\n",
    "\n",
    "#Flatten Layers\n",
    "model_final.add(Flatten())\n",
    "\n",
    "model_final.add(Dense(nb_dense[0], activation='relu'))\n",
    "model_final.add(Dropout(0.5))\n",
    "\n",
    "model_final.add(Dense(nb_dense[1], activation='relu'))\n",
    "model_final.add(Dropout(0.5))\n",
    "\n",
    "#softmax layer\n",
    "model_final.add(Dense(nb_dense[2], activation='softmax'))"
   ]
  },
  {
   "cell_type": "code",
   "execution_count": 53,
   "metadata": {},
   "outputs": [
    {
     "name": "stdout",
     "output_type": "stream",
     "text": [
      "_________________________________________________________________\n",
      "Layer (type)                 Output Shape              Param #   \n",
      "=================================================================\n",
      "conv3d_45 (Conv3D)           (None, 30, 120, 120, 8)   656       \n",
      "_________________________________________________________________\n",
      "batch_normalization_26 (Batc (None, 30, 120, 120, 8)   32        \n",
      "_________________________________________________________________\n",
      "activation_45 (Activation)   (None, 30, 120, 120, 8)   0         \n",
      "_________________________________________________________________\n",
      "max_pooling3d_35 (MaxPooling (None, 15, 60, 60, 8)     0         \n",
      "_________________________________________________________________\n",
      "conv3d_46 (Conv3D)           (None, 15, 60, 60, 16)    3472      \n",
      "_________________________________________________________________\n",
      "batch_normalization_27 (Batc (None, 15, 60, 60, 16)    64        \n",
      "_________________________________________________________________\n",
      "activation_46 (Activation)   (None, 15, 60, 60, 16)    0         \n",
      "_________________________________________________________________\n",
      "max_pooling3d_36 (MaxPooling (None, 7, 30, 30, 16)     0         \n",
      "_________________________________________________________________\n",
      "conv3d_47 (Conv3D)           (None, 7, 30, 30, 32)     4640      \n",
      "_________________________________________________________________\n",
      "batch_normalization_28 (Batc (None, 7, 30, 30, 32)     128       \n",
      "_________________________________________________________________\n",
      "activation_47 (Activation)   (None, 7, 30, 30, 32)     0         \n",
      "_________________________________________________________________\n",
      "max_pooling3d_37 (MaxPooling (None, 3, 15, 15, 32)     0         \n",
      "_________________________________________________________________\n",
      "conv3d_48 (Conv3D)           (None, 3, 15, 15, 64)     18496     \n",
      "_________________________________________________________________\n",
      "activation_48 (Activation)   (None, 3, 15, 15, 64)     0         \n",
      "_________________________________________________________________\n",
      "dropout_28 (Dropout)         (None, 3, 15, 15, 64)     0         \n",
      "_________________________________________________________________\n",
      "max_pooling3d_38 (MaxPooling (None, 1, 7, 7, 64)       0         \n",
      "_________________________________________________________________\n",
      "flatten_11 (Flatten)         (None, 3136)              0         \n",
      "_________________________________________________________________\n",
      "dense_27 (Dense)             (None, 256)               803072    \n",
      "_________________________________________________________________\n",
      "dropout_29 (Dropout)         (None, 256)               0         \n",
      "_________________________________________________________________\n",
      "dense_28 (Dense)             (None, 128)               32896     \n",
      "_________________________________________________________________\n",
      "dropout_30 (Dropout)         (None, 128)               0         \n",
      "_________________________________________________________________\n",
      "dense_29 (Dense)             (None, 5)                 645       \n",
      "=================================================================\n",
      "Total params: 864,101\n",
      "Trainable params: 863,989\n",
      "Non-trainable params: 112\n",
      "_________________________________________________________________\n",
      "None\n"
     ]
    }
   ],
   "source": [
    "optimiser = keras.optimizers.Adam() #write your optimizer\n",
    "model_final.compile(optimizer=optimiser, loss='categorical_crossentropy', metrics=['categorical_accuracy'])\n",
    "print (model_final.summary())"
   ]
  },
  {
   "cell_type": "code",
   "execution_count": 54,
   "metadata": {},
   "outputs": [],
   "source": [
    "train_generator = generator_ex(train_path, train_doc, batch_size)\n",
    "val_generator = generator_ex(val_path, val_doc, batch_size)"
   ]
  },
  {
   "cell_type": "code",
   "execution_count": 55,
   "metadata": {},
   "outputs": [
    {
     "name": "stdout",
     "output_type": "stream",
     "text": [
      "Source path =  Project_data/val ; batch size = 10\n",
      "Source path =  Project_data/train ; batch size = 10\n",
      "Epoch 1/20\n",
      "65/67 [============================>.] - ETA: 6s - loss: 1.9290 - categorical_accuracy: 0.2677 Batch:  67 Index: 10\n",
      "67/67 [==============================] - 228s 3s/step - loss: 1.9131 - categorical_accuracy: 0.2642 - val_loss: 1.3580 - val_categorical_accuracy: 0.3500\n",
      "\n",
      "Epoch 00001: saving model to model_init_2020-05-2007_01_46.608464/model-00001-1.91648-0.26697-1.35803-0.35000.h5\n",
      "Epoch 2/20\n",
      "67/67 [==============================] - 27s 399ms/step - loss: 1.4457 - categorical_accuracy: 0.3483 - val_loss: 1.5636 - val_categorical_accuracy: 0.2300\n",
      "\n",
      "Epoch 00002: saving model to model_init_2020-05-2007_01_46.608464/model-00002-1.44568-0.34826-1.56359-0.23000.h5\n",
      "Epoch 3/20\n",
      "67/67 [==============================] - 28s 421ms/step - loss: 1.5339 - categorical_accuracy: 0.2886 - val_loss: 1.3649 - val_categorical_accuracy: 0.4700\n",
      "\n",
      "Epoch 00003: saving model to model_init_2020-05-2007_01_46.608464/model-00003-1.53390-0.28856-1.36486-0.47000.h5\n",
      "\n",
      "Epoch 00003: ReduceLROnPlateau reducing learning rate to 0.0005000000237487257.\n",
      "Epoch 4/20\n",
      "67/67 [==============================] - 27s 396ms/step - loss: 1.3713 - categorical_accuracy: 0.3881 - val_loss: 1.1636 - val_categorical_accuracy: 0.5500\n",
      "\n",
      "Epoch 00004: saving model to model_init_2020-05-2007_01_46.608464/model-00004-1.37126-0.38806-1.16360-0.55000.h5\n",
      "Epoch 5/20\n",
      "67/67 [==============================] - 28s 420ms/step - loss: 1.4237 - categorical_accuracy: 0.3831 - val_loss: 1.2146 - val_categorical_accuracy: 0.5500\n",
      "\n",
      "Epoch 00005: saving model to model_init_2020-05-2007_01_46.608464/model-00005-1.42367-0.38308-1.21457-0.55000.h5\n",
      "Epoch 6/20\n",
      "67/67 [==============================] - 29s 430ms/step - loss: 1.3287 - categorical_accuracy: 0.4030 - val_loss: 1.1473 - val_categorical_accuracy: 0.5300\n",
      "\n",
      "Epoch 00006: saving model to model_init_2020-05-2007_01_46.608464/model-00006-1.32872-0.40299-1.14728-0.53000.h5\n",
      "Epoch 7/20\n",
      "67/67 [==============================] - 28s 412ms/step - loss: 1.3142 - categorical_accuracy: 0.4229 - val_loss: 1.1649 - val_categorical_accuracy: 0.4400\n",
      "\n",
      "Epoch 00007: saving model to model_init_2020-05-2007_01_46.608464/model-00007-1.31422-0.42289-1.16485-0.44000.h5\n",
      "Epoch 8/20\n",
      "67/67 [==============================] - 27s 398ms/step - loss: 1.2682 - categorical_accuracy: 0.4527 - val_loss: 1.1671 - val_categorical_accuracy: 0.5400\n",
      "\n",
      "Epoch 00008: saving model to model_init_2020-05-2007_01_46.608464/model-00008-1.26822-0.45274-1.16706-0.54000.h5\n",
      "\n",
      "Epoch 00008: ReduceLROnPlateau reducing learning rate to 0.0002500000118743628.\n",
      "Epoch 9/20\n",
      "67/67 [==============================] - 28s 425ms/step - loss: 1.2059 - categorical_accuracy: 0.4627 - val_loss: 1.0058 - val_categorical_accuracy: 0.6300\n",
      "\n",
      "Epoch 00009: saving model to model_init_2020-05-2007_01_46.608464/model-00009-1.20588-0.46269-1.00577-0.63000.h5\n",
      "Epoch 10/20\n",
      "67/67 [==============================] - 28s 412ms/step - loss: 1.1015 - categorical_accuracy: 0.5274 - val_loss: 0.9576 - val_categorical_accuracy: 0.6500\n",
      "\n",
      "Epoch 00010: saving model to model_init_2020-05-2007_01_46.608464/model-00010-1.10154-0.52736-0.95764-0.65000.h5\n",
      "Epoch 11/20\n",
      "67/67 [==============================] - 25s 378ms/step - loss: 1.1422 - categorical_accuracy: 0.5572 - val_loss: 0.9339 - val_categorical_accuracy: 0.6900\n",
      "\n",
      "Epoch 00011: saving model to model_init_2020-05-2007_01_46.608464/model-00011-1.14220-0.55721-0.93388-0.69000.h5\n",
      "Epoch 12/20\n",
      "67/67 [==============================] - 27s 398ms/step - loss: 1.0278 - categorical_accuracy: 0.5672 - val_loss: 1.0454 - val_categorical_accuracy: 0.6000\n",
      "\n",
      "Epoch 00012: saving model to model_init_2020-05-2007_01_46.608464/model-00012-1.02780-0.56716-1.04541-0.60000.h5\n",
      "Epoch 13/20\n",
      "67/67 [==============================] - 27s 404ms/step - loss: 1.1131 - categorical_accuracy: 0.4925 - val_loss: 1.0116 - val_categorical_accuracy: 0.5700\n",
      "\n",
      "Epoch 00013: saving model to model_init_2020-05-2007_01_46.608464/model-00013-1.11313-0.49254-1.01158-0.57000.h5\n",
      "\n",
      "Epoch 00013: ReduceLROnPlateau reducing learning rate to 0.0001250000059371814.\n",
      "Epoch 14/20\n",
      "67/67 [==============================] - 29s 429ms/step - loss: 1.0471 - categorical_accuracy: 0.5423 - val_loss: 0.9543 - val_categorical_accuracy: 0.6200\n",
      "\n",
      "Epoch 00014: saving model to model_init_2020-05-2007_01_46.608464/model-00014-1.04712-0.54229-0.95430-0.62000.h5\n",
      "Epoch 15/20\n",
      "67/67 [==============================] - 27s 405ms/step - loss: 1.0047 - categorical_accuracy: 0.5871 - val_loss: 0.9501 - val_categorical_accuracy: 0.6200\n",
      "\n",
      "Epoch 00015: saving model to model_init_2020-05-2007_01_46.608464/model-00015-1.00468-0.58706-0.95013-0.62000.h5\n",
      "\n",
      "Epoch 00015: ReduceLROnPlateau reducing learning rate to 6.25000029685907e-05.\n",
      "Epoch 16/20\n",
      "67/67 [==============================] - 28s 420ms/step - loss: 0.9965 - categorical_accuracy: 0.5771 - val_loss: 0.9216 - val_categorical_accuracy: 0.6000\n",
      "\n",
      "Epoch 00016: saving model to model_init_2020-05-2007_01_46.608464/model-00016-0.99647-0.57711-0.92158-0.60000.h5\n",
      "Epoch 17/20\n",
      "67/67 [==============================] - 28s 411ms/step - loss: 0.9473 - categorical_accuracy: 0.6269 - val_loss: 0.8798 - val_categorical_accuracy: 0.6800\n",
      "\n",
      "Epoch 00017: saving model to model_init_2020-05-2007_01_46.608464/model-00017-0.94729-0.62687-0.87977-0.68000.h5\n",
      "Epoch 18/20\n",
      "67/67 [==============================] - 27s 407ms/step - loss: 0.9912 - categorical_accuracy: 0.5721 - val_loss: 0.8880 - val_categorical_accuracy: 0.6300\n",
      "\n",
      "Epoch 00018: saving model to model_init_2020-05-2007_01_46.608464/model-00018-0.99121-0.57214-0.88798-0.63000.h5\n",
      "Epoch 19/20\n",
      "67/67 [==============================] - 27s 400ms/step - loss: 0.8476 - categorical_accuracy: 0.6567 - val_loss: 0.8562 - val_categorical_accuracy: 0.6800\n",
      "\n",
      "Epoch 00019: saving model to model_init_2020-05-2007_01_46.608464/model-00019-0.84761-0.65672-0.85624-0.68000.h5\n",
      "Epoch 20/20\n",
      "67/67 [==============================] - 29s 440ms/step - loss: 0.9863 - categorical_accuracy: 0.5821 - val_loss: 0.8476 - val_categorical_accuracy: 0.6900\n",
      "\n",
      "Epoch 00020: saving model to model_init_2020-05-2007_01_46.608464/model-00020-0.98628-0.58209-0.84756-0.69000.h5\n"
     ]
    },
    {
     "data": {
      "text/plain": [
       "<keras.callbacks.History at 0x7f85169b3be0>"
      ]
     },
     "execution_count": 55,
     "metadata": {},
     "output_type": "execute_result"
    }
   ],
   "source": [
    "batch_size = 10\n",
    "num_epochs = 20\n",
    "model_final.fit_generator(train_generator, steps_per_epoch=steps_per_epoch, epochs=num_epochs, verbose=1, \n",
    "                    callbacks=callbacks_list, validation_data=val_generator, \n",
    "                    validation_steps=validation_steps, class_weight=None, workers=1, initial_epoch=0)"
   ]
  },
  {
   "cell_type": "code",
   "execution_count": 56,
   "metadata": {},
   "outputs": [
    {
     "name": "stdout",
     "output_type": "stream",
     "text": [
      "Epoch 1/20\n",
      "67/67 [==============================] - 29s 425ms/step - loss: 0.9019 - categorical_accuracy: 0.6318 - val_loss: 0.8696 - val_categorical_accuracy: 0.6500\n",
      "\n",
      "Epoch 00001: saving model to model_init_2020-05-2007_01_46.608464/model-00001-0.90194-0.63184-0.86959-0.65000.h5\n",
      "Epoch 2/20\n",
      "67/67 [==============================] - 28s 416ms/step - loss: 0.9171 - categorical_accuracy: 0.5622 - val_loss: 0.7775 - val_categorical_accuracy: 0.7600\n",
      "\n",
      "Epoch 00002: saving model to model_init_2020-05-2007_01_46.608464/model-00002-0.91714-0.56219-0.77747-0.76000.h5\n",
      "Epoch 3/20\n",
      "67/67 [==============================] - 27s 403ms/step - loss: 0.9289 - categorical_accuracy: 0.6269 - val_loss: 0.8008 - val_categorical_accuracy: 0.7500\n",
      "\n",
      "Epoch 00003: saving model to model_init_2020-05-2007_01_46.608464/model-00003-0.92889-0.62687-0.80076-0.75000.h5\n",
      "Epoch 4/20\n",
      "67/67 [==============================] - 26s 392ms/step - loss: 0.8536 - categorical_accuracy: 0.6617 - val_loss: 0.8708 - val_categorical_accuracy: 0.6400\n",
      "\n",
      "Epoch 00004: saving model to model_init_2020-05-2007_01_46.608464/model-00004-0.85357-0.66169-0.87085-0.64000.h5\n",
      "\n",
      "Epoch 00004: ReduceLROnPlateau reducing learning rate to 3.125000148429535e-05.\n",
      "Epoch 5/20\n",
      "67/67 [==============================] - 28s 415ms/step - loss: 0.9174 - categorical_accuracy: 0.6318 - val_loss: 0.7822 - val_categorical_accuracy: 0.7000\n",
      "\n",
      "Epoch 00005: saving model to model_init_2020-05-2007_01_46.608464/model-00005-0.91744-0.63184-0.78218-0.70000.h5\n",
      "Epoch 6/20\n",
      "67/67 [==============================] - 28s 414ms/step - loss: 0.8895 - categorical_accuracy: 0.6269 - val_loss: 0.8322 - val_categorical_accuracy: 0.6800\n",
      "\n",
      "Epoch 00006: saving model to model_init_2020-05-2007_01_46.608464/model-00006-0.88946-0.62687-0.83216-0.68000.h5\n",
      "\n",
      "Epoch 00006: ReduceLROnPlateau reducing learning rate to 1.5625000742147677e-05.\n",
      "Epoch 7/20\n",
      "67/67 [==============================] - 29s 429ms/step - loss: 0.8605 - categorical_accuracy: 0.6517 - val_loss: 0.8139 - val_categorical_accuracy: 0.6900\n",
      "\n",
      "Epoch 00007: saving model to model_init_2020-05-2007_01_46.608464/model-00007-0.86047-0.65174-0.81394-0.69000.h5\n",
      "Epoch 8/20\n",
      "67/67 [==============================] - 28s 418ms/step - loss: 0.7772 - categorical_accuracy: 0.6667 - val_loss: 0.8280 - val_categorical_accuracy: 0.6700\n",
      "\n",
      "Epoch 00008: saving model to model_init_2020-05-2007_01_46.608464/model-00008-0.77720-0.66667-0.82800-0.67000.h5\n",
      "\n",
      "Epoch 00008: ReduceLROnPlateau reducing learning rate to 7.812500371073838e-06.\n",
      "Epoch 9/20\n",
      "67/67 [==============================] - 27s 406ms/step - loss: 0.8107 - categorical_accuracy: 0.6965 - val_loss: 0.8266 - val_categorical_accuracy: 0.6600\n",
      "\n",
      "Epoch 00009: saving model to model_init_2020-05-2007_01_46.608464/model-00009-0.81074-0.69652-0.82661-0.66000.h5\n",
      "Epoch 10/20\n",
      "67/67 [==============================] - 27s 397ms/step - loss: 0.9262 - categorical_accuracy: 0.5821 - val_loss: 0.7673 - val_categorical_accuracy: 0.7200\n",
      "\n",
      "Epoch 00010: saving model to model_init_2020-05-2007_01_46.608464/model-00010-0.92620-0.58209-0.76725-0.72000.h5\n",
      "Epoch 11/20\n",
      "67/67 [==============================] - 29s 434ms/step - loss: 0.7779 - categorical_accuracy: 0.6667 - val_loss: 0.8522 - val_categorical_accuracy: 0.6800\n",
      "\n",
      "Epoch 00011: saving model to model_init_2020-05-2007_01_46.608464/model-00011-0.77790-0.66667-0.85224-0.68000.h5\n",
      "Epoch 12/20\n",
      "67/67 [==============================] - 28s 412ms/step - loss: 0.7935 - categorical_accuracy: 0.7015 - val_loss: 0.7909 - val_categorical_accuracy: 0.6800\n",
      "\n",
      "Epoch 00012: saving model to model_init_2020-05-2007_01_46.608464/model-00012-0.79353-0.70149-0.79090-0.68000.h5\n",
      "\n",
      "Epoch 00012: ReduceLROnPlateau reducing learning rate to 3.906250185536919e-06.\n",
      "Epoch 13/20\n",
      "67/67 [==============================] - 27s 397ms/step - loss: 0.8521 - categorical_accuracy: 0.6418 - val_loss: 0.7556 - val_categorical_accuracy: 0.7400\n",
      "\n",
      "Epoch 00013: saving model to model_init_2020-05-2007_01_46.608464/model-00013-0.85212-0.64179-0.75557-0.74000.h5\n",
      "Epoch 14/20\n",
      "67/67 [==============================] - 26s 395ms/step - loss: 0.8623 - categorical_accuracy: 0.6567 - val_loss: 0.8087 - val_categorical_accuracy: 0.7000\n",
      "\n",
      "Epoch 00014: saving model to model_init_2020-05-2007_01_46.608464/model-00014-0.86233-0.65672-0.80870-0.70000.h5\n",
      "Epoch 15/20\n",
      "67/67 [==============================] - 28s 422ms/step - loss: 0.8109 - categorical_accuracy: 0.6517 - val_loss: 0.8247 - val_categorical_accuracy: 0.6800\n",
      "\n",
      "Epoch 00015: saving model to model_init_2020-05-2007_01_46.608464/model-00015-0.81087-0.65174-0.82473-0.68000.h5\n",
      "\n",
      "Epoch 00015: ReduceLROnPlateau reducing learning rate to 1.9531250927684596e-06.\n",
      "Epoch 16/20\n",
      "67/67 [==============================] - 26s 395ms/step - loss: 0.8205 - categorical_accuracy: 0.6567 - val_loss: 0.8020 - val_categorical_accuracy: 0.6900\n",
      "\n",
      "Epoch 00016: saving model to model_init_2020-05-2007_01_46.608464/model-00016-0.82046-0.65672-0.80205-0.69000.h5\n",
      "Epoch 17/20\n",
      "67/67 [==============================] - 28s 412ms/step - loss: 0.7606 - categorical_accuracy: 0.6766 - val_loss: 0.7526 - val_categorical_accuracy: 0.7300\n",
      "\n",
      "Epoch 00017: saving model to model_init_2020-05-2007_01_46.608464/model-00017-0.76062-0.67662-0.75263-0.73000.h5\n",
      "Epoch 18/20\n",
      "67/67 [==============================] - 28s 425ms/step - loss: 0.8309 - categorical_accuracy: 0.6816 - val_loss: 0.8481 - val_categorical_accuracy: 0.6700\n",
      "\n",
      "Epoch 00018: saving model to model_init_2020-05-2007_01_46.608464/model-00018-0.83088-0.68159-0.84810-0.67000.h5\n",
      "Epoch 19/20\n",
      "67/67 [==============================] - 27s 403ms/step - loss: 0.9323 - categorical_accuracy: 0.6269 - val_loss: 0.7830 - val_categorical_accuracy: 0.7300\n",
      "\n",
      "Epoch 00019: saving model to model_init_2020-05-2007_01_46.608464/model-00019-0.93228-0.62687-0.78300-0.73000.h5\n",
      "\n",
      "Epoch 00019: ReduceLROnPlateau reducing learning rate to 9.765625463842298e-07.\n",
      "Epoch 20/20\n",
      "67/67 [==============================] - 28s 416ms/step - loss: 0.8314 - categorical_accuracy: 0.6915 - val_loss: 0.7844 - val_categorical_accuracy: 0.7000\n",
      "\n",
      "Epoch 00020: saving model to model_init_2020-05-2007_01_46.608464/model-00020-0.83137-0.69154-0.78444-0.70000.h5\n"
     ]
    },
    {
     "data": {
      "text/plain": [
       "<keras.callbacks.History at 0x7f85148701d0>"
      ]
     },
     "execution_count": 56,
     "metadata": {},
     "output_type": "execute_result"
    }
   ],
   "source": [
    "batch_size = 32\n",
    "num_epochs = 20\n",
    "model_final.fit_generator(train_generator, steps_per_epoch=steps_per_epoch, epochs=num_epochs, verbose=1, \n",
    "                    callbacks=callbacks_list, validation_data=val_generator, \n",
    "                    validation_steps=validation_steps, class_weight=None, workers=1, initial_epoch=0)"
   ]
  },
  {
   "cell_type": "code",
   "execution_count": 57,
   "metadata": {},
   "outputs": [
    {
     "name": "stdout",
     "output_type": "stream",
     "text": [
      "Source path = Source path =  Project_data/train  Project_data/val ; batch size = 64\n",
      "; batch size = 64\n",
      "Epoch 1/20\n",
      "Batch:  2 Index: 64\n",
      " 2/67 [..............................] - ETA: 10:52 - loss: 0.7341 - categorical_accuracy: 0.6953Batch:  3 Index: 36\n",
      " 4/67 [>.............................] - ETA: 10:03 - loss: 0.7829 - categorical_accuracy: 0.6797Batch:  4 Index: 28\n",
      " 9/67 [===>..........................] - ETA: 8:31 - loss: 0.7807 - categorical_accuracy: 0.6736Batch:  11 Index: 64\n",
      "38/67 [================>.............] - ETA: 2:05 - loss: 0.7921 - categorical_accuracy: 0.6810Batch:  29 Index: 23\n",
      "67/67 [==============================] - 238s 4s/step - loss: 0.8160 - categorical_accuracy: 0.6739 - val_loss: 0.8086 - val_categorical_accuracy: 0.6899\n",
      "\n",
      "Epoch 00001: saving model to model_init_2020-05-2007_01_46.608464/model-00001-0.80642-0.67374-0.80856-0.68987.h5\n",
      "Epoch 2/20\n",
      " 5/67 [=>............................] - ETA: 1:42 - loss: 0.6825 - categorical_accuracy: 0.7684Batch:  7 Index: 16\n",
      " 6/67 [=>............................] - ETA: 1:59 - loss: 0.7491 - categorical_accuracy: 0.7281Batch:  35 Index: 19\n",
      "67/67 [==============================] - 137s 2s/step - loss: 0.7795 - categorical_accuracy: 0.6863 - val_loss: 0.8151 - val_categorical_accuracy: 0.7300\n",
      "\n",
      "Epoch 00002: saving model to model_init_2020-05-2007_01_46.608464/model-00002-0.77896-0.68690-0.81509-0.73000.h5\n",
      "Epoch 3/20\n",
      "67/67 [==============================] - 138s 2s/step - loss: 0.7890 - categorical_accuracy: 0.6901 - val_loss: 0.6994 - val_categorical_accuracy: 0.6750\n",
      "\n",
      "Epoch 00003: saving model to model_init_2020-05-2007_01_46.608464/model-00003-0.78898-0.69008-0.69939-0.67500.h5\n",
      "Epoch 4/20\n",
      "67/67 [==============================] - 139s 2s/step - loss: 0.7829 - categorical_accuracy: 0.6962 - val_loss: 0.9041 - val_categorical_accuracy: 0.7000\n",
      "\n",
      "Epoch 00004: saving model to model_init_2020-05-2007_01_46.608464/model-00004-0.78288-0.69622-0.90409-0.70000.h5\n",
      "Epoch 5/20\n",
      "67/67 [==============================] - 136s 2s/step - loss: 0.7948 - categorical_accuracy: 0.6813 - val_loss: 0.7649 - val_categorical_accuracy: 0.7250\n",
      "\n",
      "Epoch 00005: saving model to model_init_2020-05-2007_01_46.608464/model-00005-0.79475-0.68130-0.76487-0.72500.h5\n",
      "\n",
      "Epoch 00005: ReduceLROnPlateau reducing learning rate to 4.882812731921149e-07.\n",
      "Epoch 6/20\n",
      "67/67 [==============================] - 139s 2s/step - loss: 0.7854 - categorical_accuracy: 0.6629 - val_loss: 0.8515 - val_categorical_accuracy: 0.7000\n",
      "\n",
      "Epoch 00006: saving model to model_init_2020-05-2007_01_46.608464/model-00006-0.78535-0.66286-0.85146-0.70000.h5\n",
      "Epoch 7/20\n",
      "67/67 [==============================] - 138s 2s/step - loss: 0.8021 - categorical_accuracy: 0.6822 - val_loss: 0.8005 - val_categorical_accuracy: 0.7250\n",
      "\n",
      "Epoch 00007: saving model to model_init_2020-05-2007_01_46.608464/model-00007-0.80209-0.68218-0.80054-0.72500.h5\n",
      "\n",
      "Epoch 00007: ReduceLROnPlateau reducing learning rate to 2.4414063659605745e-07.\n",
      "Epoch 8/20\n",
      "67/67 [==============================] - 138s 2s/step - loss: 0.7740 - categorical_accuracy: 0.6953 - val_loss: 0.6773 - val_categorical_accuracy: 0.7250\n",
      "\n",
      "Epoch 00008: saving model to model_init_2020-05-2007_01_46.608464/model-00008-0.77395-0.69535-0.67726-0.72500.h5\n",
      "Epoch 9/20\n",
      "67/67 [==============================] - 137s 2s/step - loss: 0.8022 - categorical_accuracy: 0.6602 - val_loss: 0.8828 - val_categorical_accuracy: 0.7000\n",
      "\n",
      "Epoch 00009: saving model to model_init_2020-05-2007_01_46.608464/model-00009-0.80222-0.66023-0.88280-0.70000.h5\n",
      "Epoch 10/20\n",
      "67/67 [==============================] - 135s 2s/step - loss: 0.7745 - categorical_accuracy: 0.6874 - val_loss: 0.8093 - val_categorical_accuracy: 0.6500\n",
      "\n",
      "Epoch 00010: saving model to model_init_2020-05-2007_01_46.608464/model-00010-0.77452-0.68745-0.80931-0.65000.h5\n",
      "\n",
      "Epoch 00010: ReduceLROnPlateau reducing learning rate to 1.2207031829802872e-07.\n",
      "Epoch 11/20\n",
      "67/67 [==============================] - 137s 2s/step - loss: 0.7717 - categorical_accuracy: 0.7015 - val_loss: 0.7890 - val_categorical_accuracy: 0.7500\n",
      "\n",
      "Epoch 00011: saving model to model_init_2020-05-2007_01_46.608464/model-00011-0.77167-0.70149-0.78902-0.75000.h5\n",
      "Epoch 12/20\n",
      "67/67 [==============================] - 135s 2s/step - loss: 0.7884 - categorical_accuracy: 0.6725 - val_loss: 0.8219 - val_categorical_accuracy: 0.7250\n",
      "\n",
      "Epoch 00012: saving model to model_init_2020-05-2007_01_46.608464/model-00012-0.78836-0.67252-0.82187-0.72500.h5\n",
      "\n",
      "Epoch 00012: ReduceLROnPlateau reducing learning rate to 6.103515914901436e-08.\n",
      "Epoch 13/20\n",
      "67/67 [==============================] - 139s 2s/step - loss: 0.7781 - categorical_accuracy: 0.6866 - val_loss: 0.9057 - val_categorical_accuracy: 0.6000\n",
      "\n",
      "Epoch 00013: saving model to model_init_2020-05-2007_01_46.608464/model-00013-0.77806-0.68657-0.90570-0.60000.h5\n",
      "Epoch 14/20\n",
      "67/67 [==============================] - 136s 2s/step - loss: 0.7519 - categorical_accuracy: 0.6980 - val_loss: 0.6537 - val_categorical_accuracy: 0.8250\n",
      "\n",
      "Epoch 00014: saving model to model_init_2020-05-2007_01_46.608464/model-00014-0.75188-0.69798-0.65366-0.82500.h5\n",
      "Epoch 15/20\n",
      "67/67 [==============================] - 138s 2s/step - loss: 0.7861 - categorical_accuracy: 0.6831 - val_loss: 0.8422 - val_categorical_accuracy: 0.6750\n",
      "\n",
      "Epoch 00015: saving model to model_init_2020-05-2007_01_46.608464/model-00015-0.78607-0.68306-0.84223-0.67500.h5\n",
      "Epoch 16/20\n",
      "67/67 [==============================] - 138s 2s/step - loss: 0.7504 - categorical_accuracy: 0.6901 - val_loss: 0.7453 - val_categorical_accuracy: 0.7250\n",
      "\n",
      "Epoch 00016: saving model to model_init_2020-05-2007_01_46.608464/model-00016-0.75038-0.69008-0.74530-0.72500.h5\n",
      "\n",
      "Epoch 00016: ReduceLROnPlateau reducing learning rate to 3.051757957450718e-08.\n",
      "Epoch 17/20\n",
      "67/67 [==============================] - 137s 2s/step - loss: 0.7991 - categorical_accuracy: 0.6664 - val_loss: 0.8125 - val_categorical_accuracy: 0.7250\n",
      "\n",
      "Epoch 00017: saving model to model_init_2020-05-2007_01_46.608464/model-00017-0.79906-0.66637-0.81248-0.72500.h5\n",
      "Epoch 18/20\n",
      "67/67 [==============================] - 138s 2s/step - loss: 0.7617 - categorical_accuracy: 0.6927 - val_loss: 0.7878 - val_categorical_accuracy: 0.7250\n",
      "\n",
      "Epoch 00018: saving model to model_init_2020-05-2007_01_46.608464/model-00018-0.76167-0.69271-0.78778-0.72500.h5\n",
      "\n",
      "Epoch 00018: ReduceLROnPlateau reducing learning rate to 1.525878978725359e-08.\n",
      "Epoch 19/20\n",
      "67/67 [==============================] - 137s 2s/step - loss: 0.8123 - categorical_accuracy: 0.6822 - val_loss: 0.8115 - val_categorical_accuracy: 0.6750\n",
      "\n",
      "Epoch 00019: saving model to model_init_2020-05-2007_01_46.608464/model-00019-0.81228-0.68218-0.81153-0.67500.h5\n",
      "Epoch 20/20\n",
      "67/67 [==============================] - 139s 2s/step - loss: 0.7777 - categorical_accuracy: 0.6839 - val_loss: 0.6589 - val_categorical_accuracy: 0.8250\n",
      "\n",
      "Epoch 00020: saving model to model_init_2020-05-2007_01_46.608464/model-00020-0.77775-0.68393-0.65892-0.82500.h5\n",
      "\n",
      "Epoch 00020: ReduceLROnPlateau reducing learning rate to 7.629394893626795e-09.\n"
     ]
    },
    {
     "data": {
      "text/plain": [
       "<keras.callbacks.History at 0x7f84df1d9b38>"
      ]
     },
     "execution_count": 57,
     "metadata": {},
     "output_type": "execute_result"
    }
   ],
   "source": [
    "batch_size = 64\n",
    "num_epochs = 20\n",
    "\n",
    "train_generator = generator_ex(train_path, train_doc, batch_size)\n",
    "val_generator = generator_ex(val_path, val_doc, batch_size)\n",
    "\n",
    "\n",
    "model_final.fit_generator(train_generator, steps_per_epoch=steps_per_epoch, epochs=num_epochs, verbose=1, \n",
    "                    callbacks=callbacks_list, validation_data=val_generator, \n",
    "                    validation_steps=validation_steps, class_weight=None, workers=1, initial_epoch=0)"
   ]
  },
  {
   "cell_type": "code",
   "execution_count": 58,
   "metadata": {},
   "outputs": [
    {
     "name": "stdout",
     "output_type": "stream",
     "text": [
      "Source path =  Project_data/val ; batch size = 40\n",
      "Source path =  Project_data/train ; batch size = 40\n",
      "Epoch 1/20\n",
      " 2/67 [..............................] - ETA: 6:26 - loss: 0.7324 - categorical_accuracy: 0.6750Batch:  3 Index: 40\n",
      "15/67 [=====>........................] - ETA: 4:31 - loss: 0.7514 - categorical_accuracy: 0.7000Batch:  17 Index: 40\n",
      "44/67 [==================>...........] - ETA: 1:23 - loss: 0.7614 - categorical_accuracy: 0.6947Batch:  29 Index: 23\n",
      "67/67 [==============================] - 216s 3s/step - loss: 0.7638 - categorical_accuracy: 0.6972 - val_loss: 0.7692 - val_categorical_accuracy: 0.7250\n",
      "\n",
      "Epoch 00001: saving model to model_init_2020-05-2007_01_46.608464/model-00001-0.76342-0.69681-0.76920-0.72500.h5\n",
      "Epoch 2/20\n",
      "12/67 [====>.........................] - ETA: 2:20 - loss: 0.8064 - categorical_accuracy: 0.6535Batch:  35 Index: 19\n",
      "67/67 [==============================] - 148s 2s/step - loss: 0.7920 - categorical_accuracy: 0.6779 - val_loss: 0.8121 - val_categorical_accuracy: 0.6950\n",
      "\n",
      "Epoch 00002: saving model to model_init_2020-05-2007_01_46.608464/model-00002-0.79257-0.67725-0.81206-0.69500.h5\n",
      "Epoch 3/20\n",
      "67/67 [==============================] - 143s 2s/step - loss: 0.7925 - categorical_accuracy: 0.6857 - val_loss: 0.8079 - val_categorical_accuracy: 0.7100\n",
      "\n",
      "Epoch 00003: saving model to model_init_2020-05-2007_01_46.608464/model-00003-0.79250-0.68569-0.80795-0.71000.h5\n",
      "\n",
      "Epoch 00003: ReduceLROnPlateau reducing learning rate to 3.814697446813398e-09.\n",
      "Epoch 4/20\n",
      "67/67 [==============================] - 143s 2s/step - loss: 0.7755 - categorical_accuracy: 0.6804 - val_loss: 0.7949 - val_categorical_accuracy: 0.7000\n",
      "\n",
      "Epoch 00004: saving model to model_init_2020-05-2007_01_46.608464/model-00004-0.77553-0.68042-0.79488-0.70000.h5\n",
      "Epoch 5/20\n",
      "67/67 [==============================] - 143s 2s/step - loss: 0.7816 - categorical_accuracy: 0.6866 - val_loss: 0.7728 - val_categorical_accuracy: 0.7200\n",
      "\n",
      "Epoch 00005: saving model to model_init_2020-05-2007_01_46.608464/model-00005-0.78162-0.68657-0.77284-0.72000.h5\n",
      "\n",
      "Epoch 00005: ReduceLROnPlateau reducing learning rate to 1.907348723406699e-09.\n",
      "Epoch 6/20\n",
      "67/67 [==============================] - 144s 2s/step - loss: 0.7889 - categorical_accuracy: 0.6787 - val_loss: 0.8016 - val_categorical_accuracy: 0.7100\n",
      "\n",
      "Epoch 00006: saving model to model_init_2020-05-2007_01_46.608464/model-00006-0.78889-0.67867-0.80156-0.71000.h5\n",
      "Epoch 7/20\n",
      "67/67 [==============================] - 145s 2s/step - loss: 0.7628 - categorical_accuracy: 0.6918 - val_loss: 0.8241 - val_categorical_accuracy: 0.7050\n",
      "\n",
      "Epoch 00007: saving model to model_init_2020-05-2007_01_46.608464/model-00007-0.76284-0.69183-0.82408-0.70500.h5\n",
      "\n",
      "Epoch 00007: ReduceLROnPlateau reducing learning rate to 9.536743617033494e-10.\n",
      "Epoch 8/20\n",
      "67/67 [==============================] - 144s 2s/step - loss: 0.7853 - categorical_accuracy: 0.7032 - val_loss: 0.7929 - val_categorical_accuracy: 0.7100\n",
      "\n",
      "Epoch 00008: saving model to model_init_2020-05-2007_01_46.608464/model-00008-0.78528-0.70325-0.79286-0.71000.h5\n",
      "Epoch 9/20\n",
      "67/67 [==============================] - 144s 2s/step - loss: 0.7833 - categorical_accuracy: 0.6769 - val_loss: 0.7851 - val_categorical_accuracy: 0.7150\n",
      "\n",
      "Epoch 00009: saving model to model_init_2020-05-2007_01_46.608464/model-00009-0.78334-0.67691-0.78512-0.71500.h5\n",
      "\n",
      "Epoch 00009: ReduceLROnPlateau reducing learning rate to 4.768371808516747e-10.\n",
      "Epoch 10/20\n",
      "67/67 [==============================] - 144s 2s/step - loss: 0.7726 - categorical_accuracy: 0.6901 - val_loss: 0.7800 - val_categorical_accuracy: 0.7150\n",
      "\n",
      "Epoch 00010: saving model to model_init_2020-05-2007_01_46.608464/model-00010-0.77264-0.69008-0.78003-0.71500.h5\n",
      "Epoch 11/20\n",
      "67/67 [==============================] - 145s 2s/step - loss: 0.7831 - categorical_accuracy: 0.6953 - val_loss: 0.8459 - val_categorical_accuracy: 0.6750\n",
      "\n",
      "Epoch 00011: saving model to model_init_2020-05-2007_01_46.608464/model-00011-0.78310-0.69535-0.84592-0.67500.h5\n",
      "\n",
      "Epoch 00011: ReduceLROnPlateau reducing learning rate to 2.3841859042583735e-10.\n",
      "Epoch 12/20\n",
      "67/67 [==============================] - 143s 2s/step - loss: 0.7633 - categorical_accuracy: 0.6971 - val_loss: 0.7803 - val_categorical_accuracy: 0.7300\n",
      "\n",
      "Epoch 00012: saving model to model_init_2020-05-2007_01_46.608464/model-00012-0.76327-0.69710-0.78031-0.73000.h5\n",
      "Epoch 13/20\n",
      "67/67 [==============================] - 144s 2s/step - loss: 0.7944 - categorical_accuracy: 0.6804 - val_loss: 0.7865 - val_categorical_accuracy: 0.7200\n",
      "\n",
      "Epoch 00013: saving model to model_init_2020-05-2007_01_46.608464/model-00013-0.79440-0.68042-0.78647-0.72000.h5\n",
      "\n",
      "Epoch 00013: ReduceLROnPlateau reducing learning rate to 1.1920929521291868e-10.\n",
      "Epoch 14/20\n",
      "67/67 [==============================] - 145s 2s/step - loss: 0.7911 - categorical_accuracy: 0.6831 - val_loss: 0.7830 - val_categorical_accuracy: 0.7100\n",
      "\n",
      "Epoch 00014: saving model to model_init_2020-05-2007_01_46.608464/model-00014-0.79113-0.68306-0.78299-0.71000.h5\n",
      "Epoch 15/20\n",
      "67/67 [==============================] - 144s 2s/step - loss: 0.7673 - categorical_accuracy: 0.6962 - val_loss: 0.8315 - val_categorical_accuracy: 0.6850\n",
      "\n",
      "Epoch 00015: saving model to model_init_2020-05-2007_01_46.608464/model-00015-0.76726-0.69622-0.83151-0.68500.h5\n",
      "\n",
      "Epoch 00015: ReduceLROnPlateau reducing learning rate to 5.960464760645934e-11.\n",
      "Epoch 16/20\n",
      "67/67 [==============================] - 144s 2s/step - loss: 0.7707 - categorical_accuracy: 0.6892 - val_loss: 0.7657 - val_categorical_accuracy: 0.7350\n",
      "\n",
      "Epoch 00016: saving model to model_init_2020-05-2007_01_46.608464/model-00016-0.77071-0.68920-0.76570-0.73500.h5\n",
      "Epoch 17/20\n",
      "67/67 [==============================] - 144s 2s/step - loss: 0.7775 - categorical_accuracy: 0.6787 - val_loss: 0.8207 - val_categorical_accuracy: 0.7000\n",
      "\n",
      "Epoch 00017: saving model to model_init_2020-05-2007_01_46.608464/model-00017-0.77745-0.67867-0.82065-0.70000.h5\n",
      "Epoch 18/20\n",
      "67/67 [==============================] - 144s 2s/step - loss: 0.8045 - categorical_accuracy: 0.6690 - val_loss: 0.8133 - val_categorical_accuracy: 0.6900\n",
      "\n",
      "Epoch 00018: saving model to model_init_2020-05-2007_01_46.608464/model-00018-0.80454-0.66901-0.81328-0.69000.h5\n",
      "\n",
      "Epoch 00018: ReduceLROnPlateau reducing learning rate to 2.980232380322967e-11.\n",
      "Epoch 19/20\n",
      "67/67 [==============================] - 144s 2s/step - loss: 0.7908 - categorical_accuracy: 0.6866 - val_loss: 0.8024 - val_categorical_accuracy: 0.7050\n",
      "\n",
      "Epoch 00019: saving model to model_init_2020-05-2007_01_46.608464/model-00019-0.79077-0.68657-0.80240-0.70500.h5\n",
      "Epoch 20/20\n",
      "67/67 [==============================] - 143s 2s/step - loss: 0.8221 - categorical_accuracy: 0.6646 - val_loss: 0.7698 - val_categorical_accuracy: 0.7350\n",
      "\n",
      "Epoch 00020: saving model to model_init_2020-05-2007_01_46.608464/model-00020-0.82209-0.66462-0.76980-0.73500.h5\n",
      "\n",
      "Epoch 00020: ReduceLROnPlateau reducing learning rate to 1.4901161901614834e-11.\n"
     ]
    },
    {
     "data": {
      "text/plain": [
       "<keras.callbacks.History at 0x7f84df1d72e8>"
      ]
     },
     "execution_count": 58,
     "metadata": {},
     "output_type": "execute_result"
    }
   ],
   "source": [
    "batch_size = 40\n",
    "num_epochs = 20\n",
    "\n",
    "train_generator = generator_ex(train_path, train_doc, batch_size)\n",
    "val_generator = generator_ex(val_path, val_doc, batch_size)\n",
    "\n",
    "\n",
    "model_final.fit_generator(train_generator, steps_per_epoch=steps_per_epoch, epochs=num_epochs, verbose=1, \n",
    "                    callbacks=callbacks_list, validation_data=val_generator, \n",
    "                    validation_steps=validation_steps, class_weight=None, workers=1, initial_epoch=0)"
   ]
  },
  {
   "cell_type": "markdown",
   "metadata": {},
   "source": [
    "`Code till 19-May-2020` `To Be Continued` "
   ]
  }
 ],
 "metadata": {
  "kernelspec": {
   "display_name": "Python 3",
   "language": "python",
   "name": "python3"
  },
  "language_info": {
   "codemirror_mode": {
    "name": "ipython",
    "version": 3
   },
   "file_extension": ".py",
   "mimetype": "text/x-python",
   "name": "python",
   "nbconvert_exporter": "python",
   "pygments_lexer": "ipython3",
   "version": "3.6.8"
  }
 },
 "nbformat": 4,
 "nbformat_minor": 2
}
