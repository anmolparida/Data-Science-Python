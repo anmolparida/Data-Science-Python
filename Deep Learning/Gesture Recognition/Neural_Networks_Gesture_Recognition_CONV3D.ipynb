{
 "cells": [
  {
   "cell_type": "markdown",
   "metadata": {},
   "source": [
    "### `@author:` `Anmol Parida`"
   ]
  },
  {
   "cell_type": "markdown",
   "metadata": {},
   "source": [
    "# Gesture Recognition\n",
    "In this group project, you are going to build a 3D Conv model that will be able to predict the 5 gestures correctly. <br>Please import the following libraries to get started."
   ]
  },
  {
   "cell_type": "markdown",
   "metadata": {},
   "source": [
    "## Problem Statement\n",
    "\n",
    "Imagine you are working as a data scientist at a home electronics company which manufactures state of the art smart televisions. You want to develop a cool feature in the smart-TV that can recognise five different gestures performed by the user which will help users control the TV without using a remote.\n",
    "\n",
    "\n",
    "The gestures are continuously monitored by the webcam mounted on the TV. Each gesture corresponds to a specific command:\n",
    "- Thumbs up:  Increase the volume\n",
    "- Thumbs down: Decrease the volume\n",
    "- Left swipe: 'Jump' backwards 10 seconds\n",
    "- Right swipe: 'Jump' forward 10 seconds  \n",
    "- Stop: Pause the movie\n",
    " \n",
    "Each video is a sequence of 30 frames (or images).\n",
    "\n",
    "The data is in a zip file. The zip file contains a 'train' and a 'val' folder with two CSV files for the two folders. These folders are in turn divided into subfolders where each subfolder represents a video of a particular gesture. Each subfolder, i.e. a video, contains 30 frames (or images). Note that all images in a particular video subfolder have the same dimensions but different videos may have different dimensions. Specifically, videos have two types of dimensions - either 360x360 or 120x160 (depending on the webcam used to record the videos). Hence, you will need to do some pre-processing to standardise the videos. \n",
    " \n",
    "Each row of the CSV file represents one video and contains three main pieces of information - the name of the subfolder containing the 30 images of the video, the name of the gesture and the numeric label (between 0-4) of the video.\n",
    " \n",
    "Your task is to train a model on the 'train' folder which performs well on the 'val' folder as well (as usually done in ML projects). We have withheld the test folder for evaluation purposes - your final model's performance will be tested on the 'test' set.\n",
    " \n",
    "To get started with the model building process, you first need to get the data on your storage. \n",
    "In order to get the data on the storage, perform the following steps in order\n",
    "- Open the terminal\n",
    "- go down https://drive.google.com/uc?id=1ehyrYBQ5rbQQe6yL4XbLWe3FMvuVUGiL\n",
    "- unzip Project_data.zip\n",
    " "
   ]
  },
  {
   "cell_type": "markdown",
   "metadata": {},
   "source": [
    "# Solution"
   ]
  },
  {
   "cell_type": "code",
   "execution_count": 1,
   "metadata": {},
   "outputs": [],
   "source": [
    "import warnings\n",
    "warnings.filterwarnings('ignore')"
   ]
  },
  {
   "cell_type": "code",
   "execution_count": 2,
   "metadata": {},
   "outputs": [],
   "source": [
    "import imageio"
   ]
  },
  {
   "cell_type": "code",
   "execution_count": 3,
   "metadata": {},
   "outputs": [],
   "source": [
    "import numpy as np\n",
    "import os\n",
    "from scipy.misc import imread, imresize\n",
    "import datetime\n",
    "import os"
   ]
  },
  {
   "cell_type": "markdown",
   "metadata": {},
   "source": [
    "We set the random seed so that the results don't vary drastically."
   ]
  },
  {
   "cell_type": "code",
   "execution_count": 4,
   "metadata": {},
   "outputs": [
    {
     "name": "stderr",
     "output_type": "stream",
     "text": [
      "Using TensorFlow backend.\n"
     ]
    }
   ],
   "source": [
    "np.random.seed(30)\n",
    "import random as rn\n",
    "rn.seed(30)\n",
    "from keras import backend as K\n",
    "import tensorflow as tf\n",
    "tf.set_random_seed(30)"
   ]
  },
  {
   "cell_type": "markdown",
   "metadata": {},
   "source": [
    "In this block, you read the folder names for training and validation. You also set the `batch_size` here. Note that you set the batch size in such a way that you are able to use the GPU in full capacity. You keep increasing the batch size until the machine throws an error."
   ]
  },
  {
   "cell_type": "code",
   "execution_count": 5,
   "metadata": {},
   "outputs": [],
   "source": [
    "# Pointing to the Current Path\n",
    "train_doc = np.random.permutation(open('Project_data/train.csv').readlines())\n",
    "val_doc = np.random.permutation(open('Project_data/val.csv').readlines())\n",
    "batch_size = 10"
   ]
  },
  {
   "cell_type": "code",
   "execution_count": 6,
   "metadata": {},
   "outputs": [],
   "source": [
    "# train_doc = np.random.permutation(open('/notebooks/storage/Final_data/Collated_training/train.csv').readlines())\n",
    "# val_doc = np.random.permutation(open('/notebooks/storage/Final_data/Collated_training/val.csv').readlines())\n",
    "# batch_size = 20"
   ]
  },
  {
   "cell_type": "markdown",
   "metadata": {},
   "source": [
    "# <a id='generator'>Generator</a>\n",
    "This is one of the most important part of the code. The overall structure of the generator has been given. In the generator, you are going to preprocess the images as you have images of 2 different dimensions as well as create a batch of video frames. You have to experiment with `img_idx`, `y`,`z` and normalization such that you get high accuracy."
   ]
  },
  {
   "cell_type": "markdown",
   "metadata": {},
   "source": [
    "**Going forward we use these variables**<br>\n",
    "- `x : number of frames`\n",
    "- `y : image width`\n",
    "- `z : image height`"
   ]
  },
  {
   "cell_type": "code",
   "execution_count": 7,
   "metadata": {},
   "outputs": [],
   "source": [
    "x = 30\n",
    "y = 120\n",
    "z = 120"
   ]
  },
  {
   "cell_type": "code",
   "execution_count": 8,
   "metadata": {},
   "outputs": [],
   "source": [
    "def generator(source_path, folder_list, batch_size):\n",
    "    print( 'Source path = ', source_path, '; batch size =', batch_size)\n",
    "    img_idx = [x for x in range(0,x)] #create a list of image numbers you want to use for a particular video\n",
    "    while True:\n",
    "        t = np.random.permutation(folder_list)\n",
    "        num_batches = len(folder_list)//batch_size # calculate the number of batches\n",
    "        for batch in range(num_batches): # we iterate over the number of batches\n",
    "            batch_data = np.zeros((batch_size,x,y,z,3)) # x is the number of images you use for each video, (y,z) is the final size of the input images and 3 is the number of channels RGB\n",
    "            batch_labels = np.zeros((batch_size,5)) # batch_labels is the one hot representation of the output\n",
    "            for folder in range(batch_size): # iterate over the batch_size\n",
    "                imgs = os.listdir(source_path+'/'+ t[folder + (batch*batch_size)].split(';')[0]) # read all the images in the folder\n",
    "                for idx,item in enumerate(img_idx): #  Iterate iver the frames/images of a folder to read them in\n",
    "                    image = imread(source_path+'/'+ t[folder + (batch*batch_size)].strip().split(';')[0]+'/'+imgs[item]).astype(np.float32)\n",
    "                    \n",
    "                    #crop the images and resize them. Note that the images are of 2 different shape \n",
    "                    #and the conv3D will throw error if the inputs in a batch have different shapes\n",
    "                    \n",
    "                    temp = imresize(image,(120,120))\n",
    "                    temp = temp/127.5-1 #Normalize data\n",
    "                    \n",
    "                    batch_data[folder,idx,:,:,0] = (temp[:,:,0]) #normalise and feed in the image\n",
    "                    batch_data[folder,idx,:,:,1] = (temp[:,:,1]) #normalise and feed in the image\n",
    "                    batch_data[folder,idx,:,:,2] = (temp[:,:,2]) #normalise and feed in the image\n",
    "                    \n",
    "                batch_labels[folder, int(t[folder + (batch*batch_size)].strip().split(';')[2])] = 1\n",
    "            yield batch_data, batch_labels #you yield the batch_data and the batch_labels, remember what does yield do\n",
    "\n",
    "        \n",
    "        # write the code for the remaining data points which are left after full batches\n",
    "        if (len(folder_list) != batch_size*num_batches):\n",
    "            print(\"Batch: \",num_batches+1,\"Index:\", batch_size)\n",
    "            batch_size = len(folder_list) - (batch_size*num_batches)\n",
    "            batch_data = np.zeros((batch_size,x,y,z,3)) # x is the number of images you use for each video, (y,z) is the final size of the input images and 3 is the number of channels RGB\n",
    "            batch_labels = np.zeros((batch_size,5)) # batch_labels is the one hot representation of the output\n",
    "            for folder in range(batch_size): # iterate over the batch_size\n",
    "                imgs = os.listdir(source_path+'/'+ t[folder + (batch*batch_size)].split(';')[0]) # read all the images in the folder\n",
    "                for idx,item in enumerate(img_idx): #  Iterate iver the frames/images of a folder to read them in\n",
    "                    image = imread(source_path+'/'+ t[folder + (batch*batch_size)].strip().split(';')[0]+'/'+imgs[item]).astype(np.float32)\n",
    "                    \n",
    "                    #crop the images and resize them. Note that the images are of 2 different shape \n",
    "                    #and the conv3D will throw error if the inputs in a batch have different shapes\n",
    "                    temp = imresize(image,(120,120))\n",
    "                    temp = temp/127.5-1 #Normalize data\n",
    "                    \n",
    "                    batch_data[folder,idx,:,:,0] = (temp[:,:,0])\n",
    "                    batch_data[folder,idx,:,:,1] = (temp[:,:,1])\n",
    "                    batch_data[folder,idx,:,:,2] = (temp[:,:,2])\n",
    "                   \n",
    "                batch_labels[folder, int(t[folder + (batch*batch_size)].strip().split(';')[2])] = 1\n",
    "            yield batch_data, batch_labels"
   ]
  },
  {
   "cell_type": "markdown",
   "metadata": {},
   "source": [
    "Note here that a video is represented above in the generator as (number of images, height, width, number of channels). Take this into consideration while creating the model architecture."
   ]
  },
  {
   "cell_type": "code",
   "execution_count": 9,
   "metadata": {},
   "outputs": [
    {
     "name": "stdout",
     "output_type": "stream",
     "text": [
      "validation sequences = 100\n",
      "training sequences = 663\n",
      "epochs = 10\n"
     ]
    }
   ],
   "source": [
    "curr_dt_time = datetime.datetime.now()\n",
    "train_path = 'Project_data/train'\n",
    "val_path = 'Project_data/val'\n",
    "\n",
    "num_train_sequences = len(train_doc)\n",
    "num_val_sequences = len(val_doc)\n",
    "num_epochs = 10\n",
    "\n",
    "print('validation sequences =', num_val_sequences)\n",
    "print('training sequences =', num_train_sequences)\n",
    "print ('epochs =', num_epochs)"
   ]
  },
  {
   "cell_type": "markdown",
   "metadata": {},
   "source": [
    "## Model\n",
    "Here you make the model using different functionalities that Keras provides.<br> Remember to use `Conv3D` and `MaxPooling3D` and not `Conv2D` and `Maxpooling2D` for a 3D convolution model.<br> You would want to use `TimeDistributed` while building a Conv2D + RNN model. Also remember that the last layer is the softmax. <br>Design the network in such a way that the model is able to give good accuracy on the least number of parameters so that it can fit in the memory of the webcam."
   ]
  },
  {
   "cell_type": "code",
   "execution_count": 10,
   "metadata": {},
   "outputs": [],
   "source": [
    "from keras.models import Sequential, Model\n",
    "from keras.layers import Dense, GRU, Flatten, TimeDistributed, Flatten, BatchNormalization, Activation, Dropout\n",
    "from keras.layers.convolutional import Conv3D, MaxPooling3D\n",
    "from keras.callbacks import ModelCheckpoint, ReduceLROnPlateau\n",
    "from keras import optimizers\n",
    "import keras"
   ]
  },
  {
   "cell_type": "markdown",
   "metadata": {},
   "source": [
    "### `Experiment 01`"
   ]
  },
  {
   "cell_type": "markdown",
   "metadata": {},
   "source": [
    "### Model_1"
   ]
  },
  {
   "cell_type": "code",
   "execution_count": 11,
   "metadata": {},
   "outputs": [],
   "source": [
    "model_1 = Sequential()\n",
    "\n",
    "model_1.add(Conv3D(8, #number of filters \n",
    "                 kernel_size=(3,3,3), \n",
    "                 input_shape=(30, 120, 120, 3),\n",
    "                 padding='same'))\n",
    "model_1.add(BatchNormalization())\n",
    "model_1.add(Activation('relu'))\n",
    "\n",
    "model_1.add(MaxPooling3D(pool_size=(2,2,2)))\n",
    "\n",
    "model_1.add(Conv3D(16, #Number of filters, \n",
    "                 kernel_size=(3,3,3), \n",
    "                 padding='same'))\n",
    "model_1.add(BatchNormalization())\n",
    "model_1.add(Activation('relu'))\n",
    "\n",
    "model_1.add(MaxPooling3D(pool_size=(2,2,2)))\n",
    "\n",
    "model_1.add(Conv3D(32, #Number of filters \n",
    "                 kernel_size=(1,3,3), \n",
    "                 padding='same'))\n",
    "model_1.add(BatchNormalization())\n",
    "model_1.add(Activation('relu'))\n",
    "\n",
    "model_1.add(MaxPooling3D(pool_size=(2,2,2)))\n",
    "\n",
    "model_1.add(Conv3D(64, #Number pf filters \n",
    "                 kernel_size=(1,3,3), \n",
    "                 padding='same'))\n",
    "model_1.add(BatchNormalization())\n",
    "model_1.add(Activation('relu'))\n",
    "\n",
    "model_1.add(MaxPooling3D(pool_size=(2,2,2)))\n",
    "\n",
    "#Flatten Layers\n",
    "model_1.add(Flatten())\n",
    "\n",
    "model_1.add(Dense(1000, activation='relu'))\n",
    "model_1.add(Dropout(0.5))\n",
    "\n",
    "model_1.add(Dense(500, activation='relu'))\n",
    "model_1.add(Dropout(0.5))\n",
    "\n",
    "#Softmax Layer\n",
    "model_1.add(Dense(5, activation='softmax'))"
   ]
  },
  {
   "cell_type": "markdown",
   "metadata": {},
   "source": [
    "Now that you have written the model, the next step is to `compile` the model. When you print the `summary` of the model, you'll see the total number of parameters you have to train."
   ]
  },
  {
   "cell_type": "code",
   "execution_count": 12,
   "metadata": {
    "scrolled": true
   },
   "outputs": [
    {
     "name": "stdout",
     "output_type": "stream",
     "text": [
      "_________________________________________________________________\n",
      "Layer (type)                 Output Shape              Param #   \n",
      "=================================================================\n",
      "conv3d_1 (Conv3D)            (None, 30, 120, 120, 8)   656       \n",
      "_________________________________________________________________\n",
      "batch_normalization_1 (Batch (None, 30, 120, 120, 8)   32        \n",
      "_________________________________________________________________\n",
      "activation_1 (Activation)    (None, 30, 120, 120, 8)   0         \n",
      "_________________________________________________________________\n",
      "max_pooling3d_1 (MaxPooling3 (None, 15, 60, 60, 8)     0         \n",
      "_________________________________________________________________\n",
      "conv3d_2 (Conv3D)            (None, 15, 60, 60, 16)    3472      \n",
      "_________________________________________________________________\n",
      "batch_normalization_2 (Batch (None, 15, 60, 60, 16)    64        \n",
      "_________________________________________________________________\n",
      "activation_2 (Activation)    (None, 15, 60, 60, 16)    0         \n",
      "_________________________________________________________________\n",
      "max_pooling3d_2 (MaxPooling3 (None, 7, 30, 30, 16)     0         \n",
      "_________________________________________________________________\n",
      "conv3d_3 (Conv3D)            (None, 7, 30, 30, 32)     4640      \n",
      "_________________________________________________________________\n",
      "batch_normalization_3 (Batch (None, 7, 30, 30, 32)     128       \n",
      "_________________________________________________________________\n",
      "activation_3 (Activation)    (None, 7, 30, 30, 32)     0         \n",
      "_________________________________________________________________\n",
      "max_pooling3d_3 (MaxPooling3 (None, 3, 15, 15, 32)     0         \n",
      "_________________________________________________________________\n",
      "conv3d_4 (Conv3D)            (None, 3, 15, 15, 64)     18496     \n",
      "_________________________________________________________________\n",
      "batch_normalization_4 (Batch (None, 3, 15, 15, 64)     256       \n",
      "_________________________________________________________________\n",
      "activation_4 (Activation)    (None, 3, 15, 15, 64)     0         \n",
      "_________________________________________________________________\n",
      "max_pooling3d_4 (MaxPooling3 (None, 1, 7, 7, 64)       0         \n",
      "_________________________________________________________________\n",
      "flatten_1 (Flatten)          (None, 3136)              0         \n",
      "_________________________________________________________________\n",
      "dense_1 (Dense)              (None, 1000)              3137000   \n",
      "_________________________________________________________________\n",
      "dropout_1 (Dropout)          (None, 1000)              0         \n",
      "_________________________________________________________________\n",
      "dense_2 (Dense)              (None, 500)               500500    \n",
      "_________________________________________________________________\n",
      "dropout_2 (Dropout)          (None, 500)               0         \n",
      "_________________________________________________________________\n",
      "dense_3 (Dense)              (None, 5)                 2505      \n",
      "=================================================================\n",
      "Total params: 3,667,749\n",
      "Trainable params: 3,667,509\n",
      "Non-trainable params: 240\n",
      "_________________________________________________________________\n",
      "None\n"
     ]
    }
   ],
   "source": [
    "optimiser = optimizers.Adam(lr=0.001)\n",
    "model_1.compile(optimizer=optimiser, loss='categorical_crossentropy', metrics=['categorical_accuracy'])\n",
    "print (model_1.summary())"
   ]
  },
  {
   "cell_type": "markdown",
   "metadata": {},
   "source": [
    "**Let us create the `train_generator` and the `val_generator` which will be used in `.fit_generator`.**"
   ]
  },
  {
   "cell_type": "code",
   "execution_count": 13,
   "metadata": {},
   "outputs": [],
   "source": [
    "train_generator = generator(train_path, train_doc, batch_size)\n",
    "val_generator = generator(val_path, val_doc, batch_size)"
   ]
  },
  {
   "cell_type": "code",
   "execution_count": 14,
   "metadata": {},
   "outputs": [],
   "source": [
    "model_name = 'model_init' + '_' + str(curr_dt_time).replace(' ','').replace(':','_') + '/'\n",
    "    \n",
    "if not os.path.exists(model_name):\n",
    "    os.mkdir(model_name)\n",
    "        \n",
    "filepath = model_name + 'model-{epoch:05d}-{loss:.5f}-{categorical_accuracy:.5f}-{val_loss:.5f}-{val_categorical_accuracy:.5f}.h5'\n",
    "\n",
    "checkpoint = ModelCheckpoint(filepath, monitor='val_loss', verbose=1, save_best_only=False, save_weights_only=False, mode='auto', period=1)\n",
    "\n",
    "LR = ReduceLROnPlateau(monitor='val_loss', factor=0.5, patience=2, cooldown=1, verbose=1) # write the REducelronplateau code here\n",
    "callbacks_list = [checkpoint, LR]"
   ]
  },
  {
   "cell_type": "markdown",
   "metadata": {},
   "source": [
    "**The `steps_per_epoch` and `validation_steps` are used by `fit_generator` to decide the number of next() calls it need to make.**"
   ]
  },
  {
   "cell_type": "code",
   "execution_count": 15,
   "metadata": {},
   "outputs": [],
   "source": [
    "if (num_train_sequences%batch_size) == 0:\n",
    "    steps_per_epoch = int(num_train_sequences/batch_size)\n",
    "else:\n",
    "    steps_per_epoch = (num_train_sequences//batch_size) + 1\n",
    "\n",
    "if (num_val_sequences%batch_size) == 0:\n",
    "    validation_steps = int(num_val_sequences/batch_size)\n",
    "else:\n",
    "    validation_steps = (num_val_sequences//batch_size) + 1"
   ]
  },
  {
   "cell_type": "markdown",
   "metadata": {},
   "source": [
    "Let us now fit the model. This will start training the model and with the help of the checkpoints, you'll be able to save the model at the end of each epoch."
   ]
  },
  {
   "cell_type": "code",
   "execution_count": 16,
   "metadata": {},
   "outputs": [
    {
     "name": "stdout",
     "output_type": "stream",
     "text": [
      "Source path =  Project_data/val ; batch size = 10\n",
      "Source path =  Project_data/train ; batch size = 10Epoch 1/10\n",
      "\n",
      "65/67 [============================>.] - ETA: 2s - loss: 5.8207 - categorical_accuracy: 0.3077Batch:  67 Index: 10\n",
      "67/67 [==============================] - 81s 1s/step - loss: 5.7407 - categorical_accuracy: 0.3159 - val_loss: 5.7588 - val_categorical_accuracy: 0.2800\n",
      "\n",
      "Epoch 00001: saving model to model_init_2020-05-2205_36_02.814533/model-00001-5.78767-0.31222-5.75878-0.28000.h5\n",
      "Epoch 2/10\n",
      "67/67 [==============================] - 25s 369ms/step - loss: 3.9344 - categorical_accuracy: 0.2985 - val_loss: 4.4725 - val_categorical_accuracy: 0.2600\n",
      "\n",
      "Epoch 00002: saving model to model_init_2020-05-2205_36_02.814533/model-00002-3.93438-0.29851-4.47254-0.26000.h5\n",
      "Epoch 3/10\n",
      "67/67 [==============================] - 25s 381ms/step - loss: 2.1746 - categorical_accuracy: 0.2935 - val_loss: 1.3400 - val_categorical_accuracy: 0.4400\n",
      "\n",
      "Epoch 00003: saving model to model_init_2020-05-2205_36_02.814533/model-00003-2.17455-0.29353-1.33995-0.44000.h5\n",
      "Epoch 4/10\n",
      "67/67 [==============================] - 26s 384ms/step - loss: 1.6848 - categorical_accuracy: 0.3483 - val_loss: 1.1987 - val_categorical_accuracy: 0.5100\n",
      "\n",
      "Epoch 00004: saving model to model_init_2020-05-2205_36_02.814533/model-00004-1.68478-0.34826-1.19872-0.51000.h5\n",
      "Epoch 5/10\n",
      "67/67 [==============================] - 27s 399ms/step - loss: 1.4850 - categorical_accuracy: 0.3134 - val_loss: 1.3814 - val_categorical_accuracy: 0.3800\n",
      "\n",
      "Epoch 00005: saving model to model_init_2020-05-2205_36_02.814533/model-00005-1.48501-0.31343-1.38140-0.38000.h5\n",
      "Epoch 6/10\n",
      "67/67 [==============================] - 26s 391ms/step - loss: 1.5334 - categorical_accuracy: 0.3632 - val_loss: 1.2573 - val_categorical_accuracy: 0.4000\n",
      "\n",
      "Epoch 00006: saving model to model_init_2020-05-2205_36_02.814533/model-00006-1.53343-0.36318-1.25729-0.40000.h5\n",
      "\n",
      "Epoch 00006: ReduceLROnPlateau reducing learning rate to 0.0005000000237487257.\n",
      "Epoch 7/10\n",
      "67/67 [==============================] - 25s 373ms/step - loss: 1.4060 - categorical_accuracy: 0.3781 - val_loss: 1.2918 - val_categorical_accuracy: 0.3700\n",
      "\n",
      "Epoch 00007: saving model to model_init_2020-05-2205_36_02.814533/model-00007-1.40598-0.37811-1.29182-0.37000.h5\n",
      "Epoch 8/10\n",
      "67/67 [==============================] - 25s 378ms/step - loss: 1.3743 - categorical_accuracy: 0.4279 - val_loss: 1.1698 - val_categorical_accuracy: 0.5400\n",
      "\n",
      "Epoch 00008: saving model to model_init_2020-05-2205_36_02.814533/model-00008-1.37431-0.42786-1.16979-0.54000.h5\n",
      "Epoch 9/10\n",
      "67/67 [==============================] - 27s 398ms/step - loss: 1.2838 - categorical_accuracy: 0.4378 - val_loss: 1.2030 - val_categorical_accuracy: 0.4800\n",
      "\n",
      "Epoch 00009: saving model to model_init_2020-05-2205_36_02.814533/model-00009-1.28378-0.43781-1.20296-0.48000.h5\n",
      "Epoch 10/10\n",
      "67/67 [==============================] - 25s 378ms/step - loss: 1.3211 - categorical_accuracy: 0.4428 - val_loss: 1.1173 - val_categorical_accuracy: 0.5800\n",
      "\n",
      "Epoch 00010: saving model to model_init_2020-05-2205_36_02.814533/model-00010-1.32115-0.44279-1.11734-0.58000.h5\n"
     ]
    },
    {
     "data": {
      "text/plain": [
       "<keras.callbacks.History at 0x7f5b305ebf98>"
      ]
     },
     "execution_count": 16,
     "metadata": {},
     "output_type": "execute_result"
    }
   ],
   "source": [
    "model_1.fit_generator(train_generator, steps_per_epoch=steps_per_epoch, epochs=num_epochs, verbose=1, \n",
    "                    callbacks=callbacks_list, validation_data=val_generator, \n",
    "                    validation_steps=validation_steps, class_weight=None, workers=1, initial_epoch=0)"
   ]
  },
  {
   "cell_type": "markdown",
   "metadata": {},
   "source": [
    "`categorical_accuracy`  = 44% and `val_categorical_accuracy` = 58%, we will experment further."
   ]
  },
  {
   "cell_type": "code",
   "execution_count": 17,
   "metadata": {},
   "outputs": [],
   "source": [
    "classes = 5 #left swipe, right swipe, thumbs up, thumbs down, stop\n",
    "channel = 3 # RBG\n",
    "\n",
    "x = 30 # number of frames\n",
    "y = 120 # image width\n",
    "z = 120 # image height"
   ]
  },
  {
   "cell_type": "code",
   "execution_count": 18,
   "metadata": {},
   "outputs": [],
   "source": [
    "def generator_ex(source_path, folder_list, batch_size):\n",
    "    print( 'Source path = ', source_path, '; batch size =', batch_size)\n",
    "    img_idx = [x for x in range(0,x)] #create a list of image numbers you want to use for a particular video\n",
    "    while True:\n",
    "        t = np.random.permutation(folder_list)\n",
    "        num_batches = len(folder_list)//batch_size # calculate the number of batches\n",
    "        for batch in range(num_batches): # we iterate over the number of batches\n",
    "            batch_data = np.zeros((batch_size,x,y,z,channel)) # x is the number of images you use for each video, (y,z) is the final size of the input images and 3 is the number of channels RGB\n",
    "            batch_labels = np.zeros((batch_size,classes)) # batch_labels is the one hot representation of the output\n",
    "            for folder in range(batch_size): # iterate over the batch_size\n",
    "                imgs = os.listdir(source_path+'/'+ t[folder + (batch*batch_size)].split(';')[0]) # read all the images in the folder\n",
    "                for idx,item in enumerate(img_idx): #  Iterate iver the frames/images of a folder to read them in\n",
    "                    image = imread(source_path+'/'+ t[folder + (batch*batch_size)].strip().split(';')[0]+'/'+imgs[item]).astype(np.float32)\n",
    "                    \n",
    "                    #crop the images and resize them. Note that the images are of 2 different shape \n",
    "                    #and the conv3D will throw error if the inputs in a batch have different shapes\n",
    "                    \n",
    "                    temp = imresize(image,(y,z))\n",
    "                    #Converting to gray scale\n",
    "                    temp = temp.mean(axis=-1,keepdims=1) \n",
    "                    temp = temp/127.5-1 #Normalize data\n",
    "                    batch_data[folder,idx] = temp #normalise and feed in the image\n",
    "                    \n",
    "                batch_labels[folder, int(t[folder + (batch*batch_size)].strip().split(';')[2])] = 1\n",
    "                \n",
    "            yield batch_data, batch_labels #you yield the batch_data and the batch_labels, remember what does yield do\n",
    "\n",
    "        \n",
    "        # write the code for the remaining data points which are left after full batches\n",
    "        if (len(folder_list) != batch_size*num_batches):\n",
    "            print(\"Batch: \",num_batches+1,\"Index:\", batch_size)\n",
    "            batch_size = len(folder_list) - (batch_size*num_batches)\n",
    "            batch_data = np.zeros((batch_size,x,y,z,channel)) # x is the number of images you use for each video, (y,z) is the final size of the input images and 3 is the number of channels RGB\n",
    "            batch_labels = np.zeros((batch_size,classes)) # batch_labels is the one hot representation of the output\n",
    "            for folder in range(batch_size): # iterate over the batch_size\n",
    "                imgs = os.listdir(source_path+'/'+ t[folder + (batch*batch_size)].split(';')[0]) # read all the images in the folder\n",
    "                for idx,item in enumerate(img_idx): #  Iterate iver the frames/images of a folder to read them in\n",
    "                    image = imread(source_path+'/'+ t[folder + (batch*batch_size)].strip().split(';')[0]+'/'+imgs[item]).astype(np.float32)\n",
    "                    \n",
    "                    #crop the images and resize them. Note that the images are of 2 different shape \n",
    "                    #and the conv3D will throw error if the inputs in a batch have different shapes\n",
    "                    temp = imresize(image,(y,z))\n",
    "                    #Converting to gray scale\n",
    "                    temp = temp.mean(axis=-1,keepdims=1) \n",
    "                    temp = temp/127.5-1 #Normalize data\n",
    "                    \n",
    "                    batch_data[folder,idx] = temp\n",
    "                   \n",
    "                batch_labels[folder, int(t[folder + (batch*batch_size)].strip().split(';')[2])] = 1\n",
    "            yield batch_data, batch_labels"
   ]
  },
  {
   "cell_type": "markdown",
   "metadata": {},
   "source": [
    "### `Experiment 02`"
   ]
  },
  {
   "cell_type": "markdown",
   "metadata": {},
   "source": [
    "# <a id='model_2'>Model_2</a>"
   ]
  },
  {
   "cell_type": "code",
   "execution_count": 19,
   "metadata": {},
   "outputs": [],
   "source": [
    "from keras.losses import categorical_crossentropy\n",
    "from keras.optimizers import Adam"
   ]
  },
  {
   "cell_type": "code",
   "execution_count": 20,
   "metadata": {},
   "outputs": [
    {
     "name": "stdout",
     "output_type": "stream",
     "text": [
      "_________________________________________________________________\n",
      "Layer (type)                 Output Shape              Param #   \n",
      "=================================================================\n",
      "conv3d_5 (Conv3D)            (None, 30, 120, 120, 32)  2624      \n",
      "_________________________________________________________________\n",
      "activation_5 (Activation)    (None, 30, 120, 120, 32)  0         \n",
      "_________________________________________________________________\n",
      "conv3d_6 (Conv3D)            (None, 30, 120, 120, 32)  27680     \n",
      "_________________________________________________________________\n",
      "activation_6 (Activation)    (None, 30, 120, 120, 32)  0         \n",
      "_________________________________________________________________\n",
      "max_pooling3d_5 (MaxPooling3 (None, 10, 40, 40, 32)    0         \n",
      "_________________________________________________________________\n",
      "dropout_3 (Dropout)          (None, 10, 40, 40, 32)    0         \n",
      "_________________________________________________________________\n",
      "conv3d_7 (Conv3D)            (None, 10, 40, 40, 64)    55360     \n",
      "_________________________________________________________________\n",
      "activation_7 (Activation)    (None, 10, 40, 40, 64)    0         \n",
      "_________________________________________________________________\n",
      "conv3d_8 (Conv3D)            (None, 10, 40, 40, 64)    110656    \n",
      "_________________________________________________________________\n",
      "activation_8 (Activation)    (None, 10, 40, 40, 64)    0         \n",
      "_________________________________________________________________\n",
      "max_pooling3d_6 (MaxPooling3 (None, 4, 14, 14, 64)     0         \n",
      "_________________________________________________________________\n",
      "dropout_4 (Dropout)          (None, 4, 14, 14, 64)     0         \n",
      "_________________________________________________________________\n",
      "flatten_2 (Flatten)          (None, 50176)             0         \n",
      "_________________________________________________________________\n",
      "dense_4 (Dense)              (None, 512)               25690624  \n",
      "_________________________________________________________________\n",
      "dropout_5 (Dropout)          (None, 512)               0         \n",
      "_________________________________________________________________\n",
      "dense_5 (Dense)              (None, 5)                 2565      \n",
      "=================================================================\n",
      "Total params: 25,889,509\n",
      "Trainable params: 25,889,509\n",
      "Non-trainable params: 0\n",
      "_________________________________________________________________\n"
     ]
    }
   ],
   "source": [
    "model_2 = Sequential()\n",
    "model_2.add(Conv3D(32, kernel_size=(3, 3, 3), input_shape=(x,y,z,channel), padding='same'))\n",
    "model_2.add(Activation('relu'))\n",
    "model_2.add(Conv3D(32, kernel_size=(3, 3, 3), padding='same'))\n",
    "model_2.add(Activation('relu'))\n",
    "model_2.add(MaxPooling3D(pool_size=(3, 3, 3), padding='same'))\n",
    "model_2.add(Dropout(0.25))\n",
    "\n",
    "model_2.add(Conv3D(64, kernel_size=(3, 3, 3), padding='same'))\n",
    "model_2.add(Activation('relu'))\n",
    "model_2.add(Conv3D(64, kernel_size=(3, 3, 3), padding='same'))\n",
    "model_2.add(Activation('relu'))\n",
    "model_2.add(MaxPooling3D(pool_size=(3, 3, 3), padding='same'))\n",
    "model_2.add(Dropout(0.25))\n",
    "\n",
    "model_2.add(Flatten())\n",
    "model_2.add(Dense(512, activation='relu'))\n",
    "model_2.add(Dropout(0.5))\n",
    "model_2.add(Dense(classes, activation='softmax'))\n",
    "\n",
    "model_2.compile(optimizer=Adam(), loss='categorical_crossentropy', metrics=['categorical_accuracy'])\n",
    "model_2.summary()"
   ]
  },
  {
   "cell_type": "code",
   "execution_count": 21,
   "metadata": {},
   "outputs": [],
   "source": [
    "train_generator = generator_ex(train_path, train_doc, batch_size)\n",
    "val_generator = generator_ex(val_path, val_doc, batch_size)"
   ]
  },
  {
   "cell_type": "code",
   "execution_count": 22,
   "metadata": {},
   "outputs": [
    {
     "name": "stdout",
     "output_type": "stream",
     "text": [
      "Source path =  Project_data/val ; batch size = 10\n",
      "Source path =  Project_data/train ; batch size = 10\n",
      "Epoch 1/10\n",
      "56/67 [========================>.....] - ETA: 19s - loss: 1.8101 - categorical_accuracy: 0.1964Batch:  67 Index: 10\n",
      "67/67 [==============================] - 127s 2s/step - loss: 1.7772 - categorical_accuracy: 0.1985 - val_loss: 1.6094 - val_categorical_accuracy: 0.2100\n",
      "\n",
      "Epoch 00001: saving model to model_init_2020-05-2205_36_02.814533/model-00001-1.77902-0.20060-1.60937-0.21000.h5\n",
      "Epoch 2/10\n",
      "67/67 [==============================] - 45s 667ms/step - loss: 1.6089 - categorical_accuracy: 0.2189 - val_loss: 1.6086 - val_categorical_accuracy: 0.2100\n",
      "\n",
      "Epoch 00002: saving model to model_init_2020-05-2205_36_02.814533/model-00002-1.60886-0.21891-1.60857-0.21000.h5\n",
      "Epoch 3/10\n",
      "67/67 [==============================] - 45s 667ms/step - loss: 1.6133 - categorical_accuracy: 0.1393 - val_loss: 1.6079 - val_categorical_accuracy: 0.2100\n",
      "\n",
      "Epoch 00003: saving model to model_init_2020-05-2205_36_02.814533/model-00003-1.61326-0.13930-1.60788-0.21000.h5\n",
      "Epoch 4/10\n",
      "67/67 [==============================] - 45s 667ms/step - loss: 1.6102 - categorical_accuracy: 0.1940 - val_loss: 1.6083 - val_categorical_accuracy: 0.2100\n",
      "\n",
      "Epoch 00004: saving model to model_init_2020-05-2205_36_02.814533/model-00004-1.61018-0.19403-1.60830-0.21000.h5\n",
      "Epoch 5/10\n",
      "67/67 [==============================] - 45s 667ms/step - loss: 1.6064 - categorical_accuracy: 0.2537 - val_loss: 1.6073 - val_categorical_accuracy: 0.2100\n",
      "\n",
      "Epoch 00005: saving model to model_init_2020-05-2205_36_02.814533/model-00005-1.60638-0.25373-1.60734-0.21000.h5\n",
      "Epoch 6/10\n",
      "67/67 [==============================] - 45s 668ms/step - loss: 1.6108 - categorical_accuracy: 0.1692 - val_loss: 1.6074 - val_categorical_accuracy: 0.2100\n",
      "\n",
      "Epoch 00006: saving model to model_init_2020-05-2205_36_02.814533/model-00006-1.61082-0.16915-1.60743-0.21000.h5\n",
      "Epoch 7/10\n",
      "67/67 [==============================] - 45s 668ms/step - loss: 1.6099 - categorical_accuracy: 0.1990 - val_loss: 1.6077 - val_categorical_accuracy: 0.2100\n",
      "\n",
      "Epoch 00007: saving model to model_init_2020-05-2205_36_02.814533/model-00007-1.60988-0.19900-1.60768-0.21000.h5\n",
      "\n",
      "Epoch 00007: ReduceLROnPlateau reducing learning rate to 0.0005000000237487257.\n",
      "Epoch 8/10\n",
      "67/67 [==============================] - 45s 667ms/step - loss: 1.6094 - categorical_accuracy: 0.1940 - val_loss: 1.6078 - val_categorical_accuracy: 0.2100\n",
      "\n",
      "Epoch 00008: saving model to model_init_2020-05-2205_36_02.814533/model-00008-1.60941-0.19403-1.60779-0.21000.h5\n",
      "Epoch 9/10\n",
      "67/67 [==============================] - 45s 666ms/step - loss: 1.6095 - categorical_accuracy: 0.2239 - val_loss: 1.6081 - val_categorical_accuracy: 0.2100\n",
      "\n",
      "Epoch 00009: saving model to model_init_2020-05-2205_36_02.814533/model-00009-1.60950-0.22388-1.60815-0.21000.h5\n",
      "\n",
      "Epoch 00009: ReduceLROnPlateau reducing learning rate to 0.0002500000118743628.\n",
      "Epoch 10/10\n",
      "67/67 [==============================] - 45s 666ms/step - loss: 1.6080 - categorical_accuracy: 0.2189 - val_loss: 1.6082 - val_categorical_accuracy: 0.2100\n",
      "\n",
      "Epoch 00010: saving model to model_init_2020-05-2205_36_02.814533/model-00010-1.60795-0.21891-1.60820-0.21000.h5\n"
     ]
    },
    {
     "data": {
      "text/plain": [
       "<keras.callbacks.History at 0x7f5b15ce43c8>"
      ]
     },
     "execution_count": 22,
     "metadata": {},
     "output_type": "execute_result"
    }
   ],
   "source": [
    "model_2.fit_generator(train_generator, steps_per_epoch=steps_per_epoch, epochs=num_epochs, verbose=1, \n",
    "                    callbacks=callbacks_list, validation_data=val_generator, \n",
    "                    validation_steps=validation_steps, class_weight=None, workers=1, initial_epoch=0)"
   ]
  },
  {
   "cell_type": "markdown",
   "metadata": {},
   "source": [
    "Both `categorical_accuracy` and `val_categorical_accuracy` are at max 21%. Deleting all h5 files."
   ]
  },
  {
   "cell_type": "markdown",
   "metadata": {},
   "source": [
    "### `Experiment 03`"
   ]
  },
  {
   "cell_type": "code",
   "execution_count": 23,
   "metadata": {},
   "outputs": [],
   "source": [
    "x = 30 # number of frames\n",
    "y = 60 # image width updated from 120 to 60\n",
    "z = 60 # image height updated from 120 to 60"
   ]
  },
  {
   "cell_type": "code",
   "execution_count": 24,
   "metadata": {},
   "outputs": [
    {
     "name": "stdout",
     "output_type": "stream",
     "text": [
      "_________________________________________________________________\n",
      "Layer (type)                 Output Shape              Param #   \n",
      "=================================================================\n",
      "conv3d_9 (Conv3D)            (None, 30, 60, 60, 32)    2624      \n",
      "_________________________________________________________________\n",
      "activation_9 (Activation)    (None, 30, 60, 60, 32)    0         \n",
      "_________________________________________________________________\n",
      "conv3d_10 (Conv3D)           (None, 30, 60, 60, 32)    27680     \n",
      "_________________________________________________________________\n",
      "activation_10 (Activation)   (None, 30, 60, 60, 32)    0         \n",
      "_________________________________________________________________\n",
      "max_pooling3d_7 (MaxPooling3 (None, 10, 20, 20, 32)    0         \n",
      "_________________________________________________________________\n",
      "dropout_6 (Dropout)          (None, 10, 20, 20, 32)    0         \n",
      "_________________________________________________________________\n",
      "conv3d_11 (Conv3D)           (None, 10, 20, 20, 64)    55360     \n",
      "_________________________________________________________________\n",
      "activation_11 (Activation)   (None, 10, 20, 20, 64)    0         \n",
      "_________________________________________________________________\n",
      "conv3d_12 (Conv3D)           (None, 10, 20, 20, 64)    110656    \n",
      "_________________________________________________________________\n",
      "activation_12 (Activation)   (None, 10, 20, 20, 64)    0         \n",
      "_________________________________________________________________\n",
      "max_pooling3d_8 (MaxPooling3 (None, 4, 7, 7, 64)       0         \n",
      "_________________________________________________________________\n",
      "dropout_7 (Dropout)          (None, 4, 7, 7, 64)       0         \n",
      "_________________________________________________________________\n",
      "flatten_3 (Flatten)          (None, 12544)             0         \n",
      "_________________________________________________________________\n",
      "dense_6 (Dense)              (None, 512)               6423040   \n",
      "_________________________________________________________________\n",
      "dropout_8 (Dropout)          (None, 512)               0         \n",
      "_________________________________________________________________\n",
      "dense_7 (Dense)              (None, 5)                 2565      \n",
      "=================================================================\n",
      "Total params: 6,621,925\n",
      "Trainable params: 6,621,925\n",
      "Non-trainable params: 0\n",
      "_________________________________________________________________\n"
     ]
    }
   ],
   "source": [
    "model_2 = Sequential()\n",
    "model_2.add(Conv3D(32, kernel_size=(3, 3, 3), input_shape=(x,y,z,channel), padding='same'))\n",
    "model_2.add(Activation('relu'))\n",
    "model_2.add(Conv3D(32, kernel_size=(3, 3, 3), padding='same'))\n",
    "model_2.add(Activation('relu'))\n",
    "model_2.add(MaxPooling3D(pool_size=(3, 3, 3), padding='same'))\n",
    "model_2.add(Dropout(0.25))\n",
    "\n",
    "model_2.add(Conv3D(64, kernel_size=(3, 3, 3), padding='same'))\n",
    "model_2.add(Activation('relu'))\n",
    "model_2.add(Conv3D(64, kernel_size=(3, 3, 3), padding='same'))\n",
    "model_2.add(Activation('relu'))\n",
    "model_2.add(MaxPooling3D(pool_size=(3, 3, 3), padding='same'))\n",
    "model_2.add(Dropout(0.25))\n",
    "\n",
    "model_2.add(Flatten())\n",
    "model_2.add(Dense(512, activation='relu'))\n",
    "model_2.add(Dropout(0.5))\n",
    "model_2.add(Dense(classes, activation='softmax'))\n",
    "\n",
    "model_2.compile(optimizer=keras.optimizers.Adam(), loss='categorical_crossentropy', metrics=['categorical_accuracy'])\n",
    "model_2.summary()"
   ]
  },
  {
   "cell_type": "code",
   "execution_count": 25,
   "metadata": {},
   "outputs": [],
   "source": [
    "train_generator = generator_ex(train_path, train_doc, batch_size)\n",
    "val_generator = generator_ex(val_path, val_doc, batch_size)"
   ]
  },
  {
   "cell_type": "code",
   "execution_count": 26,
   "metadata": {},
   "outputs": [
    {
     "name": "stdout",
     "output_type": "stream",
     "text": [
      "Source path =  Project_data/val ; batch size = 10\n",
      "Source path =  Project_data/train ; batch size =Epoch 1/10\n",
      " 10\n",
      "65/67 [============================>.] - ETA: 2s - loss: 1.6156 - categorical_accuracy: 0.2185Batch:  67 Index: 10\n",
      "67/67 [==============================] - 72s 1s/step - loss: 1.6135 - categorical_accuracy: 0.2150 - val_loss: 1.5221 - val_categorical_accuracy: 0.2100\n",
      "\n",
      "Epoch 00001: saving model to model_init_2020-05-2205_36_02.814533/model-00001-1.61443-0.21719-1.52207-0.21000.h5\n",
      "Epoch 2/10\n",
      "67/67 [==============================] - 23s 338ms/step - loss: 1.5324 - categorical_accuracy: 0.3234 - val_loss: 1.5086 - val_categorical_accuracy: 0.2800\n",
      "\n",
      "Epoch 00002: saving model to model_init_2020-05-2205_36_02.814533/model-00002-1.53244-0.32338-1.50864-0.28000.h5\n",
      "Epoch 3/10\n",
      "67/67 [==============================] - 24s 359ms/step - loss: 1.5815 - categorical_accuracy: 0.2637 - val_loss: 1.3803 - val_categorical_accuracy: 0.3300\n",
      "\n",
      "Epoch 00003: saving model to model_init_2020-05-2205_36_02.814533/model-00003-1.58146-0.26368-1.38028-0.33000.h5\n",
      "Epoch 4/10\n",
      "67/67 [==============================] - 23s 344ms/step - loss: 1.5720 - categorical_accuracy: 0.2687 - val_loss: 1.4230 - val_categorical_accuracy: 0.2700\n",
      "\n",
      "Epoch 00004: saving model to model_init_2020-05-2205_36_02.814533/model-00004-1.57203-0.26866-1.42300-0.27000.h5\n",
      "Epoch 5/10\n",
      "67/67 [==============================] - 24s 358ms/step - loss: 1.3679 - categorical_accuracy: 0.3930 - val_loss: 1.3767 - val_categorical_accuracy: 0.3900\n",
      "\n",
      "Epoch 00005: saving model to model_init_2020-05-2205_36_02.814533/model-00005-1.36790-0.39303-1.37673-0.39000.h5\n",
      "Epoch 6/10\n",
      "67/67 [==============================] - 24s 351ms/step - loss: 1.3658 - categorical_accuracy: 0.3532 - val_loss: 1.3186 - val_categorical_accuracy: 0.3900\n",
      "\n",
      "Epoch 00006: saving model to model_init_2020-05-2205_36_02.814533/model-00006-1.36582-0.35323-1.31864-0.39000.h5\n",
      "Epoch 7/10\n",
      "67/67 [==============================] - 24s 353ms/step - loss: 1.4071 - categorical_accuracy: 0.3731 - val_loss: 1.2889 - val_categorical_accuracy: 0.3800\n",
      "\n",
      "Epoch 00007: saving model to model_init_2020-05-2205_36_02.814533/model-00007-1.40706-0.37313-1.28893-0.38000.h5\n",
      "Epoch 8/10\n",
      "67/67 [==============================] - 23s 348ms/step - loss: 1.2373 - categorical_accuracy: 0.4527 - val_loss: 1.6558 - val_categorical_accuracy: 0.3500\n",
      "\n",
      "Epoch 00008: saving model to model_init_2020-05-2205_36_02.814533/model-00008-1.23729-0.45274-1.65578-0.35000.h5\n",
      "Epoch 9/10\n",
      "67/67 [==============================] - 23s 351ms/step - loss: 1.1028 - categorical_accuracy: 0.5622 - val_loss: 1.4104 - val_categorical_accuracy: 0.3400\n",
      "\n",
      "Epoch 00009: saving model to model_init_2020-05-2205_36_02.814533/model-00009-1.10285-0.56219-1.41036-0.34000.h5\n",
      "\n",
      "Epoch 00009: ReduceLROnPlateau reducing learning rate to 0.0005000000237487257.\n",
      "Epoch 10/10\n",
      "67/67 [==============================] - 23s 345ms/step - loss: 1.1177 - categorical_accuracy: 0.5075 - val_loss: 1.0795 - val_categorical_accuracy: 0.5400\n",
      "\n",
      "Epoch 00010: saving model to model_init_2020-05-2205_36_02.814533/model-00010-1.11772-0.50746-1.07946-0.54000.h5\n"
     ]
    },
    {
     "data": {
      "text/plain": [
       "<keras.callbacks.History at 0x7f5b1b916cc0>"
      ]
     },
     "execution_count": 26,
     "metadata": {},
     "output_type": "execute_result"
    }
   ],
   "source": [
    "model_2.fit_generator(train_generator, steps_per_epoch=steps_per_epoch, epochs=num_epochs, verbose=1, \n",
    "                    callbacks=callbacks_list, validation_data=val_generator, \n",
    "                    validation_steps=validation_steps, class_weight=None, workers=1, initial_epoch=0)"
   ]
  },
  {
   "cell_type": "markdown",
   "metadata": {},
   "source": [
    "`categorical_accuracy` = 50%  and `val_categorical_accuracy`= 54% . Deleting all low accuracy .h5 files."
   ]
  },
  {
   "cell_type": "markdown",
   "metadata": {},
   "source": [
    "### `Experiment 04`"
   ]
  },
  {
   "cell_type": "markdown",
   "metadata": {},
   "source": [
    "**Changing Batch size to 20**"
   ]
  },
  {
   "cell_type": "code",
   "execution_count": 27,
   "metadata": {},
   "outputs": [],
   "source": [
    "train_generator = generator_ex(train_path, train_doc, 20)\n",
    "val_generator = generator_ex(val_path, val_doc, 20)"
   ]
  },
  {
   "cell_type": "code",
   "execution_count": 28,
   "metadata": {},
   "outputs": [
    {
     "name": "stdout",
     "output_type": "stream",
     "text": [
      "Source path =  Project_data/val ; batch size = 20\n",
      "Source path =  Project_data/train ; batch size = 20\n",
      "Epoch 1/10\n",
      "32/67 [=============>................] - ETA: 1:15 - loss: 0.9319 - categorical_accuracy: 0.6063Batch:  34 Index: 20\n",
      "67/67 [==============================] - 84s 1s/step - loss: 0.8859 - categorical_accuracy: 0.6274 - val_loss: 1.1076 - val_categorical_accuracy: 0.5300\n",
      "\n",
      "Epoch 00001: saving model to model_init_2020-05-2205_36_02.814533/model-00001-0.91984-0.61286-1.10763-0.53000.h5\n",
      "Epoch 2/10\n",
      "67/67 [==============================] - 28s 417ms/step - loss: 0.9143 - categorical_accuracy: 0.6318 - val_loss: 1.0809 - val_categorical_accuracy: 0.5600\n",
      "\n",
      "Epoch 00002: saving model to model_init_2020-05-2205_36_02.814533/model-00002-0.91430-0.63184-1.08092-0.56000.h5\n",
      "Epoch 3/10\n",
      "67/67 [==============================] - 29s 436ms/step - loss: 0.9688 - categorical_accuracy: 0.5920 - val_loss: 0.9763 - val_categorical_accuracy: 0.5600\n",
      "\n",
      "Epoch 00003: saving model to model_init_2020-05-2205_36_02.814533/model-00003-0.96880-0.59204-0.97630-0.56000.h5\n",
      "Epoch 4/10\n",
      "67/67 [==============================] - 29s 431ms/step - loss: 0.8756 - categorical_accuracy: 0.6269 - val_loss: 1.0290 - val_categorical_accuracy: 0.5500\n",
      "\n",
      "Epoch 00004: saving model to model_init_2020-05-2205_36_02.814533/model-00004-0.87559-0.62687-1.02895-0.55000.h5\n",
      "Epoch 5/10\n",
      "67/67 [==============================] - 29s 429ms/step - loss: 0.6243 - categorical_accuracy: 0.8159 - val_loss: 0.9352 - val_categorical_accuracy: 0.5900\n",
      "\n",
      "Epoch 00005: saving model to model_init_2020-05-2205_36_02.814533/model-00005-0.62430-0.81592-0.93522-0.59000.h5\n",
      "Epoch 6/10\n",
      "67/67 [==============================] - 29s 427ms/step - loss: 0.7630 - categorical_accuracy: 0.6915 - val_loss: 1.0870 - val_categorical_accuracy: 0.5800\n",
      "\n",
      "Epoch 00006: saving model to model_init_2020-05-2205_36_02.814533/model-00006-0.76298-0.69154-1.08696-0.58000.h5\n",
      "Epoch 7/10\n",
      "67/67 [==============================] - 29s 428ms/step - loss: 0.7275 - categorical_accuracy: 0.7114 - val_loss: 1.1097 - val_categorical_accuracy: 0.5900\n",
      "\n",
      "Epoch 00007: saving model to model_init_2020-05-2205_36_02.814533/model-00007-0.72751-0.71144-1.10967-0.59000.h5\n",
      "\n",
      "Epoch 00007: ReduceLROnPlateau reducing learning rate to 0.0002500000118743628.\n",
      "Epoch 8/10\n",
      "67/67 [==============================] - 28s 421ms/step - loss: 0.5328 - categorical_accuracy: 0.8109 - val_loss: 1.0480 - val_categorical_accuracy: 0.6000\n",
      "\n",
      "Epoch 00008: saving model to model_init_2020-05-2205_36_02.814533/model-00008-0.53279-0.81095-1.04798-0.60000.h5\n",
      "Epoch 9/10\n",
      "67/67 [==============================] - 29s 434ms/step - loss: 0.4905 - categorical_accuracy: 0.8308 - val_loss: 1.0439 - val_categorical_accuracy: 0.5600\n",
      "\n",
      "Epoch 00009: saving model to model_init_2020-05-2205_36_02.814533/model-00009-0.49048-0.83085-1.04387-0.56000.h5\n",
      "\n",
      "Epoch 00009: ReduceLROnPlateau reducing learning rate to 0.0001250000059371814.\n",
      "Epoch 10/10\n",
      "67/67 [==============================] - 29s 430ms/step - loss: 0.4027 - categorical_accuracy: 0.8657 - val_loss: 1.1005 - val_categorical_accuracy: 0.6000\n",
      "\n",
      "Epoch 00010: saving model to model_init_2020-05-2205_36_02.814533/model-00010-0.40274-0.86567-1.10049-0.60000.h5\n"
     ]
    },
    {
     "data": {
      "text/plain": [
       "<keras.callbacks.History at 0x7f5b1b916470>"
      ]
     },
     "execution_count": 28,
     "metadata": {},
     "output_type": "execute_result"
    }
   ],
   "source": [
    "model_2.fit_generator(train_generator, steps_per_epoch=steps_per_epoch, epochs=num_epochs, verbose=1, \n",
    "                    callbacks=callbacks_list, validation_data=val_generator, \n",
    "                    validation_steps=validation_steps, class_weight=None, workers=1, initial_epoch=0)"
   ]
  },
  {
   "cell_type": "markdown",
   "metadata": {},
   "source": [
    " Max `categorical_accuracy` at 80%  and `val_categorical_accuracy` at 58%"
   ]
  },
  {
   "cell_type": "markdown",
   "metadata": {},
   "source": [
    "### `Experiment 05`"
   ]
  },
  {
   "cell_type": "markdown",
   "metadata": {},
   "source": [
    "**Changing Batch size to 30**"
   ]
  },
  {
   "cell_type": "code",
   "execution_count": 29,
   "metadata": {},
   "outputs": [],
   "source": [
    "train_generator = generator_ex(train_path, train_doc, 30)\n",
    "val_generator = generator_ex(val_path, val_doc, 30)"
   ]
  },
  {
   "cell_type": "code",
   "execution_count": 30,
   "metadata": {},
   "outputs": [
    {
     "name": "stdout",
     "output_type": "stream",
     "text": [
      "Source path =  Project_data/val ; batch size = 30\n",
      "Source path =  Project_data/train ; batch size = 30\n",
      "Epoch 1/10\n",
      " 3/67 [>.............................] - ETA: 4:28 - loss: 0.2988 - categorical_accuracy: 0.8889Batch:  4 Index: 30\n",
      "21/67 [========>.....................] - ETA: 2:29 - loss: 0.3032 - categorical_accuracy: 0.9000Batch:  23 Index: 30\n",
      "67/67 [==============================] - 85s 1s/step - loss: 0.3214 - categorical_accuracy: 0.9069 - val_loss: 1.1441 - val_categorical_accuracy: 0.6250\n",
      "\n",
      "Epoch 00001: saving model to model_init_2020-05-2205_36_02.814533/model-00001-0.31966-0.90063-1.14413-0.62500.h5\n",
      "Epoch 2/10\n",
      "67/67 [==============================] - 24s 355ms/step - loss: 0.3091 - categorical_accuracy: 0.8856 - val_loss: 1.2620 - val_categorical_accuracy: 0.5900\n",
      "\n",
      "Epoch 00002: saving model to model_init_2020-05-2205_36_02.814533/model-00002-0.30906-0.88557-1.26195-0.59000.h5\n",
      "Epoch 3/10\n",
      "67/67 [==============================] - 24s 360ms/step - loss: 0.3236 - categorical_accuracy: 0.9005 - val_loss: 1.0628 - val_categorical_accuracy: 0.5600\n",
      "\n",
      "Epoch 00003: saving model to model_init_2020-05-2205_36_02.814533/model-00003-0.32365-0.90050-1.06281-0.56000.h5\n",
      "Epoch 4/10\n",
      "67/67 [==============================] - 23s 338ms/step - loss: 0.2936 - categorical_accuracy: 0.8955 - val_loss: 0.9827 - val_categorical_accuracy: 0.6600\n",
      "\n",
      "Epoch 00004: saving model to model_init_2020-05-2205_36_02.814533/model-00004-0.29360-0.89552-0.98272-0.66000.h5\n",
      "Epoch 5/10\n",
      "67/67 [==============================] - 22s 333ms/step - loss: 0.2169 - categorical_accuracy: 0.9204 - val_loss: 1.3287 - val_categorical_accuracy: 0.5700\n",
      "\n",
      "Epoch 00005: saving model to model_init_2020-05-2205_36_02.814533/model-00005-0.21686-0.92040-1.32870-0.57000.h5\n",
      "Epoch 6/10\n",
      "67/67 [==============================] - 23s 349ms/step - loss: 0.2225 - categorical_accuracy: 0.9154 - val_loss: 1.0577 - val_categorical_accuracy: 0.6200\n",
      "\n",
      "Epoch 00006: saving model to model_init_2020-05-2205_36_02.814533/model-00006-0.22251-0.91542-1.05775-0.62000.h5\n",
      "\n",
      "Epoch 00006: ReduceLROnPlateau reducing learning rate to 6.25000029685907e-05.\n",
      "Epoch 7/10\n",
      "67/67 [==============================] - 25s 378ms/step - loss: 0.2636 - categorical_accuracy: 0.9055 - val_loss: 1.2232 - val_categorical_accuracy: 0.6300\n",
      "\n",
      "Epoch 00007: saving model to model_init_2020-05-2205_36_02.814533/model-00007-0.26363-0.90547-1.22316-0.63000.h5\n",
      "Epoch 8/10\n",
      "67/67 [==============================] - 24s 360ms/step - loss: 0.2007 - categorical_accuracy: 0.9403 - val_loss: 1.2960 - val_categorical_accuracy: 0.5800\n",
      "\n",
      "Epoch 00008: saving model to model_init_2020-05-2205_36_02.814533/model-00008-0.20070-0.94030-1.29601-0.58000.h5\n",
      "\n",
      "Epoch 00008: ReduceLROnPlateau reducing learning rate to 3.125000148429535e-05.\n",
      "Epoch 9/10\n",
      "67/67 [==============================] - 25s 366ms/step - loss: 0.1815 - categorical_accuracy: 0.9453 - val_loss: 1.3695 - val_categorical_accuracy: 0.5700\n",
      "\n",
      "Epoch 00009: saving model to model_init_2020-05-2205_36_02.814533/model-00009-0.18149-0.94527-1.36952-0.57000.h5\n",
      "Epoch 10/10\n",
      "67/67 [==============================] - 23s 347ms/step - loss: 0.1597 - categorical_accuracy: 0.9602 - val_loss: 1.1069 - val_categorical_accuracy: 0.6500\n",
      "\n",
      "Epoch 00010: saving model to model_init_2020-05-2205_36_02.814533/model-00010-0.15972-0.96020-1.10692-0.65000.h5\n",
      "\n",
      "Epoch 00010: ReduceLROnPlateau reducing learning rate to 1.5625000742147677e-05.\n"
     ]
    },
    {
     "data": {
      "text/plain": [
       "<keras.callbacks.History at 0x7f5b280b53c8>"
      ]
     },
     "execution_count": 30,
     "metadata": {},
     "output_type": "execute_result"
    }
   ],
   "source": [
    "model_2.fit_generator(train_generator, steps_per_epoch=steps_per_epoch, epochs=num_epochs, verbose=1, \n",
    "                    callbacks=callbacks_list, validation_data=val_generator, \n",
    "                    validation_steps=validation_steps, class_weight=None, workers=1, initial_epoch=0)"
   ]
  },
  {
   "cell_type": "markdown",
   "metadata": {},
   "source": [
    "Good accuracy with  `categorical_accuracy` at 90%  and `val_categorical_accuracy` at 63%"
   ]
  },
  {
   "cell_type": "markdown",
   "metadata": {},
   "source": [
    "### `Experiment 06`"
   ]
  },
  {
   "cell_type": "markdown",
   "metadata": {},
   "source": [
    "**Changing Batch size to 40**"
   ]
  },
  {
   "cell_type": "code",
   "execution_count": 31,
   "metadata": {},
   "outputs": [],
   "source": [
    "train_generator = generator_ex(train_path, train_doc, 40)\n",
    "val_generator = generator_ex(val_path, val_doc, 40)"
   ]
  },
  {
   "cell_type": "code",
   "execution_count": 32,
   "metadata": {},
   "outputs": [
    {
     "name": "stdout",
     "output_type": "stream",
     "text": [
      "Source path =  Project_data/val ; batch size = 40\n",
      "Source path = Epoch 1/10\n",
      " Project_data/train ; batch size = 40\n",
      " 1/67 [..............................] - ETA: 10:51 - loss: 0.1833 - categorical_accuracy: 0.9500Batch:  3 Index: 40\n",
      "15/67 [=====>........................] - ETA: 3:55 - loss: 0.1835 - categorical_accuracy: 0.9450Batch:  17 Index: 40\n",
      "44/67 [==================>...........] - ETA: 1:10 - loss: 0.1905 - categorical_accuracy: 0.9376Batch:  29 Index: 23\n",
      "67/67 [==============================] - 181s 3s/step - loss: 0.1841 - categorical_accuracy: 0.9411 - val_loss: 1.2335 - val_categorical_accuracy: 0.6167\n",
      "\n",
      "Epoch 00001: saving model to model_init_2020-05-2205_36_02.814533/model-00001-0.18460-0.94145-1.23351-0.61667.h5\n",
      "Epoch 2/10\n",
      "12/67 [====>.........................] - ETA: 2:01 - loss: 0.1642 - categorical_accuracy: 0.9430Batch:  35 Index: 19\n",
      "67/67 [==============================] - 123s 2s/step - loss: 0.1745 - categorical_accuracy: 0.9496 - val_loss: 1.3138 - val_categorical_accuracy: 0.6000\n",
      "\n",
      "Epoch 00002: saving model to model_init_2020-05-2205_36_02.814533/model-00002-0.17436-0.94936-1.31383-0.60000.h5\n",
      "Epoch 3/10\n",
      "67/67 [==============================] - 118s 2s/step - loss: 0.1738 - categorical_accuracy: 0.9429 - val_loss: 1.1321 - val_categorical_accuracy: 0.6300\n",
      "\n",
      "Epoch 00003: saving model to model_init_2020-05-2205_36_02.814533/model-00003-0.17382-0.94293-1.13212-0.63000.h5\n",
      "Epoch 4/10\n",
      "67/67 [==============================] - 118s 2s/step - loss: 0.1504 - categorical_accuracy: 0.9535 - val_loss: 1.2911 - val_categorical_accuracy: 0.5950\n",
      "\n",
      "Epoch 00004: saving model to model_init_2020-05-2205_36_02.814533/model-00004-0.15036-0.95347-1.29107-0.59500.h5\n",
      "Epoch 5/10\n",
      "67/67 [==============================] - 119s 2s/step - loss: 0.1743 - categorical_accuracy: 0.9464 - val_loss: 1.3096 - val_categorical_accuracy: 0.6150\n",
      "\n",
      "Epoch 00005: saving model to model_init_2020-05-2205_36_02.814533/model-00005-0.17428-0.94644-1.30959-0.61500.h5\n",
      "\n",
      "Epoch 00005: ReduceLROnPlateau reducing learning rate to 7.812500371073838e-06.\n",
      "Epoch 6/10\n",
      "67/67 [==============================] - 117s 2s/step - loss: 0.1734 - categorical_accuracy: 0.9473 - val_loss: 1.2557 - val_categorical_accuracy: 0.6350\n",
      "\n",
      "Epoch 00006: saving model to model_init_2020-05-2205_36_02.814533/model-00006-0.17340-0.94732-1.25573-0.63500.h5\n",
      "Epoch 7/10\n",
      "67/67 [==============================] - 120s 2s/step - loss: 0.1601 - categorical_accuracy: 0.9570 - val_loss: 1.2426 - val_categorical_accuracy: 0.6300\n",
      "\n",
      "Epoch 00007: saving model to model_init_2020-05-2205_36_02.814533/model-00007-0.16009-0.95698-1.24264-0.63000.h5\n",
      "\n",
      "Epoch 00007: ReduceLROnPlateau reducing learning rate to 3.906250185536919e-06.\n",
      "Epoch 8/10\n",
      "67/67 [==============================] - 119s 2s/step - loss: 0.1503 - categorical_accuracy: 0.9570 - val_loss: 1.2258 - val_categorical_accuracy: 0.6050\n",
      "\n",
      "Epoch 00008: saving model to model_init_2020-05-2205_36_02.814533/model-00008-0.15028-0.95698-1.22583-0.60500.h5\n",
      "Epoch 9/10\n",
      "67/67 [==============================] - 117s 2s/step - loss: 0.1789 - categorical_accuracy: 0.9482 - val_loss: 1.2767 - val_categorical_accuracy: 0.6250\n",
      "\n",
      "Epoch 00009: saving model to model_init_2020-05-2205_36_02.814533/model-00009-0.17892-0.94820-1.27669-0.62500.h5\n",
      "\n",
      "Epoch 00009: ReduceLROnPlateau reducing learning rate to 1.9531250927684596e-06.\n",
      "Epoch 10/10\n",
      "67/67 [==============================] - 118s 2s/step - loss: 0.1548 - categorical_accuracy: 0.9526 - val_loss: 1.3385 - val_categorical_accuracy: 0.6000\n",
      "\n",
      "Epoch 00010: saving model to model_init_2020-05-2205_36_02.814533/model-00010-0.15482-0.95259-1.33852-0.60000.h5\n"
     ]
    },
    {
     "data": {
      "text/plain": [
       "<keras.callbacks.History at 0x7f5ade2192b0>"
      ]
     },
     "execution_count": 32,
     "metadata": {},
     "output_type": "execute_result"
    }
   ],
   "source": [
    "model_2.fit_generator(train_generator, steps_per_epoch=steps_per_epoch, epochs=num_epochs, verbose=1, \n",
    "                    callbacks=callbacks_list, validation_data=val_generator, \n",
    "                    validation_steps=validation_steps, class_weight=None, workers=1, initial_epoch=0)"
   ]
  },
  {
   "cell_type": "markdown",
   "metadata": {},
   "source": [
    "Max `categorical_accuracy` at 91%  and `val_categorical_accuracy` at 63%"
   ]
  },
  {
   "cell_type": "markdown",
   "metadata": {},
   "source": [
    "### `Experiment 07`"
   ]
  },
  {
   "cell_type": "markdown",
   "metadata": {},
   "source": [
    "**Changed Optimizer to Adadelta**"
   ]
  },
  {
   "cell_type": "code",
   "execution_count": 33,
   "metadata": {},
   "outputs": [
    {
     "name": "stdout",
     "output_type": "stream",
     "text": [
      "_________________________________________________________________\n",
      "Layer (type)                 Output Shape              Param #   \n",
      "=================================================================\n",
      "conv3d_9 (Conv3D)            (None, 30, 60, 60, 32)    2624      \n",
      "_________________________________________________________________\n",
      "activation_9 (Activation)    (None, 30, 60, 60, 32)    0         \n",
      "_________________________________________________________________\n",
      "conv3d_10 (Conv3D)           (None, 30, 60, 60, 32)    27680     \n",
      "_________________________________________________________________\n",
      "activation_10 (Activation)   (None, 30, 60, 60, 32)    0         \n",
      "_________________________________________________________________\n",
      "max_pooling3d_7 (MaxPooling3 (None, 10, 20, 20, 32)    0         \n",
      "_________________________________________________________________\n",
      "dropout_6 (Dropout)          (None, 10, 20, 20, 32)    0         \n",
      "_________________________________________________________________\n",
      "conv3d_11 (Conv3D)           (None, 10, 20, 20, 64)    55360     \n",
      "_________________________________________________________________\n",
      "activation_11 (Activation)   (None, 10, 20, 20, 64)    0         \n",
      "_________________________________________________________________\n",
      "conv3d_12 (Conv3D)           (None, 10, 20, 20, 64)    110656    \n",
      "_________________________________________________________________\n",
      "activation_12 (Activation)   (None, 10, 20, 20, 64)    0         \n",
      "_________________________________________________________________\n",
      "max_pooling3d_8 (MaxPooling3 (None, 4, 7, 7, 64)       0         \n",
      "_________________________________________________________________\n",
      "dropout_7 (Dropout)          (None, 4, 7, 7, 64)       0         \n",
      "_________________________________________________________________\n",
      "flatten_3 (Flatten)          (None, 12544)             0         \n",
      "_________________________________________________________________\n",
      "dense_6 (Dense)              (None, 512)               6423040   \n",
      "_________________________________________________________________\n",
      "dropout_8 (Dropout)          (None, 512)               0         \n",
      "_________________________________________________________________\n",
      "dense_7 (Dense)              (None, 5)                 2565      \n",
      "=================================================================\n",
      "Total params: 6,621,925\n",
      "Trainable params: 6,621,925\n",
      "Non-trainable params: 0\n",
      "_________________________________________________________________\n"
     ]
    }
   ],
   "source": [
    "model_2.compile(optimizer=keras.optimizers.Adadelta(), loss='categorical_crossentropy', metrics=['categorical_accuracy'])\n",
    "model_2.summary()"
   ]
  },
  {
   "cell_type": "code",
   "execution_count": 34,
   "metadata": {},
   "outputs": [],
   "source": [
    "train_generator = generator_ex(train_path, train_doc, 40)\n",
    "val_generator = generator_ex(val_path, val_doc, 40)"
   ]
  },
  {
   "cell_type": "code",
   "execution_count": 35,
   "metadata": {
    "scrolled": true
   },
   "outputs": [
    {
     "name": "stdout",
     "output_type": "stream",
     "text": [
      "Source path =  Project_data/val ; batch size = 40Source path =  Project_data/train ; batch size = 40\n",
      "Epoch 1/10\n",
      "\n",
      " 2/67 [..............................] - ETA: 6:30 - loss: 0.1261 - categorical_accuracy: 0.9875Batch:  3 Index: 40\n",
      "15/67 [=====>........................] - ETA: 3:54 - loss: 0.2738 - categorical_accuracy: 0.9050Batch:  17 Index: 40\n",
      "44/67 [==================>...........] - ETA: 1:10 - loss: 0.2478 - categorical_accuracy: 0.9123Batch:  29 Index: 23\n",
      "67/67 [==============================] - 183s 3s/step - loss: 0.2508 - categorical_accuracy: 0.9080 - val_loss: 1.7793 - val_categorical_accuracy: 0.6083\n",
      "\n",
      "Epoch 00001: saving model to model_init_2020-05-2205_36_02.814533/model-00001-0.25298-0.90899-1.77930-0.60833.h5\n",
      "Epoch 2/10\n",
      "12/67 [====>.........................] - ETA: 1:48 - loss: 0.3249 - categorical_accuracy: 0.8947Batch:  35 Index: 19\n",
      "67/67 [==============================] - 120s 2s/step - loss: 0.1624 - categorical_accuracy: 0.9437 - val_loss: 1.9555 - val_categorical_accuracy: 0.6050\n",
      "\n",
      "Epoch 00002: saving model to model_init_2020-05-2205_36_02.814533/model-00002-0.16580-0.94249-1.95551-0.60500.h5\n",
      "Epoch 3/10\n",
      "67/67 [==============================] - 119s 2s/step - loss: 0.0961 - categorical_accuracy: 0.9658 - val_loss: 2.5898 - val_categorical_accuracy: 0.5250\n",
      "\n",
      "Epoch 00003: saving model to model_init_2020-05-2205_36_02.814533/model-00003-0.09605-0.96576-2.58981-0.52500.h5\n",
      "\n",
      "Epoch 00003: ReduceLROnPlateau reducing learning rate to 0.5.\n",
      "Epoch 4/10\n",
      "67/67 [==============================] - 121s 2s/step - loss: 0.0490 - categorical_accuracy: 0.9816 - val_loss: 1.8770 - val_categorical_accuracy: 0.6450\n",
      "\n",
      "Epoch 00004: saving model to model_init_2020-05-2205_36_02.814533/model-00004-0.04899-0.98156-1.87698-0.64500.h5\n",
      "Epoch 5/10\n",
      "67/67 [==============================] - 121s 2s/step - loss: 0.0388 - categorical_accuracy: 0.9860 - val_loss: 2.5999 - val_categorical_accuracy: 0.5500\n",
      "\n",
      "Epoch 00005: saving model to model_init_2020-05-2205_36_02.814533/model-00005-0.03883-0.98595-2.59991-0.55000.h5\n",
      "\n",
      "Epoch 00005: ReduceLROnPlateau reducing learning rate to 0.25.\n",
      "Epoch 6/10\n",
      "67/67 [==============================] - 119s 2s/step - loss: 0.0274 - categorical_accuracy: 0.9895 - val_loss: 2.0970 - val_categorical_accuracy: 0.6150\n",
      "\n",
      "Epoch 00006: saving model to model_init_2020-05-2205_36_02.814533/model-00006-0.02741-0.98946-2.09699-0.61500.h5\n",
      "Epoch 7/10\n",
      "67/67 [==============================] - 122s 2s/step - loss: 0.0265 - categorical_accuracy: 0.9886 - val_loss: 2.4173 - val_categorical_accuracy: 0.6000\n",
      "\n",
      "Epoch 00007: saving model to model_init_2020-05-2205_36_02.814533/model-00007-0.02645-0.98859-2.41734-0.60000.h5\n",
      "\n",
      "Epoch 00007: ReduceLROnPlateau reducing learning rate to 0.125.\n",
      "Epoch 8/10\n",
      "67/67 [==============================] - 121s 2s/step - loss: 0.0299 - categorical_accuracy: 0.9921 - val_loss: 2.3201 - val_categorical_accuracy: 0.6050\n",
      "\n",
      "Epoch 00008: saving model to model_init_2020-05-2205_36_02.814533/model-00008-0.02994-0.99210-2.32011-0.60500.h5\n",
      "Epoch 9/10\n",
      "67/67 [==============================] - 123s 2s/step - loss: 0.0190 - categorical_accuracy: 0.9939 - val_loss: 2.3330 - val_categorical_accuracy: 0.6100\n",
      "\n",
      "Epoch 00009: saving model to model_init_2020-05-2205_36_02.814533/model-00009-0.01898-0.99385-2.33305-0.61000.h5\n",
      "\n",
      "Epoch 00009: ReduceLROnPlateau reducing learning rate to 0.0625.\n",
      "Epoch 10/10\n",
      "67/67 [==============================] - 122s 2s/step - loss: 0.0203 - categorical_accuracy: 0.9939 - val_loss: 2.2050 - val_categorical_accuracy: 0.6150\n",
      "\n",
      "Epoch 00010: saving model to model_init_2020-05-2205_36_02.814533/model-00010-0.02035-0.99385-2.20495-0.61500.h5\n"
     ]
    },
    {
     "data": {
      "text/plain": [
       "<keras.callbacks.History at 0x7f5b2807cc88>"
      ]
     },
     "execution_count": 35,
     "metadata": {},
     "output_type": "execute_result"
    }
   ],
   "source": [
    "model_2.fit_generator(train_generator, steps_per_epoch=steps_per_epoch, epochs=num_epochs, verbose=1, \n",
    "                    callbacks=callbacks_list, validation_data=val_generator, \n",
    "                    validation_steps=validation_steps, class_weight=None, workers=1, initial_epoch=0)"
   ]
  },
  {
   "cell_type": "markdown",
   "metadata": {},
   "source": [
    "`Best Fit so Far ` `categorical_accuracy: 0.9947` - val_loss: 1.6844 - `val_categorical_accuracy: 0.6400`\n",
    "\n",
    "\n",
    "Epoch 00010: saving model to model_init_2020-05-1918_24_07.458406/model-00010-0.01637-0.99473-1.68444-0.64000.h5"
   ]
  },
  {
   "cell_type": "markdown",
   "metadata": {},
   "source": [
    "### `Experiment 08`"
   ]
  },
  {
   "cell_type": "markdown",
   "metadata": {},
   "source": [
    "###  Changing `Epoch = 20`"
   ]
  },
  {
   "cell_type": "code",
   "execution_count": 36,
   "metadata": {},
   "outputs": [
    {
     "name": "stdout",
     "output_type": "stream",
     "text": [
      "# epochs = 20\n"
     ]
    }
   ],
   "source": [
    "num_epochs = 20 # choose the number of epochs\n",
    "print ('# epochs =', num_epochs)"
   ]
  },
  {
   "cell_type": "code",
   "execution_count": 37,
   "metadata": {},
   "outputs": [
    {
     "name": "stdout",
     "output_type": "stream",
     "text": [
      "_________________________________________________________________\n",
      "Layer (type)                 Output Shape              Param #   \n",
      "=================================================================\n",
      "conv3d_9 (Conv3D)            (None, 30, 60, 60, 32)    2624      \n",
      "_________________________________________________________________\n",
      "activation_9 (Activation)    (None, 30, 60, 60, 32)    0         \n",
      "_________________________________________________________________\n",
      "conv3d_10 (Conv3D)           (None, 30, 60, 60, 32)    27680     \n",
      "_________________________________________________________________\n",
      "activation_10 (Activation)   (None, 30, 60, 60, 32)    0         \n",
      "_________________________________________________________________\n",
      "max_pooling3d_7 (MaxPooling3 (None, 10, 20, 20, 32)    0         \n",
      "_________________________________________________________________\n",
      "dropout_6 (Dropout)          (None, 10, 20, 20, 32)    0         \n",
      "_________________________________________________________________\n",
      "conv3d_11 (Conv3D)           (None, 10, 20, 20, 64)    55360     \n",
      "_________________________________________________________________\n",
      "activation_11 (Activation)   (None, 10, 20, 20, 64)    0         \n",
      "_________________________________________________________________\n",
      "conv3d_12 (Conv3D)           (None, 10, 20, 20, 64)    110656    \n",
      "_________________________________________________________________\n",
      "activation_12 (Activation)   (None, 10, 20, 20, 64)    0         \n",
      "_________________________________________________________________\n",
      "max_pooling3d_8 (MaxPooling3 (None, 4, 7, 7, 64)       0         \n",
      "_________________________________________________________________\n",
      "dropout_7 (Dropout)          (None, 4, 7, 7, 64)       0         \n",
      "_________________________________________________________________\n",
      "flatten_3 (Flatten)          (None, 12544)             0         \n",
      "_________________________________________________________________\n",
      "dense_6 (Dense)              (None, 512)               6423040   \n",
      "_________________________________________________________________\n",
      "dropout_8 (Dropout)          (None, 512)               0         \n",
      "_________________________________________________________________\n",
      "dense_7 (Dense)              (None, 5)                 2565      \n",
      "=================================================================\n",
      "Total params: 6,621,925\n",
      "Trainable params: 6,621,925\n",
      "Non-trainable params: 0\n",
      "_________________________________________________________________\n"
     ]
    }
   ],
   "source": [
    "import keras\n",
    "model_2.compile(optimizer=keras.optimizers.Adadelta(), loss='categorical_crossentropy', metrics=['categorical_accuracy'])\n",
    "model_2.summary()"
   ]
  },
  {
   "cell_type": "code",
   "execution_count": 38,
   "metadata": {},
   "outputs": [],
   "source": [
    "train_generator = generator_ex(train_path, train_doc, 40)\n",
    "val_generator = generator_ex(val_path, val_doc, 40)"
   ]
  },
  {
   "cell_type": "code",
   "execution_count": 39,
   "metadata": {},
   "outputs": [
    {
     "name": "stdout",
     "output_type": "stream",
     "text": [
      "Source path =  Project_data/val ; batch size = 40\n",
      "Source path =  Project_data/train ; batch size = 40\n",
      "Epoch 1/20\n",
      " 1/67 [..............................] - ETA: 10:01 - loss: 0.0511 - categorical_accuracy: 0.9750Batch:  3 Index: 40\n",
      "15/67 [=====>........................] - ETA: 3:58 - loss: 0.0547 - categorical_accuracy: 0.9833Batch:  17 Index: 40\n",
      "44/67 [==================>...........] - ETA: 1:11 - loss: 0.0718 - categorical_accuracy: 0.9775Batch:  29 Index: 23\n",
      "67/67 [==============================] - 185s 3s/step - loss: 0.0748 - categorical_accuracy: 0.9790 - val_loss: 2.3519 - val_categorical_accuracy: 0.5583\n",
      "\n",
      "Epoch 00001: saving model to model_init_2020-05-2205_36_02.814533/model-00001-0.07103-0.97971-2.35195-0.55833.h5\n",
      "Epoch 2/20\n",
      "12/67 [====>.........................] - ETA: 1:56 - loss: 0.0744 - categorical_accuracy: 0.9737Batch:  35 Index: 19\n",
      "67/67 [==============================] - 122s 2s/step - loss: 0.0586 - categorical_accuracy: 0.9777 - val_loss: 2.2140 - val_categorical_accuracy: 0.5850\n",
      "\n",
      "Epoch 00002: saving model to model_init_2020-05-2205_36_02.814533/model-00002-0.05885-0.97768-2.21399-0.58500.h5\n",
      "Epoch 3/20\n",
      "67/67 [==============================] - 122s 2s/step - loss: 0.0276 - categorical_accuracy: 0.9921 - val_loss: 2.4981 - val_categorical_accuracy: 0.6150\n",
      "\n",
      "Epoch 00003: saving model to model_init_2020-05-2205_36_02.814533/model-00003-0.02760-0.99210-2.49806-0.61500.h5\n",
      "Epoch 4/20\n",
      "67/67 [==============================] - 121s 2s/step - loss: 0.0119 - categorical_accuracy: 0.9965 - val_loss: 2.5845 - val_categorical_accuracy: 0.6350\n",
      "\n",
      "Epoch 00004: saving model to model_init_2020-05-2205_36_02.814533/model-00004-0.01192-0.99649-2.58449-0.63500.h5\n",
      "\n",
      "Epoch 00004: ReduceLROnPlateau reducing learning rate to 0.5.\n",
      "Epoch 5/20\n",
      "67/67 [==============================] - 122s 2s/step - loss: 0.0192 - categorical_accuracy: 0.9956 - val_loss: 2.5839 - val_categorical_accuracy: 0.6150\n",
      "\n",
      "Epoch 00005: saving model to model_init_2020-05-2205_36_02.814533/model-00005-0.01923-0.99561-2.58393-0.61500.h5\n",
      "Epoch 6/20\n",
      "67/67 [==============================] - 122s 2s/step - loss: 0.0056 - categorical_accuracy: 0.9982 - val_loss: 2.3964 - val_categorical_accuracy: 0.6500\n",
      "\n",
      "Epoch 00006: saving model to model_init_2020-05-2205_36_02.814533/model-00006-0.00557-0.99824-2.39642-0.65000.h5\n",
      "\n",
      "Epoch 00006: ReduceLROnPlateau reducing learning rate to 0.25.\n",
      "Epoch 7/20\n",
      "67/67 [==============================] - 121s 2s/step - loss: 0.0073 - categorical_accuracy: 0.9974 - val_loss: 2.7895 - val_categorical_accuracy: 0.5850\n",
      "\n",
      "Epoch 00007: saving model to model_init_2020-05-2205_36_02.814533/model-00007-0.00730-0.99737-2.78946-0.58500.h5\n",
      "Epoch 8/20\n",
      "67/67 [==============================] - 120s 2s/step - loss: 0.0157 - categorical_accuracy: 0.9912 - val_loss: 2.8841 - val_categorical_accuracy: 0.6400\n",
      "\n",
      "Epoch 00008: saving model to model_init_2020-05-2205_36_02.814533/model-00008-0.01571-0.99122-2.88405-0.64000.h5\n",
      "\n",
      "Epoch 00008: ReduceLROnPlateau reducing learning rate to 0.125.\n",
      "Epoch 9/20\n",
      "67/67 [==============================] - 122s 2s/step - loss: 0.0068 - categorical_accuracy: 0.9974 - val_loss: 2.3617 - val_categorical_accuracy: 0.6350\n",
      "\n",
      "Epoch 00009: saving model to model_init_2020-05-2205_36_02.814533/model-00009-0.00676-0.99737-2.36173-0.63500.h5\n",
      "Epoch 10/20\n",
      "67/67 [==============================] - 118s 2s/step - loss: 0.0106 - categorical_accuracy: 0.9965 - val_loss: 2.8734 - val_categorical_accuracy: 0.6100\n",
      "\n",
      "Epoch 00010: saving model to model_init_2020-05-2205_36_02.814533/model-00010-0.01058-0.99649-2.87339-0.61000.h5\n",
      "\n",
      "Epoch 00010: ReduceLROnPlateau reducing learning rate to 0.0625.\n",
      "Epoch 11/20\n",
      "67/67 [==============================] - 122s 2s/step - loss: 0.0075 - categorical_accuracy: 0.9974 - val_loss: 2.6114 - val_categorical_accuracy: 0.6300\n",
      "\n",
      "Epoch 00011: saving model to model_init_2020-05-2205_36_02.814533/model-00011-0.00751-0.99737-2.61140-0.63000.h5\n",
      "Epoch 12/20\n",
      "67/67 [==============================] - 121s 2s/step - loss: 0.0104 - categorical_accuracy: 0.9956 - val_loss: 2.5965 - val_categorical_accuracy: 0.6700\n",
      "\n",
      "Epoch 00012: saving model to model_init_2020-05-2205_36_02.814533/model-00012-0.01036-0.99561-2.59650-0.67000.h5\n",
      "\n",
      "Epoch 00012: ReduceLROnPlateau reducing learning rate to 0.03125.\n",
      "Epoch 13/20\n",
      "67/67 [==============================] - 120s 2s/step - loss: 0.0040 - categorical_accuracy: 0.9991 - val_loss: 2.5807 - val_categorical_accuracy: 0.6450\n",
      "\n",
      "Epoch 00013: saving model to model_init_2020-05-2205_36_02.814533/model-00013-0.00397-0.99912-2.58068-0.64500.h5\n",
      "Epoch 14/20\n",
      "67/67 [==============================] - 119s 2s/step - loss: 0.0104 - categorical_accuracy: 0.9965 - val_loss: 2.6626 - val_categorical_accuracy: 0.6300\n",
      "\n",
      "Epoch 00014: saving model to model_init_2020-05-2205_36_02.814533/model-00014-0.01044-0.99649-2.66264-0.63000.h5\n",
      "\n",
      "Epoch 00014: ReduceLROnPlateau reducing learning rate to 0.015625.\n",
      "Epoch 15/20\n",
      "67/67 [==============================] - 120s 2s/step - loss: 0.0063 - categorical_accuracy: 0.9991 - val_loss: 2.5890 - val_categorical_accuracy: 0.6300\n",
      "\n",
      "Epoch 00015: saving model to model_init_2020-05-2205_36_02.814533/model-00015-0.00632-0.99912-2.58900-0.63000.h5\n",
      "Epoch 16/20\n",
      "67/67 [==============================] - 121s 2s/step - loss: 0.0023 - categorical_accuracy: 1.0000 - val_loss: 2.8845 - val_categorical_accuracy: 0.6050\n",
      "\n",
      "Epoch 00016: saving model to model_init_2020-05-2205_36_02.814533/model-00016-0.00225-1.00000-2.88447-0.60500.h5\n",
      "\n",
      "Epoch 00016: ReduceLROnPlateau reducing learning rate to 0.0078125.\n",
      "Epoch 17/20\n",
      "67/67 [==============================] - 119s 2s/step - loss: 0.0058 - categorical_accuracy: 0.9991 - val_loss: 2.4378 - val_categorical_accuracy: 0.6450\n",
      "\n",
      "Epoch 00017: saving model to model_init_2020-05-2205_36_02.814533/model-00017-0.00579-0.99912-2.43782-0.64500.h5\n",
      "Epoch 18/20\n",
      "67/67 [==============================] - 120s 2s/step - loss: 0.0034 - categorical_accuracy: 0.9991 - val_loss: 2.3950 - val_categorical_accuracy: 0.6600\n",
      "\n",
      "Epoch 00018: saving model to model_init_2020-05-2205_36_02.814533/model-00018-0.00340-0.99912-2.39502-0.66000.h5\n",
      "\n",
      "Epoch 00018: ReduceLROnPlateau reducing learning rate to 0.00390625.\n",
      "Epoch 19/20\n",
      "67/67 [==============================] - 121s 2s/step - loss: 0.0040 - categorical_accuracy: 0.9991 - val_loss: 2.8073 - val_categorical_accuracy: 0.6000\n",
      "\n",
      "Epoch 00019: saving model to model_init_2020-05-2205_36_02.814533/model-00019-0.00397-0.99912-2.80730-0.60000.h5\n",
      "Epoch 20/20\n",
      "67/67 [==============================] - 120s 2s/step - loss: 0.0055 - categorical_accuracy: 0.9991 - val_loss: 2.4285 - val_categorical_accuracy: 0.6350\n",
      "\n",
      "Epoch 00020: saving model to model_init_2020-05-2205_36_02.814533/model-00020-0.00547-0.99912-2.42849-0.63500.h5\n",
      "\n",
      "Epoch 00020: ReduceLROnPlateau reducing learning rate to 0.001953125.\n"
     ]
    },
    {
     "data": {
      "text/plain": [
       "<keras.callbacks.History at 0x7f5b1b0e4c88>"
      ]
     },
     "execution_count": 39,
     "metadata": {},
     "output_type": "execute_result"
    }
   ],
   "source": [
    "model_2.fit_generator(train_generator, steps_per_epoch=steps_per_epoch, epochs=num_epochs, verbose=1, \n",
    "                    callbacks=callbacks_list, validation_data=val_generator, \n",
    "                    validation_steps=validation_steps, class_weight=None, workers=1, initial_epoch=0)"
   ]
  },
  {
   "cell_type": "markdown",
   "metadata": {},
   "source": [
    "`categorical_accuracy: 99.56%` - `val_categorical_accuracy: 67.00%`"
   ]
  },
  {
   "cell_type": "markdown",
   "metadata": {},
   "source": [
    "### `Experiment 09`"
   ]
  },
  {
   "cell_type": "markdown",
   "metadata": {},
   "source": [
    "# <a id='model_3'>Model_3</a>"
   ]
  },
  {
   "cell_type": "code",
   "execution_count": 40,
   "metadata": {},
   "outputs": [
    {
     "name": "stdout",
     "output_type": "stream",
     "text": [
      "_________________________________________________________________\n",
      "Layer (type)                 Output Shape              Param #   \n",
      "=================================================================\n",
      "conv3d_13 (Conv3D)           (None, 30, 60, 60, 32)    2624      \n",
      "_________________________________________________________________\n",
      "activation_13 (Activation)   (None, 30, 60, 60, 32)    0         \n",
      "_________________________________________________________________\n",
      "conv3d_14 (Conv3D)           (None, 30, 60, 60, 32)    27680     \n",
      "_________________________________________________________________\n",
      "activation_14 (Activation)   (None, 30, 60, 60, 32)    0         \n",
      "_________________________________________________________________\n",
      "max_pooling3d_9 (MaxPooling3 (None, 10, 20, 20, 32)    0         \n",
      "_________________________________________________________________\n",
      "dropout_9 (Dropout)          (None, 10, 20, 20, 32)    0         \n",
      "_________________________________________________________________\n",
      "conv3d_15 (Conv3D)           (None, 10, 20, 20, 64)    55360     \n",
      "_________________________________________________________________\n",
      "activation_15 (Activation)   (None, 10, 20, 20, 64)    0         \n",
      "_________________________________________________________________\n",
      "conv3d_16 (Conv3D)           (None, 10, 20, 20, 64)    110656    \n",
      "_________________________________________________________________\n",
      "activation_16 (Activation)   (None, 10, 20, 20, 64)    0         \n",
      "_________________________________________________________________\n",
      "max_pooling3d_10 (MaxPooling (None, 4, 7, 7, 64)       0         \n",
      "_________________________________________________________________\n",
      "dropout_10 (Dropout)         (None, 4, 7, 7, 64)       0         \n",
      "_________________________________________________________________\n",
      "conv3d_17 (Conv3D)           (None, 4, 7, 7, 64)       110656    \n",
      "_________________________________________________________________\n",
      "activation_17 (Activation)   (None, 4, 7, 7, 64)       0         \n",
      "_________________________________________________________________\n",
      "conv3d_18 (Conv3D)           (None, 4, 7, 7, 64)       110656    \n",
      "_________________________________________________________________\n",
      "activation_18 (Activation)   (None, 4, 7, 7, 64)       0         \n",
      "_________________________________________________________________\n",
      "max_pooling3d_11 (MaxPooling (None, 2, 3, 3, 64)       0         \n",
      "_________________________________________________________________\n",
      "dropout_11 (Dropout)         (None, 2, 3, 3, 64)       0         \n",
      "_________________________________________________________________\n",
      "flatten_4 (Flatten)          (None, 1152)              0         \n",
      "_________________________________________________________________\n",
      "dense_8 (Dense)              (None, 512)               590336    \n",
      "_________________________________________________________________\n",
      "batch_normalization_5 (Batch (None, 512)               2048      \n",
      "_________________________________________________________________\n",
      "dropout_12 (Dropout)         (None, 512)               0         \n",
      "_________________________________________________________________\n",
      "dense_9 (Dense)              (None, 5)                 2565      \n",
      "=================================================================\n",
      "Total params: 1,012,581\n",
      "Trainable params: 1,011,557\n",
      "Non-trainable params: 1,024\n",
      "_________________________________________________________________\n"
     ]
    }
   ],
   "source": [
    "model_3 = Sequential()\n",
    "model_3.add(Conv3D(32, kernel_size=(3, 3, 3), input_shape=(x,y,z,channel), padding=\"same\"))\n",
    "model_3.add(Activation('relu'))\n",
    "model_3.add(Conv3D(32, padding=\"same\", kernel_size=(3, 3, 3)))\n",
    "model_3.add(Activation('relu'))\n",
    "model_3.add(MaxPooling3D(pool_size=(3, 3, 3), padding=\"same\"))\n",
    "model_3.add(Dropout(0.25))\n",
    "\n",
    "model_3.add(Conv3D(64, padding=\"same\", kernel_size=(3, 3, 3)))\n",
    "model_3.add(Activation('relu'))\n",
    "model_3.add(Conv3D(64, padding=\"same\", kernel_size=(3, 3, 3)))\n",
    "model_3.add(Activation('relu'))\n",
    "model_3.add(MaxPooling3D(pool_size=(3, 3, 3), padding=\"same\"))\n",
    "model_3.add(Dropout(0.25))\n",
    "\n",
    "model_3.add(Conv3D(64, padding=\"same\", kernel_size=(3, 3, 3)))\n",
    "model_3.add(Activation('relu'))\n",
    "model_3.add(Conv3D(64, padding=\"same\", kernel_size=(3, 3, 3)))\n",
    "model_3.add(Activation('relu'))\n",
    "model_3.add(MaxPooling3D(pool_size=(3, 3, 3), padding=\"same\"))\n",
    "model_3.add(Dropout(0.25))\n",
    "\n",
    "model_3.add(Flatten())\n",
    "model_3.add(Dense(512, activation='relu'))\n",
    "model_3.add(BatchNormalization())\n",
    "model_3.add(Dropout(0.5))\n",
    "model_3.add(Dense(classes, activation='softmax'))\n",
    "model_3.compile(optimizer=keras.optimizers.Adadelta(), loss='categorical_crossentropy', metrics=['categorical_accuracy'])\n",
    "model_3.summary()"
   ]
  },
  {
   "cell_type": "code",
   "execution_count": 47,
   "metadata": {},
   "outputs": [],
   "source": [
    "# Changing back batch size, images per frame, height and width of image\n",
    "batch_size = 10\n",
    "x = 30 # number of frames\n",
    "y = 60 # image width\n",
    "z = 60 # image height\n",
    "num_epochs = 20 # increased from 10 to 20"
   ]
  },
  {
   "cell_type": "code",
   "execution_count": 48,
   "metadata": {},
   "outputs": [],
   "source": [
    "train_generator = generator_ex(train_path, train_doc, batch_size)\n",
    "val_generator = generator_ex(val_path, val_doc, batch_size)"
   ]
  },
  {
   "cell_type": "code",
   "execution_count": 49,
   "metadata": {},
   "outputs": [
    {
     "name": "stdout",
     "output_type": "stream",
     "text": [
      "Source path =  Project_data/val ; batch size = 10\n",
      "Source path =  Project_data/train Epoch 1/20\n",
      "; batch size = 10\n",
      "65/67 [============================>.] - ETA: 2s - loss: 2.1120 - categorical_accuracy: 0.2523Batch:  67 Index: 10\n",
      "67/67 [==============================] - 71s 1s/step - loss: 2.1209 - categorical_accuracy: 0.2527 - val_loss: 3.5342 - val_categorical_accuracy: 0.2500\n",
      "\n",
      "Epoch 00001: saving model to model_init_2020-05-2205_36_02.814533/model-00001-2.11318-0.25189-3.53425-0.25000.h5\n",
      "Epoch 2/20\n",
      "67/67 [==============================] - 22s 324ms/step - loss: 2.0141 - categorical_accuracy: 0.2985 - val_loss: 2.1869 - val_categorical_accuracy: 0.3500\n",
      "\n",
      "Epoch 00002: saving model to model_init_2020-05-2205_36_02.814533/model-00002-2.01411-0.29851-2.18692-0.35000.h5\n",
      "Epoch 3/20\n",
      "67/67 [==============================] - 24s 360ms/step - loss: 2.0106 - categorical_accuracy: 0.2637 - val_loss: 3.0619 - val_categorical_accuracy: 0.2400\n",
      "\n",
      "Epoch 00003: saving model to model_init_2020-05-2205_36_02.814533/model-00003-2.01059-0.26368-3.06192-0.24000.h5\n",
      "Epoch 4/20\n",
      "67/67 [==============================] - 23s 342ms/step - loss: 1.8414 - categorical_accuracy: 0.2985 - val_loss: 3.1427 - val_categorical_accuracy: 0.2200\n",
      "\n",
      "Epoch 00004: saving model to model_init_2020-05-2205_36_02.814533/model-00004-1.84145-0.29851-3.14265-0.22000.h5\n",
      "\n",
      "Epoch 00004: ReduceLROnPlateau reducing learning rate to 0.5.\n",
      "Epoch 5/20\n",
      "67/67 [==============================] - 24s 357ms/step - loss: 1.9120 - categorical_accuracy: 0.2239 - val_loss: 1.6987 - val_categorical_accuracy: 0.2700\n",
      "\n",
      "Epoch 00005: saving model to model_init_2020-05-2205_36_02.814533/model-00005-1.91201-0.22388-1.69866-0.27000.h5\n",
      "Epoch 6/20\n",
      "67/67 [==============================] - 23s 347ms/step - loss: 1.6944 - categorical_accuracy: 0.3134 - val_loss: 1.4844 - val_categorical_accuracy: 0.3500\n",
      "\n",
      "Epoch 00006: saving model to model_init_2020-05-2205_36_02.814533/model-00006-1.69443-0.31343-1.48445-0.35000.h5\n",
      "Epoch 7/20\n",
      "67/67 [==============================] - 24s 352ms/step - loss: 1.7924 - categorical_accuracy: 0.2637 - val_loss: 1.4758 - val_categorical_accuracy: 0.3500\n",
      "\n",
      "Epoch 00007: saving model to model_init_2020-05-2205_36_02.814533/model-00007-1.79238-0.26368-1.47580-0.35000.h5\n",
      "Epoch 8/20\n",
      "67/67 [==============================] - 23s 342ms/step - loss: 1.7083 - categorical_accuracy: 0.2836 - val_loss: 1.4789 - val_categorical_accuracy: 0.3200\n",
      "\n",
      "Epoch 00008: saving model to model_init_2020-05-2205_36_02.814533/model-00008-1.70826-0.28358-1.47892-0.32000.h5\n",
      "Epoch 9/20\n",
      "67/67 [==============================] - 24s 355ms/step - loss: 1.6743 - categorical_accuracy: 0.2985 - val_loss: 1.4552 - val_categorical_accuracy: 0.3000\n",
      "\n",
      "Epoch 00009: saving model to model_init_2020-05-2205_36_02.814533/model-00009-1.67435-0.29851-1.45516-0.30000.h5\n",
      "Epoch 10/20\n",
      "67/67 [==============================] - 24s 358ms/step - loss: 1.7044 - categorical_accuracy: 0.3234 - val_loss: 1.6915 - val_categorical_accuracy: 0.2000\n",
      "\n",
      "Epoch 00010: saving model to model_init_2020-05-2205_36_02.814533/model-00010-1.70437-0.32338-1.69148-0.20000.h5\n",
      "Epoch 11/20\n",
      "67/67 [==============================] - 22s 333ms/step - loss: 1.5881 - categorical_accuracy: 0.3333 - val_loss: 1.4441 - val_categorical_accuracy: 0.3000\n",
      "\n",
      "Epoch 00011: saving model to model_init_2020-05-2205_36_02.814533/model-00011-1.58811-0.33333-1.44411-0.30000.h5\n",
      "Epoch 12/20\n",
      "67/67 [==============================] - 23s 348ms/step - loss: 1.7511 - categorical_accuracy: 0.3035 - val_loss: 1.6307 - val_categorical_accuracy: 0.2900\n",
      "\n",
      "Epoch 00012: saving model to model_init_2020-05-2205_36_02.814533/model-00012-1.75110-0.30348-1.63069-0.29000.h5\n",
      "Epoch 13/20\n",
      "67/67 [==============================] - 24s 357ms/step - loss: 1.7235 - categorical_accuracy: 0.2687 - val_loss: 1.4010 - val_categorical_accuracy: 0.3600\n",
      "\n",
      "Epoch 00013: saving model to model_init_2020-05-2205_36_02.814533/model-00013-1.72349-0.26866-1.40104-0.36000.h5\n",
      "Epoch 14/20\n",
      "67/67 [==============================] - 23s 350ms/step - loss: 1.6290 - categorical_accuracy: 0.3134 - val_loss: 1.3475 - val_categorical_accuracy: 0.3900\n",
      "\n",
      "Epoch 00014: saving model to model_init_2020-05-2205_36_02.814533/model-00014-1.62898-0.31343-1.34752-0.39000.h5\n",
      "Epoch 15/20\n",
      "67/67 [==============================] - 24s 356ms/step - loss: 1.6116 - categorical_accuracy: 0.3333 - val_loss: 1.4270 - val_categorical_accuracy: 0.3400\n",
      "\n",
      "Epoch 00015: saving model to model_init_2020-05-2205_36_02.814533/model-00015-1.61158-0.33333-1.42698-0.34000.h5\n",
      "Epoch 16/20\n",
      "67/67 [==============================] - 24s 358ms/step - loss: 1.6427 - categorical_accuracy: 0.2886 - val_loss: 1.3899 - val_categorical_accuracy: 0.4300\n",
      "\n",
      "Epoch 00016: saving model to model_init_2020-05-2205_36_02.814533/model-00016-1.64265-0.28856-1.38986-0.43000.h5\n",
      "\n",
      "Epoch 00016: ReduceLROnPlateau reducing learning rate to 0.25.\n",
      "Epoch 17/20\n",
      "67/67 [==============================] - 22s 334ms/step - loss: 1.5935 - categorical_accuracy: 0.3134 - val_loss: 1.3677 - val_categorical_accuracy: 0.3800\n",
      "\n",
      "Epoch 00017: saving model to model_init_2020-05-2205_36_02.814533/model-00017-1.59351-0.31343-1.36773-0.38000.h5\n",
      "Epoch 18/20\n",
      "67/67 [==============================] - 23s 337ms/step - loss: 1.6729 - categorical_accuracy: 0.2736 - val_loss: 1.3624 - val_categorical_accuracy: 0.4500\n",
      "\n",
      "Epoch 00018: saving model to model_init_2020-05-2205_36_02.814533/model-00018-1.67288-0.27363-1.36242-0.45000.h5\n",
      "\n",
      "Epoch 00018: ReduceLROnPlateau reducing learning rate to 0.125.\n",
      "Epoch 19/20\n",
      "67/67 [==============================] - 23s 347ms/step - loss: 1.6260 - categorical_accuracy: 0.3433 - val_loss: 1.3468 - val_categorical_accuracy: 0.4100\n",
      "\n",
      "Epoch 00019: saving model to model_init_2020-05-2205_36_02.814533/model-00019-1.62595-0.34328-1.34675-0.41000.h5\n",
      "Epoch 20/20\n",
      "67/67 [==============================] - 23s 348ms/step - loss: 1.7149 - categorical_accuracy: 0.2736 - val_loss: 1.3406 - val_categorical_accuracy: 0.4100\n",
      "\n",
      "Epoch 00020: saving model to model_init_2020-05-2205_36_02.814533/model-00020-1.71487-0.27363-1.34062-0.41000.h5\n"
     ]
    },
    {
     "data": {
      "text/plain": [
       "<keras.callbacks.History at 0x7f5ade1e3898>"
      ]
     },
     "execution_count": 49,
     "metadata": {},
     "output_type": "execute_result"
    }
   ],
   "source": [
    "model_3.fit_generator(train_generator, steps_per_epoch=steps_per_epoch, epochs=num_epochs, verbose=1, \n",
    "                    callbacks=callbacks_list, validation_data=val_generator, \n",
    "                    validation_steps=validation_steps, class_weight=None, workers=1, initial_epoch=0)"
   ]
  },
  {
   "cell_type": "markdown",
   "metadata": {},
   "source": [
    "`For Model 3, with increase in epoch the accuracy dropped drastically below 40%`."
   ]
  },
  {
   "cell_type": "markdown",
   "metadata": {},
   "source": [
    "### `Experiment 10`"
   ]
  },
  {
   "cell_type": "markdown",
   "metadata": {},
   "source": [
    "# <a id='model_4'>Model_4</a>"
   ]
  },
  {
   "cell_type": "code",
   "execution_count": 50,
   "metadata": {},
   "outputs": [],
   "source": [
    "input_shape=(x,y,z,channel)\n",
    "\n",
    "nb_filters = [8,16,32,64]\n",
    "nb_dense = [1000, 500, 5]"
   ]
  },
  {
   "cell_type": "code",
   "execution_count": 51,
   "metadata": {},
   "outputs": [
    {
     "name": "stdout",
     "output_type": "stream",
     "text": [
      "_________________________________________________________________\n",
      "Layer (type)                 Output Shape              Param #   \n",
      "=================================================================\n",
      "conv3d_19 (Conv3D)           (None, 30, 60, 60, 8)     656       \n",
      "_________________________________________________________________\n",
      "batch_normalization_6 (Batch (None, 30, 60, 60, 8)     32        \n",
      "_________________________________________________________________\n",
      "activation_19 (Activation)   (None, 30, 60, 60, 8)     0         \n",
      "_________________________________________________________________\n",
      "max_pooling3d_12 (MaxPooling (None, 15, 30, 30, 8)     0         \n",
      "_________________________________________________________________\n",
      "conv3d_20 (Conv3D)           (None, 15, 30, 30, 16)    3472      \n",
      "_________________________________________________________________\n",
      "batch_normalization_7 (Batch (None, 15, 30, 30, 16)    64        \n",
      "_________________________________________________________________\n",
      "activation_20 (Activation)   (None, 15, 30, 30, 16)    0         \n",
      "_________________________________________________________________\n",
      "max_pooling3d_13 (MaxPooling (None, 7, 15, 15, 16)     0         \n",
      "_________________________________________________________________\n",
      "conv3d_21 (Conv3D)           (None, 7, 15, 15, 32)     4640      \n",
      "_________________________________________________________________\n",
      "batch_normalization_8 (Batch (None, 7, 15, 15, 32)     128       \n",
      "_________________________________________________________________\n",
      "activation_21 (Activation)   (None, 7, 15, 15, 32)     0         \n",
      "_________________________________________________________________\n",
      "max_pooling3d_14 (MaxPooling (None, 3, 7, 7, 32)       0         \n",
      "_________________________________________________________________\n",
      "conv3d_22 (Conv3D)           (None, 3, 7, 7, 64)       18496     \n",
      "_________________________________________________________________\n",
      "batch_normalization_9 (Batch (None, 3, 7, 7, 64)       256       \n",
      "_________________________________________________________________\n",
      "activation_22 (Activation)   (None, 3, 7, 7, 64)       0         \n",
      "_________________________________________________________________\n",
      "max_pooling3d_15 (MaxPooling (None, 1, 3, 3, 64)       0         \n",
      "_________________________________________________________________\n",
      "flatten_5 (Flatten)          (None, 576)               0         \n",
      "_________________________________________________________________\n",
      "dense_10 (Dense)             (None, 1000)              577000    \n",
      "_________________________________________________________________\n",
      "dropout_13 (Dropout)         (None, 1000)              0         \n",
      "_________________________________________________________________\n",
      "dense_11 (Dense)             (None, 500)               500500    \n",
      "_________________________________________________________________\n",
      "dropout_14 (Dropout)         (None, 500)               0         \n",
      "_________________________________________________________________\n",
      "dense_12 (Dense)             (None, 5)                 2505      \n",
      "=================================================================\n",
      "Total params: 1,107,749\n",
      "Trainable params: 1,107,509\n",
      "Non-trainable params: 240\n",
      "_________________________________________________________________\n"
     ]
    }
   ],
   "source": [
    "# Define model\n",
    "model_4 = Sequential()\n",
    "\n",
    "model_4.add(Conv3D(nb_filters[0], \n",
    "                 kernel_size=(3,3,3), \n",
    "                 input_shape=input_shape,\n",
    "                 padding='same'))\n",
    "model_4.add(BatchNormalization())\n",
    "model_4.add(Activation('relu'))\n",
    "\n",
    "model_4.add(MaxPooling3D(pool_size=(2,2,2)))\n",
    "\n",
    "model_4.add(Conv3D(nb_filters[1], \n",
    "                 kernel_size=(3,3,3), \n",
    "                 padding='same'))\n",
    "model_4.add(BatchNormalization())\n",
    "model_4.add(Activation('relu'))\n",
    "\n",
    "model_4.add(MaxPooling3D(pool_size=(2,2,2)))\n",
    "\n",
    "model_4.add(Conv3D(nb_filters[2], \n",
    "                 kernel_size=(1,3,3), \n",
    "                 padding='same'))\n",
    "model_4.add(BatchNormalization())\n",
    "model_4.add(Activation('relu'))\n",
    "\n",
    "model_4.add(MaxPooling3D(pool_size=(2,2,2)))\n",
    "\n",
    "model_4.add(Conv3D(nb_filters[3], \n",
    "                 kernel_size=(1,3,3), \n",
    "                 padding='same'))\n",
    "model_4.add(BatchNormalization())\n",
    "model_4.add(Activation('relu'))\n",
    "\n",
    "model_4.add(MaxPooling3D(pool_size=(2,2,2)))\n",
    "\n",
    "#Flatten Layers\n",
    "model_4.add(Flatten())\n",
    "\n",
    "model_4.add(Dense(nb_dense[0], activation='relu'))\n",
    "model_4.add(Dropout(0.5))\n",
    "\n",
    "model_4.add(Dense(nb_dense[1], activation='relu'))\n",
    "model_4.add(Dropout(0.5))\n",
    "\n",
    "#softmax layer\n",
    "model_4.add(Dense(nb_dense[2], activation='softmax'))\n",
    "model_4.compile(optimizer=keras.optimizers.Adadelta(), loss='categorical_crossentropy', metrics=['categorical_accuracy'])\n",
    "model_4.summary()"
   ]
  },
  {
   "cell_type": "code",
   "execution_count": 52,
   "metadata": {},
   "outputs": [],
   "source": [
    "train_generator = generator_ex(train_path, train_doc, batch_size)\n",
    "val_generator = generator_ex(val_path, val_doc, batch_size)\n",
    "num_epochs = 10"
   ]
  },
  {
   "cell_type": "code",
   "execution_count": 53,
   "metadata": {},
   "outputs": [
    {
     "name": "stdout",
     "output_type": "stream",
     "text": [
      "Source path =  Project_data/val ; batch size = 10\n",
      "Source path =  Project_data/train ; batch size = 10\n",
      "Epoch 1/10\n",
      "65/67 [============================>.] - ETA: 2s - loss: 2.0031 - categorical_accuracy: 0.3138Batch:  67 Index: 10\n",
      "67/67 [==============================] - 69s 1s/step - loss: 1.9899 - categorical_accuracy: 0.3218 - val_loss: 1.3533 - val_categorical_accuracy: 0.4500\n",
      "\n",
      "Epoch 00001: saving model to model_init_2020-05-2205_36_02.814533/model-00001-1.99381-0.31825-1.35328-0.45000.h5\n",
      "Epoch 2/10\n",
      "67/67 [==============================] - 21s 316ms/step - loss: 1.7971 - categorical_accuracy: 0.2736 - val_loss: 1.1424 - val_categorical_accuracy: 0.5100\n",
      "\n",
      "Epoch 00002: saving model to model_init_2020-05-2205_36_02.814533/model-00002-1.79713-0.27363-1.14240-0.51000.h5\n",
      "Epoch 3/10\n",
      "67/67 [==============================] - 22s 331ms/step - loss: 1.6367 - categorical_accuracy: 0.3383 - val_loss: 2.3671 - val_categorical_accuracy: 0.2500\n",
      "\n",
      "Epoch 00003: saving model to model_init_2020-05-2205_36_02.814533/model-00003-1.63666-0.33831-2.36713-0.25000.h5\n",
      "Epoch 4/10\n",
      "67/67 [==============================] - 23s 337ms/step - loss: 1.4801 - categorical_accuracy: 0.3881 - val_loss: 1.3292 - val_categorical_accuracy: 0.4200\n",
      "\n",
      "Epoch 00004: saving model to model_init_2020-05-2205_36_02.814533/model-00004-1.48011-0.38806-1.32917-0.42000.h5\n",
      "\n",
      "Epoch 00004: ReduceLROnPlateau reducing learning rate to 0.5.\n",
      "Epoch 5/10\n",
      "67/67 [==============================] - 22s 324ms/step - loss: 1.2495 - categorical_accuracy: 0.5025 - val_loss: 1.0254 - val_categorical_accuracy: 0.5700\n",
      "\n",
      "Epoch 00005: saving model to model_init_2020-05-2205_36_02.814533/model-00005-1.24954-0.50249-1.02544-0.57000.h5\n",
      "Epoch 6/10\n",
      "67/67 [==============================] - 23s 345ms/step - loss: 1.2645 - categorical_accuracy: 0.4478 - val_loss: 0.9866 - val_categorical_accuracy: 0.6000\n",
      "\n",
      "Epoch 00006: saving model to model_init_2020-05-2205_36_02.814533/model-00006-1.26451-0.44776-0.98663-0.60000.h5\n",
      "Epoch 7/10\n",
      "67/67 [==============================] - 22s 327ms/step - loss: 1.2373 - categorical_accuracy: 0.4776 - val_loss: 1.1028 - val_categorical_accuracy: 0.5200\n",
      "\n",
      "Epoch 00007: saving model to model_init_2020-05-2205_36_02.814533/model-00007-1.23730-0.47761-1.10281-0.52000.h5\n",
      "Epoch 8/10\n",
      "67/67 [==============================] - 23s 345ms/step - loss: 1.2485 - categorical_accuracy: 0.4826 - val_loss: 1.1230 - val_categorical_accuracy: 0.5200\n",
      "\n",
      "Epoch 00008: saving model to model_init_2020-05-2205_36_02.814533/model-00008-1.24850-0.48259-1.12304-0.52000.h5\n",
      "\n",
      "Epoch 00008: ReduceLROnPlateau reducing learning rate to 0.25.\n",
      "Epoch 9/10\n",
      "67/67 [==============================] - 23s 347ms/step - loss: 1.1138 - categorical_accuracy: 0.5075 - val_loss: 1.1319 - val_categorical_accuracy: 0.5000\n",
      "\n",
      "Epoch 00009: saving model to model_init_2020-05-2205_36_02.814533/model-00009-1.11382-0.50746-1.13186-0.50000.h5\n",
      "Epoch 10/10\n",
      "67/67 [==============================] - 23s 341ms/step - loss: 0.9941 - categorical_accuracy: 0.5771 - val_loss: 0.9479 - val_categorical_accuracy: 0.5400\n",
      "\n",
      "Epoch 00010: saving model to model_init_2020-05-2205_36_02.814533/model-00010-0.99407-0.57711-0.94795-0.54000.h5\n"
     ]
    },
    {
     "data": {
      "text/plain": [
       "<keras.callbacks.History at 0x7f5b196beef0>"
      ]
     },
     "execution_count": 53,
     "metadata": {},
     "output_type": "execute_result"
    }
   ],
   "source": [
    "model_4.fit_generator(train_generator, steps_per_epoch=steps_per_epoch, epochs=num_epochs, verbose=1, \n",
    "                    callbacks=callbacks_list, validation_data=val_generator, \n",
    "                    validation_steps=validation_steps, class_weight=None, workers=1, initial_epoch=0)"
   ]
  },
  {
   "cell_type": "markdown",
   "metadata": {},
   "source": [
    "`Accuracy Below 40%`"
   ]
  },
  {
   "cell_type": "markdown",
   "metadata": {},
   "source": [
    "### `Experiment 11`"
   ]
  },
  {
   "cell_type": "markdown",
   "metadata": {},
   "source": [
    "# <a id='model_5'>Model_5</a>"
   ]
  },
  {
   "cell_type": "code",
   "execution_count": 54,
   "metadata": {},
   "outputs": [],
   "source": [
    "x = 30 # number of frames\n",
    "y = 64 # image width\n",
    "z = 64 # image height \n",
    "\n",
    "classes = 5\n",
    "channel = 1 # Keeping Channels to 1 from 3"
   ]
  },
  {
   "cell_type": "code",
   "execution_count": 55,
   "metadata": {},
   "outputs": [
    {
     "name": "stdout",
     "output_type": "stream",
     "text": [
      "_________________________________________________________________\n",
      "Layer (type)                 Output Shape              Param #   \n",
      "=================================================================\n",
      "conv3d_23 (Conv3D)           (None, 30, 64, 64, 32)    896       \n",
      "_________________________________________________________________\n",
      "activation_23 (Activation)   (None, 30, 64, 64, 32)    0         \n",
      "_________________________________________________________________\n",
      "conv3d_24 (Conv3D)           (None, 30, 64, 64, 32)    27680     \n",
      "_________________________________________________________________\n",
      "activation_24 (Activation)   (None, 30, 64, 64, 32)    0         \n",
      "_________________________________________________________________\n",
      "max_pooling3d_16 (MaxPooling (None, 10, 22, 22, 32)    0         \n",
      "_________________________________________________________________\n",
      "dropout_15 (Dropout)         (None, 10, 22, 22, 32)    0         \n",
      "_________________________________________________________________\n",
      "conv3d_25 (Conv3D)           (None, 10, 22, 22, 64)    55360     \n",
      "_________________________________________________________________\n",
      "activation_25 (Activation)   (None, 10, 22, 22, 64)    0         \n",
      "_________________________________________________________________\n",
      "conv3d_26 (Conv3D)           (None, 10, 22, 22, 64)    110656    \n",
      "_________________________________________________________________\n",
      "activation_26 (Activation)   (None, 10, 22, 22, 64)    0         \n",
      "_________________________________________________________________\n",
      "max_pooling3d_17 (MaxPooling (None, 4, 8, 8, 64)       0         \n",
      "_________________________________________________________________\n",
      "dropout_16 (Dropout)         (None, 4, 8, 8, 64)       0         \n",
      "_________________________________________________________________\n",
      "conv3d_27 (Conv3D)           (None, 4, 8, 8, 64)       110656    \n",
      "_________________________________________________________________\n",
      "activation_27 (Activation)   (None, 4, 8, 8, 64)       0         \n",
      "_________________________________________________________________\n",
      "conv3d_28 (Conv3D)           (None, 4, 8, 8, 64)       110656    \n",
      "_________________________________________________________________\n",
      "activation_28 (Activation)   (None, 4, 8, 8, 64)       0         \n",
      "_________________________________________________________________\n",
      "max_pooling3d_18 (MaxPooling (None, 2, 3, 3, 64)       0         \n",
      "_________________________________________________________________\n",
      "dropout_17 (Dropout)         (None, 2, 3, 3, 64)       0         \n",
      "_________________________________________________________________\n",
      "flatten_6 (Flatten)          (None, 1152)              0         \n",
      "_________________________________________________________________\n",
      "dense_13 (Dense)             (None, 512)               590336    \n",
      "_________________________________________________________________\n",
      "batch_normalization_10 (Batc (None, 512)               2048      \n",
      "_________________________________________________________________\n",
      "dropout_18 (Dropout)         (None, 512)               0         \n",
      "_________________________________________________________________\n",
      "dense_14 (Dense)             (None, 5)                 2565      \n",
      "=================================================================\n",
      "Total params: 1,010,853\n",
      "Trainable params: 1,009,829\n",
      "Non-trainable params: 1,024\n",
      "_________________________________________________________________\n"
     ]
    }
   ],
   "source": [
    "model_5 = Sequential()\n",
    "model_5.add(Conv3D(32, kernel_size=(3, 3, 3), input_shape=(x,y,z,channel), padding=\"same\"))\n",
    "model_5.add(Activation('relu'))\n",
    "model_5.add(Conv3D(32, padding=\"same\", kernel_size=(3, 3, 3)))\n",
    "model_5.add(Activation('relu'))\n",
    "model_5.add(MaxPooling3D(pool_size=(3, 3, 3), padding=\"same\"))\n",
    "model_5.add(Dropout(0.25))\n",
    "\n",
    "model_5.add(Conv3D(64, padding=\"same\", kernel_size=(3, 3, 3)))\n",
    "model_5.add(Activation('relu'))\n",
    "model_5.add(Conv3D(64, padding=\"same\", kernel_size=(3, 3, 3)))\n",
    "model_5.add(Activation('relu'))\n",
    "model_5.add(MaxPooling3D(pool_size=(3, 3, 3), padding=\"same\"))\n",
    "model_5.add(Dropout(0.25))\n",
    "\n",
    "model_5.add(Conv3D(64, padding=\"same\", kernel_size=(3, 3, 3)))\n",
    "model_5.add(Activation('relu'))\n",
    "model_5.add(Conv3D(64, padding=\"same\", kernel_size=(3, 3, 3)))\n",
    "model_5.add(Activation('relu'))\n",
    "model_5.add(MaxPooling3D(pool_size=(3, 3, 3), padding=\"same\"))\n",
    "model_5.add(Dropout(0.25))\n",
    "\n",
    "model_5.add(Flatten())\n",
    "model_5.add(Dense(512, activation='relu'))\n",
    "model_5.add(BatchNormalization())\n",
    "model_5.add(Dropout(0.5))\n",
    "model_5.add(Dense(classes, activation='softmax'))\n",
    "model_5.compile(optimizer=keras.optimizers.Adadelta(), loss='categorical_crossentropy', metrics=['categorical_accuracy'])\n",
    "model_5.summary()"
   ]
  },
  {
   "cell_type": "code",
   "execution_count": 56,
   "metadata": {},
   "outputs": [],
   "source": [
    "batch_size = 5\n",
    "train_generator = generator_ex(train_path, train_doc, batch_size)\n",
    "val_generator = generator_ex(val_path, val_doc, batch_size)\n",
    "num_epochs = 20"
   ]
  },
  {
   "cell_type": "code",
   "execution_count": 57,
   "metadata": {},
   "outputs": [
    {
     "name": "stdout",
     "output_type": "stream",
     "text": [
      "Source path =  Project_data/val ; batch size = 5\n",
      "Source path =  Project_data/train ; batch size = 5\n",
      "Epoch 1/20\n",
      "67/67 [==============================] - 37s 554ms/step - loss: 2.4093 - categorical_accuracy: 0.1881 - val_loss: 5.2154 - val_categorical_accuracy: 0.2200\n",
      "\n",
      "Epoch 00001: saving model to model_init_2020-05-2205_36_02.814533/model-00001-2.40934-0.18806-5.21541-0.22000.h5\n",
      "Epoch 2/20\n",
      "64/67 [===========================>..] - ETA: 1s - loss: 2.1945 - categorical_accuracy: 0.2156Batch:  133 Index: 5\n",
      "67/67 [==============================] - 32s 479ms/step - loss: 2.2058 - categorical_accuracy: 0.2169 - val_loss: 1.8742 - val_categorical_accuracy: 0.2800\n",
      "\n",
      "Epoch 00002: saving model to model_init_2020-05-2205_36_02.814533/model-00002-2.19616-0.21752-1.87422-0.28000.h5\n",
      "Epoch 3/20\n",
      "67/67 [==============================] - 21s 307ms/step - loss: 2.2790 - categorical_accuracy: 0.2189 - val_loss: 5.8511 - val_categorical_accuracy: 0.2400\n",
      "\n",
      "Epoch 00003: saving model to model_init_2020-05-2205_36_02.814533/model-00003-2.27901-0.21891-5.85111-0.24000.h5\n",
      "Epoch 4/20\n",
      "67/67 [==============================] - 22s 334ms/step - loss: 2.1606 - categorical_accuracy: 0.1841 - val_loss: 2.1524 - val_categorical_accuracy: 0.2400\n",
      "\n",
      "Epoch 00004: saving model to model_init_2020-05-2205_36_02.814533/model-00004-2.16057-0.18408-2.15239-0.24000.h5\n",
      "\n",
      "Epoch 00004: ReduceLROnPlateau reducing learning rate to 0.5.\n",
      "Epoch 5/20\n",
      "67/67 [==============================] - 21s 314ms/step - loss: 2.0481 - categorical_accuracy: 0.2338 - val_loss: 1.9028 - val_categorical_accuracy: 0.2000\n",
      "\n",
      "Epoch 00005: saving model to model_init_2020-05-2205_36_02.814533/model-00005-2.04811-0.23383-1.90280-0.20000.h5\n",
      "Epoch 6/20\n",
      "67/67 [==============================] - 20s 304ms/step - loss: 1.9312 - categorical_accuracy: 0.2338 - val_loss: 1.7209 - val_categorical_accuracy: 0.3000\n",
      "\n",
      "Epoch 00006: saving model to model_init_2020-05-2205_36_02.814533/model-00006-1.93118-0.23383-1.72089-0.30000.h5\n",
      "Epoch 7/20\n",
      "67/67 [==============================] - 23s 339ms/step - loss: 2.0039 - categorical_accuracy: 0.1791 - val_loss: 1.5148 - val_categorical_accuracy: 0.3600\n",
      "\n",
      "Epoch 00007: saving model to model_init_2020-05-2205_36_02.814533/model-00007-2.00394-0.17910-1.51484-0.36000.h5\n",
      "Epoch 8/20\n",
      "67/67 [==============================] - 22s 328ms/step - loss: 1.9279 - categorical_accuracy: 0.2488 - val_loss: 1.5645 - val_categorical_accuracy: 0.2400\n",
      "\n",
      "Epoch 00008: saving model to model_init_2020-05-2205_36_02.814533/model-00008-1.92786-0.24876-1.56446-0.24000.h5\n",
      "Epoch 9/20\n",
      "67/67 [==============================] - 21s 306ms/step - loss: 1.9797 - categorical_accuracy: 0.2139 - val_loss: 1.6092 - val_categorical_accuracy: 0.2200\n",
      "\n",
      "Epoch 00009: saving model to model_init_2020-05-2205_36_02.814533/model-00009-1.97971-0.21393-1.60919-0.22000.h5\n",
      "\n",
      "Epoch 00009: ReduceLROnPlateau reducing learning rate to 0.25.\n",
      "Epoch 10/20\n",
      "67/67 [==============================] - 22s 328ms/step - loss: 1.9500 - categorical_accuracy: 0.2139 - val_loss: 1.5125 - val_categorical_accuracy: 0.3000\n",
      "\n",
      "Epoch 00010: saving model to model_init_2020-05-2205_36_02.814533/model-00010-1.95002-0.21393-1.51249-0.30000.h5\n",
      "Epoch 11/20\n",
      "67/67 [==============================] - 23s 344ms/step - loss: 1.9200 - categorical_accuracy: 0.2289 - val_loss: 1.5835 - val_categorical_accuracy: 0.2600\n",
      "\n",
      "Epoch 00011: saving model to model_init_2020-05-2205_36_02.814533/model-00011-1.92001-0.22886-1.58349-0.26000.h5\n",
      "Epoch 12/20\n",
      "67/67 [==============================] - 21s 318ms/step - loss: 1.9714 - categorical_accuracy: 0.2289 - val_loss: 1.5015 - val_categorical_accuracy: 0.3600\n",
      "\n",
      "Epoch 00012: saving model to model_init_2020-05-2205_36_02.814533/model-00012-1.97135-0.22886-1.50154-0.36000.h5\n",
      "Epoch 13/20\n",
      "67/67 [==============================] - 21s 319ms/step - loss: 1.9224 - categorical_accuracy: 0.2289 - val_loss: 1.5199 - val_categorical_accuracy: 0.2800\n",
      "\n",
      "Epoch 00013: saving model to model_init_2020-05-2205_36_02.814533/model-00013-1.92241-0.22886-1.51993-0.28000.h5\n",
      "Epoch 14/20\n",
      "67/67 [==============================] - 23s 337ms/step - loss: 1.8434 - categorical_accuracy: 0.2438 - val_loss: 1.5414 - val_categorical_accuracy: 0.2800\n",
      "\n",
      "Epoch 00014: saving model to model_init_2020-05-2205_36_02.814533/model-00014-1.84336-0.24378-1.54138-0.28000.h5\n",
      "\n",
      "Epoch 00014: ReduceLROnPlateau reducing learning rate to 0.125.\n",
      "Epoch 15/20\n",
      "67/67 [==============================] - 21s 318ms/step - loss: 1.8079 - categorical_accuracy: 0.2488 - val_loss: 1.5172 - val_categorical_accuracy: 0.2200\n",
      "\n",
      "Epoch 00015: saving model to model_init_2020-05-2205_36_02.814533/model-00015-1.80786-0.24876-1.51724-0.22000.h5\n",
      "Epoch 16/20\n",
      "67/67 [==============================] - 22s 328ms/step - loss: 1.9447 - categorical_accuracy: 0.1891 - val_loss: 1.5419 - val_categorical_accuracy: 0.3400\n",
      "\n",
      "Epoch 00016: saving model to model_init_2020-05-2205_36_02.814533/model-00016-1.94466-0.18905-1.54187-0.34000.h5\n",
      "\n",
      "Epoch 00016: ReduceLROnPlateau reducing learning rate to 0.0625.\n",
      "Epoch 17/20\n",
      "67/67 [==============================] - 20s 303ms/step - loss: 1.8103 - categorical_accuracy: 0.2239 - val_loss: 1.4984 - val_categorical_accuracy: 0.3400\n",
      "\n",
      "Epoch 00017: saving model to model_init_2020-05-2205_36_02.814533/model-00017-1.81025-0.22388-1.49840-0.34000.h5\n",
      "Epoch 18/20\n",
      "67/67 [==============================] - 22s 331ms/step - loss: 1.8363 - categorical_accuracy: 0.2736 - val_loss: 1.5449 - val_categorical_accuracy: 0.2800\n",
      "\n",
      "Epoch 00018: saving model to model_init_2020-05-2205_36_02.814533/model-00018-1.83626-0.27363-1.54494-0.28000.h5\n",
      "Epoch 19/20\n",
      "67/67 [==============================] - 23s 341ms/step - loss: 1.8403 - categorical_accuracy: 0.2587 - val_loss: 1.5155 - val_categorical_accuracy: 0.2200\n",
      "\n",
      "Epoch 00019: saving model to model_init_2020-05-2205_36_02.814533/model-00019-1.84026-0.25871-1.51554-0.22000.h5\n",
      "\n",
      "Epoch 00019: ReduceLROnPlateau reducing learning rate to 0.03125.\n",
      "Epoch 20/20\n",
      "67/67 [==============================] - 22s 334ms/step - loss: 1.8275 - categorical_accuracy: 0.2338 - val_loss: 1.5126 - val_categorical_accuracy: 0.3000\n",
      "\n",
      "Epoch 00020: saving model to model_init_2020-05-2205_36_02.814533/model-00020-1.82750-0.23383-1.51262-0.30000.h5\n"
     ]
    },
    {
     "data": {
      "text/plain": [
       "<keras.callbacks.History at 0x7f5b180e7668>"
      ]
     },
     "execution_count": 57,
     "metadata": {},
     "output_type": "execute_result"
    }
   ],
   "source": [
    "model_5.fit_generator(train_generator, steps_per_epoch=steps_per_epoch, epochs=num_epochs, verbose=1, \n",
    "                    callbacks=callbacks_list, validation_data=val_generator, \n",
    "                    validation_steps=validation_steps, class_weight=None, workers=1, initial_epoch=0)"
   ]
  },
  {
   "cell_type": "markdown",
   "metadata": {},
   "source": [
    "`Dropping the channels from 3 to 1 dropped the accuracy significantly below 40%.`"
   ]
  },
  {
   "cell_type": "markdown",
   "metadata": {},
   "source": [
    "### `Experiment 12`"
   ]
  },
  {
   "cell_type": "markdown",
   "metadata": {},
   "source": [
    "# <a id='model_6'>Model_6</a>"
   ]
  },
  {
   "cell_type": "code",
   "execution_count": 58,
   "metadata": {},
   "outputs": [],
   "source": [
    "x = 30 # number of frames\n",
    "y = 120 # image width\n",
    "z = 120 # image height \n",
    "\n",
    "classes = 5\n",
    "channel = 1\n",
    "nb_dense = [1000, 500, 5]\n",
    "\n",
    "input_shape=(x,y,z,channel)"
   ]
  },
  {
   "cell_type": "markdown",
   "metadata": {},
   "source": [
    "the below model is already run once, making no modifications, The cell no is irrelevant"
   ]
  },
  {
   "cell_type": "code",
   "execution_count": 59,
   "metadata": {},
   "outputs": [
    {
     "name": "stdout",
     "output_type": "stream",
     "text": [
      "_________________________________________________________________\n",
      "Layer (type)                 Output Shape              Param #   \n",
      "=================================================================\n",
      "conv3d_29 (Conv3D)           (None, 30, 120, 120, 8)   224       \n",
      "_________________________________________________________________\n",
      "batch_normalization_11 (Batc (None, 30, 120, 120, 8)   32        \n",
      "_________________________________________________________________\n",
      "activation_29 (Activation)   (None, 30, 120, 120, 8)   0         \n",
      "_________________________________________________________________\n",
      "max_pooling3d_19 (MaxPooling (None, 15, 60, 60, 8)     0         \n",
      "_________________________________________________________________\n",
      "conv3d_30 (Conv3D)           (None, 15, 60, 60, 16)    3472      \n",
      "_________________________________________________________________\n",
      "batch_normalization_12 (Batc (None, 15, 60, 60, 16)    64        \n",
      "_________________________________________________________________\n",
      "activation_30 (Activation)   (None, 15, 60, 60, 16)    0         \n",
      "_________________________________________________________________\n",
      "max_pooling3d_20 (MaxPooling (None, 7, 30, 30, 16)     0         \n",
      "_________________________________________________________________\n",
      "conv3d_31 (Conv3D)           (None, 7, 30, 30, 32)     4640      \n",
      "_________________________________________________________________\n",
      "batch_normalization_13 (Batc (None, 7, 30, 30, 32)     128       \n",
      "_________________________________________________________________\n",
      "activation_31 (Activation)   (None, 7, 30, 30, 32)     0         \n",
      "_________________________________________________________________\n",
      "max_pooling3d_21 (MaxPooling (None, 3, 15, 15, 32)     0         \n",
      "_________________________________________________________________\n",
      "conv3d_32 (Conv3D)           (None, 3, 15, 15, 64)     18496     \n",
      "_________________________________________________________________\n",
      "batch_normalization_14 (Batc (None, 3, 15, 15, 64)     256       \n",
      "_________________________________________________________________\n",
      "activation_32 (Activation)   (None, 3, 15, 15, 64)     0         \n",
      "_________________________________________________________________\n",
      "max_pooling3d_22 (MaxPooling (None, 1, 7, 7, 64)       0         \n",
      "_________________________________________________________________\n",
      "flatten_7 (Flatten)          (None, 3136)              0         \n",
      "_________________________________________________________________\n",
      "dense_15 (Dense)             (None, 1000)              3137000   \n",
      "_________________________________________________________________\n",
      "dropout_19 (Dropout)         (None, 1000)              0         \n",
      "_________________________________________________________________\n",
      "dense_16 (Dense)             (None, 500)               500500    \n",
      "_________________________________________________________________\n",
      "dropout_20 (Dropout)         (None, 500)               0         \n",
      "_________________________________________________________________\n",
      "dense_17 (Dense)             (None, 5)                 2505      \n",
      "=================================================================\n",
      "Total params: 3,667,317\n",
      "Trainable params: 3,667,077\n",
      "Non-trainable params: 240\n",
      "_________________________________________________________________\n"
     ]
    }
   ],
   "source": [
    "model_6 = Sequential()\n",
    "\n",
    "model_6.add(Conv3D(nb_filters[0], \n",
    "                 kernel_size=(3,3,3), \n",
    "                 input_shape=input_shape,\n",
    "                 padding='same'))\n",
    "model_6.add(BatchNormalization())\n",
    "model_6.add(Activation('relu'))\n",
    "\n",
    "model_6.add(MaxPooling3D(pool_size=(2,2,2)))\n",
    "\n",
    "model_6.add(Conv3D(nb_filters[1], \n",
    "                 kernel_size=(3,3,3), \n",
    "                 padding='same'))\n",
    "model_6.add(BatchNormalization())\n",
    "model_6.add(Activation('relu'))\n",
    "\n",
    "model_6.add(MaxPooling3D(pool_size=(2,2,2)))\n",
    "\n",
    "model_6.add(Conv3D(nb_filters[2], \n",
    "                 kernel_size=(1,3,3), \n",
    "                 padding='same'))\n",
    "model_6.add(BatchNormalization())\n",
    "model_6.add(Activation('relu'))\n",
    "\n",
    "model_6.add(MaxPooling3D(pool_size=(2,2,2)))\n",
    "\n",
    "model_6.add(Conv3D(nb_filters[3], \n",
    "                 kernel_size=(1,3,3), \n",
    "                 padding='same'))\n",
    "model_6.add(BatchNormalization())\n",
    "model_6.add(Activation('relu'))\n",
    "\n",
    "model_6.add(MaxPooling3D(pool_size=(2,2,2)))\n",
    "\n",
    "#Flatten Layers\n",
    "model_6.add(Flatten())\n",
    "\n",
    "model_6.add(Dense(nb_dense[0], activation='relu'))\n",
    "model_6.add(Dropout(0.5))\n",
    "\n",
    "model_6.add(Dense(nb_dense[1], activation='relu'))\n",
    "model_6.add(Dropout(0.5))\n",
    "\n",
    "#softmax layer\n",
    "model_6.add(Dense(nb_dense[2], activation='softmax'))\n",
    "model_6.compile(optimizer=keras.optimizers.Adadelta(), loss='categorical_crossentropy', metrics=['categorical_accuracy'])\n",
    "model_6.summary()"
   ]
  },
  {
   "cell_type": "code",
   "execution_count": 60,
   "metadata": {},
   "outputs": [],
   "source": [
    "batch_size = 10\n",
    "train_generator = generator_ex(train_path, train_doc, batch_size)\n",
    "val_generator = generator_ex(val_path, val_doc, batch_size)\n",
    "num_epochs = 30"
   ]
  },
  {
   "cell_type": "code",
   "execution_count": 61,
   "metadata": {
    "scrolled": true
   },
   "outputs": [
    {
     "name": "stdout",
     "output_type": "stream",
     "text": [
      "Source path =  Project_data/val ; batch size = 10\n",
      "Source path =  Project_data/train ; batch size = 10\n",
      "Epoch 1/30\n",
      "65/67 [============================>.] - ETA: 2s - loss: 6.6774 - categorical_accuracy: 0.2554Batch:  67 Index: 10\n",
      "67/67 [==============================] - 78s 1s/step - loss: 6.5273 - categorical_accuracy: 0.2587 - val_loss: 7.0941 - val_categorical_accuracy: 0.2300\n",
      "\n",
      "Epoch 00001: saving model to model_init_2020-05-2205_36_02.814533/model-00001-6.57813-0.25792-7.09410-0.23000.h5\n",
      "Epoch 2/30\n",
      "67/67 [==============================] - 21s 311ms/step - loss: 2.4784 - categorical_accuracy: 0.3234 - val_loss: 1.7358 - val_categorical_accuracy: 0.2000\n",
      "\n",
      "Epoch 00002: saving model to model_init_2020-05-2205_36_02.814533/model-00002-2.47840-0.32338-1.73577-0.20000.h5\n",
      "Epoch 3/30\n",
      "67/67 [==============================] - 25s 380ms/step - loss: 1.8185 - categorical_accuracy: 0.2886 - val_loss: 1.3356 - val_categorical_accuracy: 0.3800\n",
      "\n",
      "Epoch 00003: saving model to model_init_2020-05-2205_36_02.814533/model-00003-1.81851-0.28856-1.33561-0.38000.h5\n",
      "Epoch 4/30\n",
      "67/67 [==============================] - 25s 379ms/step - loss: 1.7234 - categorical_accuracy: 0.2537 - val_loss: 1.6137 - val_categorical_accuracy: 0.2200\n",
      "\n",
      "Epoch 00004: saving model to model_init_2020-05-2205_36_02.814533/model-00004-1.72344-0.25373-1.61373-0.22000.h5\n",
      "Epoch 5/30\n",
      "67/67 [==============================] - 24s 363ms/step - loss: 1.6675 - categorical_accuracy: 0.2736 - val_loss: 1.2946 - val_categorical_accuracy: 0.4400\n",
      "\n",
      "Epoch 00005: saving model to model_init_2020-05-2205_36_02.814533/model-00005-1.66745-0.27363-1.29459-0.44000.h5\n",
      "Epoch 6/30\n",
      "67/67 [==============================] - 26s 385ms/step - loss: 1.4866 - categorical_accuracy: 0.4030 - val_loss: 1.0975 - val_categorical_accuracy: 0.5700\n",
      "\n",
      "Epoch 00006: saving model to model_init_2020-05-2205_36_02.814533/model-00006-1.48659-0.40299-1.09751-0.57000.h5\n",
      "Epoch 7/30\n",
      "67/67 [==============================] - 25s 378ms/step - loss: 1.4709 - categorical_accuracy: 0.4129 - val_loss: 1.0657 - val_categorical_accuracy: 0.5200\n",
      "\n",
      "Epoch 00007: saving model to model_init_2020-05-2205_36_02.814533/model-00007-1.47093-0.41294-1.06574-0.52000.h5\n",
      "Epoch 8/30\n",
      "67/67 [==============================] - 24s 364ms/step - loss: 1.3652 - categorical_accuracy: 0.3881 - val_loss: 1.2468 - val_categorical_accuracy: 0.5400\n",
      "\n",
      "Epoch 00008: saving model to model_init_2020-05-2205_36_02.814533/model-00008-1.36520-0.38806-1.24681-0.54000.h5\n",
      "Epoch 9/30\n",
      "67/67 [==============================] - 25s 370ms/step - loss: 1.3637 - categorical_accuracy: 0.3980 - val_loss: 1.1043 - val_categorical_accuracy: 0.5100\n",
      "\n",
      "Epoch 00009: saving model to model_init_2020-05-2205_36_02.814533/model-00009-1.36369-0.39801-1.10433-0.51000.h5\n",
      "\n",
      "Epoch 00009: ReduceLROnPlateau reducing learning rate to 0.5.\n",
      "Epoch 10/30\n",
      "67/67 [==============================] - 24s 365ms/step - loss: 1.1340 - categorical_accuracy: 0.5124 - val_loss: 0.9431 - val_categorical_accuracy: 0.5900\n",
      "\n",
      "Epoch 00010: saving model to model_init_2020-05-2205_36_02.814533/model-00010-1.13402-0.51244-0.94315-0.59000.h5\n",
      "Epoch 11/30\n",
      "67/67 [==============================] - 25s 372ms/step - loss: 1.2759 - categorical_accuracy: 0.4925 - val_loss: 0.9486 - val_categorical_accuracy: 0.5800\n",
      "\n",
      "Epoch 00011: saving model to model_init_2020-05-2205_36_02.814533/model-00011-1.27587-0.49254-0.94855-0.58000.h5\n",
      "Epoch 12/30\n",
      "67/67 [==============================] - 25s 373ms/step - loss: 1.2103 - categorical_accuracy: 0.5075 - val_loss: 1.1082 - val_categorical_accuracy: 0.5500\n",
      "\n",
      "Epoch 00012: saving model to model_init_2020-05-2205_36_02.814533/model-00012-1.21033-0.50746-1.10822-0.55000.h5\n",
      "\n",
      "Epoch 00012: ReduceLROnPlateau reducing learning rate to 0.25.\n",
      "Epoch 13/30\n",
      "67/67 [==============================] - 25s 371ms/step - loss: 1.1082 - categorical_accuracy: 0.5224 - val_loss: 0.8211 - val_categorical_accuracy: 0.6700\n",
      "\n",
      "Epoch 00013: saving model to model_init_2020-05-2205_36_02.814533/model-00013-1.10821-0.52239-0.82110-0.67000.h5\n",
      "Epoch 14/30\n",
      "67/67 [==============================] - 26s 381ms/step - loss: 1.1056 - categorical_accuracy: 0.5025 - val_loss: 0.8667 - val_categorical_accuracy: 0.6600\n",
      "\n",
      "Epoch 00014: saving model to model_init_2020-05-2205_36_02.814533/model-00014-1.10563-0.50249-0.86665-0.66000.h5\n",
      "Epoch 15/30\n",
      "67/67 [==============================] - 26s 384ms/step - loss: 1.0629 - categorical_accuracy: 0.5423 - val_loss: 0.8140 - val_categorical_accuracy: 0.6700\n",
      "\n",
      "Epoch 00015: saving model to model_init_2020-05-2205_36_02.814533/model-00015-1.06291-0.54229-0.81404-0.67000.h5\n",
      "Epoch 16/30\n",
      "67/67 [==============================] - 25s 369ms/step - loss: 1.0666 - categorical_accuracy: 0.5423 - val_loss: 0.8200 - val_categorical_accuracy: 0.6800\n",
      "\n",
      "Epoch 00016: saving model to model_init_2020-05-2205_36_02.814533/model-00016-1.06663-0.54229-0.82003-0.68000.h5\n",
      "Epoch 17/30\n",
      "67/67 [==============================] - 24s 360ms/step - loss: 0.8659 - categorical_accuracy: 0.6567 - val_loss: 0.7246 - val_categorical_accuracy: 0.7000\n",
      "\n",
      "Epoch 00017: saving model to model_init_2020-05-2205_36_02.814533/model-00017-0.86591-0.65672-0.72460-0.70000.h5\n",
      "Epoch 18/30\n",
      "67/67 [==============================] - 25s 376ms/step - loss: 1.0348 - categorical_accuracy: 0.5920 - val_loss: 0.7394 - val_categorical_accuracy: 0.7100\n",
      "\n",
      "Epoch 00018: saving model to model_init_2020-05-2205_36_02.814533/model-00018-1.03476-0.59204-0.73941-0.71000.h5\n",
      "Epoch 19/30\n",
      "67/67 [==============================] - 24s 365ms/step - loss: 0.9402 - categorical_accuracy: 0.6269 - val_loss: 0.7350 - val_categorical_accuracy: 0.7200\n",
      "\n",
      "Epoch 00019: saving model to model_init_2020-05-2205_36_02.814533/model-00019-0.94016-0.62687-0.73497-0.72000.h5\n",
      "\n",
      "Epoch 00019: ReduceLROnPlateau reducing learning rate to 0.125.\n",
      "Epoch 20/30\n",
      "67/67 [==============================] - 25s 380ms/step - loss: 0.8953 - categorical_accuracy: 0.6617 - val_loss: 0.7266 - val_categorical_accuracy: 0.7200\n",
      "\n",
      "Epoch 00020: saving model to model_init_2020-05-2205_36_02.814533/model-00020-0.89527-0.66169-0.72663-0.72000.h5\n",
      "Epoch 21/30\n",
      "67/67 [==============================] - 25s 370ms/step - loss: 0.9357 - categorical_accuracy: 0.6269 - val_loss: 0.7015 - val_categorical_accuracy: 0.7100\n",
      "\n",
      "Epoch 00021: saving model to model_init_2020-05-2205_36_02.814533/model-00021-0.93567-0.62687-0.70148-0.71000.h5\n",
      "Epoch 22/30\n",
      "67/67 [==============================] - 25s 371ms/step - loss: 0.9463 - categorical_accuracy: 0.6020 - val_loss: 0.7219 - val_categorical_accuracy: 0.7400\n",
      "\n",
      "Epoch 00022: saving model to model_init_2020-05-2205_36_02.814533/model-00022-0.94632-0.60199-0.72190-0.74000.h5\n",
      "Epoch 23/30\n",
      "67/67 [==============================] - 24s 356ms/step - loss: 0.8007 - categorical_accuracy: 0.6468 - val_loss: 0.6856 - val_categorical_accuracy: 0.7600\n",
      "\n",
      "Epoch 00023: saving model to model_init_2020-05-2205_36_02.814533/model-00023-0.80069-0.64677-0.68564-0.76000.h5\n",
      "Epoch 24/30\n",
      "67/67 [==============================] - 26s 385ms/step - loss: 0.9079 - categorical_accuracy: 0.6418 - val_loss: 0.6890 - val_categorical_accuracy: 0.6900\n",
      "\n",
      "Epoch 00024: saving model to model_init_2020-05-2205_36_02.814533/model-00024-0.90789-0.64179-0.68901-0.69000.h5\n",
      "Epoch 25/30\n",
      "67/67 [==============================] - 25s 371ms/step - loss: 0.9539 - categorical_accuracy: 0.6020 - val_loss: 0.6736 - val_categorical_accuracy: 0.7500\n",
      "\n",
      "Epoch 00025: saving model to model_init_2020-05-2205_36_02.814533/model-00025-0.95389-0.60199-0.67356-0.75000.h5\n",
      "Epoch 26/30\n",
      "67/67 [==============================] - 24s 365ms/step - loss: 0.8411 - categorical_accuracy: 0.6716 - val_loss: 0.6655 - val_categorical_accuracy: 0.7200\n",
      "\n",
      "Epoch 00026: saving model to model_init_2020-05-2205_36_02.814533/model-00026-0.84111-0.67164-0.66550-0.72000.h5\n",
      "Epoch 27/30\n",
      "67/67 [==============================] - 25s 379ms/step - loss: 0.8019 - categorical_accuracy: 0.6965 - val_loss: 0.7344 - val_categorical_accuracy: 0.6600\n",
      "\n",
      "Epoch 00027: saving model to model_init_2020-05-2205_36_02.814533/model-00027-0.80194-0.69652-0.73440-0.66000.h5\n",
      "Epoch 28/30\n",
      "67/67 [==============================] - 24s 363ms/step - loss: 0.8163 - categorical_accuracy: 0.7164 - val_loss: 0.7143 - val_categorical_accuracy: 0.6900\n",
      "\n",
      "Epoch 00028: saving model to model_init_2020-05-2205_36_02.814533/model-00028-0.81628-0.71642-0.71431-0.69000.h5\n",
      "\n",
      "Epoch 00028: ReduceLROnPlateau reducing learning rate to 0.0625.\n",
      "Epoch 29/30\n"
     ]
    },
    {
     "name": "stdout",
     "output_type": "stream",
     "text": [
      "67/67 [==============================] - 24s 364ms/step - loss: 0.7477 - categorical_accuracy: 0.7164 - val_loss: 0.6601 - val_categorical_accuracy: 0.7300\n",
      "\n",
      "Epoch 00029: saving model to model_init_2020-05-2205_36_02.814533/model-00029-0.74773-0.71642-0.66014-0.73000.h5\n",
      "Epoch 30/30\n",
      "67/67 [==============================] - 25s 380ms/step - loss: 0.8837 - categorical_accuracy: 0.6716 - val_loss: 0.6407 - val_categorical_accuracy: 0.7500\n",
      "\n",
      "Epoch 00030: saving model to model_init_2020-05-2205_36_02.814533/model-00030-0.88373-0.67164-0.64071-0.75000.h5\n"
     ]
    },
    {
     "data": {
      "text/plain": [
       "<keras.callbacks.History at 0x7f5b16e6eac8>"
      ]
     },
     "execution_count": 61,
     "metadata": {},
     "output_type": "execute_result"
    }
   ],
   "source": [
    "model_6.fit_generator(train_generator, steps_per_epoch=steps_per_epoch, epochs=num_epochs, verbose=1, \n",
    "                    callbacks=callbacks_list, validation_data=val_generator, \n",
    "                    validation_steps=validation_steps, class_weight=None, workers=1, initial_epoch=0)"
   ]
  },
  {
   "cell_type": "markdown",
   "metadata": {},
   "source": [
    "`Model 6 : Stable Model: categorical_accuracy: 76%` `val_categorical_accuracy: 072%`"
   ]
  },
  {
   "cell_type": "markdown",
   "metadata": {},
   "source": [
    "### `Experiment 13`"
   ]
  },
  {
   "cell_type": "markdown",
   "metadata": {},
   "source": [
    "# <a id='model_7'>Model_7</a>"
   ]
  },
  {
   "cell_type": "code",
   "execution_count": 62,
   "metadata": {},
   "outputs": [],
   "source": [
    "x = 30 # number of frames\n",
    "y = 120 # image width\n",
    "z = 120 # image height \n",
    "\n",
    "classes = 5\n",
    "channel = 3\n",
    "nb_dense = [1000, 500, 5]\n",
    "\n",
    "input_shape=(x,y,z,channel)"
   ]
  },
  {
   "cell_type": "code",
   "execution_count": 63,
   "metadata": {},
   "outputs": [
    {
     "name": "stdout",
     "output_type": "stream",
     "text": [
      "_________________________________________________________________\n",
      "Layer (type)                 Output Shape              Param #   \n",
      "=================================================================\n",
      "conv3d_33 (Conv3D)           (None, 30, 120, 120, 8)   656       \n",
      "_________________________________________________________________\n",
      "batch_normalization_15 (Batc (None, 30, 120, 120, 8)   32        \n",
      "_________________________________________________________________\n",
      "activation_33 (Activation)   (None, 30, 120, 120, 8)   0         \n",
      "_________________________________________________________________\n",
      "max_pooling3d_23 (MaxPooling (None, 15, 60, 60, 8)     0         \n",
      "_________________________________________________________________\n",
      "conv3d_34 (Conv3D)           (None, 15, 60, 60, 16)    3472      \n",
      "_________________________________________________________________\n",
      "batch_normalization_16 (Batc (None, 15, 60, 60, 16)    64        \n",
      "_________________________________________________________________\n",
      "activation_34 (Activation)   (None, 15, 60, 60, 16)    0         \n",
      "_________________________________________________________________\n",
      "max_pooling3d_24 (MaxPooling (None, 7, 30, 30, 16)     0         \n",
      "_________________________________________________________________\n",
      "conv3d_35 (Conv3D)           (None, 7, 30, 30, 32)     4640      \n",
      "_________________________________________________________________\n",
      "batch_normalization_17 (Batc (None, 7, 30, 30, 32)     128       \n",
      "_________________________________________________________________\n",
      "activation_35 (Activation)   (None, 7, 30, 30, 32)     0         \n",
      "_________________________________________________________________\n",
      "max_pooling3d_25 (MaxPooling (None, 3, 15, 15, 32)     0         \n",
      "_________________________________________________________________\n",
      "conv3d_36 (Conv3D)           (None, 3, 15, 15, 64)     18496     \n",
      "_________________________________________________________________\n",
      "batch_normalization_18 (Batc (None, 3, 15, 15, 64)     256       \n",
      "_________________________________________________________________\n",
      "activation_36 (Activation)   (None, 3, 15, 15, 64)     0         \n",
      "_________________________________________________________________\n",
      "max_pooling3d_26 (MaxPooling (None, 1, 7, 7, 64)       0         \n",
      "_________________________________________________________________\n",
      "flatten_8 (Flatten)          (None, 3136)              0         \n",
      "_________________________________________________________________\n",
      "dense_18 (Dense)             (None, 1000)              3137000   \n",
      "_________________________________________________________________\n",
      "dropout_21 (Dropout)         (None, 1000)              0         \n",
      "_________________________________________________________________\n",
      "dense_19 (Dense)             (None, 500)               500500    \n",
      "_________________________________________________________________\n",
      "dropout_22 (Dropout)         (None, 500)               0         \n",
      "_________________________________________________________________\n",
      "dense_20 (Dense)             (None, 5)                 2505      \n",
      "=================================================================\n",
      "Total params: 3,667,749\n",
      "Trainable params: 3,667,509\n",
      "Non-trainable params: 240\n",
      "_________________________________________________________________\n"
     ]
    }
   ],
   "source": [
    "# Define model\n",
    "model_7 = Sequential()\n",
    "\n",
    "model_7.add(Conv3D(nb_filters[0], \n",
    "                 kernel_size=(3,3,3), \n",
    "                 input_shape=input_shape,\n",
    "                 padding='same'))\n",
    "model_7.add(BatchNormalization())\n",
    "model_7.add(Activation('relu'))\n",
    "\n",
    "model_7.add(MaxPooling3D(pool_size=(2,2,2)))\n",
    "\n",
    "model_7.add(Conv3D(nb_filters[1], \n",
    "                 kernel_size=(3,3,3), \n",
    "                 padding='same'))\n",
    "model_7.add(BatchNormalization())\n",
    "model_7.add(Activation('relu'))\n",
    "\n",
    "model_7.add(MaxPooling3D(pool_size=(2,2,2)))\n",
    "\n",
    "model_7.add(Conv3D(nb_filters[2], \n",
    "                 kernel_size=(1,3,3), \n",
    "                 padding='same'))\n",
    "model_7.add(BatchNormalization())\n",
    "model_7.add(Activation('relu'))\n",
    "\n",
    "model_7.add(MaxPooling3D(pool_size=(2,2,2)))\n",
    "\n",
    "model_7.add(Conv3D(nb_filters[3], \n",
    "                 kernel_size=(1,3,3), \n",
    "                 padding='same'))\n",
    "model_7.add(BatchNormalization())\n",
    "model_7.add(Activation('relu'))\n",
    "\n",
    "model_7.add(MaxPooling3D(pool_size=(2,2,2)))\n",
    "\n",
    "#Flatten Layers\n",
    "model_7.add(Flatten())\n",
    "\n",
    "model_7.add(Dense(nb_dense[0], activation='relu'))\n",
    "model_7.add(Dropout(0.5))\n",
    "\n",
    "model_7.add(Dense(nb_dense[1], activation='relu'))\n",
    "model_7.add(Dropout(0.5))\n",
    "\n",
    "#softmax layer\n",
    "model_7.add(Dense(nb_dense[2], activation='softmax'))\n",
    "model_7.compile(optimizer=keras.optimizers.Adadelta(), loss='categorical_crossentropy', metrics=['categorical_accuracy'])\n",
    "model_7.summary()"
   ]
  },
  {
   "cell_type": "code",
   "execution_count": 64,
   "metadata": {},
   "outputs": [],
   "source": [
    "batch_size = 10\n",
    "train_generator = generator_ex(train_path, train_doc, batch_size)\n",
    "val_generator = generator_ex(val_path, val_doc, batch_size)\n",
    "num_epochs = 10"
   ]
  },
  {
   "cell_type": "code",
   "execution_count": 65,
   "metadata": {},
   "outputs": [
    {
     "name": "stdout",
     "output_type": "stream",
     "text": [
      "Source path =  Project_data/val ; batch size = 10\n",
      "Source path =  Project_data/train ; batch size = 10\n",
      "Epoch 1/10\n",
      "65/67 [============================>.] - ETA: 2s - loss: 5.0831 - categorical_accuracy: 0.3092Batch:  67 Index: 10\n",
      "67/67 [==============================] - 82s 1s/step - loss: 5.0021 - categorical_accuracy: 0.3109 - val_loss: 1.2963 - val_categorical_accuracy: 0.4100\n",
      "\n",
      "Epoch 00001: saving model to model_init_2020-05-2205_36_02.814533/model-00001-5.02211-0.31071-1.29626-0.41000.h5\n",
      "Epoch 2/10\n",
      "67/67 [==============================] - 24s 365ms/step - loss: 2.4799 - categorical_accuracy: 0.2537 - val_loss: 1.4830 - val_categorical_accuracy: 0.3400\n",
      "\n",
      "Epoch 00002: saving model to model_init_2020-05-2205_36_02.814533/model-00002-2.47993-0.25373-1.48296-0.34000.h5\n",
      "Epoch 3/10\n",
      "67/67 [==============================] - 27s 396ms/step - loss: 1.7884 - categorical_accuracy: 0.3532 - val_loss: 1.6908 - val_categorical_accuracy: 0.2900\n",
      "\n",
      "Epoch 00003: saving model to model_init_2020-05-2205_36_02.814533/model-00003-1.78838-0.35323-1.69079-0.29000.h5\n",
      "\n",
      "Epoch 00003: ReduceLROnPlateau reducing learning rate to 0.5.\n",
      "Epoch 4/10\n",
      "67/67 [==============================] - 26s 382ms/step - loss: 1.5650 - categorical_accuracy: 0.3234 - val_loss: 1.1586 - val_categorical_accuracy: 0.5500\n",
      "\n",
      "Epoch 00004: saving model to model_init_2020-05-2205_36_02.814533/model-00004-1.56499-0.32338-1.15861-0.55000.h5\n",
      "Epoch 5/10\n",
      "67/67 [==============================] - 27s 405ms/step - loss: 1.4340 - categorical_accuracy: 0.3532 - val_loss: 1.2461 - val_categorical_accuracy: 0.4800\n",
      "\n",
      "Epoch 00005: saving model to model_init_2020-05-2205_36_02.814533/model-00005-1.43401-0.35323-1.24615-0.48000.h5\n",
      "Epoch 6/10\n",
      "67/67 [==============================] - 27s 401ms/step - loss: 1.3660 - categorical_accuracy: 0.3532 - val_loss: 1.1381 - val_categorical_accuracy: 0.5100\n",
      "\n",
      "Epoch 00006: saving model to model_init_2020-05-2205_36_02.814533/model-00006-1.36597-0.35323-1.13807-0.51000.h5\n",
      "Epoch 7/10\n",
      "67/67 [==============================] - 25s 380ms/step - loss: 1.4495 - categorical_accuracy: 0.3731 - val_loss: 1.1274 - val_categorical_accuracy: 0.4800\n",
      "\n",
      "Epoch 00007: saving model to model_init_2020-05-2205_36_02.814533/model-00007-1.44950-0.37313-1.12735-0.48000.h5\n",
      "Epoch 8/10\n",
      "67/67 [==============================] - 27s 407ms/step - loss: 1.3162 - categorical_accuracy: 0.3930 - val_loss: 1.1257 - val_categorical_accuracy: 0.5100\n",
      "\n",
      "Epoch 00008: saving model to model_init_2020-05-2205_36_02.814533/model-00008-1.31616-0.39303-1.12569-0.51000.h5\n",
      "Epoch 9/10\n",
      "67/67 [==============================] - 26s 386ms/step - loss: 1.2398 - categorical_accuracy: 0.4478 - val_loss: 1.7513 - val_categorical_accuracy: 0.3800\n",
      "\n",
      "Epoch 00009: saving model to model_init_2020-05-2205_36_02.814533/model-00009-1.23975-0.44776-1.75132-0.38000.h5\n",
      "Epoch 10/10\n",
      "67/67 [==============================] - 26s 395ms/step - loss: 1.1683 - categorical_accuracy: 0.4677 - val_loss: 1.3590 - val_categorical_accuracy: 0.5000\n",
      "\n",
      "Epoch 00010: saving model to model_init_2020-05-2205_36_02.814533/model-00010-1.16833-0.46766-1.35901-0.50000.h5\n",
      "\n",
      "Epoch 00010: ReduceLROnPlateau reducing learning rate to 0.25.\n"
     ]
    },
    {
     "data": {
      "text/plain": [
       "<keras.callbacks.History at 0x7f5b139b62e8>"
      ]
     },
     "execution_count": 65,
     "metadata": {},
     "output_type": "execute_result"
    }
   ],
   "source": [
    "model_7.fit_generator(train_generator, steps_per_epoch=steps_per_epoch, epochs=num_epochs, verbose=1, \n",
    "                    callbacks=callbacks_list, validation_data=val_generator, \n",
    "                    validation_steps=validation_steps, class_weight=None, workers=1, initial_epoch=0)"
   ]
  },
  {
   "cell_type": "markdown",
   "metadata": {},
   "source": [
    "`Model 7: Poor accuracy, will not consider`"
   ]
  },
  {
   "cell_type": "markdown",
   "metadata": {},
   "source": [
    "### `Experiment 14`"
   ]
  },
  {
   "cell_type": "markdown",
   "metadata": {},
   "source": [
    "# <a id='model_8'>Model_8</a>"
   ]
  },
  {
   "cell_type": "code",
   "execution_count": 66,
   "metadata": {},
   "outputs": [],
   "source": [
    "x = 30 # number of frames\n",
    "y = 120 # image width\n",
    "z = 120 # image height \n",
    "\n",
    "classes = 5\n",
    "channel = 3\n",
    "\n",
    "input_shape=(x,y,z,channel)"
   ]
  },
  {
   "cell_type": "code",
   "execution_count": 67,
   "metadata": {},
   "outputs": [
    {
     "name": "stdout",
     "output_type": "stream",
     "text": [
      "_________________________________________________________________\n",
      "Layer (type)                 Output Shape              Param #   \n",
      "=================================================================\n",
      "conv3d_37 (Conv3D)           (None, 30, 120, 120, 8)   656       \n",
      "_________________________________________________________________\n",
      "batch_normalization_19 (Batc (None, 30, 120, 120, 8)   32        \n",
      "_________________________________________________________________\n",
      "activation_37 (Activation)   (None, 30, 120, 120, 8)   0         \n",
      "_________________________________________________________________\n",
      "max_pooling3d_27 (MaxPooling (None, 15, 60, 60, 8)     0         \n",
      "_________________________________________________________________\n",
      "conv3d_38 (Conv3D)           (None, 15, 60, 60, 16)    3472      \n",
      "_________________________________________________________________\n",
      "batch_normalization_20 (Batc (None, 15, 60, 60, 16)    64        \n",
      "_________________________________________________________________\n",
      "activation_38 (Activation)   (None, 15, 60, 60, 16)    0         \n",
      "_________________________________________________________________\n",
      "max_pooling3d_28 (MaxPooling (None, 7, 30, 30, 16)     0         \n",
      "_________________________________________________________________\n",
      "conv3d_39 (Conv3D)           (None, 7, 30, 30, 32)     4640      \n",
      "_________________________________________________________________\n",
      "batch_normalization_21 (Batc (None, 7, 30, 30, 32)     128       \n",
      "_________________________________________________________________\n",
      "activation_39 (Activation)   (None, 7, 30, 30, 32)     0         \n",
      "_________________________________________________________________\n",
      "max_pooling3d_29 (MaxPooling (None, 3, 15, 15, 32)     0         \n",
      "_________________________________________________________________\n",
      "conv3d_40 (Conv3D)           (None, 3, 15, 15, 64)     18496     \n",
      "_________________________________________________________________\n",
      "batch_normalization_22 (Batc (None, 3, 15, 15, 64)     256       \n",
      "_________________________________________________________________\n",
      "activation_40 (Activation)   (None, 3, 15, 15, 64)     0         \n",
      "_________________________________________________________________\n",
      "max_pooling3d_30 (MaxPooling (None, 1, 7, 7, 64)       0         \n",
      "_________________________________________________________________\n",
      "flatten_9 (Flatten)          (None, 3136)              0         \n",
      "_________________________________________________________________\n",
      "dense_21 (Dense)             (None, 1000)              3137000   \n",
      "_________________________________________________________________\n",
      "dropout_23 (Dropout)         (None, 1000)              0         \n",
      "_________________________________________________________________\n",
      "dense_22 (Dense)             (None, 500)               500500    \n",
      "_________________________________________________________________\n",
      "dropout_24 (Dropout)         (None, 500)               0         \n",
      "_________________________________________________________________\n",
      "dense_23 (Dense)             (None, 5)                 2505      \n",
      "=================================================================\n",
      "Total params: 3,667,749\n",
      "Trainable params: 3,667,509\n",
      "Non-trainable params: 240\n",
      "_________________________________________________________________\n"
     ]
    }
   ],
   "source": [
    "# Define model\n",
    "model_8 = Sequential()\n",
    "\n",
    "model_8.add(Conv3D(nb_filters[0], \n",
    "                 kernel_size=(3,3,3), \n",
    "                 input_shape=input_shape,\n",
    "                 padding='same'))\n",
    "model_8.add(BatchNormalization())\n",
    "model_8.add(Activation('relu'))\n",
    "\n",
    "model_8.add(MaxPooling3D(pool_size=(2,2,2)))\n",
    "\n",
    "model_8.add(Conv3D(nb_filters[1], \n",
    "                 kernel_size=(3,3,3), \n",
    "                 padding='same'))\n",
    "model_8.add(BatchNormalization())\n",
    "model_8.add(Activation('relu'))\n",
    "\n",
    "model_8.add(MaxPooling3D(pool_size=(2,2,2)))\n",
    "\n",
    "model_8.add(Conv3D(nb_filters[2], \n",
    "                 kernel_size=(1,3,3), \n",
    "                 padding='same'))\n",
    "model_8.add(BatchNormalization())\n",
    "model_8.add(Activation('relu'))\n",
    "\n",
    "model_8.add(MaxPooling3D(pool_size=(2,2,2)))\n",
    "\n",
    "model_8.add(Conv3D(nb_filters[3], \n",
    "                 kernel_size=(1,3,3), \n",
    "                 padding='same'))\n",
    "model_8.add(BatchNormalization())\n",
    "model_8.add(Activation('relu'))\n",
    "\n",
    "model_8.add(MaxPooling3D(pool_size=(2,2,2)))\n",
    "\n",
    "#Flatten Layers\n",
    "model_8.add(Flatten())\n",
    "\n",
    "model_8.add(Dense(nb_dense[0], activation='relu'))\n",
    "model_8.add(Dropout(0.5))\n",
    "\n",
    "model_8.add(Dense(nb_dense[1], activation='relu'))\n",
    "model_8.add(Dropout(0.5))\n",
    "\n",
    "#softmax layer\n",
    "model_8.add(Dense(nb_dense[2], activation='softmax'))\n",
    "model_8.compile(optimizer=keras.optimizers.Adadelta(), loss='categorical_crossentropy', metrics=['categorical_accuracy'])\n",
    "model_8.summary()"
   ]
  },
  {
   "cell_type": "code",
   "execution_count": 68,
   "metadata": {},
   "outputs": [],
   "source": [
    "batch_size = 10\n",
    "train_generator = generator_ex(train_path, train_doc, batch_size)\n",
    "val_generator = generator_ex(val_path, val_doc, batch_size)\n",
    "num_epochs = 10"
   ]
  },
  {
   "cell_type": "code",
   "execution_count": 69,
   "metadata": {},
   "outputs": [
    {
     "name": "stdout",
     "output_type": "stream",
     "text": [
      "Source path =  Project_data/valSource path =   ; batch size = 10\n",
      "Project_data/train ; batch size = 10\n",
      "Epoch 1/10\n",
      "65/67 [============================>.] - ETA: 2s - loss: 5.5188 - categorical_accuracy: 0.2477Batch:  67 Index: 10\n",
      "67/67 [==============================] - 80s 1s/step - loss: 5.4089 - categorical_accuracy: 0.2512 - val_loss: 3.1684 - val_categorical_accuracy: 0.1900\n",
      "\n",
      "Epoch 00001: saving model to model_init_2020-05-2205_36_02.814533/model-00001-5.45291-0.25038-3.16838-0.19000.h5\n",
      "Epoch 2/10\n",
      "67/67 [==============================] - 26s 385ms/step - loss: 2.3922 - categorical_accuracy: 0.2985 - val_loss: 1.9809 - val_categorical_accuracy: 0.3000\n",
      "\n",
      "Epoch 00002: saving model to model_init_2020-05-2205_36_02.814533/model-00002-2.39221-0.29851-1.98086-0.30000.h5\n",
      "Epoch 3/10\n",
      "67/67 [==============================] - 26s 381ms/step - loss: 1.7383 - categorical_accuracy: 0.3383 - val_loss: 1.5260 - val_categorical_accuracy: 0.3500\n",
      "\n",
      "Epoch 00003: saving model to model_init_2020-05-2205_36_02.814533/model-00003-1.73826-0.33831-1.52595-0.35000.h5\n",
      "Epoch 4/10\n",
      "67/67 [==============================] - 26s 381ms/step - loss: 1.6667 - categorical_accuracy: 0.3184 - val_loss: 1.5781 - val_categorical_accuracy: 0.3500\n",
      "\n",
      "Epoch 00004: saving model to model_init_2020-05-2205_36_02.814533/model-00004-1.66669-0.31841-1.57806-0.35000.h5\n",
      "Epoch 5/10\n",
      "67/67 [==============================] - 27s 402ms/step - loss: 1.5739 - categorical_accuracy: 0.3483 - val_loss: 1.6544 - val_categorical_accuracy: 0.3300\n",
      "\n",
      "Epoch 00005: saving model to model_init_2020-05-2205_36_02.814533/model-00005-1.57387-0.34826-1.65441-0.33000.h5\n",
      "\n",
      "Epoch 00005: ReduceLROnPlateau reducing learning rate to 0.5.\n",
      "Epoch 6/10\n",
      "67/67 [==============================] - 27s 406ms/step - loss: 1.5199 - categorical_accuracy: 0.3184 - val_loss: 1.2568 - val_categorical_accuracy: 0.4900\n",
      "\n",
      "Epoch 00006: saving model to model_init_2020-05-2205_36_02.814533/model-00006-1.51987-0.31841-1.25675-0.49000.h5\n",
      "Epoch 7/10\n",
      "67/67 [==============================] - 26s 394ms/step - loss: 1.3356 - categorical_accuracy: 0.4328 - val_loss: 1.1827 - val_categorical_accuracy: 0.4900\n",
      "\n",
      "Epoch 00007: saving model to model_init_2020-05-2205_36_02.814533/model-00007-1.33561-0.43284-1.18273-0.49000.h5\n",
      "Epoch 8/10\n",
      "67/67 [==============================] - 28s 412ms/step - loss: 1.3048 - categorical_accuracy: 0.4378 - val_loss: 1.2668 - val_categorical_accuracy: 0.3800\n",
      "\n",
      "Epoch 00008: saving model to model_init_2020-05-2205_36_02.814533/model-00008-1.30484-0.43781-1.26679-0.38000.h5\n",
      "Epoch 9/10\n",
      "67/67 [==============================] - 27s 407ms/step - loss: 1.3873 - categorical_accuracy: 0.4428 - val_loss: 1.1464 - val_categorical_accuracy: 0.4900\n",
      "\n",
      "Epoch 00009: saving model to model_init_2020-05-2205_36_02.814533/model-00009-1.38731-0.44279-1.14635-0.49000.h5\n",
      "Epoch 10/10\n",
      "67/67 [==============================] - 27s 403ms/step - loss: 1.3584 - categorical_accuracy: 0.4179 - val_loss: 1.0738 - val_categorical_accuracy: 0.6100\n",
      "\n",
      "Epoch 00010: saving model to model_init_2020-05-2205_36_02.814533/model-00010-1.35841-0.41791-1.07380-0.61000.h5\n"
     ]
    },
    {
     "data": {
      "text/plain": [
       "<keras.callbacks.History at 0x7f5b147e34e0>"
      ]
     },
     "execution_count": 69,
     "metadata": {},
     "output_type": "execute_result"
    }
   ],
   "source": [
    "model_8.fit_generator(train_generator, steps_per_epoch=steps_per_epoch, epochs=num_epochs, verbose=1, \n",
    "                    callbacks=callbacks_list, validation_data=val_generator, \n",
    "                    validation_steps=validation_steps, class_weight=None, workers=1, initial_epoch=0)"
   ]
  },
  {
   "cell_type": "markdown",
   "metadata": {},
   "source": [
    "`Model 8 - Poor accuracy`"
   ]
  },
  {
   "cell_type": "markdown",
   "metadata": {},
   "source": [
    "### `Experiment 15`"
   ]
  },
  {
   "cell_type": "markdown",
   "metadata": {},
   "source": [
    "# <a id='model_9'>Model_9</a>"
   ]
  },
  {
   "cell_type": "code",
   "execution_count": 70,
   "metadata": {},
   "outputs": [],
   "source": [
    "x = 30 # number of frames\n",
    "y = 120 # image width\n",
    "z = 120 # image height \n",
    "\n",
    "classes = 5\n",
    "channel = 3\n",
    "\n",
    "input_shape=(x,y,z,channel)"
   ]
  },
  {
   "cell_type": "code",
   "execution_count": 71,
   "metadata": {},
   "outputs": [
    {
     "name": "stdout",
     "output_type": "stream",
     "text": [
      "_________________________________________________________________\n",
      "Layer (type)                 Output Shape              Param #   \n",
      "=================================================================\n",
      "conv3d_41 (Conv3D)           (None, 30, 120, 120, 8)   656       \n",
      "_________________________________________________________________\n",
      "batch_normalization_23 (Batc (None, 30, 120, 120, 8)   32        \n",
      "_________________________________________________________________\n",
      "activation_41 (Activation)   (None, 30, 120, 120, 8)   0         \n",
      "_________________________________________________________________\n",
      "max_pooling3d_31 (MaxPooling (None, 15, 60, 60, 8)     0         \n",
      "_________________________________________________________________\n",
      "conv3d_42 (Conv3D)           (None, 15, 60, 60, 16)    3472      \n",
      "_________________________________________________________________\n",
      "batch_normalization_24 (Batc (None, 15, 60, 60, 16)    64        \n",
      "_________________________________________________________________\n",
      "activation_42 (Activation)   (None, 15, 60, 60, 16)    0         \n",
      "_________________________________________________________________\n",
      "max_pooling3d_32 (MaxPooling (None, 7, 30, 30, 16)     0         \n",
      "_________________________________________________________________\n",
      "conv3d_43 (Conv3D)           (None, 7, 30, 30, 32)     4640      \n",
      "_________________________________________________________________\n",
      "batch_normalization_25 (Batc (None, 7, 30, 30, 32)     128       \n",
      "_________________________________________________________________\n",
      "activation_43 (Activation)   (None, 7, 30, 30, 32)     0         \n",
      "_________________________________________________________________\n",
      "max_pooling3d_33 (MaxPooling (None, 3, 15, 15, 32)     0         \n",
      "_________________________________________________________________\n",
      "conv3d_44 (Conv3D)           (None, 3, 15, 15, 64)     18496     \n",
      "_________________________________________________________________\n",
      "activation_44 (Activation)   (None, 3, 15, 15, 64)     0         \n",
      "_________________________________________________________________\n",
      "dropout_25 (Dropout)         (None, 3, 15, 15, 64)     0         \n",
      "_________________________________________________________________\n",
      "max_pooling3d_34 (MaxPooling (None, 1, 7, 7, 64)       0         \n",
      "_________________________________________________________________\n",
      "flatten_10 (Flatten)         (None, 3136)              0         \n",
      "_________________________________________________________________\n",
      "dense_24 (Dense)             (None, 1000)              3137000   \n",
      "_________________________________________________________________\n",
      "dropout_26 (Dropout)         (None, 1000)              0         \n",
      "_________________________________________________________________\n",
      "dense_25 (Dense)             (None, 500)               500500    \n",
      "_________________________________________________________________\n",
      "dropout_27 (Dropout)         (None, 500)               0         \n",
      "_________________________________________________________________\n",
      "dense_26 (Dense)             (None, 5)                 2505      \n",
      "=================================================================\n",
      "Total params: 3,667,493\n",
      "Trainable params: 3,667,381\n",
      "Non-trainable params: 112\n",
      "_________________________________________________________________\n"
     ]
    }
   ],
   "source": [
    "# Define model\n",
    "model_9 = Sequential()\n",
    "\n",
    "model_9.add(Conv3D(nb_filters[0], \n",
    "                 kernel_size=(3,3,3), \n",
    "                 input_shape=input_shape,\n",
    "                 padding='same'))\n",
    "model_9.add(BatchNormalization())\n",
    "model_9.add(Activation('relu'))\n",
    "\n",
    "model_9.add(MaxPooling3D(pool_size=(2,2,2)))\n",
    "\n",
    "model_9.add(Conv3D(nb_filters[1], \n",
    "                 kernel_size=(3,3,3), \n",
    "                 padding='same'))\n",
    "model_9.add(BatchNormalization())\n",
    "model_9.add(Activation('relu'))\n",
    "\n",
    "model_9.add(MaxPooling3D(pool_size=(2,2,2)))\n",
    "\n",
    "model_9.add(Conv3D(nb_filters[2], \n",
    "                 kernel_size=(1,3,3), \n",
    "                 padding='same'))\n",
    "model_9.add(BatchNormalization())\n",
    "model_9.add(Activation('relu'))\n",
    "\n",
    "model_9.add(MaxPooling3D(pool_size=(2,2,2)))\n",
    "\n",
    "model_9.add(Conv3D(nb_filters[3], \n",
    "                 kernel_size=(1,3,3), \n",
    "                 padding='same'))\n",
    "model_9.add(Activation('relu'))\n",
    "model_9.add(Dropout(0.25))\n",
    "\n",
    "model_9.add(MaxPooling3D(pool_size=(2,2,2)))\n",
    "\n",
    "#Flatten Layers\n",
    "model_9.add(Flatten())\n",
    "\n",
    "model_9.add(Dense(nb_dense[0], activation='relu'))\n",
    "model_9.add(Dropout(0.5))\n",
    "\n",
    "model_9.add(Dense(nb_dense[1], activation='relu'))\n",
    "model_9.add(Dropout(0.5))\n",
    "\n",
    "#softmax layer\n",
    "model_9.add(Dense(nb_dense[2], activation='softmax'))\n",
    "model_9.compile(optimizer=keras.optimizers.Adadelta(), loss='categorical_crossentropy', metrics=['categorical_accuracy'])\n",
    "model_9.summary()\n"
   ]
  },
  {
   "cell_type": "code",
   "execution_count": 72,
   "metadata": {},
   "outputs": [],
   "source": [
    "batch_size = 10\n",
    "train_generator = generator_ex(train_path, train_doc, batch_size)\n",
    "val_generator = generator_ex(val_path, val_doc, batch_size)\n",
    "num_epochs = 10"
   ]
  },
  {
   "cell_type": "code",
   "execution_count": 73,
   "metadata": {
    "scrolled": true
   },
   "outputs": [
    {
     "name": "stdout",
     "output_type": "stream",
     "text": [
      "Source path =  Project_data/val ; batch size = 10\n",
      "Source path =  Project_data/train ; batch size = Epoch 1/10\n",
      "10\n",
      "65/67 [============================>.] - ETA: 2s - loss: 2.2168 - categorical_accuracy: 0.3062Batch:  67 Index: 10\n",
      "67/67 [==============================] - 85s 1s/step - loss: 2.1915 - categorical_accuracy: 0.3050 - val_loss: 1.3406 - val_categorical_accuracy: 0.3800\n",
      "\n",
      "Epoch 00001: saving model to model_init_2020-05-2205_36_02.814533/model-00001-2.20270-0.30468-1.34058-0.38000.h5\n",
      "Epoch 2/10\n",
      "67/67 [==============================] - 25s 370ms/step - loss: 1.6011 - categorical_accuracy: 0.3433 - val_loss: 1.6974 - val_categorical_accuracy: 0.1900\n",
      "\n",
      "Epoch 00002: saving model to model_init_2020-05-2205_36_02.814533/model-00002-1.60109-0.34328-1.69737-0.19000.h5\n",
      "Epoch 3/10\n",
      "67/67 [==============================] - 27s 396ms/step - loss: 1.6023 - categorical_accuracy: 0.3383 - val_loss: 1.3454 - val_categorical_accuracy: 0.4400\n",
      "\n",
      "Epoch 00003: saving model to model_init_2020-05-2205_36_02.814533/model-00003-1.60233-0.33831-1.34543-0.44000.h5\n",
      "\n",
      "Epoch 00003: ReduceLROnPlateau reducing learning rate to 0.5.\n",
      "Epoch 4/10\n",
      "67/67 [==============================] - 27s 399ms/step - loss: 1.4286 - categorical_accuracy: 0.3731 - val_loss: 1.2391 - val_categorical_accuracy: 0.5200\n",
      "\n",
      "Epoch 00004: saving model to model_init_2020-05-2205_36_02.814533/model-00004-1.42864-0.37313-1.23912-0.52000.h5\n",
      "Epoch 5/10\n",
      "67/67 [==============================] - 28s 420ms/step - loss: 1.2614 - categorical_accuracy: 0.4726 - val_loss: 1.2408 - val_categorical_accuracy: 0.4000\n",
      "\n",
      "Epoch 00005: saving model to model_init_2020-05-2205_36_02.814533/model-00005-1.26136-0.47264-1.24076-0.40000.h5\n",
      "Epoch 6/10\n",
      "67/67 [==============================] - 27s 408ms/step - loss: 1.2324 - categorical_accuracy: 0.5025 - val_loss: 1.1168 - val_categorical_accuracy: 0.5400\n",
      "\n",
      "Epoch 00006: saving model to model_init_2020-05-2205_36_02.814533/model-00006-1.23245-0.50249-1.11676-0.54000.h5\n",
      "Epoch 7/10\n",
      "67/67 [==============================] - 27s 396ms/step - loss: 1.2252 - categorical_accuracy: 0.4925 - val_loss: 1.0858 - val_categorical_accuracy: 0.5800\n",
      "\n",
      "Epoch 00007: saving model to model_init_2020-05-2205_36_02.814533/model-00007-1.22518-0.49254-1.08584-0.58000.h5\n",
      "Epoch 8/10\n",
      "67/67 [==============================] - 27s 405ms/step - loss: 1.1722 - categorical_accuracy: 0.4975 - val_loss: 1.0723 - val_categorical_accuracy: 0.5300\n",
      "\n",
      "Epoch 00008: saving model to model_init_2020-05-2205_36_02.814533/model-00008-1.17224-0.49751-1.07234-0.53000.h5\n",
      "Epoch 9/10\n",
      "67/67 [==============================] - 28s 417ms/step - loss: 1.1383 - categorical_accuracy: 0.5075 - val_loss: 0.9951 - val_categorical_accuracy: 0.5500\n",
      "\n",
      "Epoch 00009: saving model to model_init_2020-05-2205_36_02.814533/model-00009-1.13833-0.50746-0.99509-0.55000.h5\n",
      "Epoch 10/10\n",
      "67/67 [==============================] - 26s 390ms/step - loss: 1.0118 - categorical_accuracy: 0.5672 - val_loss: 1.0390 - val_categorical_accuracy: 0.5700\n",
      "\n",
      "Epoch 00010: saving model to model_init_2020-05-2205_36_02.814533/model-00010-1.01185-0.56716-1.03903-0.57000.h5\n"
     ]
    },
    {
     "data": {
      "text/plain": [
       "<keras.callbacks.History at 0x7f5b12eaca58>"
      ]
     },
     "execution_count": 73,
     "metadata": {},
     "output_type": "execute_result"
    }
   ],
   "source": [
    "model_9.fit_generator(train_generator, steps_per_epoch=steps_per_epoch, epochs=num_epochs, verbose=1, \n",
    "                    callbacks=callbacks_list, validation_data=val_generator, \n",
    "                    validation_steps=validation_steps, class_weight=None, workers=1, initial_epoch=0)"
   ]
  },
  {
   "cell_type": "markdown",
   "metadata": {},
   "source": [
    "Epoch 10/10 `categorical_accuracy: 0.6866` - `val_categorical_accuracy: 0.6900`\n",
    "\n",
    "Epoch 00010: saving model to model_init_2020-05-1918_24_07.458406/model-00010-0.81188-0.68657-0.80880-0.69000.h5"
   ]
  },
  {
   "cell_type": "markdown",
   "metadata": {},
   "source": [
    "### `Experiment 16`"
   ]
  },
  {
   "cell_type": "markdown",
   "metadata": {},
   "source": [
    "# <a id='model_10'>Model_10</a> "
   ]
  },
  {
   "cell_type": "code",
   "execution_count": 74,
   "metadata": {},
   "outputs": [],
   "source": [
    "nb_filters = [8,16,32,64]\n",
    "nb_dense = [256, 128, 5]\n",
    "\n",
    "# Input\n",
    "input_shape=(30,120,120,3)"
   ]
  },
  {
   "cell_type": "code",
   "execution_count": 75,
   "metadata": {},
   "outputs": [],
   "source": [
    "# Define model\n",
    "model_10 = Sequential()\n",
    "\n",
    "model_10.add(Conv3D(nb_filters[0], \n",
    "                 kernel_size=(3,3,3), \n",
    "                 input_shape=input_shape,\n",
    "                 padding='same'))\n",
    "model_10.add(BatchNormalization())\n",
    "model_10.add(Activation('relu'))\n",
    "\n",
    "model_10.add(MaxPooling3D(pool_size=(2,2,2)))\n",
    "\n",
    "model_10.add(Conv3D(nb_filters[1], \n",
    "                 kernel_size=(3,3,3), \n",
    "                 padding='same'))\n",
    "model_10.add(BatchNormalization())\n",
    "model_10.add(Activation('relu'))\n",
    "\n",
    "model_10.add(MaxPooling3D(pool_size=(2,2,2)))\n",
    "\n",
    "model_10.add(Conv3D(nb_filters[2], \n",
    "                 kernel_size=(1,3,3), \n",
    "                 padding='same'))\n",
    "model_10.add(BatchNormalization())\n",
    "model_10.add(Activation('relu'))\n",
    "\n",
    "model_10.add(MaxPooling3D(pool_size=(2,2,2)))\n",
    "\n",
    "model_10.add(Conv3D(nb_filters[3], \n",
    "                 kernel_size=(1,3,3), \n",
    "                 padding='same'))\n",
    "model_10.add(Activation('relu'))\n",
    "model_10.add(Dropout(0.25))\n",
    "\n",
    "model_10.add(MaxPooling3D(pool_size=(2,2,2)))\n",
    "\n",
    "#Flatten Layers\n",
    "model_10.add(Flatten())\n",
    "\n",
    "model_10.add(Dense(nb_dense[0], activation='relu'))\n",
    "model_10.add(Dropout(0.5))\n",
    "\n",
    "model_10.add(Dense(nb_dense[1], activation='relu'))\n",
    "model_10.add(Dropout(0.5))\n",
    "\n",
    "#softmax layer\n",
    "model_10.add(Dense(nb_dense[2], activation='softmax'))"
   ]
  },
  {
   "cell_type": "code",
   "execution_count": 76,
   "metadata": {},
   "outputs": [
    {
     "name": "stdout",
     "output_type": "stream",
     "text": [
      "_________________________________________________________________\n",
      "Layer (type)                 Output Shape              Param #   \n",
      "=================================================================\n",
      "conv3d_45 (Conv3D)           (None, 30, 120, 120, 8)   656       \n",
      "_________________________________________________________________\n",
      "batch_normalization_26 (Batc (None, 30, 120, 120, 8)   32        \n",
      "_________________________________________________________________\n",
      "activation_45 (Activation)   (None, 30, 120, 120, 8)   0         \n",
      "_________________________________________________________________\n",
      "max_pooling3d_35 (MaxPooling (None, 15, 60, 60, 8)     0         \n",
      "_________________________________________________________________\n",
      "conv3d_46 (Conv3D)           (None, 15, 60, 60, 16)    3472      \n",
      "_________________________________________________________________\n",
      "batch_normalization_27 (Batc (None, 15, 60, 60, 16)    64        \n",
      "_________________________________________________________________\n",
      "activation_46 (Activation)   (None, 15, 60, 60, 16)    0         \n",
      "_________________________________________________________________\n",
      "max_pooling3d_36 (MaxPooling (None, 7, 30, 30, 16)     0         \n",
      "_________________________________________________________________\n",
      "conv3d_47 (Conv3D)           (None, 7, 30, 30, 32)     4640      \n",
      "_________________________________________________________________\n",
      "batch_normalization_28 (Batc (None, 7, 30, 30, 32)     128       \n",
      "_________________________________________________________________\n",
      "activation_47 (Activation)   (None, 7, 30, 30, 32)     0         \n",
      "_________________________________________________________________\n",
      "max_pooling3d_37 (MaxPooling (None, 3, 15, 15, 32)     0         \n",
      "_________________________________________________________________\n",
      "conv3d_48 (Conv3D)           (None, 3, 15, 15, 64)     18496     \n",
      "_________________________________________________________________\n",
      "activation_48 (Activation)   (None, 3, 15, 15, 64)     0         \n",
      "_________________________________________________________________\n",
      "dropout_28 (Dropout)         (None, 3, 15, 15, 64)     0         \n",
      "_________________________________________________________________\n",
      "max_pooling3d_38 (MaxPooling (None, 1, 7, 7, 64)       0         \n",
      "_________________________________________________________________\n",
      "flatten_11 (Flatten)         (None, 3136)              0         \n",
      "_________________________________________________________________\n",
      "dense_27 (Dense)             (None, 256)               803072    \n",
      "_________________________________________________________________\n",
      "dropout_29 (Dropout)         (None, 256)               0         \n",
      "_________________________________________________________________\n",
      "dense_28 (Dense)             (None, 128)               32896     \n",
      "_________________________________________________________________\n",
      "dropout_30 (Dropout)         (None, 128)               0         \n",
      "_________________________________________________________________\n",
      "dense_29 (Dense)             (None, 5)                 645       \n",
      "=================================================================\n",
      "Total params: 864,101\n",
      "Trainable params: 863,989\n",
      "Non-trainable params: 112\n",
      "_________________________________________________________________\n",
      "None\n"
     ]
    }
   ],
   "source": [
    "optimiser = keras.optimizers.Adam() #write your optimizer\n",
    "model_10.compile(optimizer=optimiser, loss='categorical_crossentropy', metrics=['categorical_accuracy'])\n",
    "print (model_10.summary())"
   ]
  },
  {
   "cell_type": "code",
   "execution_count": 77,
   "metadata": {},
   "outputs": [],
   "source": [
    "train_generator = generator_ex(train_path, train_doc, batch_size)\n",
    "val_generator = generator_ex(val_path, val_doc, batch_size)"
   ]
  },
  {
   "cell_type": "code",
   "execution_count": 78,
   "metadata": {},
   "outputs": [
    {
     "name": "stdout",
     "output_type": "stream",
     "text": [
      "Source path =  Project_data/val ; batch size = 10\n",
      "Source path =  Project_data/train ; batch size = 10\n",
      "Epoch 1/20\n",
      "65/67 [============================>.] - ETA: 2s - loss: 1.8925 - categorical_accuracy: 0.3138Batch:  67 Index: 10\n",
      "67/67 [==============================] - 84s 1s/step - loss: 1.8811 - categorical_accuracy: 0.3124 - val_loss: 1.3335 - val_categorical_accuracy: 0.4500\n",
      "\n",
      "Epoch 00001: saving model to model_init_2020-05-2205_36_02.814533/model-00001-1.88566-0.31222-1.33353-0.45000.h5\n",
      "Epoch 2/20\n",
      "67/67 [==============================] - 25s 370ms/step - loss: 1.4650 - categorical_accuracy: 0.3831 - val_loss: 1.4067 - val_categorical_accuracy: 0.4300\n",
      "\n",
      "Epoch 00002: saving model to model_init_2020-05-2205_36_02.814533/model-00002-1.46500-0.38308-1.40666-0.43000.h5\n",
      "Epoch 3/20\n",
      "67/67 [==============================] - 27s 401ms/step - loss: 1.5077 - categorical_accuracy: 0.3234 - val_loss: 1.2749 - val_categorical_accuracy: 0.4200\n",
      "\n",
      "Epoch 00003: saving model to model_init_2020-05-2205_36_02.814533/model-00003-1.50773-0.32338-1.27489-0.42000.h5\n",
      "Epoch 4/20\n",
      "67/67 [==============================] - 27s 409ms/step - loss: 1.5366 - categorical_accuracy: 0.3433 - val_loss: 1.3921 - val_categorical_accuracy: 0.4000\n",
      "\n",
      "Epoch 00004: saving model to model_init_2020-05-2205_36_02.814533/model-00004-1.53657-0.34328-1.39206-0.40000.h5\n",
      "Epoch 5/20\n",
      "67/67 [==============================] - 27s 400ms/step - loss: 1.4758 - categorical_accuracy: 0.2985 - val_loss: 1.3632 - val_categorical_accuracy: 0.3900\n",
      "\n",
      "Epoch 00005: saving model to model_init_2020-05-2205_36_02.814533/model-00005-1.47580-0.29851-1.36320-0.39000.h5\n",
      "\n",
      "Epoch 00005: ReduceLROnPlateau reducing learning rate to 0.0005000000237487257.\n",
      "Epoch 6/20\n",
      "67/67 [==============================] - 28s 417ms/step - loss: 1.3673 - categorical_accuracy: 0.4229 - val_loss: 1.2565 - val_categorical_accuracy: 0.4400\n",
      "\n",
      "Epoch 00006: saving model to model_init_2020-05-2205_36_02.814533/model-00006-1.36733-0.42289-1.25655-0.44000.h5\n",
      "Epoch 7/20\n",
      "67/67 [==============================] - 26s 388ms/step - loss: 1.3481 - categorical_accuracy: 0.4627 - val_loss: 1.1686 - val_categorical_accuracy: 0.5500\n",
      "\n",
      "Epoch 00007: saving model to model_init_2020-05-2205_36_02.814533/model-00007-1.34807-0.46269-1.16863-0.55000.h5\n",
      "Epoch 8/20\n",
      "67/67 [==============================] - 28s 417ms/step - loss: 1.3382 - categorical_accuracy: 0.4428 - val_loss: 1.1292 - val_categorical_accuracy: 0.6000\n",
      "\n",
      "Epoch 00008: saving model to model_init_2020-05-2205_36_02.814533/model-00008-1.33821-0.44279-1.12922-0.60000.h5\n",
      "Epoch 9/20\n",
      "67/67 [==============================] - 28s 413ms/step - loss: 1.1598 - categorical_accuracy: 0.5025 - val_loss: 1.1278 - val_categorical_accuracy: 0.5900\n",
      "\n",
      "Epoch 00009: saving model to model_init_2020-05-2205_36_02.814533/model-00009-1.15977-0.50249-1.12779-0.59000.h5\n",
      "Epoch 10/20\n",
      "67/67 [==============================] - 26s 385ms/step - loss: 1.2488 - categorical_accuracy: 0.4776 - val_loss: 1.1543 - val_categorical_accuracy: 0.5400\n",
      "\n",
      "Epoch 00010: saving model to model_init_2020-05-2205_36_02.814533/model-00010-1.24881-0.47761-1.15425-0.54000.h5\n",
      "Epoch 11/20\n",
      "67/67 [==============================] - 27s 404ms/step - loss: 1.2876 - categorical_accuracy: 0.4876 - val_loss: 1.1266 - val_categorical_accuracy: 0.6000\n",
      "\n",
      "Epoch 00011: saving model to model_init_2020-05-2205_36_02.814533/model-00011-1.28759-0.48756-1.12659-0.60000.h5\n",
      "Epoch 12/20\n",
      "67/67 [==============================] - 27s 398ms/step - loss: 1.1916 - categorical_accuracy: 0.5224 - val_loss: 1.0166 - val_categorical_accuracy: 0.6400\n",
      "\n",
      "Epoch 00012: saving model to model_init_2020-05-2205_36_02.814533/model-00012-1.19158-0.52239-1.01660-0.64000.h5\n",
      "Epoch 13/20\n",
      "67/67 [==============================] - 28s 416ms/step - loss: 1.1691 - categorical_accuracy: 0.4925 - val_loss: 1.0286 - val_categorical_accuracy: 0.5900\n",
      "\n",
      "Epoch 00013: saving model to model_init_2020-05-2205_36_02.814533/model-00013-1.16907-0.49254-1.02856-0.59000.h5\n",
      "Epoch 14/20\n",
      "67/67 [==============================] - 28s 412ms/step - loss: 1.2006 - categorical_accuracy: 0.5522 - val_loss: 0.9700 - val_categorical_accuracy: 0.6100\n",
      "\n",
      "Epoch 00014: saving model to model_init_2020-05-2205_36_02.814533/model-00014-1.20060-0.55224-0.97003-0.61000.h5\n",
      "Epoch 15/20\n",
      "67/67 [==============================] - 28s 421ms/step - loss: 1.1115 - categorical_accuracy: 0.5672 - val_loss: 1.0406 - val_categorical_accuracy: 0.5800\n",
      "\n",
      "Epoch 00015: saving model to model_init_2020-05-2205_36_02.814533/model-00015-1.11150-0.56716-1.04058-0.58000.h5\n",
      "Epoch 16/20\n",
      "67/67 [==============================] - 28s 412ms/step - loss: 1.0113 - categorical_accuracy: 0.5174 - val_loss: 0.8808 - val_categorical_accuracy: 0.6700\n",
      "\n",
      "Epoch 00016: saving model to model_init_2020-05-2205_36_02.814533/model-00016-1.01127-0.51741-0.88076-0.67000.h5\n",
      "Epoch 17/20\n",
      "67/67 [==============================] - 27s 403ms/step - loss: 1.0113 - categorical_accuracy: 0.5871 - val_loss: 0.9703 - val_categorical_accuracy: 0.6100\n",
      "\n",
      "Epoch 00017: saving model to model_init_2020-05-2205_36_02.814533/model-00017-1.01134-0.58706-0.97031-0.61000.h5\n",
      "Epoch 18/20\n",
      "67/67 [==============================] - 25s 379ms/step - loss: 0.9736 - categorical_accuracy: 0.6269 - val_loss: 0.8971 - val_categorical_accuracy: 0.6800\n",
      "\n",
      "Epoch 00018: saving model to model_init_2020-05-2205_36_02.814533/model-00018-0.97360-0.62687-0.89708-0.68000.h5\n",
      "\n",
      "Epoch 00018: ReduceLROnPlateau reducing learning rate to 0.0002500000118743628.\n",
      "Epoch 19/20\n",
      "67/67 [==============================] - 27s 409ms/step - loss: 0.8536 - categorical_accuracy: 0.6667 - val_loss: 0.8443 - val_categorical_accuracy: 0.7200\n",
      "\n",
      "Epoch 00019: saving model to model_init_2020-05-2205_36_02.814533/model-00019-0.85360-0.66667-0.84428-0.72000.h5\n",
      "Epoch 20/20\n",
      "67/67 [==============================] - 27s 408ms/step - loss: 1.0127 - categorical_accuracy: 0.6070 - val_loss: 0.8925 - val_categorical_accuracy: 0.7100\n",
      "\n",
      "Epoch 00020: saving model to model_init_2020-05-2205_36_02.814533/model-00020-1.01266-0.60697-0.89251-0.71000.h5\n"
     ]
    },
    {
     "data": {
      "text/plain": [
       "<keras.callbacks.History at 0x7f5b0570efd0>"
      ]
     },
     "execution_count": 78,
     "metadata": {},
     "output_type": "execute_result"
    }
   ],
   "source": [
    "batch_size = 10\n",
    "num_epochs = 20\n",
    "model_10.fit_generator(train_generator, steps_per_epoch=steps_per_epoch, epochs=num_epochs, verbose=1, \n",
    "                    callbacks=callbacks_list, validation_data=val_generator, \n",
    "                    validation_steps=validation_steps, class_weight=None, workers=1, initial_epoch=0)"
   ]
  },
  {
   "cell_type": "markdown",
   "metadata": {},
   "source": [
    "`Categorical_accuracy = 58%, Val_categorical_accuracy = 62%, Observation - Accuracy Decreased`"
   ]
  },
  {
   "cell_type": "markdown",
   "metadata": {},
   "source": [
    "#### `After experineting with different weights ,We will go  with Expermint 8 as our final model`"
   ]
  },
  {
   "cell_type": "markdown",
   "metadata": {},
   "source": [
    "`Reading the hdf5.f5 file`"
   ]
  },
  {
   "cell_type": "code",
   "execution_count": 28,
   "metadata": {},
   "outputs": [],
   "source": [
    "import numpy as np\n",
    "import h5py "
   ]
  },
  {
   "cell_type": "code",
   "execution_count": 29,
   "metadata": {},
   "outputs": [],
   "source": [
    "filepath = 'model_init_2020-05-2205_36_02.814533/Experiment_08_model-00012-0.01036-0.99561-2.59650-0.67000.h5'\n",
    "filepath = 'model_init_2020-05-2205_36_02.814533/Experiment_01_model-00010-1.32115-0.44279-1.11734-0.58000.h5'"
   ]
  },
  {
   "cell_type": "code",
   "execution_count": 30,
   "metadata": {},
   "outputs": [
    {
     "name": "stdout",
     "output_type": "stream",
     "text": [
      "list of data sets in this file: \n",
      "  ['model_weights', 'optimizer_weights']\n"
     ]
    }
   ],
   "source": [
    "with h5py.File(filepath, 'r') as hdf:\n",
    "    ls = list(hdf.keys())\n",
    "    print('list of data sets in this file: \\n ', ls) # ['model_weights', 'optimizer_weights']\n",
    "    \n",
    "    data_model_weights = hdf.get('model_weights')\n",
    "    model_weights = np.array(data_model_weights)\n",
    "\n",
    "    \n",
    "    data_optimizer_weights = hdf.get('optimizer_weights')\n",
    "    optimizer_weights = np.array(data_optimizer_weights)\n",
    "    \n",
    "    "
   ]
  },
  {
   "cell_type": "code",
   "execution_count": 31,
   "metadata": {},
   "outputs": [
    {
     "data": {
      "text/plain": [
       "array(['Adam', 'training'], dtype='<U8')"
      ]
     },
     "execution_count": 31,
     "metadata": {},
     "output_type": "execute_result"
    }
   ],
   "source": [
    "optimizer_weights"
   ]
  },
  {
   "cell_type": "code",
   "execution_count": 32,
   "metadata": {},
   "outputs": [
    {
     "data": {
      "text/plain": [
       "array(['activation_1', 'activation_2', 'activation_3', 'activation_4',\n",
       "       'batch_normalization_1', 'batch_normalization_2',\n",
       "       'batch_normalization_3', 'batch_normalization_4', 'conv3d_1',\n",
       "       'conv3d_2', 'conv3d_3', 'conv3d_4', 'dense_1', 'dense_2',\n",
       "       'dense_3', 'dropout_1', 'dropout_2', 'flatten_1',\n",
       "       'max_pooling3d_1', 'max_pooling3d_2', 'max_pooling3d_3',\n",
       "       'max_pooling3d_4'], dtype='<U21')"
      ]
     },
     "execution_count": 32,
     "metadata": {},
     "output_type": "execute_result"
    }
   ],
   "source": [
    "model_weights"
   ]
  },
  {
   "cell_type": "markdown",
   "metadata": {},
   "source": [
    "<br><br><br><br><br><br>"
   ]
  },
  {
   "cell_type": "markdown",
   "metadata": {},
   "source": [
    "`End - Observation is present in the Gesture_Recognition_Observation.pdf` "
   ]
  }
 ],
 "metadata": {
  "kernelspec": {
   "display_name": "Python 3",
   "language": "python",
   "name": "python3"
  },
  "language_info": {
   "codemirror_mode": {
    "name": "ipython",
    "version": 3
   },
   "file_extension": ".py",
   "mimetype": "text/x-python",
   "name": "python",
   "nbconvert_exporter": "python",
   "pygments_lexer": "ipython3",
   "version": "3.6.8"
  }
 },
 "nbformat": 4,
 "nbformat_minor": 2
}
